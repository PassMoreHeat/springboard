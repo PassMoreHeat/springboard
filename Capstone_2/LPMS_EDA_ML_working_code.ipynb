{
 "cells": [
  {
   "cell_type": "markdown",
   "metadata": {},
   "source": [
    "# Exploratory Data Analysis & Machine Learning Working Code\n",
    "# _Factors affecting vessel delays at US Army Corps of Engineers-managed locks on US waterways._\n",
    "\n",
    "## Springboard Data Science Career Track, Capstone 2\n",
    "***\n",
    "* Author: Heather A. Passmore\n",
    "* Data: United States Army Corps of Engineers, Lock Performance Management System\n",
    "* Capstone Description: [Project Proposal](https://github.com/PassMoreHeat/springboard/blob/master/Capstone_2/ProjectProposalCap2.md)\n",
    "* Initial Data Approach: [Data Wrangling Report](https://github.com/PassMoreHeat/springboard/blob/master/Capstone_2/Data_Wrangling_Report.md)\n",
    "* Milestone Report: [Predicting Vessel Delays for Corps of Engineers-Lock Performance Management System (LPMS) Data](https://github.com/PassMoreHeat/springboard/blob/master/Capstone_2/LPMS_Milestone_Report.md)\n",
    "* Final Report: In Progress\n",
    "***\n",
    "## Table of Contents\n",
    "1. Import Modules & Dataframes\n",
    "2. Explore Machine Learning Data for 10 Focal Locks\n",
    "3. Convert all categorical variables remaining to numerical with encoding \n",
    "4. Create feature matrix and target vector then split into testing and training\n",
    "5. Fit Logistic Regression model\n",
    "6. Fit Random Forest Model\n",
    "7. Try Recusive Feature Elimination\n",
    "8. Re-run Logistic Regression with reduced X_train\n",
    "9. Re-run Random Forest with reduced X_train\n",
    "10. Run models on individual locks"
   ]
  },
  {
   "cell_type": "markdown",
   "metadata": {},
   "source": [
    "## 1. Import Modules & Dataframes"
   ]
  },
  {
   "cell_type": "code",
   "execution_count": 1,
   "metadata": {
    "collapsed": true
   },
   "outputs": [],
   "source": [
    "# import modules\n",
    "import pandas as pd\n",
    "import numpy as np\n",
    "import matplotlib.pyplot as plt\n",
    "import seaborn as sns\n",
    "from sklearn import tree\n",
    "import pickle\n",
    "import scipy.stats\n",
    "from scipy.stats import norm\n",
    "import scipy as sp\n",
    "\n",
    "# Figures inline, visualization style\n",
    "%matplotlib inline\n",
    "\n",
    "# Setup Seaborn\n",
    "sns.set_style(\"whitegrid\")\n",
    "sns.set_context(\"talk\")"
   ]
  },
  {
   "cell_type": "code",
   "execution_count": 2,
   "metadata": {
    "collapsed": true
   },
   "outputs": [],
   "source": [
    "# Import scikit-learn tools, vectorizers, transformer, and classifiers\n",
    "from sklearn.model_selection import train_test_split\n",
    "from sklearn import metrics\n",
    "from sklearn.metrics import roc_curve\n",
    "from sklearn.metrics import classification_report\n",
    "from sklearn.preprocessing import LabelEncoder\n",
    "from sklearn.model_selection import GridSearchCV\n",
    "from sklearn.feature_selection import RFE\n",
    "\n",
    "# import Random Forest Classifier\n",
    "from sklearn.ensemble import RandomForestClassifier\n",
    "\n",
    "# import Logistic Regression CV Classifier\n",
    "from sklearn.linear_model import LogisticRegressionCV"
   ]
  },
  {
   "cell_type": "code",
   "execution_count": 3,
   "metadata": {
    "collapsed": true
   },
   "outputs": [],
   "source": [
    "# Bring ML_LPMS_final dataframe into workspace\n",
    "# load the pickled ML_LPMS_final DataFrame from hard drive in 'rb' mode\n",
    "with open('/Users/pgagnon/Documents/Springboard/springboard/Capstone_2/LockData/ML_LPMS_final.pickle','rb') as f:\n",
    "    ML = pickle.load(f)"
   ]
  },
  {
   "cell_type": "code",
   "execution_count": 4,
   "metadata": {},
   "outputs": [
    {
     "name": "stdout",
     "output_type": "stream",
     "text": [
      "<class 'pandas.core.frame.DataFrame'>\n",
      "Int64Index: 15538 entries, 0 to 15537\n",
      "Data columns (total 27 columns):\n",
      "E_R_L                   15538 non-null object\n",
      "YYMMDD                  15538 non-null datetime64[ns]\n",
      "delay_cat               15538 non-null int64\n",
      "LOCKAGE_TYPE            15538 non-null object\n",
      "VESSEL_FUNCTION_TYPE    15538 non-null object\n",
      "assist                  15538 non-null int64\n",
      "year                    15538 non-null int64\n",
      "day_of_year             15538 non-null int64\n",
      "day_of_week             15538 non-null int64\n",
      "month                   15538 non-null int64\n",
      "hour_of_day             15538 non-null int64\n",
      "entry_time              15538 non-null float64\n",
      "exit_time               15538 non-null float64\n",
      "delay_time              15538 non-null float64\n",
      "unplan_max_stop         15538 non-null float64\n",
      "AWND                    15538 non-null float64\n",
      "PGTM                    15538 non-null float64\n",
      "PRCP                    15538 non-null float64\n",
      "SNOW                    15538 non-null float64\n",
      "SNWD                    15538 non-null float64\n",
      "TAVG                    15538 non-null float64\n",
      "TMAX                    15538 non-null float64\n",
      "TMIN                    15538 non-null float64\n",
      "WSF2                    15538 non-null float64\n",
      "WSF5                    15538 non-null float64\n",
      "WT_count                15538 non-null int64\n",
      "WType                   15538 non-null object\n",
      "dtypes: datetime64[ns](1), float64(14), int64(8), object(4)\n",
      "memory usage: 3.3+ MB\n"
     ]
    }
   ],
   "source": [
    "# Check ML contents and data types\n",
    "ML.info()"
   ]
  },
  {
   "cell_type": "markdown",
   "metadata": {},
   "source": [
    "## 2. Explore Machine Learning Data for 10 Focal Locks"
   ]
  },
  {
   "cell_type": "code",
   "execution_count": 5,
   "metadata": {},
   "outputs": [
    {
     "data": {
      "text/plain": [
       "B2_GI_77    1770\n",
       "B2_FB_41    1763\n",
       "M3_GI_11    1726\n",
       "M3_GI_12    1710\n",
       "B3_MI_27    1660\n",
       "H2_OH_76    1641\n",
       "B2_GI_4     1614\n",
       "M3_GI_14    1571\n",
       "G3_WS_1     1248\n",
       "B2_GI_3      835\n",
       "Name: E_R_L, dtype: int64"
      ]
     },
     "execution_count": 5,
     "metadata": {},
     "output_type": "execute_result"
    }
   ],
   "source": [
    "# Explore data for 10 focal locks\n",
    "ML.E_R_L.value_counts()"
   ]
  },
  {
   "cell_type": "code",
   "execution_count": 6,
   "metadata": {},
   "outputs": [
    {
     "data": {
      "text/plain": [
       "S    9349\n",
       "O    6070\n",
       "C      53\n",
       "K      47\n",
       "N       9\n",
       "B       5\n",
       "V       3\n",
       "T       1\n",
       "A       1\n",
       "Name: LOCKAGE_TYPE, dtype: int64"
      ]
     },
     "execution_count": 6,
     "metadata": {},
     "output_type": "execute_result"
    }
   ],
   "source": [
    "ML.LOCKAGE_TYPE.value_counts()"
   ]
  },
  {
   "cell_type": "code",
   "execution_count": 7,
   "metadata": {},
   "outputs": [
    {
     "data": {
      "text/plain": [
       "15538"
      ]
     },
     "execution_count": 7,
     "metadata": {},
     "output_type": "execute_result"
    }
   ],
   "source": [
    "# Number of observations\n",
    "ML.shape[0]"
   ]
  },
  {
   "cell_type": "code",
   "execution_count": 8,
   "metadata": {},
   "outputs": [
    {
     "data": {
      "text/plain": [
       "27"
      ]
     },
     "execution_count": 8,
     "metadata": {},
     "output_type": "execute_result"
    }
   ],
   "source": [
    "# Number of features\n",
    "ML.shape[1]"
   ]
  },
  {
   "cell_type": "markdown",
   "metadata": {},
   "source": [
    "## 3. Convert all categorical variables remaining to numerical with encoding"
   ]
  },
  {
   "cell_type": "code",
   "execution_count": 9,
   "metadata": {
    "collapsed": true
   },
   "outputs": [],
   "source": [
    "# Make a list of categorical columns that need to be encoded (do I need to encode year)\n",
    "catvar = ['E_R_L', 'LOCKAGE_TYPE', 'VESSEL_FUNCTION_TYPE', 'year', 'day_of_year', 'day_of_week', 'month', \n",
    "          'hour_of_day']\n",
    "\n",
    "# Make a list of numerical columns in case of later feature scaling or standarization\n",
    "numvar = ['entry_time', 'exit_time', 'delay_time', 'unplan_max_stop', 'AWND', 'PGTM', 'PRCP', 'SNOW', 'SNWD', 'TAVG', \n",
    "          'TMAX', 'TMIN', 'WSF2', 'WSF5', 'WT_count']\n",
    "\n",
    "# Make a list of binary variables just in case\n",
    "binvar = ['delay_cat', 'assist', 'WType']\n",
    "\n",
    "# Also may consider One Hot Coding 'LOCKAGE_TYPE' and 'VESSEL_FUNCTION_TYPE' later"
   ]
  },
  {
   "cell_type": "code",
   "execution_count": 10,
   "metadata": {
    "collapsed": true
   },
   "outputs": [],
   "source": [
    "# Use label encoder for categorical variables\n",
    "lbl_enc = LabelEncoder()\n",
    "tmp = ML[catvar].apply(lbl_enc.fit_transform)"
   ]
  },
  {
   "cell_type": "code",
   "execution_count": 11,
   "metadata": {
    "collapsed": true
   },
   "outputs": [],
   "source": [
    "# Drop the old categorical columns, concatenate ML and tmp\n",
    "ML.drop(catvar, axis=1, inplace=True)\n",
    "ML_LPMS = pd.concat([ML, tmp], axis=1)"
   ]
  },
  {
   "cell_type": "code",
   "execution_count": 12,
   "metadata": {},
   "outputs": [
    {
     "data": {
      "text/plain": [
       "15538"
      ]
     },
     "execution_count": 12,
     "metadata": {},
     "output_type": "execute_result"
    }
   ],
   "source": [
    "# Number of observations\n",
    "ML_LPMS.shape[0]"
   ]
  },
  {
   "cell_type": "code",
   "execution_count": 13,
   "metadata": {},
   "outputs": [
    {
     "data": {
      "text/plain": [
       "27"
      ]
     },
     "execution_count": 13,
     "metadata": {},
     "output_type": "execute_result"
    }
   ],
   "source": [
    "# Number of features\n",
    "ML_LPMS.shape[1]"
   ]
  },
  {
   "cell_type": "code",
   "execution_count": 14,
   "metadata": {},
   "outputs": [
    {
     "name": "stdout",
     "output_type": "stream",
     "text": [
      "<class 'pandas.core.frame.DataFrame'>\n",
      "Int64Index: 15538 entries, 0 to 15537\n",
      "Data columns (total 27 columns):\n",
      "YYMMDD                  15538 non-null datetime64[ns]\n",
      "delay_cat               15538 non-null int64\n",
      "assist                  15538 non-null int64\n",
      "entry_time              15538 non-null float64\n",
      "exit_time               15538 non-null float64\n",
      "delay_time              15538 non-null float64\n",
      "unplan_max_stop         15538 non-null float64\n",
      "AWND                    15538 non-null float64\n",
      "PGTM                    15538 non-null float64\n",
      "PRCP                    15538 non-null float64\n",
      "SNOW                    15538 non-null float64\n",
      "SNWD                    15538 non-null float64\n",
      "TAVG                    15538 non-null float64\n",
      "TMAX                    15538 non-null float64\n",
      "TMIN                    15538 non-null float64\n",
      "WSF2                    15538 non-null float64\n",
      "WSF5                    15538 non-null float64\n",
      "WT_count                15538 non-null int64\n",
      "WType                   15538 non-null object\n",
      "E_R_L                   15538 non-null int64\n",
      "LOCKAGE_TYPE            15538 non-null int64\n",
      "VESSEL_FUNCTION_TYPE    15538 non-null int64\n",
      "year                    15538 non-null int64\n",
      "day_of_year             15538 non-null int64\n",
      "day_of_week             15538 non-null int64\n",
      "month                   15538 non-null int64\n",
      "hour_of_day             15538 non-null int64\n",
      "dtypes: datetime64[ns](1), float64(14), int64(11), object(1)\n",
      "memory usage: 3.3+ MB\n"
     ]
    }
   ],
   "source": [
    "ML_LPMS.info()"
   ]
  },
  {
   "cell_type": "code",
   "execution_count": 15,
   "metadata": {},
   "outputs": [
    {
     "data": {
      "text/plain": [
       "(15538, 23)"
      ]
     },
     "execution_count": 15,
     "metadata": {},
     "output_type": "execute_result"
    }
   ],
   "source": [
    "# drop 'YYMMDD', 'delay_time', 'entry_time', 'exit_time' column\n",
    "ML_LPMS.drop(['YYMMDD', 'delay_time', 'entry_time', 'exit_time'], axis=1, inplace=True)\n",
    "ML_LPMS.shape"
   ]
  },
  {
   "cell_type": "markdown",
   "metadata": {},
   "source": [
    "## 4. Create feature matrix and target vector then split into testing and training"
   ]
  },
  {
   "cell_type": "code",
   "execution_count": 16,
   "metadata": {
    "collapsed": true
   },
   "outputs": [],
   "source": [
    "X = ML_LPMS.drop(['delay_cat'], axis=1).values\n",
    "y = ML_LPMS.delay_cat.values"
   ]
  },
  {
   "cell_type": "code",
   "execution_count": 17,
   "metadata": {},
   "outputs": [
    {
     "data": {
      "text/plain": [
       "(15538, 22)"
      ]
     },
     "execution_count": 17,
     "metadata": {},
     "output_type": "execute_result"
    }
   ],
   "source": [
    "X.shape"
   ]
  },
  {
   "cell_type": "code",
   "execution_count": 18,
   "metadata": {},
   "outputs": [
    {
     "name": "stdout",
     "output_type": "stream",
     "text": [
      "X Training set sample size: 11653\n",
      "X Testing set sample size: 3885\n",
      "y Training set sample size: 11653\n",
      "y Testing set sample size: 3885\n"
     ]
    }
   ],
   "source": [
    "# Train Test Split\n",
    "# split the data into training and test sets\n",
    "X_train, X_test, y_train, y_test = train_test_split(X, y, random_state=42, stratify=y)\n",
    "\n",
    "# Show the results of the split\n",
    "print(\"X Training set sample size:\", (X_train.shape[0]))\n",
    "print(\"X Testing set sample size:\", (X_test.shape[0]))\n",
    "print(\"y Training set sample size:\", (y_train.shape[0]))\n",
    "print(\"y Testing set sample size:\", (y_test.shape[0]))"
   ]
  },
  {
   "cell_type": "code",
   "execution_count": 19,
   "metadata": {},
   "outputs": [
    {
     "name": "stdout",
     "output_type": "stream",
     "text": [
      "0.542864498412\n",
      "0.542857142857\n"
     ]
    }
   ],
   "source": [
    "# Double check stratification\n",
    "print(np.mean(y_train == 0))\n",
    "print(np.mean(y_test == 0))"
   ]
  },
  {
   "cell_type": "code",
   "execution_count": 20,
   "metadata": {},
   "outputs": [
    {
     "data": {
      "text/plain": [
       "(11653, 22)"
      ]
     },
     "execution_count": 20,
     "metadata": {},
     "output_type": "execute_result"
    }
   ],
   "source": [
    "X_train.shape"
   ]
  },
  {
   "cell_type": "markdown",
   "metadata": {},
   "source": [
    "## 5. Fit Logistic Regression model"
   ]
  },
  {
   "cell_type": "code",
   "execution_count": 21,
   "metadata": {},
   "outputs": [
    {
     "name": "stdout",
     "output_type": "stream",
     "text": [
      "training set score: 0.592380\n",
      "\n",
      "test set score: 0.592535\n"
     ]
    }
   ],
   "source": [
    "# Fit Logistic Regression with Cross Validation\n",
    "lgr=LogisticRegressionCV(scoring='roc_auc').fit(X_train,y_train)\n",
    "print(\"training set score: %f\" % lgr.score(X_train, y_train))\n",
    "print('\\n'\"test set score: %f\" % lgr.score(X_test, y_test))"
   ]
  },
  {
   "cell_type": "code",
   "execution_count": 22,
   "metadata": {},
   "outputs": [
    {
     "data": {
      "text/plain": [
       "array([[1485,  624],\n",
       "       [ 959,  817]])"
      ]
     },
     "execution_count": 22,
     "metadata": {},
     "output_type": "execute_result"
    }
   ],
   "source": [
    "# calculated predicted class label per sample: pred_lgr\n",
    "pred_lgr = lgr.predict(X_test)\n",
    "\n",
    "# print the confusion matrix \n",
    "metrics.confusion_matrix(y_test, pred_lgr)"
   ]
  },
  {
   "cell_type": "code",
   "execution_count": 23,
   "metadata": {},
   "outputs": [
    {
     "data": {
      "text/plain": [
       "array([ 0.53137265,  0.49501801,  0.55437232, ...,  0.42160461,\n",
       "        0.37806943,  0.31649492])"
      ]
     },
     "execution_count": 23,
     "metadata": {},
     "output_type": "execute_result"
    }
   ],
   "source": [
    "# calculate predicted probabilities for X_test Logistic Regression model\n",
    "y_pred_prob_lgr = lgr.predict_proba(X_test)[:, 1]\n",
    "y_pred_prob_lgr"
   ]
  },
  {
   "cell_type": "code",
   "execution_count": 24,
   "metadata": {},
   "outputs": [
    {
     "data": {
      "image/png": "[encoded data removed]",
      "text/plain": [
       "<matplotlib.figure.Figure at 0x1a0dda03c8>"
      ]
     },
     "metadata": {},
     "output_type": "display_data"
    }
   ],
   "source": [
    "# Generate ROC curve values: fpr, tpr, thresholds\n",
    "fpr, tpr, thresholds = roc_curve(y_test, y_pred_prob_lgr)\n",
    "\n",
    "# Plot ROC curve\n",
    "plt.plot([0, 1], [0, 1], 'k--')\n",
    "plt.plot(fpr, tpr)\n",
    "plt.xlabel('False Positive Rate')\n",
    "plt.ylabel('True Positive Rate')\n",
    "plt.title('ROC Curve for LogisticRegressionCV')\n",
    "plt.show()"
   ]
  },
  {
   "cell_type": "code",
   "execution_count": 25,
   "metadata": {},
   "outputs": [
    {
     "data": {
      "text/plain": [
       "0.60761739691327166"
      ]
     },
     "execution_count": 25,
     "metadata": {},
     "output_type": "execute_result"
    }
   ],
   "source": [
    "# calculate AUC for LogisticRegressionCV classifier\n",
    "metrics.roc_auc_score(y_test, y_pred_prob_lgr)"
   ]
  },
  {
   "cell_type": "code",
   "execution_count": 26,
   "metadata": {},
   "outputs": [
    {
     "data": {
      "text/plain": [
       "LogisticRegressionCV(Cs=10, class_weight=None, cv=None, dual=False,\n",
       "           fit_intercept=True, intercept_scaling=1.0, max_iter=100,\n",
       "           multi_class='ovr', n_jobs=1, penalty='l2', random_state=None,\n",
       "           refit=True, scoring='roc_auc', solver='lbfgs', tol=0.0001,\n",
       "           verbose=0)"
      ]
     },
     "execution_count": 26,
     "metadata": {},
     "output_type": "execute_result"
    }
   ],
   "source": [
    "# view paramaters of logistic regression CV\n",
    "lgr"
   ]
  },
  {
   "cell_type": "markdown",
   "metadata": {},
   "source": [
    "### QUESTION: Should I consider normalizing variables like 'unplan_max_stop',  and maybe 'AWND', 'PGTM', 'PRCP', 'SNOW', 'SNWD', 'TAVG', 'TMAX', 'TMIN', 'WSF2', 'WSF5', 'WT_count'. (Centering & scaling, put it in a pipeline?)\n",
    "### QUESTION: Should I consider One Hot Coding 'LOCKAGE_TYPE', 'VESSEL_FUNCTION_TYPE' because two levels are more common than the rest in both variables."
   ]
  },
  {
   "cell_type": "markdown",
   "metadata": {},
   "source": [
    "## 6. Fit Random Forest Model"
   ]
  },
  {
   "cell_type": "code",
   "execution_count": 27,
   "metadata": {},
   "outputs": [
    {
     "name": "stdout",
     "output_type": "stream",
     "text": [
      "training set score: 0.979748\n",
      "\n",
      "test set score: 0.645045\n"
     ]
    }
   ],
   "source": [
    "# Instantiate and fit the random forest model. \n",
    "rf = RandomForestClassifier().fit(X_train, y_train) \n",
    "\n",
    "## And score it on your testing data.\n",
    "print(\"training set score: %f\" % rf.score(X_train, y_train))\n",
    "print('\\n'\"test set score: %f\" % rf.score(X_test, y_test))"
   ]
  },
  {
   "cell_type": "code",
   "execution_count": 28,
   "metadata": {},
   "outputs": [
    {
     "data": {
      "text/plain": [
       "array([[1593,  516],\n",
       "       [ 863,  913]])"
      ]
     },
     "execution_count": 28,
     "metadata": {},
     "output_type": "execute_result"
    }
   ],
   "source": [
    "# calculated predicted class label per sample: pred_rf\n",
    "pred_rf = rf.predict(X_test)\n",
    "\n",
    "# print the confusion matrix \n",
    "metrics.confusion_matrix(y_test, pred_rf)"
   ]
  },
  {
   "cell_type": "code",
   "execution_count": 29,
   "metadata": {},
   "outputs": [
    {
     "data": {
      "text/plain": [
       "array([ 0.3,  0.6,  0.6, ...,  0.4,  0.2,  0.1])"
      ]
     },
     "execution_count": 29,
     "metadata": {},
     "output_type": "execute_result"
    }
   ],
   "source": [
    "# calculate predicted probabilities\n",
    "y_pred_prob_rf = rf.predict_proba(X_test)[:, 1]\n",
    "y_pred_prob_rf"
   ]
  },
  {
   "cell_type": "code",
   "execution_count": 30,
   "metadata": {},
   "outputs": [
    {
     "data": {
      "image/png": "[encoded data removed]",
      "text/plain": [
       "<matplotlib.figure.Figure at 0x1a16f139e8>"
      ]
     },
     "metadata": {},
     "output_type": "display_data"
    }
   ],
   "source": [
    "# Generate ROC curve values: fpr, tpr, thresholds\n",
    "fpr, tpr, thresholds = roc_curve(y_test, y_pred_prob_rf)\n",
    "\n",
    "# Plot ROC curve\n",
    "plt.plot([0, 1], [0, 1], 'k--')\n",
    "plt.plot(fpr, tpr)\n",
    "plt.xlabel('False Positive Rate')\n",
    "plt.ylabel('True Positive Rate')\n",
    "plt.title('ROC Curve for Random Forest')\n",
    "plt.show()"
   ]
  },
  {
   "cell_type": "code",
   "execution_count": 31,
   "metadata": {},
   "outputs": [
    {
     "data": {
      "text/plain": [
       "0.68179394721891162"
      ]
     },
     "execution_count": 31,
     "metadata": {},
     "output_type": "execute_result"
    }
   ],
   "source": [
    "# calculate AUC for randomforest model\n",
    "metrics.roc_auc_score(y_test, y_pred_prob_rf)"
   ]
  },
  {
   "cell_type": "code",
   "execution_count": 34,
   "metadata": {
    "collapsed": true
   },
   "outputs": [],
   "source": [
    "# find best parameters with GridSearchCV\n",
    "# create a list of performace parameters for performace tuning (ngram range, use idf?, best alpha)\n",
    "params = {'max_features': [15, 20],\n",
    "              'min_samples_leaf': [4, 6, 8],\n",
    "              'min_samples_split': [6, 7, 8],\n",
    "              #'tfidf__use_idf': (True, False), \n",
    "              #'mnb__alpha': (0.1, 1, 5, 10)\n",
    "         }"
   ]
  },
  {
   "cell_type": "code",
   "execution_count": 35,
   "metadata": {},
   "outputs": [],
   "source": [
    "# create an instance of the grid search by passing the classifier, parameters \n",
    "# and n_jobs=-1 which tells to use multiple cores from user machine.\n",
    "gs_rf = GridSearchCV(RandomForestClassifier(), params, scoring='roc_auc', n_jobs=-1)\n",
    "gs_rf = gs_rf.fit(X_train, y_train) "
   ]
  },
  {
   "cell_type": "code",
   "execution_count": 36,
   "metadata": {},
   "outputs": [
    {
     "name": "stdout",
     "output_type": "stream",
     "text": [
      "Best score: 0.724332625399\n"
     ]
    }
   ],
   "source": [
    "# View the best AUC score\n",
    "print('Best score:', gs_rf.best_score_) "
   ]
  },
  {
   "cell_type": "code",
   "execution_count": 37,
   "metadata": {},
   "outputs": [
    {
     "name": "stdout",
     "output_type": "stream",
     "text": [
      "Best parameters: {'max_features': 15, 'min_samples_leaf': 8, 'min_samples_split': 6}\n"
     ]
    }
   ],
   "source": [
    "# Get best parameters\n",
    "print('Best parameters:', gs_rf.best_params_)"
   ]
  },
  {
   "cell_type": "code",
   "execution_count": 38,
   "metadata": {},
   "outputs": [
    {
     "data": {
      "text/plain": [
       "array([ 0.0015078 ,  0.01135938,  0.08940727,  0.00142494,  0.03741779,\n",
       "        0.00075406,  0.00092964,  0.05054828,  0.08062352,  0.08433433,\n",
       "        0.06247155,  0.0706271 ,  0.02476431,  0.01259124,  0.07036943,\n",
       "        0.02011438,  0.0226261 ,  0.06390447,  0.10010552,  0.05620743,\n",
       "        0.0428705 ,  0.09504093])"
      ]
     },
     "execution_count": 38,
     "metadata": {},
     "output_type": "execute_result"
    }
   ],
   "source": [
    "# get array of Random Forest feature importances\n",
    "rf.feature_importances_"
   ]
  },
  {
   "cell_type": "code",
   "execution_count": 39,
   "metadata": {},
   "outputs": [
    {
     "data": {
      "text/html": [
       "<div>\n",
       "<style scoped>\n",
       "    .dataframe tbody tr th:only-of-type {\n",
       "        vertical-align: middle;\n",
       "    }\n",
       "\n",
       "    .dataframe tbody tr th {\n",
       "        vertical-align: top;\n",
       "    }\n",
       "\n",
       "    .dataframe thead th {\n",
       "        text-align: right;\n",
       "    }\n",
       "</style>\n",
       "<table border=\"1\" class=\"dataframe\">\n",
       "  <thead>\n",
       "    <tr style=\"text-align: right;\">\n",
       "      <th></th>\n",
       "      <th>assist</th>\n",
       "      <th>unplan_max_stop</th>\n",
       "      <th>AWND</th>\n",
       "      <th>PGTM</th>\n",
       "      <th>PRCP</th>\n",
       "      <th>SNOW</th>\n",
       "      <th>SNWD</th>\n",
       "      <th>TAVG</th>\n",
       "      <th>TMAX</th>\n",
       "      <th>TMIN</th>\n",
       "      <th>...</th>\n",
       "      <th>WT_count</th>\n",
       "      <th>WType</th>\n",
       "      <th>E_R_L</th>\n",
       "      <th>LOCKAGE_TYPE</th>\n",
       "      <th>VESSEL_FUNCTION_TYPE</th>\n",
       "      <th>year</th>\n",
       "      <th>day_of_year</th>\n",
       "      <th>day_of_week</th>\n",
       "      <th>month</th>\n",
       "      <th>hour_of_day</th>\n",
       "    </tr>\n",
       "  </thead>\n",
       "  <tbody>\n",
       "    <tr>\n",
       "      <th>0</th>\n",
       "      <td>0</td>\n",
       "      <td>0.0</td>\n",
       "      <td>5.14</td>\n",
       "      <td>0.0</td>\n",
       "      <td>0.00</td>\n",
       "      <td>0.0</td>\n",
       "      <td>0.0</td>\n",
       "      <td>0.0</td>\n",
       "      <td>76.0</td>\n",
       "      <td>57.0</td>\n",
       "      <td>...</td>\n",
       "      <td>0</td>\n",
       "      <td>0</td>\n",
       "      <td>8</td>\n",
       "      <td>5</td>\n",
       "      <td>9</td>\n",
       "      <td>2</td>\n",
       "      <td>72</td>\n",
       "      <td>5</td>\n",
       "      <td>2</td>\n",
       "      <td>3</td>\n",
       "    </tr>\n",
       "    <tr>\n",
       "      <th>1</th>\n",
       "      <td>0</td>\n",
       "      <td>0.0</td>\n",
       "      <td>9.62</td>\n",
       "      <td>0.0</td>\n",
       "      <td>0.00</td>\n",
       "      <td>0.0</td>\n",
       "      <td>0.0</td>\n",
       "      <td>0.0</td>\n",
       "      <td>89.0</td>\n",
       "      <td>80.0</td>\n",
       "      <td>...</td>\n",
       "      <td>0</td>\n",
       "      <td>0</td>\n",
       "      <td>8</td>\n",
       "      <td>5</td>\n",
       "      <td>9</td>\n",
       "      <td>2</td>\n",
       "      <td>246</td>\n",
       "      <td>4</td>\n",
       "      <td>8</td>\n",
       "      <td>4</td>\n",
       "    </tr>\n",
       "    <tr>\n",
       "      <th>2</th>\n",
       "      <td>0</td>\n",
       "      <td>0.0</td>\n",
       "      <td>3.36</td>\n",
       "      <td>0.0</td>\n",
       "      <td>0.27</td>\n",
       "      <td>0.0</td>\n",
       "      <td>0.0</td>\n",
       "      <td>82.0</td>\n",
       "      <td>91.0</td>\n",
       "      <td>78.0</td>\n",
       "      <td>...</td>\n",
       "      <td>1</td>\n",
       "      <td>1</td>\n",
       "      <td>2</td>\n",
       "      <td>6</td>\n",
       "      <td>9</td>\n",
       "      <td>3</td>\n",
       "      <td>192</td>\n",
       "      <td>0</td>\n",
       "      <td>6</td>\n",
       "      <td>8</td>\n",
       "    </tr>\n",
       "    <tr>\n",
       "      <th>3</th>\n",
       "      <td>0</td>\n",
       "      <td>0.0</td>\n",
       "      <td>12.53</td>\n",
       "      <td>0.0</td>\n",
       "      <td>0.03</td>\n",
       "      <td>0.0</td>\n",
       "      <td>0.0</td>\n",
       "      <td>0.0</td>\n",
       "      <td>82.0</td>\n",
       "      <td>71.0</td>\n",
       "      <td>...</td>\n",
       "      <td>1</td>\n",
       "      <td>1</td>\n",
       "      <td>9</td>\n",
       "      <td>5</td>\n",
       "      <td>9</td>\n",
       "      <td>4</td>\n",
       "      <td>91</td>\n",
       "      <td>6</td>\n",
       "      <td>3</td>\n",
       "      <td>0</td>\n",
       "    </tr>\n",
       "    <tr>\n",
       "      <th>4</th>\n",
       "      <td>0</td>\n",
       "      <td>0.0</td>\n",
       "      <td>11.41</td>\n",
       "      <td>0.0</td>\n",
       "      <td>0.12</td>\n",
       "      <td>0.0</td>\n",
       "      <td>0.0</td>\n",
       "      <td>65.0</td>\n",
       "      <td>72.0</td>\n",
       "      <td>49.0</td>\n",
       "      <td>...</td>\n",
       "      <td>0</td>\n",
       "      <td>0</td>\n",
       "      <td>1</td>\n",
       "      <td>6</td>\n",
       "      <td>9</td>\n",
       "      <td>0</td>\n",
       "      <td>347</td>\n",
       "      <td>5</td>\n",
       "      <td>11</td>\n",
       "      <td>12</td>\n",
       "    </tr>\n",
       "  </tbody>\n",
       "</table>\n",
       "<p>5 rows × 22 columns</p>\n",
       "</div>"
      ],
      "text/plain": [
       "   assist  unplan_max_stop   AWND  PGTM  PRCP  SNOW  SNWD  TAVG  TMAX  TMIN  \\\n",
       "0       0              0.0   5.14   0.0  0.00   0.0   0.0   0.0  76.0  57.0   \n",
       "1       0              0.0   9.62   0.0  0.00   0.0   0.0   0.0  89.0  80.0   \n",
       "2       0              0.0   3.36   0.0  0.27   0.0   0.0  82.0  91.0  78.0   \n",
       "3       0              0.0  12.53   0.0  0.03   0.0   0.0   0.0  82.0  71.0   \n",
       "4       0              0.0  11.41   0.0  0.12   0.0   0.0  65.0  72.0  49.0   \n",
       "\n",
       "      ...       WT_count  WType  E_R_L LOCKAGE_TYPE  VESSEL_FUNCTION_TYPE  \\\n",
       "0     ...              0      0      8            5                     9   \n",
       "1     ...              0      0      8            5                     9   \n",
       "2     ...              1      1      2            6                     9   \n",
       "3     ...              1      1      9            5                     9   \n",
       "4     ...              0      0      1            6                     9   \n",
       "\n",
       "   year  day_of_year  day_of_week  month  hour_of_day  \n",
       "0     2           72            5      2            3  \n",
       "1     2          246            4      8            4  \n",
       "2     3          192            0      6            8  \n",
       "3     4           91            6      3            0  \n",
       "4     0          347            5     11           12  \n",
       "\n",
       "[5 rows x 22 columns]"
      ]
     },
     "execution_count": 39,
     "metadata": {},
     "output_type": "execute_result"
    }
   ],
   "source": [
    "# create a dataframe with the column headings to use as feature names\n",
    "X_df = ML_LPMS.drop(['delay_cat'], axis=1)\n",
    "X_df.head()"
   ]
  },
  {
   "cell_type": "code",
   "execution_count": 40,
   "metadata": {
    "collapsed": true
   },
   "outputs": [],
   "source": [
    "# Explore feature importances\n",
    "#pd.DataFrame(zip(X.columns, np.transpose(rf.best_estimator_.feature_importances_ ))).sort_values(1).tail(10)\n",
    "\n",
    "feature_importances = pd.DataFrame(rf.feature_importances_,\n",
    "                                   index = X_df.columns,\n",
    "                                    columns=['importance']).sort_values('importance', ascending=False)"
   ]
  },
  {
   "cell_type": "code",
   "execution_count": 41,
   "metadata": {},
   "outputs": [
    {
     "data": {
      "text/html": [
       "<div>\n",
       "<style scoped>\n",
       "    .dataframe tbody tr th:only-of-type {\n",
       "        vertical-align: middle;\n",
       "    }\n",
       "\n",
       "    .dataframe tbody tr th {\n",
       "        vertical-align: top;\n",
       "    }\n",
       "\n",
       "    .dataframe thead th {\n",
       "        text-align: right;\n",
       "    }\n",
       "</style>\n",
       "<table border=\"1\" class=\"dataframe\">\n",
       "  <thead>\n",
       "    <tr style=\"text-align: right;\">\n",
       "      <th></th>\n",
       "      <th>importance</th>\n",
       "    </tr>\n",
       "  </thead>\n",
       "  <tbody>\n",
       "    <tr>\n",
       "      <th>day_of_year</th>\n",
       "      <td>0.100106</td>\n",
       "    </tr>\n",
       "    <tr>\n",
       "      <th>hour_of_day</th>\n",
       "      <td>0.095041</td>\n",
       "    </tr>\n",
       "    <tr>\n",
       "      <th>AWND</th>\n",
       "      <td>0.089407</td>\n",
       "    </tr>\n",
       "    <tr>\n",
       "      <th>TMIN</th>\n",
       "      <td>0.084334</td>\n",
       "    </tr>\n",
       "    <tr>\n",
       "      <th>TMAX</th>\n",
       "      <td>0.080624</td>\n",
       "    </tr>\n",
       "    <tr>\n",
       "      <th>WSF5</th>\n",
       "      <td>0.070627</td>\n",
       "    </tr>\n",
       "    <tr>\n",
       "      <th>E_R_L</th>\n",
       "      <td>0.070369</td>\n",
       "    </tr>\n",
       "    <tr>\n",
       "      <th>year</th>\n",
       "      <td>0.063904</td>\n",
       "    </tr>\n",
       "    <tr>\n",
       "      <th>WSF2</th>\n",
       "      <td>0.062472</td>\n",
       "    </tr>\n",
       "    <tr>\n",
       "      <th>day_of_week</th>\n",
       "      <td>0.056207</td>\n",
       "    </tr>\n",
       "    <tr>\n",
       "      <th>TAVG</th>\n",
       "      <td>0.050548</td>\n",
       "    </tr>\n",
       "    <tr>\n",
       "      <th>month</th>\n",
       "      <td>0.042871</td>\n",
       "    </tr>\n",
       "    <tr>\n",
       "      <th>PRCP</th>\n",
       "      <td>0.037418</td>\n",
       "    </tr>\n",
       "    <tr>\n",
       "      <th>WT_count</th>\n",
       "      <td>0.024764</td>\n",
       "    </tr>\n",
       "    <tr>\n",
       "      <th>VESSEL_FUNCTION_TYPE</th>\n",
       "      <td>0.022626</td>\n",
       "    </tr>\n",
       "    <tr>\n",
       "      <th>LOCKAGE_TYPE</th>\n",
       "      <td>0.020114</td>\n",
       "    </tr>\n",
       "    <tr>\n",
       "      <th>WType</th>\n",
       "      <td>0.012591</td>\n",
       "    </tr>\n",
       "    <tr>\n",
       "      <th>unplan_max_stop</th>\n",
       "      <td>0.011359</td>\n",
       "    </tr>\n",
       "    <tr>\n",
       "      <th>assist</th>\n",
       "      <td>0.001508</td>\n",
       "    </tr>\n",
       "    <tr>\n",
       "      <th>PGTM</th>\n",
       "      <td>0.001425</td>\n",
       "    </tr>\n",
       "    <tr>\n",
       "      <th>SNWD</th>\n",
       "      <td>0.000930</td>\n",
       "    </tr>\n",
       "    <tr>\n",
       "      <th>SNOW</th>\n",
       "      <td>0.000754</td>\n",
       "    </tr>\n",
       "  </tbody>\n",
       "</table>\n",
       "</div>"
      ],
      "text/plain": [
       "                      importance\n",
       "day_of_year             0.100106\n",
       "hour_of_day             0.095041\n",
       "AWND                    0.089407\n",
       "TMIN                    0.084334\n",
       "TMAX                    0.080624\n",
       "WSF5                    0.070627\n",
       "E_R_L                   0.070369\n",
       "year                    0.063904\n",
       "WSF2                    0.062472\n",
       "day_of_week             0.056207\n",
       "TAVG                    0.050548\n",
       "month                   0.042871\n",
       "PRCP                    0.037418\n",
       "WT_count                0.024764\n",
       "VESSEL_FUNCTION_TYPE    0.022626\n",
       "LOCKAGE_TYPE            0.020114\n",
       "WType                   0.012591\n",
       "unplan_max_stop         0.011359\n",
       "assist                  0.001508\n",
       "PGTM                    0.001425\n",
       "SNWD                    0.000930\n",
       "SNOW                    0.000754"
      ]
     },
     "execution_count": 41,
     "metadata": {},
     "output_type": "execute_result"
    }
   ],
   "source": [
    "# Print sorted list of feature importances\n",
    "feature_importances"
   ]
  },
  {
   "cell_type": "markdown",
   "metadata": {},
   "source": [
    "## 7. Try Recusive Feature Elimination"
   ]
  },
  {
   "cell_type": "code",
   "execution_count": 42,
   "metadata": {},
   "outputs": [
    {
     "name": "stdout",
     "output_type": "stream",
     "text": [
      "Number of Features: 10\n",
      "Selected Features: [False False False False  True  True  True False False False  True False\n",
      " False False  True  True  True  True False  True False  True]\n",
      "Feature Ranking: [ 9 13  7 12  1  1  1  3  5  6  1  8  2 10  1  1  1  1 11  1  4  1]\n",
      "Mask [ 4  5  6 10 14 15 16 17 19 21]\n"
     ]
    }
   ],
   "source": [
    "# feature extraction from LogisticRegressionCV\n",
    "rfe = RFE(lgr, 10, step=1)\n",
    "fit = rfe.fit(X_train, y_train)\n",
    "\n",
    "mask = rfe.get_support(True)\n",
    "#mask_cols = list(training_features.iloc[:, mask].columns) + non_feature_columns\n",
    "\n",
    "#assert np.array_equal(training_testing_data[mask_cols], tpot_obj._rfe(training_testing_data, 64, 0.1))\n",
    "\n",
    "print('Number of Features:', fit.n_features_)\n",
    "print('Selected Features:',  fit.support_)\n",
    "print('Feature Ranking:',  fit.ranking_)\n",
    "print('Mask', mask)"
   ]
  },
  {
   "cell_type": "code",
   "execution_count": 45,
   "metadata": {},
   "outputs": [
    {
     "data": {
      "text/plain": [
       "(11653, 10)"
      ]
     },
     "execution_count": 45,
     "metadata": {},
     "output_type": "execute_result"
    }
   ],
   "source": [
    "# Use the boolean array 'mask' to subset X_train \n",
    "index_mask = [4, 5, 6, 10, 14, 15, 16, 17, 19, 21]\n",
    "X_train_rfe_lgr = X_train[:, index_mask]\n",
    "X_train_rfe_lgr.shape"
   ]
  },
  {
   "cell_type": "code",
   "execution_count": 49,
   "metadata": {},
   "outputs": [
    {
     "data": {
      "text/plain": [
       "(3885, 10)"
      ]
     },
     "execution_count": 49,
     "metadata": {},
     "output_type": "execute_result"
    }
   ],
   "source": [
    "# Use the boolean array 'mask' to subset X_test\n",
    "X_test_rfe_lgr = X_test[:, index_mask]\n",
    "X_test_rfe_lgr.shape"
   ]
  },
  {
   "cell_type": "code",
   "execution_count": 46,
   "metadata": {},
   "outputs": [
    {
     "name": "stdout",
     "output_type": "stream",
     "text": [
      "Features sorted by their rank:\n",
      "[(1, 'E_R_L'), (1, 'LOCKAGE_TYPE'), (1, 'PRCP'), (1, 'SNOW'), (1, 'SNWD'), (1, 'VESSEL_FUNCTION_TYPE'), (1, 'WSF2'), (1, 'day_of_week'), (1, 'hour_of_day'), (1, 'year'), (2, 'WT_count'), (3, 'TAVG'), (4, 'month'), (5, 'TMAX'), (6, 'TMIN'), (7, 'AWND'), (8, 'WSF5'), (9, 'assist'), (10, 'WType'), (11, 'day_of_year'), (12, 'PGTM'), (13, 'unplan_max_stop')]\n"
     ]
    }
   ],
   "source": [
    "# Map the column names to the rankings to see what to keep (1's) and what to drop (ranked above 1)\n",
    "print('Features sorted by their rank:')\n",
    "print(sorted(zip(map(lambda x: round(x, 4), fit.ranking_), X_df.columns)))"
   ]
  },
  {
   "cell_type": "code",
   "execution_count": 44,
   "metadata": {},
   "outputs": [
    {
     "name": "stdout",
     "output_type": "stream",
     "text": [
      "Number of Features: 10\n",
      "Selected Features: [False False  True False False False False  True  True  True  True  True\n",
      " False False  True False False  True  True False False  True]\n",
      "Feature Ranking: [10  9  1 11  4 12 13  1  1  1  1  1  5  8  1  7  6  1  1  2  3  1]\n",
      "Random Forest Mask of features [ 2  7  8  9 10 11 14 17 18 21]\n"
     ]
    }
   ],
   "source": [
    "# feature extraction from RandomForest\n",
    "rfe_rf = RFE(rf, 10, step=1)\n",
    "fit_rf = rfe_rf.fit(X_train, y_train)\n",
    "\n",
    "mask_rf = fit_rf.get_support(True)\n",
    "\n",
    "print('Number of Features:', fit_rf.n_features_)\n",
    "print('Selected Features:',  fit_rf.support_)\n",
    "print('Feature Ranking:',  fit_rf.ranking_)\n",
    "print('Random Forest Mask of features', mask_rf)"
   ]
  },
  {
   "cell_type": "code",
   "execution_count": 47,
   "metadata": {},
   "outputs": [
    {
     "data": {
      "text/plain": [
       "(11653, 10)"
      ]
     },
     "execution_count": 47,
     "metadata": {},
     "output_type": "execute_result"
    }
   ],
   "source": [
    "# Use the boolean array 'mask' to subset X_train for Random Forest\n",
    "index_rf = [2, 7, 8, 9, 10, 11, 14, 17, 18, 21]\n",
    "X_train_rfe_rf = X_train[:, index_rf]\n",
    "X_train_rfe_rf.shape"
   ]
  },
  {
   "cell_type": "code",
   "execution_count": 50,
   "metadata": {},
   "outputs": [
    {
     "data": {
      "text/plain": [
       "(3885, 10)"
      ]
     },
     "execution_count": 50,
     "metadata": {},
     "output_type": "execute_result"
    }
   ],
   "source": [
    "# Use the boolean array 'mask_rf' to subset X_test for Random Forest\n",
    "X_test_rfe_rf = X_test[:, index_rf]\n",
    "X_test_rfe_rf.shape"
   ]
  },
  {
   "cell_type": "code",
   "execution_count": 48,
   "metadata": {},
   "outputs": [
    {
     "name": "stdout",
     "output_type": "stream",
     "text": [
      "Features sorted by their rank:\n",
      "[(1, 'AWND'), (1, 'E_R_L'), (1, 'TAVG'), (1, 'TMAX'), (1, 'TMIN'), (1, 'WSF2'), (1, 'WSF5'), (1, 'day_of_year'), (1, 'hour_of_day'), (1, 'year'), (2, 'day_of_week'), (3, 'month'), (4, 'PRCP'), (5, 'WT_count'), (6, 'VESSEL_FUNCTION_TYPE'), (7, 'LOCKAGE_TYPE'), (8, 'WType'), (9, 'unplan_max_stop'), (10, 'assist'), (11, 'PGTM'), (12, 'SNOW'), (13, 'SNWD')]\n"
     ]
    }
   ],
   "source": [
    "# Map the column names to the rankings to see what to keep (1's) and what to drop (ranked above 1)\n",
    "print('Features sorted by their rank:')\n",
    "print(sorted(zip(map(lambda x: round(x, 4), fit_rf.ranking_), X_df.columns)))"
   ]
  },
  {
   "cell_type": "markdown",
   "metadata": {
    "collapsed": true
   },
   "source": [
    "## Re-run Logistic Regression with the reduced X_train"
   ]
  },
  {
   "cell_type": "code",
   "execution_count": 51,
   "metadata": {},
   "outputs": [
    {
     "name": "stdout",
     "output_type": "stream",
     "text": [
      "training set score: 0.592036\n",
      "\n",
      "test set score: 0.599743\n"
     ]
    }
   ],
   "source": [
    "# Fit Logistic Regression with Cross Validation\n",
    "lgr=LogisticRegressionCV(scoring='roc_auc').fit(X_train_rfe_lgr,y_train)\n",
    "print(\"training set score: %f\" % lgr.score(X_train_rfe_lgr, y_train))\n",
    "print('\\n'\"test set score: %f\" % lgr.score(X_test_rfe_lgr, y_test))"
   ]
  },
  {
   "cell_type": "code",
   "execution_count": 52,
   "metadata": {},
   "outputs": [
    {
     "data": {
      "text/plain": [
       "array([[1706,  403],\n",
       "       [1152,  624]])"
      ]
     },
     "execution_count": 52,
     "metadata": {},
     "output_type": "execute_result"
    }
   ],
   "source": [
    "# calculated predicted class label per sample: pred_lgr\n",
    "pred_lgr = lgr.predict(X_test_rfe_lgr)\n",
    "\n",
    "# print the confusion matrix \n",
    "metrics.confusion_matrix(y_test, pred_lgr)"
   ]
  },
  {
   "cell_type": "code",
   "execution_count": 53,
   "metadata": {},
   "outputs": [
    {
     "data": {
      "text/plain": [
       "array([ 0.51859584,  0.45901824,  0.52193382, ...,  0.47665732,\n",
       "        0.42129253,  0.37894213])"
      ]
     },
     "execution_count": 53,
     "metadata": {},
     "output_type": "execute_result"
    }
   ],
   "source": [
    "# calculate predicted probabilities for X_test Logistic Regression model\n",
    "y_pred_prob_lgr = lgr.predict_proba(X_test_rfe_lgr)[:, 1]\n",
    "y_pred_prob_lgr"
   ]
  },
  {
   "cell_type": "code",
   "execution_count": 54,
   "metadata": {},
   "outputs": [
    {
     "data": {
      "image/png": "[encoded data removed]",
      "text/plain": [
       "<matplotlib.figure.Figure at 0x1a177edf60>"
      ]
     },
     "metadata": {},
     "output_type": "display_data"
    }
   ],
   "source": [
    "# Generate ROC curve values: fpr, tpr, thresholds\n",
    "fpr, tpr, thresholds = roc_curve(y_test, y_pred_prob_lgr)\n",
    "\n",
    "# Plot ROC curve\n",
    "plt.plot([0, 1], [0, 1], 'k--')\n",
    "plt.plot(fpr, tpr)\n",
    "plt.xlabel('False Positive Rate')\n",
    "plt.ylabel('True Positive Rate')\n",
    "plt.title('ROC Curve for LogisticRegressionCV: Recursive Feat. Elimination')\n",
    "plt.show()"
   ]
  },
  {
   "cell_type": "code",
   "execution_count": 55,
   "metadata": {},
   "outputs": [
    {
     "data": {
      "text/plain": [
       "0.59228240509357155"
      ]
     },
     "execution_count": 55,
     "metadata": {},
     "output_type": "execute_result"
    }
   ],
   "source": [
    "# calculate AUC for LogisticRegressionCV classifier\n",
    "metrics.roc_auc_score(y_test, y_pred_prob_lgr)"
   ]
  },
  {
   "cell_type": "code",
   "execution_count": 56,
   "metadata": {},
   "outputs": [
    {
     "data": {
      "text/plain": [
       "LogisticRegressionCV(Cs=10, class_weight=None, cv=None, dual=False,\n",
       "           fit_intercept=True, intercept_scaling=1.0, max_iter=100,\n",
       "           multi_class='ovr', n_jobs=1, penalty='l2', random_state=None,\n",
       "           refit=True, scoring='roc_auc', solver='lbfgs', tol=0.0001,\n",
       "           verbose=0)"
      ]
     },
     "execution_count": 56,
     "metadata": {},
     "output_type": "execute_result"
    }
   ],
   "source": [
    "# view model parameters\n",
    "lgr"
   ]
  },
  {
   "cell_type": "markdown",
   "metadata": {
    "collapsed": true
   },
   "source": [
    "## Re-run Random Forest with the reduced X_train"
   ]
  },
  {
   "cell_type": "code",
   "execution_count": 57,
   "metadata": {},
   "outputs": [
    {
     "name": "stdout",
     "output_type": "stream",
     "text": [
      "training set score: 0.982923\n",
      "\n",
      "test set score: 0.636036\n"
     ]
    }
   ],
   "source": [
    "# Instantiate and fit the random forest model. \n",
    "rf = RandomForestClassifier().fit(X_train_rfe_rf, y_train) \n",
    "\n",
    "## And score it on your testing data.\n",
    "print(\"training set score: %f\" % rf.score(X_train_rfe_rf, y_train))\n",
    "print('\\n'\"test set score: %f\" % rf.score(X_test_rfe_rf, y_test))"
   ]
  },
  {
   "cell_type": "code",
   "execution_count": 58,
   "metadata": {},
   "outputs": [
    {
     "data": {
      "text/plain": [
       "array([[1599,  510],\n",
       "       [ 904,  872]])"
      ]
     },
     "execution_count": 58,
     "metadata": {},
     "output_type": "execute_result"
    }
   ],
   "source": [
    "# calculated predicted class label per sample: pred_rf\n",
    "pred_rf = rf.predict(X_test_rfe_rf)\n",
    "\n",
    "# print the confusion matrix \n",
    "metrics.confusion_matrix(y_test, pred_rf)"
   ]
  },
  {
   "cell_type": "code",
   "execution_count": 59,
   "metadata": {},
   "outputs": [
    {
     "data": {
      "text/plain": [
       "array([ 0.6,  0.6,  0.9, ...,  0.2,  0.3,  0.3])"
      ]
     },
     "execution_count": 59,
     "metadata": {},
     "output_type": "execute_result"
    }
   ],
   "source": [
    "# calculate predicted probabilities\n",
    "y_pred_prob_rf = rf.predict_proba(X_test_rfe_rf)[:, 1]\n",
    "y_pred_prob_rf"
   ]
  },
  {
   "cell_type": "code",
   "execution_count": 60,
   "metadata": {},
   "outputs": [
    {
     "data": {
      "image/png": "[encoded data removed]",
      "text/plain": [
       "<matplotlib.figure.Figure at 0x1a0f2cd550>"
      ]
     },
     "metadata": {},
     "output_type": "display_data"
    }
   ],
   "source": [
    "# Generate ROC curve values: fpr, tpr, thresholds\n",
    "fpr, tpr, thresholds = roc_curve(y_test, y_pred_prob_rf)\n",
    "\n",
    "# Plot ROC curve\n",
    "plt.plot([0, 1], [0, 1], 'k--')\n",
    "plt.plot(fpr, tpr)\n",
    "plt.xlabel('False Positive Rate')\n",
    "plt.ylabel('True Positive Rate')\n",
    "plt.title('ROC Curve for Random Forest after RFE')\n",
    "plt.show()"
   ]
  },
  {
   "cell_type": "code",
   "execution_count": 61,
   "metadata": {},
   "outputs": [
    {
     "data": {
      "text/plain": [
       "0.67022285443338059"
      ]
     },
     "execution_count": 61,
     "metadata": {},
     "output_type": "execute_result"
    }
   ],
   "source": [
    "# calculate AUC for randomforest model\n",
    "metrics.roc_auc_score(y_test, y_pred_prob_rf)"
   ]
  },
  {
   "cell_type": "markdown",
   "metadata": {},
   "source": [
    "### Run grid search once RFE produces better results"
   ]
  },
  {
   "cell_type": "code",
   "execution_count": null,
   "metadata": {
    "collapsed": true
   },
   "outputs": [],
   "source": [
    "# create an instance of the grid search by passing the classifier, parameters \n",
    "# and n_jobs=-1 which tells to use multiple cores from user machine.\n",
    "gs_rf = GridSearchCV(RandomForestClassifier(), params, scoring='roc_auc', n_jobs=-1)\n",
    "gs_rf = gs_rf.fit(X_train_rfe_rf, y_train) "
   ]
  },
  {
   "cell_type": "code",
   "execution_count": null,
   "metadata": {
    "collapsed": true
   },
   "outputs": [],
   "source": [
    "# View the best AUC score\n",
    "print('Best score:', gs_rf.best_score_) "
   ]
  },
  {
   "cell_type": "code",
   "execution_count": null,
   "metadata": {
    "collapsed": true
   },
   "outputs": [],
   "source": [
    "# Get best parameters\n",
    "print('Best parameters:', gs_rf.best_params_)"
   ]
  },
  {
   "cell_type": "code",
   "execution_count": null,
   "metadata": {
    "collapsed": true
   },
   "outputs": [],
   "source": []
  },
  {
   "cell_type": "markdown",
   "metadata": {},
   "source": [
    "## 10. Run models on individual locks"
   ]
  },
  {
   "cell_type": "code",
   "execution_count": null,
   "metadata": {
    "collapsed": true
   },
   "outputs": [],
   "source": []
  }
 ],
 "metadata": {
  "kernelspec": {
   "display_name": "Python 3",
   "language": "python",
   "name": "python3"
  },
  "language_info": {
   "codemirror_mode": {
    "name": "ipython",
    "version": 3
   },
   "file_extension": ".py",
   "mimetype": "text/x-python",
   "name": "python",
   "nbconvert_exporter": "python",
   "pygments_lexer": "ipython3",
   "version": "3.6.1"
  }
 },
 "nbformat": 4,
 "nbformat_minor": 2
}
