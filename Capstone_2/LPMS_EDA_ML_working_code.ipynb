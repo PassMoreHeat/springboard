{
 "cells": [
  {
   "cell_type": "markdown",
   "metadata": {},
   "source": [
    "# Exploratory Data Analysis & Machine Learning Working Code\n",
    "# _Factors affecting vessel delays at US Army Corps of Engineers-managed locks on US waterways._\n",
    "\n",
    "## Springboard Data Science Career Track, Capstone 2\n",
    "***\n",
    "* Author: Heather A. Passmore\n",
    "* Data: United States Army Corps of Engineers, Lock Performance Management System\n",
    "* Capstone Description: [Project Proposal](https://github.com/PassMoreHeat/springboard/blob/master/Capstone_2/ProjectProposalCap2.md)\n",
    "* Initial Data Approach: [Data Wrangling Report](https://github.com/PassMoreHeat/springboard/blob/master/Capstone_2/Data_Wrangling_Report.md)\n",
    "* Milestone Report: [Predicting Vessel Delays for Corps of Engineers-Lock Performance Management System (LPMS) Data](https://github.com/PassMoreHeat/springboard/blob/master/Capstone_2/LPMS_Milestone_Report.md)\n",
    "* Final Report: In Progress\n",
    "***\n",
    "## Table of Contents\n",
    "1. Import Modules & Dataframes\n",
    "2. Explore Machine Learning Data for 10 Focal Locks\n",
    "\n",
    "3. Heading \n",
    "4. Heading"
   ]
  },
  {
   "cell_type": "markdown",
   "metadata": {},
   "source": [
    "## 1. Import Modules & Dataframes"
   ]
  },
  {
   "cell_type": "code",
   "execution_count": 1,
   "metadata": {
    "collapsed": true
   },
   "outputs": [],
   "source": [
    "# import modules\n",
    "import pandas as pd\n",
    "import numpy as np\n",
    "import matplotlib.pyplot as plt\n",
    "import seaborn as sns\n",
    "from sklearn import tree\n",
    "import pickle\n",
    "import scipy.stats\n",
    "from scipy.stats import norm\n",
    "import scipy as sp\n",
    "\n",
    "# Figures inline, visualization style\n",
    "%matplotlib inline\n",
    "\n",
    "# Setup Seaborn\n",
    "sns.set_style(\"whitegrid\")\n",
    "sns.set_context(\"talk\")"
   ]
  },
  {
   "cell_type": "code",
   "execution_count": 2,
   "metadata": {
    "collapsed": true
   },
   "outputs": [],
   "source": [
    "# Import scikit-learn tools, vectorizers, transformer, and classifiers\n",
    "from sklearn.model_selection import train_test_split\n",
    "from sklearn import metrics\n",
    "from sklearn.metrics import roc_curve\n",
    "from sklearn.metrics import classification_report\n",
    "from sklearn.preprocessing import LabelEncoder\n",
    "from sklearn.model_selection import GridSearchCV\n",
    "\n",
    "# import Random Forest Classifier\n",
    "from sklearn.ensemble import RandomForestClassifier\n",
    "\n",
    "# import Logistic Regression CV Classifier\n",
    "from sklearn.linear_model import LogisticRegressionCV"
   ]
  },
  {
   "cell_type": "code",
   "execution_count": 83,
   "metadata": {
    "collapsed": true
   },
   "outputs": [],
   "source": [
    "# Bring ML_LPMS_final dataframe into workspace\n",
    "# load the pickled ML_LPMS_final DataFrame from hard drive in 'rb' mode\n",
    "with open('/Users/pgagnon/Documents/Springboard/springboard/Capstone_2/LockData/ML_LPMS_final.pickle','rb') as f:\n",
    "    ML = pickle.load(f)"
   ]
  },
  {
   "cell_type": "code",
   "execution_count": 84,
   "metadata": {},
   "outputs": [
    {
     "name": "stdout",
     "output_type": "stream",
     "text": [
      "<class 'pandas.core.frame.DataFrame'>\n",
      "Int64Index: 15538 entries, 0 to 15537\n",
      "Data columns (total 27 columns):\n",
      "E_R_L                   15538 non-null object\n",
      "YYMMDD                  15538 non-null datetime64[ns]\n",
      "delay_cat               15538 non-null int64\n",
      "LOCKAGE_TYPE            15538 non-null object\n",
      "VESSEL_FUNCTION_TYPE    15538 non-null object\n",
      "assist                  15538 non-null int64\n",
      "year                    15538 non-null int64\n",
      "day_of_year             15538 non-null int64\n",
      "day_of_week             15538 non-null int64\n",
      "month                   15538 non-null int64\n",
      "hour_of_day             15538 non-null int64\n",
      "entry_time              15538 non-null float64\n",
      "exit_time               15538 non-null float64\n",
      "delay_time              15538 non-null float64\n",
      "unplan_max_stop         15538 non-null float64\n",
      "AWND                    15538 non-null float64\n",
      "PGTM                    15538 non-null float64\n",
      "PRCP                    15538 non-null float64\n",
      "SNOW                    15538 non-null float64\n",
      "SNWD                    15538 non-null float64\n",
      "TAVG                    15538 non-null float64\n",
      "TMAX                    15538 non-null float64\n",
      "TMIN                    15538 non-null float64\n",
      "WSF2                    15538 non-null float64\n",
      "WSF5                    15538 non-null float64\n",
      "WT_count                15538 non-null int64\n",
      "WType                   15538 non-null object\n",
      "dtypes: datetime64[ns](1), float64(14), int64(8), object(4)\n",
      "memory usage: 3.3+ MB\n"
     ]
    }
   ],
   "source": [
    "# Check ML contents and data types\n",
    "ML.info()"
   ]
  },
  {
   "cell_type": "markdown",
   "metadata": {},
   "source": [
    "## 2. Explore Machine Learning Data for 10 Focal Locks"
   ]
  },
  {
   "cell_type": "code",
   "execution_count": 85,
   "metadata": {},
   "outputs": [
    {
     "data": {
      "text/plain": [
       "B2_GI_77    1770\n",
       "B2_FB_41    1763\n",
       "M3_GI_11    1726\n",
       "M3_GI_12    1710\n",
       "B3_MI_27    1660\n",
       "H2_OH_76    1641\n",
       "B2_GI_4     1614\n",
       "M3_GI_14    1571\n",
       "G3_WS_1     1248\n",
       "B2_GI_3      835\n",
       "Name: E_R_L, dtype: int64"
      ]
     },
     "execution_count": 85,
     "metadata": {},
     "output_type": "execute_result"
    }
   ],
   "source": [
    "# Explore data for 10 focal locks\n",
    "ML.E_R_L.value_counts()"
   ]
  },
  {
   "cell_type": "code",
   "execution_count": 86,
   "metadata": {},
   "outputs": [
    {
     "data": {
      "text/plain": [
       "S    9349\n",
       "O    6070\n",
       "C      53\n",
       "K      47\n",
       "N       9\n",
       "B       5\n",
       "V       3\n",
       "A       1\n",
       "T       1\n",
       "Name: LOCKAGE_TYPE, dtype: int64"
      ]
     },
     "execution_count": 86,
     "metadata": {},
     "output_type": "execute_result"
    }
   ],
   "source": [
    "ML.LOCKAGE_TYPE.value_counts()"
   ]
  },
  {
   "cell_type": "code",
   "execution_count": 87,
   "metadata": {},
   "outputs": [
    {
     "data": {
      "text/plain": [
       "15538"
      ]
     },
     "execution_count": 87,
     "metadata": {},
     "output_type": "execute_result"
    }
   ],
   "source": [
    "# Number of observations\n",
    "ML.shape[0]"
   ]
  },
  {
   "cell_type": "code",
   "execution_count": 88,
   "metadata": {},
   "outputs": [
    {
     "data": {
      "text/plain": [
       "27"
      ]
     },
     "execution_count": 88,
     "metadata": {},
     "output_type": "execute_result"
    }
   ],
   "source": [
    "# Number of features\n",
    "ML.shape[1]"
   ]
  },
  {
   "cell_type": "markdown",
   "metadata": {},
   "source": [
    "## 3. Convert all categorical variables remaining to numerical with encoding"
   ]
  },
  {
   "cell_type": "code",
   "execution_count": 89,
   "metadata": {
    "collapsed": true
   },
   "outputs": [],
   "source": [
    "# Make a list of categorical columns that need to be encoded (do I need to encode year)\n",
    "catvar = ['E_R_L', 'LOCKAGE_TYPE', 'VESSEL_FUNCTION_TYPE', 'year', 'day_of_year', 'day_of_week', 'month', \n",
    "          'hour_of_day']\n",
    "\n",
    "# Make a list of numerical columns in case of later feature scaling or standarization\n",
    "numvar = ['entry_time', 'exit_time', 'delay_time', 'unplan_max_stop', 'AWND', 'PGTM', 'PRCP', 'SNOW', 'SNWD', 'TAVG', \n",
    "          'TMAX', 'TMIN', 'WSF2', 'WSF5', 'WT_count']\n",
    "\n",
    "# Make a list of binary variables just in case\n",
    "binvar = ['delay_cat', 'assist', 'WType']\n",
    "\n",
    "# Also may consider One Hot Coding 'LOCKAGE_TYPE' and 'VESSEL_FUNCTION_TYPE' later"
   ]
  },
  {
   "cell_type": "code",
   "execution_count": 90,
   "metadata": {
    "collapsed": true
   },
   "outputs": [],
   "source": [
    "# Use label encoder for categorical variables\n",
    "lbl_enc = LabelEncoder()\n",
    "tmp = ML[catvar].apply(lbl_enc.fit_transform)"
   ]
  },
  {
   "cell_type": "code",
   "execution_count": 91,
   "metadata": {
    "collapsed": true
   },
   "outputs": [],
   "source": [
    "# Drop the old categorical columns, concatenate ML and tmp\n",
    "ML.drop(catvar, axis=1, inplace=True)\n",
    "ML_LPMS = pd.concat([ML, tmp], axis=1)"
   ]
  },
  {
   "cell_type": "code",
   "execution_count": 92,
   "metadata": {},
   "outputs": [
    {
     "data": {
      "text/plain": [
       "15538"
      ]
     },
     "execution_count": 92,
     "metadata": {},
     "output_type": "execute_result"
    }
   ],
   "source": [
    "# Number of observations\n",
    "ML_LPMS.shape[0]"
   ]
  },
  {
   "cell_type": "code",
   "execution_count": 93,
   "metadata": {},
   "outputs": [
    {
     "data": {
      "text/plain": [
       "27"
      ]
     },
     "execution_count": 93,
     "metadata": {},
     "output_type": "execute_result"
    }
   ],
   "source": [
    "# Number of features\n",
    "ML_LPMS.shape[1]"
   ]
  },
  {
   "cell_type": "code",
   "execution_count": 94,
   "metadata": {},
   "outputs": [
    {
     "name": "stdout",
     "output_type": "stream",
     "text": [
      "<class 'pandas.core.frame.DataFrame'>\n",
      "Int64Index: 15538 entries, 0 to 15537\n",
      "Data columns (total 27 columns):\n",
      "YYMMDD                  15538 non-null datetime64[ns]\n",
      "delay_cat               15538 non-null int64\n",
      "assist                  15538 non-null int64\n",
      "entry_time              15538 non-null float64\n",
      "exit_time               15538 non-null float64\n",
      "delay_time              15538 non-null float64\n",
      "unplan_max_stop         15538 non-null float64\n",
      "AWND                    15538 non-null float64\n",
      "PGTM                    15538 non-null float64\n",
      "PRCP                    15538 non-null float64\n",
      "SNOW                    15538 non-null float64\n",
      "SNWD                    15538 non-null float64\n",
      "TAVG                    15538 non-null float64\n",
      "TMAX                    15538 non-null float64\n",
      "TMIN                    15538 non-null float64\n",
      "WSF2                    15538 non-null float64\n",
      "WSF5                    15538 non-null float64\n",
      "WT_count                15538 non-null int64\n",
      "WType                   15538 non-null object\n",
      "E_R_L                   15538 non-null int64\n",
      "LOCKAGE_TYPE            15538 non-null int64\n",
      "VESSEL_FUNCTION_TYPE    15538 non-null int64\n",
      "year                    15538 non-null int64\n",
      "day_of_year             15538 non-null int64\n",
      "day_of_week             15538 non-null int64\n",
      "month                   15538 non-null int64\n",
      "hour_of_day             15538 non-null int64\n",
      "dtypes: datetime64[ns](1), float64(14), int64(11), object(1)\n",
      "memory usage: 3.3+ MB\n"
     ]
    }
   ],
   "source": [
    "ML_LPMS.info()"
   ]
  },
  {
   "cell_type": "code",
   "execution_count": 96,
   "metadata": {},
   "outputs": [
    {
     "data": {
      "text/plain": [
       "(15538, 23)"
      ]
     },
     "execution_count": 96,
     "metadata": {},
     "output_type": "execute_result"
    }
   ],
   "source": [
    "# drop 'YYMMDD', 'delay_time', 'entry_time', 'exit_time' column\n",
    "ML_LPMS.drop(['YYMMDD', 'delay_time', 'entry_time', 'exit_time'], axis=1, inplace=True)\n",
    "ML_LPMS.shape"
   ]
  },
  {
   "cell_type": "markdown",
   "metadata": {},
   "source": [
    "## 4. Create feature matrix and target vector then split into testing and training"
   ]
  },
  {
   "cell_type": "code",
   "execution_count": 97,
   "metadata": {
    "collapsed": true
   },
   "outputs": [],
   "source": [
    "X = ML_LPMS.drop(['delay_cat'], axis=1).values\n",
    "y = ML_LPMS.delay_cat.values"
   ]
  },
  {
   "cell_type": "code",
   "execution_count": 121,
   "metadata": {},
   "outputs": [
    {
     "data": {
      "text/plain": [
       "(15538, 22)"
      ]
     },
     "execution_count": 121,
     "metadata": {},
     "output_type": "execute_result"
    }
   ],
   "source": [
    "X.shape"
   ]
  },
  {
   "cell_type": "code",
   "execution_count": 99,
   "metadata": {},
   "outputs": [
    {
     "name": "stdout",
     "output_type": "stream",
     "text": [
      "X Training set sample size: 11653\n",
      "X Testing set sample size: 3885\n",
      "y Training set sample size: 11653\n",
      "y Testing set sample size: 3885\n"
     ]
    }
   ],
   "source": [
    "# Train Test Split\n",
    "# split the data into training and test sets\n",
    "X_train, X_test, y_train, y_test = train_test_split(X, y, random_state=42, stratify=y)\n",
    "\n",
    "# Show the results of the split\n",
    "print(\"X Training set sample size:\", (X_train.shape[0]))\n",
    "print(\"X Testing set sample size:\", (X_test.shape[0]))\n",
    "print(\"y Training set sample size:\", (y_train.shape[0]))\n",
    "print(\"y Testing set sample size:\", (y_test.shape[0]))"
   ]
  },
  {
   "cell_type": "code",
   "execution_count": 100,
   "metadata": {},
   "outputs": [
    {
     "name": "stdout",
     "output_type": "stream",
     "text": [
      "0.542864498412\n",
      "0.542857142857\n"
     ]
    }
   ],
   "source": [
    "# Double check stratification\n",
    "print(np.mean(y_train == 0))\n",
    "print(np.mean(y_test == 0))"
   ]
  },
  {
   "cell_type": "markdown",
   "metadata": {},
   "source": [
    "## 5. Fit Logistic Regression model"
   ]
  },
  {
   "cell_type": "code",
   "execution_count": 101,
   "metadata": {},
   "outputs": [
    {
     "name": "stdout",
     "output_type": "stream",
     "text": [
      "training set score: 0.592380\n",
      "\n",
      "test set score: 0.592535\n"
     ]
    }
   ],
   "source": [
    "# Fit Logistic Regression with Cross Validation\n",
    "lgr=LogisticRegressionCV(scoring='roc_auc').fit(X_train,y_train)\n",
    "print(\"training set score: %f\" % lgr.score(X_train, y_train))\n",
    "print('\\n'\"test set score: %f\" % lgr.score(X_test, y_test))"
   ]
  },
  {
   "cell_type": "code",
   "execution_count": 102,
   "metadata": {},
   "outputs": [
    {
     "data": {
      "text/plain": [
       "array([[1485,  624],\n",
       "       [ 959,  817]])"
      ]
     },
     "execution_count": 102,
     "metadata": {},
     "output_type": "execute_result"
    }
   ],
   "source": [
    "# calculated predicted class label per sample: pred_lgr\n",
    "pred_lgr = lgr.predict(X_test)\n",
    "\n",
    "# print the confusion matrix \n",
    "metrics.confusion_matrix(y_test, pred_lgr)"
   ]
  },
  {
   "cell_type": "code",
   "execution_count": 103,
   "metadata": {},
   "outputs": [
    {
     "data": {
      "text/plain": [
       "array([ 0.53137265,  0.49501801,  0.55437232, ...,  0.42160461,\n",
       "        0.37806943,  0.31649492])"
      ]
     },
     "execution_count": 103,
     "metadata": {},
     "output_type": "execute_result"
    }
   ],
   "source": [
    "# calculate predicted probabilities for X_test Logistic Regression model\n",
    "y_pred_prob_lgr = lgr.predict_proba(X_test)[:, 1]\n",
    "y_pred_prob_lgr"
   ]
  },
  {
   "cell_type": "code",
   "execution_count": 104,
   "metadata": {},
   "outputs": [
    {
     "data": {
      "image/png": "[encoded data removed]",
      "text/plain": [
       "<matplotlib.figure.Figure at 0x1a111c7780>"
      ]
     },
     "metadata": {},
     "output_type": "display_data"
    }
   ],
   "source": [
    "# Generate ROC curve values: fpr, tpr, thresholds\n",
    "fpr, tpr, thresholds = roc_curve(y_test, y_pred_prob_lgr)\n",
    "\n",
    "# Plot ROC curve\n",
    "plt.plot([0, 1], [0, 1], 'k--')\n",
    "plt.plot(fpr, tpr)\n",
    "plt.xlabel('False Positive Rate')\n",
    "plt.ylabel('True Positive Rate')\n",
    "plt.title('ROC Curve for LogisticRegressionCV')\n",
    "plt.show()"
   ]
  },
  {
   "cell_type": "code",
   "execution_count": 105,
   "metadata": {},
   "outputs": [
    {
     "data": {
      "text/plain": [
       "0.60761739691327166"
      ]
     },
     "execution_count": 105,
     "metadata": {},
     "output_type": "execute_result"
    }
   ],
   "source": [
    "# calculate AUC for LogisticRegressionCV classifier\n",
    "metrics.roc_auc_score(y_test, y_pred_prob_lgr)"
   ]
  },
  {
   "cell_type": "code",
   "execution_count": 106,
   "metadata": {},
   "outputs": [
    {
     "data": {
      "text/plain": [
       "LogisticRegressionCV(Cs=10, class_weight=None, cv=None, dual=False,\n",
       "           fit_intercept=True, intercept_scaling=1.0, max_iter=100,\n",
       "           multi_class='ovr', n_jobs=1, penalty='l2', random_state=None,\n",
       "           refit=True, scoring='roc_auc', solver='lbfgs', tol=0.0001,\n",
       "           verbose=0)"
      ]
     },
     "execution_count": 106,
     "metadata": {},
     "output_type": "execute_result"
    }
   ],
   "source": [
    "# view paramaters of logistic regression CV\n",
    "lgr"
   ]
  },
  {
   "cell_type": "markdown",
   "metadata": {},
   "source": [
    "### Consider normalizing variables like 'unplan_max_stop',  and maybe 'AWND', 'PGTM', 'PRCP', 'SNOW', 'SNWD', 'TAVG', 'TMAX', 'TMIN', 'WSF2', 'WSF5', 'WT_count'. (Centering & scaling, put it in a pipeline?)\n",
    "### Consider One Hot Coding 'LOCKAGE_TYPE', 'VESSEL_FUNCTION_TYPE' because two levels are more common than the rest in both variables."
   ]
  },
  {
   "cell_type": "markdown",
   "metadata": {},
   "source": [
    "## 6. Fit Random Forest Model"
   ]
  },
  {
   "cell_type": "code",
   "execution_count": 107,
   "metadata": {},
   "outputs": [
    {
     "name": "stdout",
     "output_type": "stream",
     "text": [
      "training set score: 0.982236\n",
      "\n",
      "test set score: 0.654569\n"
     ]
    }
   ],
   "source": [
    "# Instantiate and fit the random forest model. \n",
    "rf = RandomForestClassifier().fit(X_train, y_train) \n",
    "\n",
    "## And score it on your testing data.\n",
    "print(\"training set score: %f\" % rf.score(X_train, y_train))\n",
    "print('\\n'\"test set score: %f\" % rf.score(X_test, y_test))"
   ]
  },
  {
   "cell_type": "code",
   "execution_count": 108,
   "metadata": {},
   "outputs": [
    {
     "data": {
      "text/plain": [
       "array([[1637,  472],\n",
       "       [ 870,  906]])"
      ]
     },
     "execution_count": 108,
     "metadata": {},
     "output_type": "execute_result"
    }
   ],
   "source": [
    "# calculated predicted class label per sample: pred_rf\n",
    "pred_rf = rf.predict(X_test)\n",
    "\n",
    "# print the confusion matrix \n",
    "metrics.confusion_matrix(y_test, pred_rf)"
   ]
  },
  {
   "cell_type": "code",
   "execution_count": 109,
   "metadata": {},
   "outputs": [
    {
     "data": {
      "text/plain": [
       "array([ 0.4,  0.4,  0.7, ...,  0.1,  0.5,  0.2])"
      ]
     },
     "execution_count": 109,
     "metadata": {},
     "output_type": "execute_result"
    }
   ],
   "source": [
    "# calculate predicted probabilities\n",
    "y_pred_prob_rf = rf.predict_proba(X_test)[:, 1]\n",
    "y_pred_prob_rf"
   ]
  },
  {
   "cell_type": "code",
   "execution_count": 110,
   "metadata": {},
   "outputs": [
    {
     "data": {
      "image/png": "[encoded data removed]",
      "text/plain": [
       "<matplotlib.figure.Figure at 0x109b9bef0>"
      ]
     },
     "metadata": {},
     "output_type": "display_data"
    }
   ],
   "source": [
    "# Generate ROC curve values: fpr, tpr, thresholds\n",
    "fpr, tpr, thresholds = roc_curve(y_test, y_pred_prob_rf)\n",
    "\n",
    "# Plot ROC curve\n",
    "plt.plot([0, 1], [0, 1], 'k--')\n",
    "plt.plot(fpr, tpr)\n",
    "plt.xlabel('False Positive Rate')\n",
    "plt.ylabel('True Positive Rate')\n",
    "plt.title('ROC Curve for Random Forest')\n",
    "plt.show()"
   ]
  },
  {
   "cell_type": "code",
   "execution_count": 111,
   "metadata": {},
   "outputs": [
    {
     "data": {
      "text/plain": [
       "0.68506846996356241"
      ]
     },
     "execution_count": 111,
     "metadata": {},
     "output_type": "execute_result"
    }
   ],
   "source": [
    "# calculate AUC for randomforest model\n",
    "metrics.roc_auc_score(y_test, y_pred_prob_rf)"
   ]
  },
  {
   "cell_type": "code",
   "execution_count": 112,
   "metadata": {
    "collapsed": true
   },
   "outputs": [],
   "source": [
    "# find best parameters with GridSearchCV\n",
    "# create a list of performace parameters for performace tuning (ngram range, use idf?, best alpha)\n",
    "params = {'max_features': [16, 18, 20],\n",
    "              'min_samples_leaf': [2, 4, 6],\n",
    "              'min_samples_split': [7, 8, 10],\n",
    "              #'tfidf__use_idf': (True, False), \n",
    "              #'mnb__alpha': (0.1, 1, 5, 10)\n",
    "         }"
   ]
  },
  {
   "cell_type": "code",
   "execution_count": 113,
   "metadata": {},
   "outputs": [],
   "source": [
    "# create an instance of the grid search by passing the classifier, parameters \n",
    "# and n_jobs=-1 which tells to use multiple cores from user machine.\n",
    "gs_rf = GridSearchCV(RandomForestClassifier(), params, scoring='roc_auc', n_jobs=-1)\n",
    "gs_rf = gs_rf.fit(X_train, y_train) "
   ]
  },
  {
   "cell_type": "code",
   "execution_count": 114,
   "metadata": {},
   "outputs": [
    {
     "name": "stdout",
     "output_type": "stream",
     "text": [
      "Best score: 0.723884727108\n"
     ]
    }
   ],
   "source": [
    "# View the best AUC score\n",
    "print('Best score:', gs_rf.best_score_) "
   ]
  },
  {
   "cell_type": "code",
   "execution_count": 115,
   "metadata": {},
   "outputs": [
    {
     "name": "stdout",
     "output_type": "stream",
     "text": [
      "Best parameters: {'max_features': 20, 'min_samples_leaf': 6, 'min_samples_split': 7}\n"
     ]
    }
   ],
   "source": [
    "# Get best parameters\n",
    "print('Best parameters:', gs_rf.best_params_)"
   ]
  },
  {
   "cell_type": "code",
   "execution_count": 116,
   "metadata": {},
   "outputs": [
    {
     "data": {
      "text/plain": [
       "array([ 0.0018643 ,  0.01222167,  0.09044149,  0.00126501,  0.03936674,\n",
       "        0.00081283,  0.00078427,  0.05346376,  0.08122204,  0.08176559,\n",
       "        0.0639845 ,  0.06927347,  0.02430602,  0.01280111,  0.07095703,\n",
       "        0.01896759,  0.02564916,  0.06031834,  0.10070766,  0.05308773,\n",
       "        0.04403775,  0.09270196])"
      ]
     },
     "execution_count": 116,
     "metadata": {},
     "output_type": "execute_result"
    }
   ],
   "source": [
    "# get array of Random Forest feature importances\n",
    "rf.feature_importances_"
   ]
  },
  {
   "cell_type": "code",
   "execution_count": 122,
   "metadata": {},
   "outputs": [
    {
     "data": {
      "text/html": [
       "<div>\n",
       "<style scoped>\n",
       "    .dataframe tbody tr th:only-of-type {\n",
       "        vertical-align: middle;\n",
       "    }\n",
       "\n",
       "    .dataframe tbody tr th {\n",
       "        vertical-align: top;\n",
       "    }\n",
       "\n",
       "    .dataframe thead th {\n",
       "        text-align: right;\n",
       "    }\n",
       "</style>\n",
       "<table border=\"1\" class=\"dataframe\">\n",
       "  <thead>\n",
       "    <tr style=\"text-align: right;\">\n",
       "      <th></th>\n",
       "      <th>assist</th>\n",
       "      <th>unplan_max_stop</th>\n",
       "      <th>AWND</th>\n",
       "      <th>PGTM</th>\n",
       "      <th>PRCP</th>\n",
       "      <th>SNOW</th>\n",
       "      <th>SNWD</th>\n",
       "      <th>TAVG</th>\n",
       "      <th>TMAX</th>\n",
       "      <th>TMIN</th>\n",
       "      <th>...</th>\n",
       "      <th>WT_count</th>\n",
       "      <th>WType</th>\n",
       "      <th>E_R_L</th>\n",
       "      <th>LOCKAGE_TYPE</th>\n",
       "      <th>VESSEL_FUNCTION_TYPE</th>\n",
       "      <th>year</th>\n",
       "      <th>day_of_year</th>\n",
       "      <th>day_of_week</th>\n",
       "      <th>month</th>\n",
       "      <th>hour_of_day</th>\n",
       "    </tr>\n",
       "  </thead>\n",
       "  <tbody>\n",
       "    <tr>\n",
       "      <th>0</th>\n",
       "      <td>0</td>\n",
       "      <td>0.0</td>\n",
       "      <td>5.14</td>\n",
       "      <td>0.0</td>\n",
       "      <td>0.00</td>\n",
       "      <td>0.0</td>\n",
       "      <td>0.0</td>\n",
       "      <td>0.0</td>\n",
       "      <td>76.0</td>\n",
       "      <td>57.0</td>\n",
       "      <td>...</td>\n",
       "      <td>0</td>\n",
       "      <td>0</td>\n",
       "      <td>8</td>\n",
       "      <td>5</td>\n",
       "      <td>9</td>\n",
       "      <td>2</td>\n",
       "      <td>72</td>\n",
       "      <td>5</td>\n",
       "      <td>2</td>\n",
       "      <td>3</td>\n",
       "    </tr>\n",
       "    <tr>\n",
       "      <th>1</th>\n",
       "      <td>0</td>\n",
       "      <td>0.0</td>\n",
       "      <td>9.62</td>\n",
       "      <td>0.0</td>\n",
       "      <td>0.00</td>\n",
       "      <td>0.0</td>\n",
       "      <td>0.0</td>\n",
       "      <td>0.0</td>\n",
       "      <td>89.0</td>\n",
       "      <td>80.0</td>\n",
       "      <td>...</td>\n",
       "      <td>0</td>\n",
       "      <td>0</td>\n",
       "      <td>8</td>\n",
       "      <td>5</td>\n",
       "      <td>9</td>\n",
       "      <td>2</td>\n",
       "      <td>246</td>\n",
       "      <td>4</td>\n",
       "      <td>8</td>\n",
       "      <td>4</td>\n",
       "    </tr>\n",
       "    <tr>\n",
       "      <th>2</th>\n",
       "      <td>0</td>\n",
       "      <td>0.0</td>\n",
       "      <td>3.36</td>\n",
       "      <td>0.0</td>\n",
       "      <td>0.27</td>\n",
       "      <td>0.0</td>\n",
       "      <td>0.0</td>\n",
       "      <td>82.0</td>\n",
       "      <td>91.0</td>\n",
       "      <td>78.0</td>\n",
       "      <td>...</td>\n",
       "      <td>1</td>\n",
       "      <td>1</td>\n",
       "      <td>2</td>\n",
       "      <td>6</td>\n",
       "      <td>9</td>\n",
       "      <td>3</td>\n",
       "      <td>192</td>\n",
       "      <td>0</td>\n",
       "      <td>6</td>\n",
       "      <td>8</td>\n",
       "    </tr>\n",
       "    <tr>\n",
       "      <th>3</th>\n",
       "      <td>0</td>\n",
       "      <td>0.0</td>\n",
       "      <td>12.53</td>\n",
       "      <td>0.0</td>\n",
       "      <td>0.03</td>\n",
       "      <td>0.0</td>\n",
       "      <td>0.0</td>\n",
       "      <td>0.0</td>\n",
       "      <td>82.0</td>\n",
       "      <td>71.0</td>\n",
       "      <td>...</td>\n",
       "      <td>1</td>\n",
       "      <td>1</td>\n",
       "      <td>9</td>\n",
       "      <td>5</td>\n",
       "      <td>9</td>\n",
       "      <td>4</td>\n",
       "      <td>91</td>\n",
       "      <td>6</td>\n",
       "      <td>3</td>\n",
       "      <td>0</td>\n",
       "    </tr>\n",
       "    <tr>\n",
       "      <th>4</th>\n",
       "      <td>0</td>\n",
       "      <td>0.0</td>\n",
       "      <td>11.41</td>\n",
       "      <td>0.0</td>\n",
       "      <td>0.12</td>\n",
       "      <td>0.0</td>\n",
       "      <td>0.0</td>\n",
       "      <td>65.0</td>\n",
       "      <td>72.0</td>\n",
       "      <td>49.0</td>\n",
       "      <td>...</td>\n",
       "      <td>0</td>\n",
       "      <td>0</td>\n",
       "      <td>1</td>\n",
       "      <td>6</td>\n",
       "      <td>9</td>\n",
       "      <td>0</td>\n",
       "      <td>347</td>\n",
       "      <td>5</td>\n",
       "      <td>11</td>\n",
       "      <td>12</td>\n",
       "    </tr>\n",
       "  </tbody>\n",
       "</table>\n",
       "<p>5 rows × 22 columns</p>\n",
       "</div>"
      ],
      "text/plain": [
       "   assist  unplan_max_stop   AWND  PGTM  PRCP  SNOW  SNWD  TAVG  TMAX  TMIN  \\\n",
       "0       0              0.0   5.14   0.0  0.00   0.0   0.0   0.0  76.0  57.0   \n",
       "1       0              0.0   9.62   0.0  0.00   0.0   0.0   0.0  89.0  80.0   \n",
       "2       0              0.0   3.36   0.0  0.27   0.0   0.0  82.0  91.0  78.0   \n",
       "3       0              0.0  12.53   0.0  0.03   0.0   0.0   0.0  82.0  71.0   \n",
       "4       0              0.0  11.41   0.0  0.12   0.0   0.0  65.0  72.0  49.0   \n",
       "\n",
       "      ...       WT_count  WType  E_R_L LOCKAGE_TYPE  VESSEL_FUNCTION_TYPE  \\\n",
       "0     ...              0      0      8            5                     9   \n",
       "1     ...              0      0      8            5                     9   \n",
       "2     ...              1      1      2            6                     9   \n",
       "3     ...              1      1      9            5                     9   \n",
       "4     ...              0      0      1            6                     9   \n",
       "\n",
       "   year  day_of_year  day_of_week  month  hour_of_day  \n",
       "0     2           72            5      2            3  \n",
       "1     2          246            4      8            4  \n",
       "2     3          192            0      6            8  \n",
       "3     4           91            6      3            0  \n",
       "4     0          347            5     11           12  \n",
       "\n",
       "[5 rows x 22 columns]"
      ]
     },
     "execution_count": 122,
     "metadata": {},
     "output_type": "execute_result"
    }
   ],
   "source": [
    "X_df = ML_LPMS.drop(['delay_cat'], axis=1)\n",
    "X_df.head()"
   ]
  },
  {
   "cell_type": "code",
   "execution_count": 123,
   "metadata": {},
   "outputs": [],
   "source": [
    "# Explore feature importances\n",
    "#pd.DataFrame(zip(X.columns, np.transpose(rf.best_estimator_.feature_importances_ ))).sort_values(1).tail(10)\n",
    "\n",
    "feature_importances = pd.DataFrame(rf.feature_importances_,\n",
    "                                   index = X_df.columns,\n",
    "                                    columns=['importance']).sort_values('importance', ascending=False)"
   ]
  },
  {
   "cell_type": "code",
   "execution_count": 124,
   "metadata": {},
   "outputs": [
    {
     "data": {
      "text/html": [
       "<div>\n",
       "<style scoped>\n",
       "    .dataframe tbody tr th:only-of-type {\n",
       "        vertical-align: middle;\n",
       "    }\n",
       "\n",
       "    .dataframe tbody tr th {\n",
       "        vertical-align: top;\n",
       "    }\n",
       "\n",
       "    .dataframe thead th {\n",
       "        text-align: right;\n",
       "    }\n",
       "</style>\n",
       "<table border=\"1\" class=\"dataframe\">\n",
       "  <thead>\n",
       "    <tr style=\"text-align: right;\">\n",
       "      <th></th>\n",
       "      <th>importance</th>\n",
       "    </tr>\n",
       "  </thead>\n",
       "  <tbody>\n",
       "    <tr>\n",
       "      <th>day_of_year</th>\n",
       "      <td>0.100708</td>\n",
       "    </tr>\n",
       "    <tr>\n",
       "      <th>hour_of_day</th>\n",
       "      <td>0.092702</td>\n",
       "    </tr>\n",
       "    <tr>\n",
       "      <th>AWND</th>\n",
       "      <td>0.090441</td>\n",
       "    </tr>\n",
       "    <tr>\n",
       "      <th>TMIN</th>\n",
       "      <td>0.081766</td>\n",
       "    </tr>\n",
       "    <tr>\n",
       "      <th>TMAX</th>\n",
       "      <td>0.081222</td>\n",
       "    </tr>\n",
       "    <tr>\n",
       "      <th>E_R_L</th>\n",
       "      <td>0.070957</td>\n",
       "    </tr>\n",
       "    <tr>\n",
       "      <th>WSF5</th>\n",
       "      <td>0.069273</td>\n",
       "    </tr>\n",
       "    <tr>\n",
       "      <th>WSF2</th>\n",
       "      <td>0.063985</td>\n",
       "    </tr>\n",
       "    <tr>\n",
       "      <th>year</th>\n",
       "      <td>0.060318</td>\n",
       "    </tr>\n",
       "    <tr>\n",
       "      <th>TAVG</th>\n",
       "      <td>0.053464</td>\n",
       "    </tr>\n",
       "    <tr>\n",
       "      <th>day_of_week</th>\n",
       "      <td>0.053088</td>\n",
       "    </tr>\n",
       "    <tr>\n",
       "      <th>month</th>\n",
       "      <td>0.044038</td>\n",
       "    </tr>\n",
       "    <tr>\n",
       "      <th>PRCP</th>\n",
       "      <td>0.039367</td>\n",
       "    </tr>\n",
       "    <tr>\n",
       "      <th>VESSEL_FUNCTION_TYPE</th>\n",
       "      <td>0.025649</td>\n",
       "    </tr>\n",
       "    <tr>\n",
       "      <th>WT_count</th>\n",
       "      <td>0.024306</td>\n",
       "    </tr>\n",
       "    <tr>\n",
       "      <th>LOCKAGE_TYPE</th>\n",
       "      <td>0.018968</td>\n",
       "    </tr>\n",
       "    <tr>\n",
       "      <th>WType</th>\n",
       "      <td>0.012801</td>\n",
       "    </tr>\n",
       "    <tr>\n",
       "      <th>unplan_max_stop</th>\n",
       "      <td>0.012222</td>\n",
       "    </tr>\n",
       "    <tr>\n",
       "      <th>assist</th>\n",
       "      <td>0.001864</td>\n",
       "    </tr>\n",
       "    <tr>\n",
       "      <th>PGTM</th>\n",
       "      <td>0.001265</td>\n",
       "    </tr>\n",
       "    <tr>\n",
       "      <th>SNOW</th>\n",
       "      <td>0.000813</td>\n",
       "    </tr>\n",
       "    <tr>\n",
       "      <th>SNWD</th>\n",
       "      <td>0.000784</td>\n",
       "    </tr>\n",
       "  </tbody>\n",
       "</table>\n",
       "</div>"
      ],
      "text/plain": [
       "                      importance\n",
       "day_of_year             0.100708\n",
       "hour_of_day             0.092702\n",
       "AWND                    0.090441\n",
       "TMIN                    0.081766\n",
       "TMAX                    0.081222\n",
       "E_R_L                   0.070957\n",
       "WSF5                    0.069273\n",
       "WSF2                    0.063985\n",
       "year                    0.060318\n",
       "TAVG                    0.053464\n",
       "day_of_week             0.053088\n",
       "month                   0.044038\n",
       "PRCP                    0.039367\n",
       "VESSEL_FUNCTION_TYPE    0.025649\n",
       "WT_count                0.024306\n",
       "LOCKAGE_TYPE            0.018968\n",
       "WType                   0.012801\n",
       "unplan_max_stop         0.012222\n",
       "assist                  0.001864\n",
       "PGTM                    0.001265\n",
       "SNOW                    0.000813\n",
       "SNWD                    0.000784"
      ]
     },
     "execution_count": 124,
     "metadata": {},
     "output_type": "execute_result"
    }
   ],
   "source": [
    "feature_importances"
   ]
  },
  {
   "cell_type": "markdown",
   "metadata": {},
   "source": [
    "## 7. Try Recusive Feature Elimination"
   ]
  },
  {
   "cell_type": "code",
   "execution_count": 132,
   "metadata": {
    "collapsed": true
   },
   "outputs": [],
   "source": [
    "from sklearn.feature_selection import RFE"
   ]
  },
  {
   "cell_type": "markdown",
   "metadata": {},
   "source": [
    "# QUESTION: should I fit RFE to X, y or to X_train, y_train???\n",
    "# QUESTION: how many features should I select (n_features_to_select). The default is half, so I entered 10 \n",
    "# QUESTION: Once I know the 10 featues to keep do I go back and drop those columns from the original dataframe, re-create X and y, and re-run train text split??? Or, do I drop those indices from X-train?"
   ]
  },
  {
   "cell_type": "code",
   "execution_count": 134,
   "metadata": {},
   "outputs": [
    {
     "name": "stdout",
     "output_type": "stream",
     "text": [
      "Number of Features: 10\n",
      "Selected Features: [False False False False  True  True  True False False False  True False\n",
      " False False  True  True  True  True False  True False  True]\n",
      "Feature Ranking: [ 9 13  7 12  1  1  1  3  5  6  1  8  2 10  1  1  1  1 11  1  4  1]\n"
     ]
    }
   ],
   "source": [
    "# feature extraction from LogisticRegressionCV\n",
    "rfe = RFE(lgr, 10, step=1)\n",
    "fit = rfe.fit(X_train, y_train)\n",
    "print('Number of Features:', fit.n_features_)\n",
    "print('Selected Features:',  fit.support_)\n",
    "print('Feature Ranking:',  fit.ranking_)"
   ]
  },
  {
   "cell_type": "code",
   "execution_count": 136,
   "metadata": {},
   "outputs": [
    {
     "name": "stdout",
     "output_type": "stream",
     "text": [
      "Features sorted by their rank:\n",
      "[(1, 'E_R_L'), (1, 'LOCKAGE_TYPE'), (1, 'PRCP'), (1, 'SNOW'), (1, 'SNWD'), (1, 'VESSEL_FUNCTION_TYPE'), (1, 'WSF2'), (1, 'day_of_week'), (1, 'hour_of_day'), (1, 'year'), (2, 'WT_count'), (3, 'TAVG'), (4, 'month'), (5, 'TMAX'), (6, 'TMIN'), (7, 'AWND'), (8, 'WSF5'), (9, 'assist'), (10, 'WType'), (11, 'day_of_year'), (12, 'PGTM'), (13, 'unplan_max_stop')]\n"
     ]
    }
   ],
   "source": [
    "# Map the column names to the rankings to see what to keep (1's) and what to drop (ranked above 1)\n",
    "print('Features sorted by their rank:')\n",
    "print(sorted(zip(map(lambda x: round(x, 4), fit.ranking_), X_df.columns)))"
   ]
  },
  {
   "cell_type": "code",
   "execution_count": 140,
   "metadata": {},
   "outputs": [
    {
     "data": {
      "text/plain": [
       "(15538, 11)"
      ]
     },
     "execution_count": 140,
     "metadata": {},
     "output_type": "execute_result"
    }
   ],
   "source": [
    "# drop 'columns ranked higher than 1 for Logistic Regression\n",
    "ML_LPMS.drop(['WT_count', 'TAVG', 'month', 'TMAX', 'TMIN', 'AWND', 'WSF5', 'assist', 'WType',\n",
    "              'day_of_year', 'PGTM', 'unplan_max_stop'], axis=1, inplace=True)\n",
    "ML_LPMS.shape\n",
    "# not sure this is the right path. Should I re-create X and y without these columns, re-do training/test and re-run\n",
    "# model?"
   ]
  },
  {
   "cell_type": "code",
   "execution_count": null,
   "metadata": {
    "collapsed": true
   },
   "outputs": [],
   "source": []
  },
  {
   "cell_type": "code",
   "execution_count": 135,
   "metadata": {},
   "outputs": [
    {
     "name": "stdout",
     "output_type": "stream",
     "text": [
      "Number of Features: 10\n",
      "Selected Features: [False False  True False False False False False  True  True  True  True\n",
      " False False  True False False  True  True  True False  True]\n",
      "Feature Ranking: [10  9  1 11  4 13 12  2  1  1  1  1  5  8  1  7  6  1  1  1  3  1]\n"
     ]
    }
   ],
   "source": [
    "# feature extraction from RandomForest\n",
    "rfe_rf = RFE(rf, 10, step=1)\n",
    "fit_rf = rfe_rf.fit(X_train, y_train)\n",
    "print('Number of Features:', fit_rf.n_features_)\n",
    "print('Selected Features:',  fit_rf.support_)\n",
    "print('Feature Ranking:',  fit_rf.ranking_)"
   ]
  },
  {
   "cell_type": "code",
   "execution_count": 137,
   "metadata": {},
   "outputs": [
    {
     "name": "stdout",
     "output_type": "stream",
     "text": [
      "Features sorted by their rank:\n",
      "[(1, 'AWND'), (1, 'E_R_L'), (1, 'TMAX'), (1, 'TMIN'), (1, 'WSF2'), (1, 'WSF5'), (1, 'day_of_week'), (1, 'day_of_year'), (1, 'hour_of_day'), (1, 'year'), (2, 'TAVG'), (3, 'month'), (4, 'PRCP'), (5, 'WT_count'), (6, 'VESSEL_FUNCTION_TYPE'), (7, 'LOCKAGE_TYPE'), (8, 'WType'), (9, 'unplan_max_stop'), (10, 'assist'), (11, 'PGTM'), (12, 'SNWD'), (13, 'SNOW')]\n"
     ]
    }
   ],
   "source": [
    "# Map the column names to the rankings to see what to keep (1's) and what to drop (ranked above 1)\n",
    "print('Features sorted by their rank:')\n",
    "print(sorted(zip(map(lambda x: round(x, 4), fit_rf.ranking_), X_df.columns)))"
   ]
  },
  {
   "cell_type": "code",
   "execution_count": 139,
   "metadata": {},
   "outputs": [
    {
     "name": "stdout",
     "output_type": "stream",
     "text": [
      "<class 'pandas.core.frame.DataFrame'>\n",
      "Int64Index: 15538 entries, 0 to 15537\n",
      "Data columns (total 22 columns):\n",
      "assist                  15538 non-null int64\n",
      "unplan_max_stop         15538 non-null float64\n",
      "AWND                    15538 non-null float64\n",
      "PGTM                    15538 non-null float64\n",
      "PRCP                    15538 non-null float64\n",
      "SNOW                    15538 non-null float64\n",
      "SNWD                    15538 non-null float64\n",
      "TAVG                    15538 non-null float64\n",
      "TMAX                    15538 non-null float64\n",
      "TMIN                    15538 non-null float64\n",
      "WSF2                    15538 non-null float64\n",
      "WSF5                    15538 non-null float64\n",
      "WT_count                15538 non-null int64\n",
      "WType                   15538 non-null object\n",
      "E_R_L                   15538 non-null int64\n",
      "LOCKAGE_TYPE            15538 non-null int64\n",
      "VESSEL_FUNCTION_TYPE    15538 non-null int64\n",
      "year                    15538 non-null int64\n",
      "day_of_year             15538 non-null int64\n",
      "day_of_week             15538 non-null int64\n",
      "month                   15538 non-null int64\n",
      "hour_of_day             15538 non-null int64\n",
      "dtypes: float64(11), int64(10), object(1)\n",
      "memory usage: 2.7+ MB\n"
     ]
    }
   ],
   "source": [
    "X_df.info()"
   ]
  },
  {
   "cell_type": "code",
   "execution_count": null,
   "metadata": {
    "collapsed": true
   },
   "outputs": [],
   "source": []
  },
  {
   "cell_type": "code",
   "execution_count": null,
   "metadata": {
    "collapsed": true
   },
   "outputs": [],
   "source": []
  },
  {
   "cell_type": "code",
   "execution_count": null,
   "metadata": {
    "collapsed": true
   },
   "outputs": [],
   "source": []
  },
  {
   "cell_type": "code",
   "execution_count": null,
   "metadata": {
    "collapsed": true
   },
   "outputs": [],
   "source": []
  }
 ],
 "metadata": {
  "kernelspec": {
   "display_name": "Python 3",
   "language": "python",
   "name": "python3"
  },
  "language_info": {
   "codemirror_mode": {
    "name": "ipython",
    "version": 3
   },
   "file_extension": ".py",
   "mimetype": "text/x-python",
   "name": "python",
   "nbconvert_exporter": "python",
   "pygments_lexer": "ipython3",
   "version": "3.6.1"
  }
 },
 "nbformat": 4,
 "nbformat_minor": 2
}
