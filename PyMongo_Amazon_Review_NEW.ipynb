{
 "cells": [
  {
   "cell_type": "code",
   "execution_count": 1,
   "metadata": {
    "collapsed": true
   },
   "outputs": [],
   "source": [
    "# import pymongo\n",
    "# also make sure a MongoDB instance in running by '$ mongod' in iTerm\n",
    "import pymongo"
   ]
  },
  {
   "cell_type": "code",
   "execution_count": 2,
   "metadata": {
    "collapsed": true
   },
   "outputs": [],
   "source": [
    "# import json\n",
    "import json"
   ]
  },
  {
   "cell_type": "code",
   "execution_count": 3,
   "metadata": {
    "collapsed": true
   },
   "outputs": [],
   "source": [
    "# create a MongoClient\n",
    "# this uses the default host and port\n",
    "from pymongo import MongoClient\n",
    "client = MongoClient()"
   ]
  },
  {
   "cell_type": "code",
   "execution_count": 4,
   "metadata": {
    "collapsed": true
   },
   "outputs": [],
   "source": [
    "# establish an instance of MongoDB with 'local' database\n",
    "db = client.local"
   ]
  },
  {
   "cell_type": "code",
   "execution_count": 5,
   "metadata": {},
   "outputs": [
    {
     "data": {
      "text/plain": [
       "MongoClient(host=['localhost:27017'], document_class=dict, tz_aware=False, connect=True)"
      ]
     },
     "execution_count": 5,
     "metadata": {},
     "output_type": "execute_result"
    }
   ],
   "source": [
    "# Check the client connection\n",
    "client"
   ]
  },
  {
   "cell_type": "code",
   "execution_count": 6,
   "metadata": {},
   "outputs": [
    {
     "data": {
      "text/plain": [
       "Database(MongoClient(host=['localhost:27017'], document_class=dict, tz_aware=False, connect=True), 'local')"
      ]
     },
     "execution_count": 6,
     "metadata": {},
     "output_type": "execute_result"
    }
   ],
   "source": [
    "# Check the database 'local'\n",
    "db"
   ]
  },
  {
   "cell_type": "code",
   "execution_count": 7,
   "metadata": {},
   "outputs": [
    {
     "data": {
      "text/plain": [
       "Collection(Database(MongoClient(host=['localhost:27017'], document_class=dict, tz_aware=False, connect=True), 'local'), 'reviews_Books')"
      ]
     },
     "execution_count": 7,
     "metadata": {},
     "output_type": "execute_result"
    }
   ],
   "source": [
    "# Create a collection of the MongoDB document 'reviews_Books'\n",
    "db.reviews_Books"
   ]
  },
  {
   "cell_type": "code",
   "execution_count": 8,
   "metadata": {},
   "outputs": [
    {
     "data": {
      "text/plain": [
       "'asin_index'"
      ]
     },
     "execution_count": 8,
     "metadata": {},
     "output_type": "execute_result"
    }
   ],
   "source": [
    "# create new index on 'asin' in reviews_Books collection: 'asin_index'\n",
    "db.reviews_Books.create_index([('asin', pymongo.ASCENDING)], name='asin_index')"
   ]
  },
  {
   "cell_type": "code",
   "execution_count": 182,
   "metadata": {},
   "outputs": [
    {
     "data": {
      "text/plain": [
       "22507155"
      ]
     },
     "execution_count": 182,
     "metadata": {},
     "output_type": "execute_result"
    }
   ],
   "source": [
    "# count the number of reviews in the reviews_Books collection\n",
    "db.reviews_Books.count()"
   ]
  },
  {
   "cell_type": "code",
   "execution_count": 10,
   "metadata": {},
   "outputs": [
    {
     "name": "stdout",
     "output_type": "stream",
     "text": [
      "SON([('v', 2), ('key', SON([('_id', 1)])), ('name', '_id_'), ('ns', 'local.reviews_Books')])\n",
      "SON([('v', 2), ('key', SON([('asin', 1)])), ('name', 'asin_index'), ('ns', 'local.reviews_Books')])\n"
     ]
    }
   ],
   "source": [
    "# double check that the reviews_Books index creation worked\n",
    "# now there are two indices: '_id' and 'asin_index'\n",
    "for index in db.reviews_Books.list_indexes():\n",
    "    print(index)"
   ]
  },
  {
   "cell_type": "code",
   "execution_count": null,
   "metadata": {
    "collapsed": true
   },
   "outputs": [],
   "source": [
    "# Create a collection of the MongoDB document 'reviews_Books_5', the k-cores review file\n",
    "#db.reviews_Books_5"
   ]
  },
  {
   "cell_type": "code",
   "execution_count": null,
   "metadata": {
    "collapsed": true
   },
   "outputs": [],
   "source": [
    "# create new index on 'asin' in reviews_Books_5 collection: 'asin_index'\n",
    "#db.reviews_Books_5.create_index([('asin', pymongo.ASCENDING)], name='asin_index')"
   ]
  },
  {
   "cell_type": "code",
   "execution_count": null,
   "metadata": {
    "collapsed": true
   },
   "outputs": [],
   "source": [
    "# count the number of reviews in the reviews_Books_5 collection\n",
    "#db.reviews_Books_5.count()"
   ]
  },
  {
   "cell_type": "code",
   "execution_count": null,
   "metadata": {
    "collapsed": true
   },
   "outputs": [],
   "source": [
    "# Create a collection of the MongoDB document 'metadata'\n",
    "#db.metadata"
   ]
  },
  {
   "cell_type": "code",
   "execution_count": null,
   "metadata": {
    "collapsed": true
   },
   "outputs": [],
   "source": [
    "# create new index on 'asin' in metadata collection\n",
    "#code = db.metadata.create_index([('asin', pymongo.ASCENDING)])"
   ]
  },
  {
   "cell_type": "code",
   "execution_count": null,
   "metadata": {
    "collapsed": true
   },
   "outputs": [],
   "source": [
    "# count the number of metadata records in 'metadata' collection\n",
    "#db.metadata.count()"
   ]
  },
  {
   "cell_type": "code",
   "execution_count": null,
   "metadata": {
    "collapsed": true
   },
   "outputs": [],
   "source": [
    "# double check that the reviews_Books_5 index creation worked\n",
    "# now there are two indices: '_id' and 'asin_index'\n",
    "#for index in db.reviews_Books_5.list_indexes():\n",
    "#    print(index)"
   ]
  },
  {
   "cell_type": "code",
   "execution_count": null,
   "metadata": {
    "collapsed": true
   },
   "outputs": [],
   "source": [
    "# double check that the 'metadata' index creation worked\n",
    "# now there are two indices: '_id' and 'asin_1'\n",
    "#for index in db.metadata.list_indexes():\n",
    "#    print(index)"
   ]
  },
  {
   "cell_type": "code",
   "execution_count": null,
   "metadata": {
    "collapsed": true
   },
   "outputs": [],
   "source": [
    "# another way to check indices\n",
    "#db.metadata.index_information()"
   ]
  },
  {
   "cell_type": "code",
   "execution_count": null,
   "metadata": {
    "collapsed": true
   },
   "outputs": [],
   "source": [
    "# another way to check reviews_Books index information\n",
    "#db.reviews_Books.index_information()"
   ]
  },
  {
   "cell_type": "code",
   "execution_count": null,
   "metadata": {
    "collapsed": true
   },
   "outputs": [],
   "source": [
    "# another way to check reviews_Books_5 index information\n",
    "#db.reviews_Books_5.index_information()"
   ]
  },
  {
   "cell_type": "code",
   "execution_count": 204,
   "metadata": {
    "collapsed": true
   },
   "outputs": [],
   "source": [
    "# import pandas and pickle\n",
    "# load the pickled ISBN_10 DataFrame of Invertebrate Biology Textbooks from hard drive in 'rb' mode\n",
    "import pandas as pd\n",
    "import pickle\n",
    "with open('invertbio.pickle','rb') as f:\n",
    "    isbn_bio = pickle.load(f)"
   ]
  },
  {
   "cell_type": "code",
   "execution_count": 205,
   "metadata": {},
   "outputs": [
    {
     "name": "stdout",
     "output_type": "stream",
     "text": [
      "<class 'pandas.core.frame.DataFrame'>\n",
      "RangeIndex: 607 entries, 0 to 606\n",
      "Data columns (total 4 columns):\n",
      "title       607 non-null object\n",
      "subtitle    311 non-null object\n",
      "descrip     561 non-null object\n",
      "isbn10      607 non-null object\n",
      "dtypes: object(4)\n",
      "memory usage: 19.0+ KB\n"
     ]
    }
   ],
   "source": [
    "# check the isbn_invert DataFrame info\n",
    "isbn_bio.info()"
   ]
  },
  {
   "cell_type": "code",
   "execution_count": 206,
   "metadata": {},
   "outputs": [
    {
     "data": {
      "text/html": [
       "<div>\n",
       "<style>\n",
       "    .dataframe thead tr:only-child th {\n",
       "        text-align: right;\n",
       "    }\n",
       "\n",
       "    .dataframe thead th {\n",
       "        text-align: left;\n",
       "    }\n",
       "\n",
       "    .dataframe tbody tr th {\n",
       "        vertical-align: top;\n",
       "    }\n",
       "</style>\n",
       "<table border=\"1\" class=\"dataframe\">\n",
       "  <thead>\n",
       "    <tr style=\"text-align: right;\">\n",
       "      <th></th>\n",
       "      <th>title</th>\n",
       "      <th>subtitle</th>\n",
       "      <th>descrip</th>\n",
       "      <th>isbn10</th>\n",
       "    </tr>\n",
       "  </thead>\n",
       "  <tbody>\n",
       "    <tr>\n",
       "      <th>0</th>\n",
       "      <td>Behave</td>\n",
       "      <td>The Biology of Humans at Our Best and Worst</td>\n",
       "      <td>Why do we do the things we do? Over a decade i...</td>\n",
       "      <td>0735222789</td>\n",
       "    </tr>\n",
       "    <tr>\n",
       "      <th>1</th>\n",
       "      <td>A Short History of Nearly Everything: Special ...</td>\n",
       "      <td>NaN</td>\n",
       "      <td>One of the world’s most beloved writers and be...</td>\n",
       "      <td>030788516X</td>\n",
       "    </tr>\n",
       "    <tr>\n",
       "      <th>2</th>\n",
       "      <td>Human Body Theater</td>\n",
       "      <td>NaN</td>\n",
       "      <td>Welcome to the Human Body Theater, where your ...</td>\n",
       "      <td>1596439297</td>\n",
       "    </tr>\n",
       "    <tr>\n",
       "      <th>3</th>\n",
       "      <td>Beginning Science: Biology</td>\n",
       "      <td>NaN</td>\n",
       "      <td>Beginning Science: Biology is for use during t...</td>\n",
       "      <td>019914091X</td>\n",
       "    </tr>\n",
       "    <tr>\n",
       "      <th>4</th>\n",
       "      <td>The Gene</td>\n",
       "      <td>An Intimate History</td>\n",
       "      <td>THE #1 NEW YORK TIMES BESTSELLER A New York Ti...</td>\n",
       "      <td>1476733538</td>\n",
       "    </tr>\n",
       "  </tbody>\n",
       "</table>\n",
       "</div>"
      ],
      "text/plain": [
       "                                               title  \\\n",
       "0                                             Behave   \n",
       "1  A Short History of Nearly Everything: Special ...   \n",
       "2                                 Human Body Theater   \n",
       "3                         Beginning Science: Biology   \n",
       "4                                           The Gene   \n",
       "\n",
       "                                      subtitle  \\\n",
       "0  The Biology of Humans at Our Best and Worst   \n",
       "1                                          NaN   \n",
       "2                                          NaN   \n",
       "3                                          NaN   \n",
       "4                          An Intimate History   \n",
       "\n",
       "                                             descrip      isbn10  \n",
       "0  Why do we do the things we do? Over a decade i...  0735222789  \n",
       "1  One of the world’s most beloved writers and be...  030788516X  \n",
       "2  Welcome to the Human Body Theater, where your ...  1596439297  \n",
       "3  Beginning Science: Biology is for use during t...  019914091X  \n",
       "4  THE #1 NEW YORK TIMES BESTSELLER A New York Ti...  1476733538  "
      ]
     },
     "execution_count": 206,
     "metadata": {},
     "output_type": "execute_result"
    }
   ],
   "source": [
    "# check the head\n",
    "isbn_bio.head()"
   ]
  },
  {
   "cell_type": "code",
   "execution_count": 207,
   "metadata": {},
   "outputs": [],
   "source": [
    "# this is what worked \n",
    "# reset index of isbn dataframe with 'isbn10' and turn just 'isbn10' into a list\n",
    "ans = isbn_bio.reset_index()['isbn10']\n",
    "out = ans.values.tolist()"
   ]
  },
  {
   "cell_type": "code",
   "execution_count": 185,
   "metadata": {
    "collapsed": true
   },
   "outputs": [],
   "source": [
    "# this isn't what worked. Maybe the for loop is the problem\n",
    "# perform find with $in\n",
    "#result = db.reviews_books.find({\"asin\":{\"$in\":out}})\n",
    "#final = []\n",
    "#for r in result:\n",
    "#    final.append(r)"
   ]
  },
  {
   "cell_type": "code",
   "execution_count": 14,
   "metadata": {
    "collapsed": true
   },
   "outputs": [],
   "source": [
    "# also try making df of just the isbn column\n",
    "#just_isbn = isbn_invert.isbn10"
   ]
  },
  {
   "cell_type": "code",
   "execution_count": 47,
   "metadata": {},
   "outputs": [
    {
     "name": "stdout",
     "output_type": "stream",
     "text": [
      "object\n"
     ]
    }
   ],
   "source": [
    "# convert just_isbn to string? this didn't work, still 'object'\n",
    "#isbnstring = just_isbn.astype('str')\n",
    "#print(isbnstring.dtypes)"
   ]
  },
  {
   "cell_type": "code",
   "execution_count": 51,
   "metadata": {
    "collapsed": true
   },
   "outputs": [],
   "source": [
    "# use .values to make an numpy array from the series 'just_isbn'\n",
    "#justcodes = just_isbn.values"
   ]
  },
  {
   "cell_type": "code",
   "execution_count": 53,
   "metadata": {},
   "outputs": [
    {
     "data": {
      "text/plain": [
       "numpy.ndarray"
      ]
     },
     "execution_count": 53,
     "metadata": {},
     "output_type": "execute_result"
    }
   ],
   "source": [
    "# check the type: numpy.ndarray!\n",
    "#type(justcodes)"
   ]
  },
  {
   "cell_type": "code",
   "execution_count": 64,
   "metadata": {
    "collapsed": true
   },
   "outputs": [],
   "source": [
    "# now create 'strcodes' which is the numpy array with elements as strings\n",
    "#import numpy as np\n",
    "#strcodes = np.array_str(justcodes)"
   ]
  },
  {
   "cell_type": "code",
   "execution_count": 70,
   "metadata": {},
   "outputs": [
    {
     "data": {
      "text/plain": [
       "str"
      ]
     },
     "execution_count": 70,
     "metadata": {},
     "output_type": "execute_result"
    }
   ],
   "source": [
    "#type(strcodes)"
   ]
  },
  {
   "cell_type": "markdown",
   "metadata": {},
   "source": [
    "### Pymongo Aggregation function with 'match' in the pipeline"
   ]
  },
  {
   "cell_type": "code",
   "execution_count": 157,
   "metadata": {
    "collapsed": true
   },
   "outputs": [],
   "source": [
    "# build my pipline for aggregating collection documents\n",
    "#import pprint\n",
    "#pipeline = [\n",
    "#    {'$match': {'reviewText': 'Biology'}},\n",
    "#    {'$out': \"bio_collection\"},\n",
    "#    ]\n",
    "#q = db.command('aggregate','reviews_Books', pipeline=pipeline, explain=True)\n",
    "# above attempt to reference 'isbn_invert' didn't work but I didn't get an error..."
   ]
  },
  {
   "cell_type": "code",
   "execution_count": 126,
   "metadata": {},
   "outputs": [
    {
     "data": {
      "text/plain": [
       "<pymongo.command_cursor.CommandCursor at 0x112cd6b70>"
      ]
     },
     "execution_count": 126,
     "metadata": {},
     "output_type": "execute_result"
    }
   ],
   "source": [
    "#db.reviews_books.aggregate([{'$match':{'asin':out}},\n",
    "#                            {'$out': 'test_set'}\n",
    "#                           ])"
   ]
  },
  {
   "cell_type": "code",
   "execution_count": null,
   "metadata": {
    "collapsed": true
   },
   "outputs": [],
   "source": [
    "# if the collection resulting from $match is not too big:\n",
    "# pprint.pprint(list(db.reviews_Books.aggregate(pipeline)))"
   ]
  },
  {
   "cell_type": "code",
   "execution_count": 158,
   "metadata": {
    "collapsed": true
   },
   "outputs": [],
   "source": [
    "#from pandas import DataFrame\n",
    "#test = DataFrame(list(db.reviews_Books.aggregate(pipeline)))"
   ]
  },
  {
   "cell_type": "code",
   "execution_count": 160,
   "metadata": {},
   "outputs": [
    {
     "data": {
      "text/html": [
       "<div>\n",
       "<style>\n",
       "    .dataframe thead tr:only-child th {\n",
       "        text-align: right;\n",
       "    }\n",
       "\n",
       "    .dataframe thead th {\n",
       "        text-align: left;\n",
       "    }\n",
       "\n",
       "    .dataframe tbody tr th {\n",
       "        vertical-align: top;\n",
       "    }\n",
       "</style>\n",
       "<table border=\"1\" class=\"dataframe\">\n",
       "  <thead>\n",
       "    <tr style=\"text-align: right;\">\n",
       "      <th></th>\n",
       "    </tr>\n",
       "  </thead>\n",
       "  <tbody>\n",
       "  </tbody>\n",
       "</table>\n",
       "</div>"
      ],
      "text/plain": [
       "Empty DataFrame\n",
       "Columns: []\n",
       "Index: []"
      ]
     },
     "execution_count": 160,
     "metadata": {},
     "output_type": "execute_result"
    }
   ],
   "source": [
    "# see if aggregate matched any documents\n",
    "#test.head()"
   ]
  },
  {
   "cell_type": "code",
   "execution_count": null,
   "metadata": {
    "collapsed": true
   },
   "outputs": [],
   "source": [
    "# pickle collection of 6001 Water For Elephants reviews\n",
    "#h2o4_phants.to_pickle('h2o4phants.pickle')"
   ]
  },
  {
   "cell_type": "code",
   "execution_count": 190,
   "metadata": {},
   "outputs": [
    {
     "name": "stdout",
     "output_type": "stream",
     "text": [
      "enter codes: out\n"
     ]
    }
   ],
   "source": [
    "# did not work\n",
    "#Id = input(\"enter codes: \")\n",
    "#cursor = db.reviews_Books.find({'asin' : Id})\n",
    "#for i in cursor:\n",
    "#    print(i)"
   ]
  },
  {
   "cell_type": "code",
   "execution_count": 191,
   "metadata": {},
   "outputs": [
    {
     "data": {
      "text/plain": [
       "690"
      ]
     },
     "execution_count": 191,
     "metadata": {},
     "output_type": "execute_result"
    }
   ],
   "source": [
    "# use find() with $in to search 'justcodes' nparray '0077496175', '1433380196', '0521830885', '1468484516'\n",
    "#db.reviews_Books.find({'asin':{\"$in\": out\n",
    "#       }}).count()"
   ]
  },
  {
   "cell_type": "code",
   "execution_count": 208,
   "metadata": {
    "collapsed": true
   },
   "outputs": [],
   "source": [
    "# this worked\n",
    "bio_revs = DataFrame(list(db.reviews_Books.find({'asin':{\"$in\": out\n",
    "       }})))"
   ]
  },
  {
   "cell_type": "code",
   "execution_count": 209,
   "metadata": {},
   "outputs": [
    {
     "name": "stdout",
     "output_type": "stream",
     "text": [
      "<class 'pandas.core.frame.DataFrame'>\n",
      "RangeIndex: 1663 entries, 0 to 1662\n",
      "Data columns (total 10 columns):\n",
      "_id               1663 non-null object\n",
      "asin              1663 non-null object\n",
      "helpful           1663 non-null object\n",
      "overall           1663 non-null float64\n",
      "reviewText        1663 non-null object\n",
      "reviewTime        1663 non-null object\n",
      "reviewerID        1663 non-null object\n",
      "reviewerName      1654 non-null object\n",
      "summary           1663 non-null object\n",
      "unixReviewTime    1663 non-null int64\n",
      "dtypes: float64(1), int64(1), object(8)\n",
      "memory usage: 130.0+ KB\n"
     ]
    }
   ],
   "source": [
    "# this worked\n",
    "bio_revs.info()"
   ]
  },
  {
   "cell_type": "code",
   "execution_count": 210,
   "metadata": {},
   "outputs": [
    {
     "data": {
      "text/html": [
       "<div>\n",
       "<style>\n",
       "    .dataframe thead tr:only-child th {\n",
       "        text-align: right;\n",
       "    }\n",
       "\n",
       "    .dataframe thead th {\n",
       "        text-align: left;\n",
       "    }\n",
       "\n",
       "    .dataframe tbody tr th {\n",
       "        vertical-align: top;\n",
       "    }\n",
       "</style>\n",
       "<table border=\"1\" class=\"dataframe\">\n",
       "  <thead>\n",
       "    <tr style=\"text-align: right;\">\n",
       "      <th></th>\n",
       "      <th>_id</th>\n",
       "      <th>asin</th>\n",
       "      <th>helpful</th>\n",
       "      <th>overall</th>\n",
       "      <th>reviewText</th>\n",
       "      <th>reviewTime</th>\n",
       "      <th>reviewerID</th>\n",
       "      <th>reviewerName</th>\n",
       "      <th>summary</th>\n",
       "      <th>unixReviewTime</th>\n",
       "    </tr>\n",
       "  </thead>\n",
       "  <tbody>\n",
       "    <tr>\n",
       "      <th>0</th>\n",
       "      <td>5a1f058a30ec5f57e707c294</td>\n",
       "      <td>003046224X</td>\n",
       "      <td>[0, 0]</td>\n",
       "      <td>5.0</td>\n",
       "      <td>I loved the life science book it's just full o...</td>\n",
       "      <td>09 10, 2013</td>\n",
       "      <td>A13MQTT3YQIDRS</td>\n",
       "      <td>Belia Russell</td>\n",
       "      <td>Life science</td>\n",
       "      <td>1378771200</td>\n",
       "    </tr>\n",
       "    <tr>\n",
       "      <th>1</th>\n",
       "      <td>5a1f058a30ec5f57e707c295</td>\n",
       "      <td>003046224X</td>\n",
       "      <td>[5, 5]</td>\n",
       "      <td>5.0</td>\n",
       "      <td>My son is using this book for book 7th grade s...</td>\n",
       "      <td>10 2, 2010</td>\n",
       "      <td>A2MHGJFVA5A6K3</td>\n",
       "      <td>blessed</td>\n",
       "      <td>excellent</td>\n",
       "      <td>1285977600</td>\n",
       "    </tr>\n",
       "    <tr>\n",
       "      <th>2</th>\n",
       "      <td>5a1f058a30ec5f57e707c296</td>\n",
       "      <td>003046224X</td>\n",
       "      <td>[0, 0]</td>\n",
       "      <td>5.0</td>\n",
       "      <td>This book was very helpful for homework comple...</td>\n",
       "      <td>10 2, 2013</td>\n",
       "      <td>A1KJS9N5D0W35R</td>\n",
       "      <td>Kimberly M. Berkey</td>\n",
       "      <td>Great life science book</td>\n",
       "      <td>1380672000</td>\n",
       "    </tr>\n",
       "  </tbody>\n",
       "</table>\n",
       "</div>"
      ],
      "text/plain": [
       "                        _id        asin helpful  overall  \\\n",
       "0  5a1f058a30ec5f57e707c294  003046224X  [0, 0]      5.0   \n",
       "1  5a1f058a30ec5f57e707c295  003046224X  [5, 5]      5.0   \n",
       "2  5a1f058a30ec5f57e707c296  003046224X  [0, 0]      5.0   \n",
       "\n",
       "                                          reviewText   reviewTime  \\\n",
       "0  I loved the life science book it's just full o...  09 10, 2013   \n",
       "1  My son is using this book for book 7th grade s...   10 2, 2010   \n",
       "2  This book was very helpful for homework comple...   10 2, 2013   \n",
       "\n",
       "       reviewerID        reviewerName                  summary  unixReviewTime  \n",
       "0  A13MQTT3YQIDRS       Belia Russell             Life science      1378771200  \n",
       "1  A2MHGJFVA5A6K3             blessed                excellent      1285977600  \n",
       "2  A1KJS9N5D0W35R  Kimberly M. Berkey  Great life science book      1380672000  "
      ]
     },
     "execution_count": 210,
     "metadata": {},
     "output_type": "execute_result"
    }
   ],
   "source": [
    "bio_revs.head(3)"
   ]
  },
  {
   "cell_type": "code",
   "execution_count": 211,
   "metadata": {
    "collapsed": true
   },
   "outputs": [],
   "source": [
    "# pickle isbn list\n",
    "bio_revs.to_pickle('invertbiorevs.pickle')"
   ]
  },
  {
   "cell_type": "markdown",
   "metadata": {},
   "source": [
    "## Leftover code from previous efforts:"
   ]
  },
  {
   "cell_type": "code",
   "execution_count": null,
   "metadata": {
    "collapsed": true
   },
   "outputs": [],
   "source": [
    "# need to figure out how 'reviewTime' corresponds to 'dateTime' in python and how to query date ranges\n",
    "#d = datetime.datetime()\n",
    "#db.reviews_Books.find()[6000]\n",
    "\n",
    "#the answer is: 13886788 which means 62% of Amazon book reviews are 5 stars!\n",
    "#another check: there are 6001 reviews for Water for Elephants"
   ]
  }
 ],
 "metadata": {
  "kernelspec": {
   "display_name": "Python 3",
   "language": "python",
   "name": "python3"
  },
  "language_info": {
   "codemirror_mode": {
    "name": "ipython",
    "version": 3
   },
   "file_extension": ".py",
   "mimetype": "text/x-python",
   "name": "python",
   "nbconvert_exporter": "python",
   "pygments_lexer": "ipython3",
   "version": "3.6.1"
  }
 },
 "nbformat": 4,
 "nbformat_minor": 2
}
