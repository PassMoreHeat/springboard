{
 "cells": [
  {
   "cell_type": "code",
   "execution_count": 1,
   "metadata": {
    "collapsed": true
   },
   "outputs": [],
   "source": [
    "# import pymongo\n",
    "# also make sure a MongoDB instance in running by '$ mongod' in iTerm\n",
    "import pymongo"
   ]
  },
  {
   "cell_type": "code",
   "execution_count": 2,
   "metadata": {
    "collapsed": true
   },
   "outputs": [],
   "source": [
    "# import json\n",
    "import json"
   ]
  },
  {
   "cell_type": "code",
   "execution_count": 3,
   "metadata": {
    "collapsed": true
   },
   "outputs": [],
   "source": [
    "# create a MongoClient\n",
    "# this uses the default host and port\n",
    "from pymongo import MongoClient\n",
    "client = MongoClient()"
   ]
  },
  {
   "cell_type": "code",
   "execution_count": 4,
   "metadata": {
    "collapsed": true
   },
   "outputs": [],
   "source": [
    "db = client.local"
   ]
  },
  {
   "cell_type": "code",
   "execution_count": 5,
   "metadata": {},
   "outputs": [
    {
     "data": {
      "text/plain": [
       "MongoClient(host=['localhost:27017'], document_class=dict, tz_aware=False, connect=True)"
      ]
     },
     "execution_count": 5,
     "metadata": {},
     "output_type": "execute_result"
    }
   ],
   "source": [
    "client"
   ]
  },
  {
   "cell_type": "code",
   "execution_count": 6,
   "metadata": {},
   "outputs": [
    {
     "data": {
      "text/plain": [
       "Database(MongoClient(host=['localhost:27017'], document_class=dict, tz_aware=False, connect=True), 'local')"
      ]
     },
     "execution_count": 6,
     "metadata": {},
     "output_type": "execute_result"
    }
   ],
   "source": [
    "db"
   ]
  },
  {
   "cell_type": "code",
   "execution_count": 7,
   "metadata": {},
   "outputs": [
    {
     "data": {
      "text/plain": [
       "Collection(Database(MongoClient(host=['localhost:27017'], document_class=dict, tz_aware=False, connect=True), 'local'), 'reviews_Books')"
      ]
     },
     "execution_count": 7,
     "metadata": {},
     "output_type": "execute_result"
    }
   ],
   "source": [
    "db.reviews_Books"
   ]
  },
  {
   "cell_type": "code",
   "execution_count": 8,
   "metadata": {},
   "outputs": [
    {
     "data": {
      "text/plain": [
       "{'_id': ObjectId('5a1f056c30ec5f57e705a909'),\n",
       " 'asin': '0002007770',\n",
       " 'helpful': [2, 2],\n",
       " 'overall': 5.0,\n",
       " 'reviewText': 'As avid readers there are times when we are apt to encounter books that continue and linger in our minds once read.  For me, \"Water for Elephants\" was a serendipitous find and I truly and lovingly enjoyed this novel.  It\\'s one of those books that you never want to end.  There is reason why this book has been on the NY Times bestseller list for more than 12 consecutive weeks.  As many reviewers have already recounted the summary I will simply say just READ IT!  I promise you will be searching for more of Sara Gruen\\'s novels.  BTW, Apehouse is the next novel to be released!',\n",
       " 'reviewTime': '04 14, 2010',\n",
       " 'reviewerID': 'A3LJ8T7WCY2X07',\n",
       " 'reviewerName': 'NP',\n",
       " 'summary': 'A lyrical masterpiece',\n",
       " 'unixReviewTime': 1271203200}"
      ]
     },
     "execution_count": 8,
     "metadata": {},
     "output_type": "execute_result"
    }
   ],
   "source": [
    "db.reviews_Books.find()[6000]"
   ]
  },
  {
   "cell_type": "code",
   "execution_count": 9,
   "metadata": {},
   "outputs": [
    {
     "data": {
      "text/plain": [
       "22507155"
      ]
     },
     "execution_count": 9,
     "metadata": {},
     "output_type": "execute_result"
    }
   ],
   "source": [
    "db.reviews_Books.count()"
   ]
  },
  {
   "cell_type": "code",
   "execution_count": 10,
   "metadata": {},
   "outputs": [
    {
     "data": {
      "text/plain": [
       "Collection(Database(MongoClient(host=['localhost:27017'], document_class=dict, tz_aware=False, connect=True), 'local'), 'metadata')"
      ]
     },
     "execution_count": 10,
     "metadata": {},
     "output_type": "execute_result"
    }
   ],
   "source": [
    "db.metadata"
   ]
  },
  {
   "cell_type": "code",
   "execution_count": 11,
   "metadata": {},
   "outputs": [
    {
     "data": {
      "text/plain": [
       "9430088"
      ]
     },
     "execution_count": 11,
     "metadata": {},
     "output_type": "execute_result"
    }
   ],
   "source": [
    "db.metadata.count()"
   ]
  },
  {
   "cell_type": "code",
   "execution_count": 18,
   "metadata": {
    "collapsed": true
   },
   "outputs": [],
   "source": [
    "# count of 5-star book reviews (do not run this again it takes a while)\n",
    "# db.reviews_Books.find({'overall': 5.0}).count()\n",
    "#the answer is: 13886788 which means 62% of Amazon book reviews are 5 stars!"
   ]
  },
  {
   "cell_type": "code",
   "execution_count": 19,
   "metadata": {
    "collapsed": true
   },
   "outputs": [],
   "source": [
    "# Every count I do on an asin code takes forever and results in '0'\n",
    "# db.reviews_Books.find({'asin': '1781394016'}).count()"
   ]
  },
  {
   "cell_type": "code",
   "execution_count": 12,
   "metadata": {
    "collapsed": true
   },
   "outputs": [],
   "source": [
    "# create new index on 'asin' in metadata collection\n",
    "code = db.metadata.create_index([('asin', pymongo.ASCENDING)])"
   ]
  },
  {
   "cell_type": "code",
   "execution_count": 13,
   "metadata": {},
   "outputs": [
    {
     "name": "stdout",
     "output_type": "stream",
     "text": [
      "SON([('v', 2), ('key', SON([('_id', 1)])), ('name', '_id_'), ('ns', 'local.metadata')])\n",
      "SON([('v', 2), ('key', SON([('asin', 1)])), ('name', 'asin_1'), ('ns', 'local.metadata')])\n"
     ]
    }
   ],
   "source": [
    "# double check that the index creation worked\n",
    "# now there are two indices: '_id' and 'asin_1'\n",
    "for index in db.metadata.list_indexes():\n",
    "    print(index)"
   ]
  },
  {
   "cell_type": "code",
   "execution_count": 14,
   "metadata": {},
   "outputs": [],
   "source": [
    "# searching for one record takes a lot time, even wiht asin_1 index\n",
    "# also, when I ran the search below the result was '0' but I know this 'asin_1' should be in there...\n",
    "#db.metadata.find({'asin_1': '0000695009'}).count()"
   ]
  },
  {
   "cell_type": "code",
   "execution_count": 15,
   "metadata": {},
   "outputs": [
    {
     "data": {
      "text/plain": [
       "{'_id_': {'key': [('_id', 1)], 'ns': 'local.metadata', 'v': 2},\n",
       " 'asin_1': {'key': [('asin', 1)], 'ns': 'local.metadata', 'v': 2}}"
      ]
     },
     "execution_count": 15,
     "metadata": {},
     "output_type": "execute_result"
    }
   ],
   "source": [
    "db.metadata.index_information()"
   ]
  },
  {
   "cell_type": "code",
   "execution_count": 16,
   "metadata": {},
   "outputs": [
    {
     "data": {
      "text/plain": [
       "'asin_index'"
      ]
     },
     "execution_count": 16,
     "metadata": {},
     "output_type": "execute_result"
    }
   ],
   "source": [
    "# create new index on 'asin' in reviews_Books collection: 'asin_index'\n",
    "db.reviews_Books.create_index([('asin', pymongo.ASCENDING)], name='asin_index')"
   ]
  },
  {
   "cell_type": "code",
   "execution_count": 17,
   "metadata": {},
   "outputs": [
    {
     "name": "stdout",
     "output_type": "stream",
     "text": [
      "SON([('v', 2), ('key', SON([('_id', 1)])), ('name', '_id_'), ('ns', 'local.reviews_Books')])\n",
      "SON([('v', 2), ('key', SON([('asin', 1)])), ('name', 'asin_index'), ('ns', 'local.reviews_Books')])\n"
     ]
    }
   ],
   "source": [
    "# double check that the index creation worked\n",
    "# now there are two indices: '_id' and 'asin_index'\n",
    "for index in db.reviews_Books.list_indexes():\n",
    "    print(index)"
   ]
  },
  {
   "cell_type": "code",
   "execution_count": 18,
   "metadata": {},
   "outputs": [
    {
     "data": {
      "text/plain": [
       "{'_id_': {'key': [('_id', 1)], 'ns': 'local.reviews_Books', 'v': 2},\n",
       " 'asin_index': {'key': [('asin', 1)], 'ns': 'local.reviews_Books', 'v': 2}}"
      ]
     },
     "execution_count": 18,
     "metadata": {},
     "output_type": "execute_result"
    }
   ],
   "source": [
    "db.reviews_Books.index_information()"
   ]
  },
  {
   "cell_type": "code",
   "execution_count": null,
   "metadata": {
    "collapsed": true
   },
   "outputs": [],
   "source": [
    "# need to figure out how 'reviewTime' corresponds to 'dateTime' in python and how to query date ranges\n",
    "#d = datetime.datetime()\n",
    "#db.reviews_Books.find()[6000]"
   ]
  }
 ],
 "metadata": {
  "kernelspec": {
   "display_name": "Python 3",
   "language": "python",
   "name": "python3"
  },
  "language_info": {
   "codemirror_mode": {
    "name": "ipython",
    "version": 3
   },
   "file_extension": ".py",
   "mimetype": "text/x-python",
   "name": "python",
   "nbconvert_exporter": "python",
   "pygments_lexer": "ipython3",
   "version": "3.6.1"
  }
 },
 "nbformat": 4,
 "nbformat_minor": 2
}
