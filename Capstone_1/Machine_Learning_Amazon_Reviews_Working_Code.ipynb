{
 "cells": [
  {
   "cell_type": "markdown",
   "metadata": {},
   "source": [
    "The following is the notebook of code written by H. Passmore for the assessment and tuning of Machine Learning algorithms for Capstone 1: Amazon Book Reviews & Ratings Predictor. \n",
    "\n",
    "# Machine Learning Algorithms for Capstone 1\n",
    "_Amazon Book Reviews & Ratings Predictor_\n",
    "\n",
    "_Machine Learning Code_\n",
    "***"
   ]
  },
  {
   "cell_type": "markdown",
   "metadata": {},
   "source": [
    "### Below is the code for assessing and tuning machine learning algorithms to predict ratings from reviews."
   ]
  },
  {
   "cell_type": "code",
   "execution_count": 1,
   "metadata": {
    "collapsed": true
   },
   "outputs": [],
   "source": [
    "# import modules\n",
    "import pandas as pd\n",
    "import matplotlib.pyplot as plt\n",
    "import seaborn as sns\n",
    "import scipy.stats\n",
    "from scipy.stats import norm\n",
    "import numpy as np\n",
    "import scipy as sp\n",
    "\n",
    "# Build figures inline\n",
    "%matplotlib inline"
   ]
  },
  {
   "cell_type": "code",
   "execution_count": 2,
   "metadata": {
    "collapsed": true
   },
   "outputs": [],
   "source": [
    "# Setup Pandas  \n",
    "pd.set_option('display.width', 350)\n",
    "pd.set_option('display.max_columns', 100)\n",
    "pd.set_option('display.notebook_repr_html', True)\n",
    "\n",
    "# Setup Seaborn\n",
    "sns.set_style(\"whitegrid\")\n",
    "sns.set_context(\"talk\")"
   ]
  },
  {
   "cell_type": "code",
   "execution_count": 3,
   "metadata": {
    "collapsed": true
   },
   "outputs": [],
   "source": [
    "# Import scikit-learn tools, vectorizers, transformer, and classifiers\n",
    "from sklearn.model_selection import train_test_split\n",
    "from sklearn import metrics\n",
    "from sklearn.metrics import roc_curve\n",
    "from sklearn.metrics import classification_report\n",
    "\n",
    "# import CountVectorizer and TfidfVectorizer\n",
    "from sklearn.feature_extraction.text import CountVectorizer\n",
    "from sklearn.feature_extraction.text import TfidfVectorizer\n",
    "\n",
    "# import TfidfTransformer\n",
    "from sklearn.feature_extraction.text import TfidfTransformer\n",
    "\n",
    "# import Multinomial Naive Bayes classifier\n",
    "from sklearn.naive_bayes import MultinomialNB\n",
    "\n",
    "# import Random Forest Classifier\n",
    "from sklearn.ensemble import RandomForestClassifier\n",
    "\n",
    "# import Logistic Regression CV Classifier\n",
    "from sklearn.linear_model import LogisticRegressionCV\n",
    "\n",
    "# import SVM classifiers\n",
    "from sklearn.linear_model import SGDClassifier\n",
    "from sklearn.svm import SVC\n",
    "\n",
    "# Import GridSearchCV\n",
    "from sklearn.model_selection import GridSearchCV\n",
    "\n",
    "# Import Pipeline \n",
    "from sklearn.pipeline import Pipeline\n",
    "from sklearn.model_selection import StratifiedKFold"
   ]
  },
  {
   "cell_type": "code",
   "execution_count": 4,
   "metadata": {
    "collapsed": true
   },
   "outputs": [],
   "source": [
    "# Implement tools to Reduce Document Dimensions\n",
    "import nltk\n",
    "from nltk.tokenize import word_tokenize\n",
    "from nltk.corpus import stopwords\n",
    "import re\n",
    "from nltk.stem.snowball import SnowballStemmer\n",
    "import string"
   ]
  },
  {
   "cell_type": "code",
   "execution_count": 5,
   "metadata": {},
   "outputs": [
    {
     "name": "stdout",
     "output_type": "stream",
     "text": [
      "Number of english stopwords 179\n"
     ]
    }
   ],
   "source": [
    "# set 'SW' as english stopwords from NLTK and count them\n",
    "SW = set(stopwords.words('english'))\n",
    "print('Number of english stopwords', len(SW))"
   ]
  },
  {
   "cell_type": "code",
   "execution_count": 6,
   "metadata": {},
   "outputs": [
    {
     "name": "stdout",
     "output_type": "stream",
     "text": [
      "{'myself', 'here', 'mustn', \"didn't\", 'our', 'her', 'his', 'wasn', 'just', 'an', 'on', \"that'll\", 'after', 'as', 'has', 'against', 'been', 'ma', 'am', \"isn't\", 'i', 'out', \"wouldn't\", 've', 'me', 'about', 'with', 'that', 'over', 'its', 'each', 'at', 'only', \"wasn't\", 'ourselves', 'what', 'which', \"shouldn't\", \"won't\", 'nor', 'shan', 'off', \"mustn't\", 'who', 'until', 'most', \"hasn't\", \"you'd\", 'then', 'this', 'had', 'up', 'now', 'your', 'for', 'of', 'by', 'it', 'from', 'm', 'being', 'did', 'how', 'isn', 'but', 'very', \"you're\", 'needn', 'no', 'doing', 'ain', 'they', \"couldn't\", 'why', 'doesn', 'she', 'or', 'ours', 'any', 'haven', 'is', 'before', 'under', 'do', 'weren', 'where', \"aren't\", 'further', \"don't\", 'we', \"she's\", \"you'll\", 'in', 'yours', 'mightn', 'whom', 'my', 'was', 'above', 'other', 'to', 'so', \"needn't\", \"shan't\", 'yourselves', 'below', 'itself', 'their', 'he', \"mightn't\", 'does', 'some', 'theirs', 'won', \"haven't\", 'herself', 'down', 'shouldn', 'yourself', 'there', 'hasn', 'the', 'such', 'once', \"it's\", 'into', \"hadn't\", 'don', 'y', 'too', 't', 'him', 'again', 'themselves', 'you', 'because', 'them', 'o', 'didn', 'should', 'hers', 'while', 'hadn', \"weren't\", 'can', 'have', 'during', 'both', 'own', \"should've\", 's', 're', 'd', 'and', 'wouldn', 'through', 'when', 'not', \"you've\", 'were', 'if', 'a', 'few', 'couldn', 'be', 'will', 'these', 'having', 'himself', 'all', 'than', 'aren', 'between', 'same', 'those', 'more', \"doesn't\", 'are', 'll'}\n"
     ]
    }
   ],
   "source": [
    "# view english stopwords\n",
    "print(SW)"
   ]
  },
  {
   "cell_type": "code",
   "execution_count": 7,
   "metadata": {},
   "outputs": [
    {
     "name": "stdout",
     "output_type": "stream",
     "text": [
      "Reduced number of stopwords 178\n"
     ]
    }
   ],
   "source": [
    "# remove 'not' from set SW\n",
    "SW.remove('not')\n",
    "# other negation words in stopwords set: \"shouldn't\",'haven',\"wasn't\",'wasn', \"don't\",'hasn', \"mightn't\",\n",
    "#'didn',\"n't\", 'couldn',\"won't\",\"couldn't\", 'weren',\"hasn't\",'don','not', \"weren't\",\"wouldn't\",\"hadn't\",\n",
    "#'mustn','wouldn',\"haven't\"\n",
    "print('Reduced number of stopwords', len(SW))"
   ]
  },
  {
   "cell_type": "code",
   "execution_count": 8,
   "metadata": {
    "collapsed": true
   },
   "outputs": [],
   "source": [
    "# bring the book_revs dataframe into workspace from the inferential statistics code\n",
    "# load the pickled  DataFrame of Science Textbook Reviews from hard drive in 'rb' mode\n",
    "import pickle\n",
    "with open('book_revs_forML.pickle','rb') as f:\n",
    "    book_revs = pickle.load(f)"
   ]
  },
  {
   "cell_type": "markdown",
   "metadata": {},
   "source": [
    "### Check dataframe of ratings and review text"
   ]
  },
  {
   "cell_type": "code",
   "execution_count": 9,
   "metadata": {},
   "outputs": [
    {
     "name": "stdout",
     "output_type": "stream",
     "text": [
      "<class 'pandas.core.frame.DataFrame'>\n",
      "RangeIndex: 11546 entries, 0 to 11545\n",
      "Data columns (total 9 columns):\n",
      "asin           11546 non-null object\n",
      "overall        11546 non-null int64\n",
      "reviewText     11546 non-null object\n",
      "summary        11546 non-null object\n",
      "five_not5      11546 non-null object\n",
      "rating_cat     11546 non-null int64\n",
      "token_count    11546 non-null int64\n",
      "caps_count     11546 non-null int64\n",
      "pct_caps       11546 non-null float64\n",
      "dtypes: float64(1), int64(4), object(4)\n",
      "memory usage: 811.9+ KB\n"
     ]
    }
   ],
   "source": [
    "# check input data for Machine Learning: reviewText and rating_cat\n",
    "book_revs.info()"
   ]
  },
  {
   "cell_type": "code",
   "execution_count": 10,
   "metadata": {},
   "outputs": [
    {
     "data": {
      "text/html": [
       "<div>\n",
       "<style>\n",
       "    .dataframe thead tr:only-child th {\n",
       "        text-align: right;\n",
       "    }\n",
       "\n",
       "    .dataframe thead th {\n",
       "        text-align: left;\n",
       "    }\n",
       "\n",
       "    .dataframe tbody tr th {\n",
       "        vertical-align: top;\n",
       "    }\n",
       "</style>\n",
       "<table border=\"1\" class=\"dataframe\">\n",
       "  <thead>\n",
       "    <tr style=\"text-align: right;\">\n",
       "      <th></th>\n",
       "      <th>reviewText</th>\n",
       "      <th>rating_cat</th>\n",
       "    </tr>\n",
       "  </thead>\n",
       "  <tbody>\n",
       "    <tr>\n",
       "      <th>0</th>\n",
       "      <td>This is a good book for the science nerd and t...</td>\n",
       "      <td>0</td>\n",
       "    </tr>\n",
       "    <tr>\n",
       "      <th>1</th>\n",
       "      <td>If you're a biology/genetics enthusiast, this ...</td>\n",
       "      <td>1</td>\n",
       "    </tr>\n",
       "  </tbody>\n",
       "</table>\n",
       "</div>"
      ],
      "text/plain": [
       "                                          reviewText  rating_cat\n",
       "0  This is a good book for the science nerd and t...           0\n",
       "1  If you're a biology/genetics enthusiast, this ...           1"
      ]
     },
     "execution_count": 10,
     "metadata": {},
     "output_type": "execute_result"
    }
   ],
   "source": [
    "# keep only what we need\n",
    "# rating_cat: '0' =  'low' rating, '1' = 'high' rating\n",
    "rev_rate = book_revs.drop(['asin', 'overall', 'summary', 'five_not5', 'token_count', 'caps_count', 'pct_caps'], axis=1)\n",
    "rev_rate.head(2)"
   ]
  },
  {
   "cell_type": "markdown",
   "metadata": {},
   "source": [
    "## Preprocess review text to reduce document dimensions"
   ]
  },
  {
   "cell_type": "code",
   "execution_count": 11,
   "metadata": {
    "collapsed": true
   },
   "outputs": [],
   "source": [
    "# combine my review-specific stopwords with english stopwords (minus 'not') as a set\n",
    "user_defined_stop_words = ['book', 'books']\n",
    "\n",
    "i = SW\n",
    "j = list(string.punctuation) + user_defined_stop_words\n",
    "\n",
    "stopwords = set(i).union(j)"
   ]
  },
  {
   "cell_type": "code",
   "execution_count": 12,
   "metadata": {},
   "outputs": [
    {
     "name": "stdout",
     "output_type": "stream",
     "text": [
      "{'here', '~', \"didn't\", 'our', 'his', 'wasn', 'just', 'after', 'as', 'has', 'been', 'am', \"isn't\", 'i', '\\\\', '^', \"wouldn't\", 've', '-', '*', 'with', '%', \"won't\", 'which', \"shouldn't\", 'nor', 'shan', 'off', \"you'd\", 'had', 'your', 'for', 'of', 'by', 'from', 'did', 'how', 'but', \"you're\", 'doing', 'they', \"couldn't\", 'she', 'or', 'ours', 'haven', 'is', 'do', 'weren', 'where', \"she's\", \"you'll\", '{', 'was', '=', '`', 'books', 'so', \"needn't\", \"shan't\", '?', 'itself', 'their', 'he', \"mightn't\", 'does', '>', 'theirs', 'won', \"haven't\", 'herself', 'down', 'shouldn', 'yourself', 'hasn', 'the', 'once', 'into', 'don', 't', 'again', 'because', 'them', '.', 'o', 'didn', 'should', 'while', 'can', 'book', 'both', 'own', 's', ')', '_', '+', 'and', 'wouldn', '(', ':', '\"', 'a', 'couldn', 'these', 'all', 'same', 'those', ',', 'myself', 'mustn', 'her', 'an', 'on', \"that'll\", 'against', 'ma', '#', 'out', 'me', 'about', 'that', 'over', 'its', 'each', 'at', 'only', \"wasn't\", 'ourselves', 'what', \"mustn't\", 'who', 'until', '<', 'most', '[', \"hasn't\", 'then', 'this', 'up', 'now', 'it', 'm', 'being', 'isn', 'very', 'needn', 'no', 'ain', 'why', 'doesn', 'any', 'under', 'before', \"aren't\", 'further', \"don't\", 'we', 'in', 'yours', 'mightn', 'whom', 'my', ';', 'above', 'other', 'to', '@', ']', 'yourselves', 'below', '}', 'some', 'there', 'such', \"it's\", \"hadn't\", 'y', 'too', 'him', 'themselves', 'you', 'hadn', 'hers', \"weren't\", '|', '$', 'have', 'during', \"should've\", 're', 'd', 'through', 'when', '!', '&', \"you've\", 'were', 'if', 'few', 'be', 'will', 'having', 'himself', 'than', '/', 'aren', 'between', 'more', \"doesn't\", 'are', \"'\", 'll'}\n"
     ]
    }
   ],
   "source": [
    "# print the combined list of stopwords and punctuation\n",
    "print(stopwords)"
   ]
  },
  {
   "cell_type": "code",
   "execution_count": 13,
   "metadata": {
    "collapsed": true
   },
   "outputs": [],
   "source": [
    "# define first preprocessor\n",
    "def preprocess(x):\n",
    "    letters_only = re.sub('[^a-zA-Z]', ' ', str(x))                  # keep alpha only\n",
    "    words = letters_only.lower().split()                            # lowercase everything  \n",
    "    useful_words = [w for w in words if w not in set(stopwords)]    # remove stopwords\n",
    "    return (' '.join(useful_words))"
   ]
  },
  {
   "cell_type": "code",
   "execution_count": 14,
   "metadata": {},
   "outputs": [
    {
     "data": {
      "text/html": [
       "<div>\n",
       "<style>\n",
       "    .dataframe thead tr:only-child th {\n",
       "        text-align: right;\n",
       "    }\n",
       "\n",
       "    .dataframe thead th {\n",
       "        text-align: left;\n",
       "    }\n",
       "\n",
       "    .dataframe tbody tr th {\n",
       "        vertical-align: top;\n",
       "    }\n",
       "</style>\n",
       "<table border=\"1\" class=\"dataframe\">\n",
       "  <thead>\n",
       "    <tr style=\"text-align: right;\">\n",
       "      <th></th>\n",
       "      <th>reviewText</th>\n",
       "      <th>rating_cat</th>\n",
       "      <th>clean_revs</th>\n",
       "    </tr>\n",
       "  </thead>\n",
       "  <tbody>\n",
       "    <tr>\n",
       "      <th>11541</th>\n",
       "      <td>Definitely a MUST-READ if you are a home cooki...</td>\n",
       "      <td>1</td>\n",
       "      <td>definitely must read home cooking enthusiast w...</td>\n",
       "    </tr>\n",
       "    <tr>\n",
       "      <th>11542</th>\n",
       "      <td>Pros: Scientifically informative and solid. Kn...</td>\n",
       "      <td>0</td>\n",
       "      <td>pros scientifically informative solid knowing ...</td>\n",
       "    </tr>\n",
       "    <tr>\n",
       "      <th>11543</th>\n",
       "      <td>Real fun to read. For everybody that is inters...</td>\n",
       "      <td>0</td>\n",
       "      <td>real fun read everybody intersted cooking cert...</td>\n",
       "    </tr>\n",
       "    <tr>\n",
       "      <th>11544</th>\n",
       "      <td>This book will teach you the chemical secrets ...</td>\n",
       "      <td>0</td>\n",
       "      <td>teach chemical secrets techniques usually used...</td>\n",
       "    </tr>\n",
       "    <tr>\n",
       "      <th>11545</th>\n",
       "      <td>I paid more than $30 to buy such a superficial...</td>\n",
       "      <td>0</td>\n",
       "      <td>paid buy superficial trivial made big mistake ...</td>\n",
       "    </tr>\n",
       "  </tbody>\n",
       "</table>\n",
       "</div>"
      ],
      "text/plain": [
       "                                              reviewText  rating_cat                                         clean_revs\n",
       "11541  Definitely a MUST-READ if you are a home cooki...           1  definitely must read home cooking enthusiast w...\n",
       "11542  Pros: Scientifically informative and solid. Kn...           0  pros scientifically informative solid knowing ...\n",
       "11543  Real fun to read. For everybody that is inters...           0  real fun read everybody intersted cooking cert...\n",
       "11544  This book will teach you the chemical secrets ...           0  teach chemical secrets techniques usually used...\n",
       "11545  I paid more than $30 to buy such a superficial...           0  paid buy superficial trivial made big mistake ..."
      ]
     },
     "execution_count": 14,
     "metadata": {},
     "output_type": "execute_result"
    }
   ],
   "source": [
    "# apply preprocessor to review text\n",
    "rev_rate['clean_revs'] = rev_rate['reviewText'].apply(preprocess)\n",
    "rev_rate.tail()"
   ]
  },
  {
   "cell_type": "code",
   "execution_count": 15,
   "metadata": {
    "collapsed": true
   },
   "outputs": [],
   "source": [
    "# instantiate the stemmer\n",
    "stemmer = SnowballStemmer(\"english\")"
   ]
  },
  {
   "cell_type": "code",
   "execution_count": 16,
   "metadata": {
    "collapsed": true
   },
   "outputs": [],
   "source": [
    "# define second preprocessor for tokenization and stemming\n",
    "def preprocess2(text):\n",
    "    stemmer = SnowballStemmer(\"english\", ignore_stopwords=True)\n",
    "    tokens = word_tokenize(text)\n",
    "    stems = [stemmer.stem(t) for t in tokens]\n",
    "    return stems"
   ]
  },
  {
   "cell_type": "code",
   "execution_count": 17,
   "metadata": {},
   "outputs": [
    {
     "data": {
      "text/html": [
       "<div>\n",
       "<style>\n",
       "    .dataframe thead tr:only-child th {\n",
       "        text-align: right;\n",
       "    }\n",
       "\n",
       "    .dataframe thead th {\n",
       "        text-align: left;\n",
       "    }\n",
       "\n",
       "    .dataframe tbody tr th {\n",
       "        vertical-align: top;\n",
       "    }\n",
       "</style>\n",
       "<table border=\"1\" class=\"dataframe\">\n",
       "  <thead>\n",
       "    <tr style=\"text-align: right;\">\n",
       "      <th></th>\n",
       "      <th>reviewText</th>\n",
       "      <th>rating_cat</th>\n",
       "      <th>clean_revs</th>\n",
       "    </tr>\n",
       "  </thead>\n",
       "  <tbody>\n",
       "    <tr>\n",
       "      <th>11541</th>\n",
       "      <td>Definitely a MUST-READ if you are a home cooki...</td>\n",
       "      <td>1</td>\n",
       "      <td>[definit, must, read, home, cook, enthusiast, ...</td>\n",
       "    </tr>\n",
       "    <tr>\n",
       "      <th>11542</th>\n",
       "      <td>Pros: Scientifically informative and solid. Kn...</td>\n",
       "      <td>0</td>\n",
       "      <td>[pros, scientif, inform, solid, know, chemic, ...</td>\n",
       "    </tr>\n",
       "    <tr>\n",
       "      <th>11543</th>\n",
       "      <td>Real fun to read. For everybody that is inters...</td>\n",
       "      <td>0</td>\n",
       "      <td>[real, fun, read, everybodi, interst, cook, ce...</td>\n",
       "    </tr>\n",
       "    <tr>\n",
       "      <th>11544</th>\n",
       "      <td>This book will teach you the chemical secrets ...</td>\n",
       "      <td>0</td>\n",
       "      <td>[teach, chemic, secret, techniqu, usual, use, ...</td>\n",
       "    </tr>\n",
       "    <tr>\n",
       "      <th>11545</th>\n",
       "      <td>I paid more than $30 to buy such a superficial...</td>\n",
       "      <td>0</td>\n",
       "      <td>[paid, buy, superfici, trivial, made, big, mis...</td>\n",
       "    </tr>\n",
       "  </tbody>\n",
       "</table>\n",
       "</div>"
      ],
      "text/plain": [
       "                                              reviewText  rating_cat                                         clean_revs\n",
       "11541  Definitely a MUST-READ if you are a home cooki...           1  [definit, must, read, home, cook, enthusiast, ...\n",
       "11542  Pros: Scientifically informative and solid. Kn...           0  [pros, scientif, inform, solid, know, chemic, ...\n",
       "11543  Real fun to read. For everybody that is inters...           0  [real, fun, read, everybodi, interst, cook, ce...\n",
       "11544  This book will teach you the chemical secrets ...           0  [teach, chemic, secret, techniqu, usual, use, ...\n",
       "11545  I paid more than $30 to buy such a superficial...           0  [paid, buy, superfici, trivial, made, big, mis..."
      ]
     },
     "execution_count": 17,
     "metadata": {},
     "output_type": "execute_result"
    }
   ],
   "source": [
    "# apply second preprocessor to clean_revs\n",
    "rev_rate['clean_revs'] = rev_rate['clean_revs'].apply(preprocess2)\n",
    "rev_rate.tail()"
   ]
  },
  {
   "cell_type": "code",
   "execution_count": 18,
   "metadata": {},
   "outputs": [
    {
     "data": {
      "text/html": [
       "<div>\n",
       "<style>\n",
       "    .dataframe thead tr:only-child th {\n",
       "        text-align: right;\n",
       "    }\n",
       "\n",
       "    .dataframe thead th {\n",
       "        text-align: left;\n",
       "    }\n",
       "\n",
       "    .dataframe tbody tr th {\n",
       "        vertical-align: top;\n",
       "    }\n",
       "</style>\n",
       "<table border=\"1\" class=\"dataframe\">\n",
       "  <thead>\n",
       "    <tr style=\"text-align: right;\">\n",
       "      <th></th>\n",
       "      <th>reviewText</th>\n",
       "      <th>rating_cat</th>\n",
       "      <th>clean_revs</th>\n",
       "    </tr>\n",
       "  </thead>\n",
       "  <tbody>\n",
       "    <tr>\n",
       "      <th>11541</th>\n",
       "      <td>Definitely a MUST-READ if you are a home cooki...</td>\n",
       "      <td>1</td>\n",
       "      <td>['definit', 'must', 'read', 'home', 'cook', 'e...</td>\n",
       "    </tr>\n",
       "    <tr>\n",
       "      <th>11542</th>\n",
       "      <td>Pros: Scientifically informative and solid. Kn...</td>\n",
       "      <td>0</td>\n",
       "      <td>['pros', 'scientif', 'inform', 'solid', 'know'...</td>\n",
       "    </tr>\n",
       "    <tr>\n",
       "      <th>11543</th>\n",
       "      <td>Real fun to read. For everybody that is inters...</td>\n",
       "      <td>0</td>\n",
       "      <td>['real', 'fun', 'read', 'everybodi', 'interst'...</td>\n",
       "    </tr>\n",
       "    <tr>\n",
       "      <th>11544</th>\n",
       "      <td>This book will teach you the chemical secrets ...</td>\n",
       "      <td>0</td>\n",
       "      <td>['teach', 'chemic', 'secret', 'techniqu', 'usu...</td>\n",
       "    </tr>\n",
       "    <tr>\n",
       "      <th>11545</th>\n",
       "      <td>I paid more than $30 to buy such a superficial...</td>\n",
       "      <td>0</td>\n",
       "      <td>['paid', 'buy', 'superfici', 'trivial', 'made'...</td>\n",
       "    </tr>\n",
       "  </tbody>\n",
       "</table>\n",
       "</div>"
      ],
      "text/plain": [
       "                                              reviewText  rating_cat                                         clean_revs\n",
       "11541  Definitely a MUST-READ if you are a home cooki...           1  ['definit', 'must', 'read', 'home', 'cook', 'e...\n",
       "11542  Pros: Scientifically informative and solid. Kn...           0  ['pros', 'scientif', 'inform', 'solid', 'know'...\n",
       "11543  Real fun to read. For everybody that is inters...           0  ['real', 'fun', 'read', 'everybodi', 'interst'...\n",
       "11544  This book will teach you the chemical secrets ...           0  ['teach', 'chemic', 'secret', 'techniqu', 'usu...\n",
       "11545  I paid more than $30 to buy such a superficial...           0  ['paid', 'buy', 'superfici', 'trivial', 'made'..."
      ]
     },
     "execution_count": 18,
     "metadata": {},
     "output_type": "execute_result"
    }
   ],
   "source": [
    "# clean_revs must be a list of strings for vectorization steps\n",
    "rev_rate['clean_revs'] = rev_rate['clean_revs'].apply(str)\n",
    "rev_rate.tail()"
   ]
  },
  {
   "cell_type": "code",
   "execution_count": 19,
   "metadata": {},
   "outputs": [
    {
     "data": {
      "text/plain": [
       "11537    ['author', 'good', 'job', 'describ', 'scientif...\n",
       "11538    ['buy', 'look', 'cookbook', 'recip', 'list', '...\n",
       "11539    ['receipt', 'perfect', 'excel', 'condit', 'con...\n",
       "11540    ['fascin', 'explor', 'physic', 'cook', 'writte...\n",
       "11541    ['definit', 'must', 'read', 'home', 'cook', 'e...\n",
       "11542    ['pros', 'scientif', 'inform', 'solid', 'know'...\n",
       "11543    ['real', 'fun', 'read', 'everybodi', 'interst'...\n",
       "11544    ['teach', 'chemic', 'secret', 'techniqu', 'usu...\n",
       "Name: clean_revs, dtype: object"
      ]
     },
     "execution_count": 19,
     "metadata": {},
     "output_type": "execute_result"
    }
   ],
   "source": [
    "rev_rate.clean_revs[-9:-1]"
   ]
  },
  {
   "cell_type": "markdown",
   "metadata": {},
   "source": [
    "## Create X & y, split train and test data sets"
   ]
  },
  {
   "cell_type": "code",
   "execution_count": 20,
   "metadata": {},
   "outputs": [
    {
     "name": "stdout",
     "output_type": "stream",
     "text": [
      "(11546,)\n",
      "(11546,)\n"
     ]
    }
   ],
   "source": [
    "# store the feature matrix (X) and response vector (y) \n",
    "# uppercase X because it's an m x n matrix\n",
    "X = rev_rate.clean_revs\n",
    "\n",
    "# lowercase y because it's a m x 1 vector\n",
    "y = rev_rate.rating_cat\n",
    "\n",
    "print(X.shape)\n",
    "print(y.shape)"
   ]
  },
  {
   "cell_type": "code",
   "execution_count": 21,
   "metadata": {},
   "outputs": [
    {
     "name": "stdout",
     "output_type": "stream",
     "text": [
      "X Training set sample size: 8659\n",
      "X Testing set sample size: 2887\n",
      "y Training set sample size: 8659\n",
      "y Testing set sample size: 2887\n"
     ]
    }
   ],
   "source": [
    "# split the data into training and test sets\n",
    "X_train, X_test, y_train, y_test = train_test_split(X, y, random_state=42, stratify=y)\n",
    "\n",
    "# Show the results of the split\n",
    "print(\"X Training set sample size:\", (X_train.shape[0]))\n",
    "print(\"X Testing set sample size:\", (X_test.shape[0]))\n",
    "print(\"y Training set sample size:\", (y_train.shape[0]))\n",
    "print(\"y Testing set sample size:\", (y_test.shape[0]))"
   ]
  },
  {
   "cell_type": "code",
   "execution_count": 22,
   "metadata": {},
   "outputs": [
    {
     "name": "stdout",
     "output_type": "stream",
     "text": [
      "0.336412980714\n",
      "0.336335296155\n"
     ]
    }
   ],
   "source": [
    "# Double check stratification\n",
    "print(np.mean(y_train == 0))\n",
    "print(np.mean(y_test == 0))"
   ]
  },
  {
   "cell_type": "code",
   "execution_count": 23,
   "metadata": {},
   "outputs": [
    {
     "name": "stdout",
     "output_type": "stream",
     "text": [
      "7665    ['rainforest', 'grew', 'around', 'susan', 'k',...\n",
      "1141    ['consequ', 'develop', 'electron', 'superintel...\n",
      "Name: clean_revs, dtype: object\n"
     ]
    }
   ],
   "source": [
    "print(X_train[0:2])"
   ]
  },
  {
   "cell_type": "markdown",
   "metadata": {},
   "source": [
    "## Vectorize, fit, output document-term matrix with two vectorizers"
   ]
  },
  {
   "cell_type": "code",
   "execution_count": 24,
   "metadata": {
    "collapsed": true
   },
   "outputs": [],
   "source": [
    "# instantiate two vectorizers, do not use stop_words\n",
    "vect = CountVectorizer(stop_words=None, lowercase=False, analyzer='word', tokenizer=None, min_df=3,ngram_range=(1, 2)) \n",
    "tfidf = TfidfVectorizer(stop_words=None, max_df=0.7, lowercase=False, min_df=3, ngram_range=(1, 2))"
   ]
  },
  {
   "cell_type": "code",
   "execution_count": 25,
   "metadata": {},
   "outputs": [
    {
     "data": {
      "text/plain": [
       "<8659x36938 sparse matrix of type '<class 'numpy.int64'>'\n",
       "\twith 595860 stored elements in Compressed Sparse Row format>"
      ]
     },
     "execution_count": 25,
     "metadata": {},
     "output_type": "execute_result"
    }
   ],
   "source": [
    "# Apply CountVectorizer ('vect') to stemmed tokens to learn training data vocabulary\n",
    "# then use it to create a document-term matrix\n",
    "X_train_dtm = vect.fit_transform(X_train.values)\n",
    "\n",
    "# examine the document-term matrix\n",
    "X_train_dtm"
   ]
  },
  {
   "cell_type": "code",
   "execution_count": 26,
   "metadata": {},
   "outputs": [
    {
     "data": {
      "text/plain": [
       "<2887x36938 sparse matrix of type '<class 'numpy.int64'>'\n",
       "\twith 184718 stored elements in Compressed Sparse Row format>"
      ]
     },
     "execution_count": 26,
     "metadata": {},
     "output_type": "execute_result"
    }
   ],
   "source": [
    "# transform testing data (using fitted vocabulary) into a document-term matrix\n",
    "X_test_dtm = vect.transform(X_test.values)\n",
    "X_test_dtm"
   ]
  },
  {
   "cell_type": "code",
   "execution_count": 27,
   "metadata": {},
   "outputs": [
    {
     "data": {
      "text/plain": [
       "<8659x36938 sparse matrix of type '<class 'numpy.float64'>'\n",
       "\twith 595860 stored elements in Compressed Sparse Row format>"
      ]
     },
     "execution_count": 27,
     "metadata": {},
     "output_type": "execute_result"
    }
   ],
   "source": [
    "# Apply TfidfVectorizer to learn training data vocabulary\n",
    "# then use it to create a document-term matrix\n",
    "X_train_tfidf = tfidf.fit_transform(X_train.values)\n",
    "\n",
    "# examine the document-term matrix\n",
    "X_train_tfidf"
   ]
  },
  {
   "cell_type": "code",
   "execution_count": 28,
   "metadata": {},
   "outputs": [
    {
     "data": {
      "text/plain": [
       "<2887x36938 sparse matrix of type '<class 'numpy.float64'>'\n",
       "\twith 184718 stored elements in Compressed Sparse Row format>"
      ]
     },
     "execution_count": 28,
     "metadata": {},
     "output_type": "execute_result"
    }
   ],
   "source": [
    "# transform testing data with tfidif vectorizer into document-term matrix\n",
    "X_test_tfidf = tfidf.transform(X_test.values)\n",
    "X_test_tfidf"
   ]
  },
  {
   "cell_type": "code",
   "execution_count": 29,
   "metadata": {},
   "outputs": [
    {
     "data": {
      "text/plain": [
       "CountVectorizer(analyzer='word', binary=False, decode_error='strict',\n",
       "        dtype=<class 'numpy.int64'>, encoding='utf-8', input='content',\n",
       "        lowercase=False, max_df=1.0, max_features=None, min_df=3,\n",
       "        ngram_range=(1, 2), preprocessor=None, stop_words=None,\n",
       "        strip_accents=None, token_pattern='(?u)\\\\b\\\\w\\\\w+\\\\b',\n",
       "        tokenizer=None, vocabulary=None)"
      ]
     },
     "execution_count": 29,
     "metadata": {},
     "output_type": "execute_result"
    }
   ],
   "source": [
    "# view current parameters for CountVectorizer 'vect'\n",
    "vect"
   ]
  },
  {
   "cell_type": "code",
   "execution_count": 30,
   "metadata": {},
   "outputs": [
    {
     "data": {
      "text/plain": [
       "TfidfVectorizer(analyzer='word', binary=False, decode_error='strict',\n",
       "        dtype=<class 'numpy.int64'>, encoding='utf-8', input='content',\n",
       "        lowercase=False, max_df=0.7, max_features=None, min_df=3,\n",
       "        ngram_range=(1, 2), norm='l2', preprocessor=None, smooth_idf=True,\n",
       "        stop_words=None, strip_accents=None, sublinear_tf=False,\n",
       "        token_pattern='(?u)\\\\b\\\\w\\\\w+\\\\b', tokenizer=None, use_idf=True,\n",
       "        vocabulary=None)"
      ]
     },
     "execution_count": 30,
     "metadata": {},
     "output_type": "execute_result"
    }
   ],
   "source": [
    "# view current parameters for TfidfVectorizer 'tfidf'\n",
    "tfidf"
   ]
  },
  {
   "cell_type": "markdown",
   "metadata": {},
   "source": [
    "## Build the simple model with Naive Bayes for baseline and to compare vectorizers"
   ]
  },
  {
   "cell_type": "code",
   "execution_count": 31,
   "metadata": {
    "collapsed": true
   },
   "outputs": [],
   "source": [
    "# instantiate scikit-learn's MultinomialNB() classifier to use on CountVec vectors\n",
    "nb = MultinomialNB(alpha=1, fit_prior=True)"
   ]
  },
  {
   "cell_type": "code",
   "execution_count": 32,
   "metadata": {},
   "outputs": [
    {
     "name": "stdout",
     "output_type": "stream",
     "text": [
      "CPU times: user 15.7 ms, sys: 14.6 ms, total: 30.3 ms\n",
      "Wall time: 32.2 ms\n"
     ]
    },
    {
     "data": {
      "text/plain": [
       "MultinomialNB(alpha=1, class_prior=None, fit_prior=True)"
      ]
     },
     "execution_count": 32,
     "metadata": {},
     "output_type": "execute_result"
    }
   ],
   "source": [
    "# train the model using X_train_dtm from CountVectorizer (vect)\n",
    "%time nb.fit(X_train_dtm, y_train)"
   ]
  },
  {
   "cell_type": "code",
   "execution_count": 33,
   "metadata": {
    "collapsed": true
   },
   "outputs": [],
   "source": [
    "# COMPARE TFIDF VECTORIZER\n",
    "# instantiate scikit-learn's MultinomialNB() classifier to use on tfidf vectors\n",
    "nbtfidf = MultinomialNB(alpha=1, fit_prior=True) "
   ]
  },
  {
   "cell_type": "code",
   "execution_count": 34,
   "metadata": {},
   "outputs": [
    {
     "name": "stdout",
     "output_type": "stream",
     "text": [
      "CPU times: user 14.2 ms, sys: 13.8 ms, total: 28 ms\n",
      "Wall time: 25.9 ms\n"
     ]
    },
    {
     "data": {
      "text/plain": [
       "MultinomialNB(alpha=1, class_prior=None, fit_prior=True)"
      ]
     },
     "execution_count": 34,
     "metadata": {},
     "output_type": "execute_result"
    }
   ],
   "source": [
    "# COMPARE TFIDF VECTORIZER\n",
    "# train the model using X_train_tfidf from TfidfVectorizer\n",
    "%time nbtfidf.fit(X_train_tfidf, y_train)"
   ]
  },
  {
   "cell_type": "code",
   "execution_count": 35,
   "metadata": {},
   "outputs": [
    {
     "data": {
      "text/plain": [
       "0.81231380337636538"
      ]
     },
     "execution_count": 35,
     "metadata": {},
     "output_type": "execute_result"
    }
   ],
   "source": [
    "# make class predictions for X_test_dtm\n",
    "y_pred_class = nb.predict(X_test_dtm)\n",
    "\n",
    "# calculate F1 Score: a weighted average of the precision and recall (est value at 1 and worst score at 0)\n",
    "metrics.f1_score(y_test, y_pred_class) #score was up to .82 with 'not' removed but down again with min_df=3"
   ]
  },
  {
   "cell_type": "code",
   "execution_count": 36,
   "metadata": {},
   "outputs": [
    {
     "data": {
      "text/plain": [
       "0.80633579725448778"
      ]
     },
     "execution_count": 36,
     "metadata": {},
     "output_type": "execute_result"
    }
   ],
   "source": [
    "# COMPARE TFIDF VECTORIZER\n",
    "# make class predictions for X_test_dtm\n",
    "y_pred_tfidf = nbtfidf.predict(X_test_tfidf)\n",
    "\n",
    "# calculate F1 Score: a weighted average of the precision and recall (est value at 1 and worst score at 0)\n",
    "metrics.f1_score(y_test, y_pred_tfidf)"
   ]
  },
  {
   "cell_type": "code",
   "execution_count": 37,
   "metadata": {},
   "outputs": [
    {
     "data": {
      "text/plain": [
       "array([[ 495,  476],\n",
       "       [ 280, 1636]])"
      ]
     },
     "execution_count": 37,
     "metadata": {},
     "output_type": "execute_result"
    }
   ],
   "source": [
    "# print the confusion matrix from Count Vectorizer\n",
    "metrics.confusion_matrix(y_test, y_pred_class)"
   ]
  },
  {
   "cell_type": "markdown",
   "metadata": {},
   "source": [
    "Confusions Matrix breakdown for Count Vectorizer with Naive Bayes:\n",
    "True Positives: 1636 reviews correctly predicted as 'five'\n",
    "True Negatives: 495 reviews correctly predicted as 'not5'\n",
    "False Positives: 476 reviews incorrectly predicted to be 'five' but they are 'not5' (Type I error).\n",
    "False Negatives: 280 reviews incorrectly predicted to be 'not5' but they are 'five' (Type II error)."
   ]
  },
  {
   "cell_type": "code",
   "execution_count": 38,
   "metadata": {},
   "outputs": [
    {
     "data": {
      "text/plain": [
       "array([[  61,  910],\n",
       "       [   7, 1909]])"
      ]
     },
     "execution_count": 38,
     "metadata": {},
     "output_type": "execute_result"
    }
   ],
   "source": [
    "# COMPARE TFIDF VECTORIZER\n",
    "# print the confusion matrix from Count Vectorizer\n",
    "metrics.confusion_matrix(y_test, y_pred_tfidf)"
   ]
  },
  {
   "cell_type": "markdown",
   "metadata": {},
   "source": [
    "Confusions Matrix breakdown for TFIDF Vectorizer with Naive Bayes:\n",
    "True Positives: 1909 reviews correctly predicted as 'five'\n",
    "True Negatives: 61 reviews correctly predicted as 'not5'\n",
    "False Positives: 910 reviews incorrectly predicted to be 'five' but they are 'not5' (Type I error).\n",
    "False Negatives: 7 reviews incorrectly predicted to be 'not5' but they are 'five' (Type II error).\n",
    "\n",
    "Before tuning Naive Bayes parameters with GridSearchCV (below) the TfidfVectorizer with default settings performs poorly assigning review text to high vs low rating categories."
   ]
  },
  {
   "cell_type": "code",
   "execution_count": 39,
   "metadata": {},
   "outputs": [
    {
     "data": {
      "text/plain": [
       "array([ 0.99457259,  0.91868987,  0.19803406, ...,  0.99995244,\n",
       "        0.99908528,  0.99999971])"
      ]
     },
     "execution_count": 39,
     "metadata": {},
     "output_type": "execute_result"
    }
   ],
   "source": [
    "# calculate predicted probabilities for X_test_dtm (document-term matrix from CountVectorizer)\n",
    "y_pred_prob = nb.predict_proba(X_test_dtm)[:, 1]\n",
    "y_pred_prob"
   ]
  },
  {
   "cell_type": "code",
   "execution_count": 40,
   "metadata": {},
   "outputs": [
    {
     "data": {
      "text/plain": [
       "array([ 0.89208592,  0.85519454,  0.60892288, ...,  0.96112489,\n",
       "        0.88263227,  0.92979038])"
      ]
     },
     "execution_count": 40,
     "metadata": {},
     "output_type": "execute_result"
    }
   ],
   "source": [
    "# COMPARE TFIDF VECTORIZER\n",
    "# calculate predicted probabilities for X_test_dtm (poorly calibrated)\n",
    "y_pred_prob_tfidf = nbtfidf.predict_proba(X_test_tfidf)[:, 1]\n",
    "y_pred_prob_tfidf"
   ]
  },
  {
   "cell_type": "code",
   "execution_count": 41,
   "metadata": {},
   "outputs": [
    {
     "data": {
      "image/png": "[encoded data removed]",
      "text/plain": [
       "<matplotlib.figure.Figure at 0x1a18ca25f8>"
      ]
     },
     "metadata": {},
     "output_type": "display_data"
    }
   ],
   "source": [
    "# Generate ROC curve values: fpr, tpr, thresholds\n",
    "fpr, tpr, thresholds = roc_curve(y_test, y_pred_prob)\n",
    "\n",
    "# Plot ROC curve for Naive Bayes with CountVectorizer\n",
    "plt.plot([0, 1], [0, 1], 'k--')\n",
    "plt.plot(fpr, tpr)\n",
    "plt.xlabel('False Positive Rate')\n",
    "plt.ylabel('True Positive Rate')\n",
    "plt.title('ROC Curve with CountVectorizer')\n",
    "plt.show()"
   ]
  },
  {
   "cell_type": "code",
   "execution_count": 42,
   "metadata": {},
   "outputs": [
    {
     "data": {
      "text/plain": [
       "0.76802185079196494"
      ]
     },
     "execution_count": 42,
     "metadata": {},
     "output_type": "execute_result"
    }
   ],
   "source": [
    "# calculate AUC for NB model with CountVect\n",
    "metrics.roc_auc_score(y_test, y_pred_prob) # increasing min_df to 3 improved score"
   ]
  },
  {
   "cell_type": "code",
   "execution_count": 43,
   "metadata": {},
   "outputs": [
    {
     "data": {
      "image/png": "[encoded data removed]",
      "text/plain": [
       "<matplotlib.figure.Figure at 0x1a18d946a0>"
      ]
     },
     "metadata": {},
     "output_type": "display_data"
    }
   ],
   "source": [
    "# COMPARE TFIDF VECTORIZER\n",
    "# Generate ROC curve values: fpr, tpr, thresholds\n",
    "fpr, tpr, thresholds = roc_curve(y_test, y_pred_prob_tfidf)\n",
    "\n",
    "# Plot ROC curve\n",
    "plt.plot([0, 1], [0, 1], 'k--')\n",
    "plt.plot(fpr, tpr)\n",
    "plt.xlabel('False Positive Rate')\n",
    "plt.ylabel('True Positive Rate')\n",
    "plt.title('ROC Curve with TfidfVectorizer')\n",
    "plt.show()"
   ]
  },
  {
   "cell_type": "code",
   "execution_count": 44,
   "metadata": {},
   "outputs": [
    {
     "data": {
      "text/plain": [
       "0.78286702686897047"
      ]
     },
     "execution_count": 44,
     "metadata": {},
     "output_type": "execute_result"
    }
   ],
   "source": [
    "# COMPARE TFIDF VECTORIZER\n",
    "# calculate AUC for simple model\n",
    "metrics.roc_auc_score(y_test, y_pred_prob_tfidf) # increasing min_df to 3 improved score"
   ]
  },
  {
   "cell_type": "markdown",
   "metadata": {},
   "source": [
    "### Run GridSearchCV on best parameters for CountVectorizer"
   ]
  },
  {
   "cell_type": "code",
   "execution_count": 45,
   "metadata": {
    "collapsed": true
   },
   "outputs": [],
   "source": [
    "# create a list of performace parameters for performace tuning (ngram range, use idf?, best alpha)\n",
    "parameters = {'fit_prior': (True, False),\n",
    "              #'class_prior': (True, False), \n",
    "              'alpha': (0.001, 0.1, 1, 5, 10)\n",
    "             }"
   ]
  },
  {
   "cell_type": "code",
   "execution_count": 46,
   "metadata": {},
   "outputs": [
    {
     "data": {
      "text/plain": [
       "['alpha', 'class_prior', 'fit_prior']"
      ]
     },
     "execution_count": 46,
     "metadata": {},
     "output_type": "execute_result"
    }
   ],
   "source": [
    "# run this to get a list of the all available pipe-items unique keys for the grid parameters\n",
    "sorted(nb.get_params().keys())"
   ]
  },
  {
   "cell_type": "code",
   "execution_count": 47,
   "metadata": {},
   "outputs": [],
   "source": [
    "# create an instance of the grid search by passing the classifier, parameters \n",
    "# and n_jobs=-1 which tells to use multiple cores from user machine.\n",
    "gs_mnb = GridSearchCV(MultinomialNB(), parameters, scoring='roc_auc', n_jobs=-1)\n",
    "gs_mnb = gs_mnb.fit(X_train_dtm, y_train)"
   ]
  },
  {
   "cell_type": "code",
   "execution_count": 48,
   "metadata": {},
   "outputs": [
    {
     "name": "stdout",
     "output_type": "stream",
     "text": [
      "Best score for text: 0.762436055907\n"
     ]
    }
   ],
   "source": [
    "# View the best score (set to roc_auc) for MultinomialNB with CountVect\n",
    "print('Best score for text:', gs_mnb.best_score_) "
   ]
  },
  {
   "cell_type": "code",
   "execution_count": 49,
   "metadata": {},
   "outputs": [
    {
     "name": "stdout",
     "output_type": "stream",
     "text": [
      "Best parameters: {'alpha': 1, 'fit_prior': True}\n"
     ]
    }
   ],
   "source": [
    "# Get best parameters for MultinomialNB with CountVect\n",
    "print('Best parameters:', gs_mnb.best_params_)\n",
    "# Alpha = 1 is the default and picked as best alpha\n",
    "# fit_prior: True (default) "
   ]
  },
  {
   "cell_type": "code",
   "execution_count": 50,
   "metadata": {},
   "outputs": [
    {
     "data": {
      "text/plain": [
       "GridSearchCV(cv=None, error_score='raise',\n",
       "       estimator=MultinomialNB(alpha=1.0, class_prior=None, fit_prior=True),\n",
       "       fit_params=None, iid=True, n_jobs=-1,\n",
       "       param_grid={'fit_prior': (True, False), 'alpha': (0.001, 0.1, 1, 5, 10)},\n",
       "       pre_dispatch='2*n_jobs', refit=True, return_train_score=True,\n",
       "       scoring='roc_auc', verbose=0)"
      ]
     },
     "execution_count": 50,
     "metadata": {},
     "output_type": "execute_result"
    }
   ],
   "source": [
    "# view parameters of grid search multinomial niave bayes model with countvectorizer\n",
    "gs_mnb"
   ]
  },
  {
   "cell_type": "markdown",
   "metadata": {},
   "source": [
    "### Run GridSearchCV on best parameters for TfidfVectorizer"
   ]
  },
  {
   "cell_type": "code",
   "execution_count": 51,
   "metadata": {
    "collapsed": true
   },
   "outputs": [],
   "source": [
    "# fit grid search again with DTM for tfidf vectorizer (same parameters)\n",
    "gs_tfidf = GridSearchCV(MultinomialNB(), parameters, scoring='roc_auc', n_jobs=-1)\n",
    "gs_tfidf = gs_tfidf.fit(X_train_tfidf, y_train)"
   ]
  },
  {
   "cell_type": "code",
   "execution_count": 52,
   "metadata": {},
   "outputs": [
    {
     "name": "stdout",
     "output_type": "stream",
     "text": [
      "Best score for text: 0.777709617489\n"
     ]
    }
   ],
   "source": [
    "# View the best score (set to roc_auc)\n",
    "print('Best score for text:', gs_tfidf.best_score_) "
   ]
  },
  {
   "cell_type": "code",
   "execution_count": 53,
   "metadata": {},
   "outputs": [
    {
     "name": "stdout",
     "output_type": "stream",
     "text": [
      "Best parameters: {'alpha': 1, 'fit_prior': True}\n"
     ]
    }
   ],
   "source": [
    "# Get best parameters\n",
    "print('Best parameters:', gs_tfidf.best_params_)\n",
    "# Alpha = 1 is the default and picked as best alpha\n",
    "# fit_prior: True (default)"
   ]
  },
  {
   "cell_type": "code",
   "execution_count": 54,
   "metadata": {},
   "outputs": [
    {
     "data": {
      "text/plain": [
       "GridSearchCV(cv=None, error_score='raise',\n",
       "       estimator=MultinomialNB(alpha=1.0, class_prior=None, fit_prior=True),\n",
       "       fit_params=None, iid=True, n_jobs=-1,\n",
       "       param_grid={'fit_prior': (True, False), 'alpha': (0.001, 0.1, 1, 5, 10)},\n",
       "       pre_dispatch='2*n_jobs', refit=True, return_train_score=True,\n",
       "       scoring='roc_auc', verbose=0)"
      ]
     },
     "execution_count": 54,
     "metadata": {},
     "output_type": "execute_result"
    }
   ],
   "source": [
    "# view parameters of grid search multinomial niave bayes model with tfidf vectorizer\n",
    "gs_tfidf"
   ]
  },
  {
   "cell_type": "markdown",
   "metadata": {},
   "source": [
    "__Interpretation of simple model:__ The Naive Bayes model trained on stemmed tokens with stop words removed performs fairly well. GridSearchCV indicates the best parameters for the two vectorizers are the default Multinomial Naive Bayes parameters. For the rest of the algorithms I will use the document terms matrix from the TfidfVectorizer based on the comparisons above."
   ]
  },
  {
   "cell_type": "markdown",
   "metadata": {},
   "source": [
    "## Examine model inputs for further insight"
   ]
  },
  {
   "cell_type": "code",
   "execution_count": 55,
   "metadata": {},
   "outputs": [
    {
     "data": {
      "text/plain": [
       "36938"
      ]
     },
     "execution_count": 55,
     "metadata": {},
     "output_type": "execute_result"
    }
   ],
   "source": [
    "# store the vocabulary of X_train with CountVectorizer\n",
    "X_train_tokens = vect.get_feature_names()\n",
    "len(X_train_tokens)"
   ]
  },
  {
   "cell_type": "code",
   "execution_count": 56,
   "metadata": {},
   "outputs": [
    {
     "name": "stdout",
     "output_type": "stream",
     "text": [
      "['aa', 'aacut', 'aarhus', 'aarhus denmark', 'aaron', 'aaron sach', 'ab', 'abandon', 'abandon resort', 'abbrevi', 'abc', 'abid', 'abil', 'abil bring', 'abil convey', 'abil creat', 'abil explain', 'abil grow', 'abil learn', 'abil make', 'abil predict', 'abil read', 'abil speak', 'abil surviv', 'abil take', 'abil think', 'abil understand', 'abil write', 'abl', 'abl bring', 'abl buy', 'abl come', 'abl convey', 'abl easili', 'abl experi', 'abl explain', 'abl figur', 'abl find', 'abl finish', 'abl follow', 'abl get', 'abl go', 'abl grasp', 'abl identifi', 'abl keep', 'abl learn', 'abl look', 'abl make', 'abl navig', 'abl prove']\n"
     ]
    }
   ],
   "source": [
    "# examine the first 50 tokens\n",
    "print(X_train_tokens[0:50])"
   ]
  },
  {
   "cell_type": "code",
   "execution_count": 57,
   "metadata": {},
   "outputs": [
    {
     "name": "stdout",
     "output_type": "stream",
     "text": [
      "['zero', 'zero babylonian', 'zero biographi', 'zero came', 'zero charl', 'zero concept', 'zero develop', 'zero histori', 'zero infin', 'zero infinit', 'zero interest', 'zero introduc', 'zero make', 'zero mathemat', 'zero not', 'zero number', 'zero one', 'zero point', 'zero quot', 'zero realli', 'zero riemann', 'zero seif', 'zero sort', 'zero star', 'zero start', 'zero use', 'zero vacuum', 'zero void', 'zero well', 'zero would', 'zero zero', 'zero zeta', 'zeta', 'zeta function', 'zodiac', 'zone', 'zone also', 'zone come', 'zone demon', 'zone one', 'zone read', 'zone terrifi', 'zoo', 'zoolog', 'zoologist', 'zoom', 'zoonos', 'zoonosi', 'zoonot', 'zoonot diseas']\n"
     ]
    }
   ],
   "source": [
    "# examine the last 50 tokens\n",
    "print(X_train_tokens[-50:])"
   ]
  },
  {
   "cell_type": "code",
   "execution_count": 58,
   "metadata": {},
   "outputs": [
    {
     "name": "stdout",
     "output_type": "stream",
     "text": [
      "Smallest Coefs: \n",
      "['err' 'whatev problem' 'put writer' 'believ zero' 'follow fact'\n",
      " 'follow first' 'loos leaf' 'loos end' 'loos connect' 'look went']\n",
      "\n",
      "Largest Coefs: \n",
      "['read' 'love' 'great' 'not' 'one' 'year' 'inform' 'well' 'use' 'interest']\n",
      "\n"
     ]
    }
   ],
   "source": [
    "# Examine features with largest and smallest coefficients from Tfidf/Multinomial NB model\n",
    "feature_names = np.array(tfidf.get_feature_names())\n",
    "sorted_coef_index = nbtfidf.coef_[0].argsort()\n",
    "print('Smallest Coefs: \\n{}\\n'.format(feature_names[sorted_coef_index[:10]]))\n",
    "print('Largest Coefs: \\n{}\\n'.format(feature_names[sorted_coef_index[:-11:-1]]))"
   ]
  },
  {
   "cell_type": "code",
   "execution_count": 59,
   "metadata": {},
   "outputs": [
    {
     "name": "stdout",
     "output_type": "stream",
     "text": [
      "[1 1]\n"
     ]
    }
   ],
   "source": [
    "# test the current model\n",
    "print(nbtfidf.predict(tfidf.transform(['This book is not good. I do not recommend that you ever read it',\n",
    "                                       'This book is not bad at all. I highly recommend this for anyone'])))"
   ]
  },
  {
   "cell_type": "code",
   "execution_count": 60,
   "metadata": {},
   "outputs": [
    {
     "name": "stdout",
     "output_type": "stream",
     "text": [
      "[1 1]\n"
     ]
    }
   ],
   "source": [
    "# test the current model with more extreme review text\n",
    "print(nbtfidf.predict(tfidf.transform(['This is a big disappointing bore. I expected more. Unfortunately I was wrong',\n",
    "                                       'This book awesome. You should totally read it'])))"
   ]
  },
  {
   "cell_type": "code",
   "execution_count": 62,
   "metadata": {},
   "outputs": [
    {
     "name": "stdout",
     "output_type": "stream",
     "text": [
      "[1 1]\n"
     ]
    }
   ],
   "source": [
    "# test test without 'not' bigrams\n",
    "print(nbtfidf.predict(tfidf.transform(['This book is bad. Avoid reading it',\n",
    "                                       'This book is good. I highly recommend this for everyone'])))"
   ]
  },
  {
   "cell_type": "markdown",
   "metadata": {},
   "source": [
    "The text reviews with negation phrases are both assigned to the 'high' rating category. The more extreme review text samples are also assigned to the 'high' category! The current model includes bigrams in the document-terms matrix and we removed 'not' from the list of stopwords. However, the Naive Bayes model does not assign 'not good' to the 'low' review class."
   ]
  },
  {
   "cell_type": "markdown",
   "metadata": {},
   "source": [
    "## Fit classifiers with TFIDF Vectorizer"
   ]
  },
  {
   "cell_type": "markdown",
   "metadata": {},
   "source": [
    "## Fit Random Forest classifier"
   ]
  },
  {
   "cell_type": "code",
   "execution_count": 63,
   "metadata": {},
   "outputs": [
    {
     "data": {
      "text/plain": [
       "0.78563772775991436"
      ]
     },
     "execution_count": 63,
     "metadata": {},
     "output_type": "execute_result"
    }
   ],
   "source": [
    "# classifier with grid search parameters (multiple runs to target best parameters)\n",
    "rf_clf = RandomForestClassifier(max_features=700, min_samples_leaf=8, class_weight='balanced').fit(X_train_tfidf, y_train)\n",
    "# parameters added after GridSearch below\n",
    "predicted_rf_clf = rf_clf.predict(X_test_tfidf)\n",
    "\n",
    "metrics.f1_score(y_test, predicted_rf_clf)"
   ]
  },
  {
   "cell_type": "code",
   "execution_count": 64,
   "metadata": {},
   "outputs": [
    {
     "data": {
      "text/plain": [
       "array([[ 621,  350],\n",
       "       [ 450, 1466]])"
      ]
     },
     "execution_count": 64,
     "metadata": {},
     "output_type": "execute_result"
    }
   ],
   "source": [
    "# print the confusion matrix \n",
    "metrics.confusion_matrix(y_test, predicted_rf_clf)"
   ]
  },
  {
   "cell_type": "code",
   "execution_count": 65,
   "metadata": {},
   "outputs": [
    {
     "data": {
      "text/plain": [
       "array([ 0.67191513,  0.34039986,  0.2449276 , ...,  0.81926685,\n",
       "        0.84946318,  0.74803912])"
      ]
     },
     "execution_count": 65,
     "metadata": {},
     "output_type": "execute_result"
    }
   ],
   "source": [
    "# calculate predicted probabilities\n",
    "y_pred_prob_rf_clf = rf_clf.predict_proba(X_test_tfidf)[:, 1]\n",
    "y_pred_prob_rf_clf"
   ]
  },
  {
   "cell_type": "code",
   "execution_count": 66,
   "metadata": {},
   "outputs": [
    {
     "data": {
      "image/png": "[encoded data removed]",
      "text/plain": [
       "<matplotlib.figure.Figure at 0x1a192fc9e8>"
      ]
     },
     "metadata": {},
     "output_type": "display_data"
    }
   ],
   "source": [
    "# Generate ROC curve values: fpr, tpr, thresholds\n",
    "fpr, tpr, thresholds = roc_curve(y_test, y_pred_prob_rf_clf)\n",
    "\n",
    "# Plot ROC curve\n",
    "plt.plot([0, 1], [0, 1], 'k--')\n",
    "plt.plot(fpr, tpr)\n",
    "plt.xlabel('False Positive Rate')\n",
    "plt.ylabel('True Positive Rate')\n",
    "plt.title('ROC Curve for Random Forest, balanced classes')\n",
    "plt.show()"
   ]
  },
  {
   "cell_type": "code",
   "execution_count": 67,
   "metadata": {},
   "outputs": [
    {
     "data": {
      "text/plain": [
       "0.76279753778146631"
      ]
     },
     "execution_count": 67,
     "metadata": {},
     "output_type": "execute_result"
    }
   ],
   "source": [
    "# calculate AUC for randomforest model\n",
    "metrics.roc_auc_score(y_test, y_pred_prob_rf_clf)"
   ]
  },
  {
   "cell_type": "code",
   "execution_count": 68,
   "metadata": {},
   "outputs": [
    {
     "data": {
      "text/plain": [
       "['bootstrap',\n",
       " 'class_weight',\n",
       " 'criterion',\n",
       " 'max_depth',\n",
       " 'max_features',\n",
       " 'max_leaf_nodes',\n",
       " 'min_impurity_decrease',\n",
       " 'min_impurity_split',\n",
       " 'min_samples_leaf',\n",
       " 'min_samples_split',\n",
       " 'min_weight_fraction_leaf',\n",
       " 'n_estimators',\n",
       " 'n_jobs',\n",
       " 'oob_score',\n",
       " 'random_state',\n",
       " 'verbose',\n",
       " 'warm_start']"
      ]
     },
     "execution_count": 68,
     "metadata": {},
     "output_type": "execute_result"
    }
   ],
   "source": [
    "# use to get a list of the all available pipe-items unique keys for the grid parameters\n",
    "sorted(rf_clf.get_params().keys())"
   ]
  },
  {
   "cell_type": "code",
   "execution_count": 69,
   "metadata": {
    "collapsed": true
   },
   "outputs": [],
   "source": [
    "# find best parameters with GridSearchCV\n",
    "# create a list of performace parameters for performace tuning (ngram range, use idf?, best alpha)\n",
    "params = {'max_features': [650, 700, 750],\n",
    "              'min_samples_leaf': (5, 6, 7, 8),\n",
    "              #'min_samples_split': (1, 3, 10),\n",
    "              #'tfidf__use_idf': (True, False), \n",
    "              #'mnb__alpha': (0.1, 1, 5, 10)\n",
    "         }"
   ]
  },
  {
   "cell_type": "code",
   "execution_count": 70,
   "metadata": {
    "collapsed": true
   },
   "outputs": [],
   "source": [
    "# create an instance of the grid search by passing the classifier, parameters \n",
    "# and n_jobs=-1 which tells to use multiple cores from user machine.\n",
    "gs_rf = GridSearchCV(RandomForestClassifier(class_weight='balanced'), params, scoring='roc_auc', n_jobs=-1)\n",
    "gs_rf = gs_rf.fit(X_train_tfidf, y_train) "
   ]
  },
  {
   "cell_type": "code",
   "execution_count": 71,
   "metadata": {},
   "outputs": [
    {
     "name": "stdout",
     "output_type": "stream",
     "text": [
      "Best score for text: 0.75515200052\n"
     ]
    }
   ],
   "source": [
    "# View the best accuracy score\n",
    "print('Best score for text:', gs_rf.best_score_) \n",
    "# prior run gave: Best score for text: 0.742"
   ]
  },
  {
   "cell_type": "code",
   "execution_count": 72,
   "metadata": {},
   "outputs": [
    {
     "name": "stdout",
     "output_type": "stream",
     "text": [
      "Best parameters: {'max_features': 750, 'min_samples_leaf': 8}\n"
     ]
    }
   ],
   "source": [
    "# Get best parameters\n",
    "print('Best parameters:', gs_rf.best_params_)\n",
    "# prior run gave: Best parameters: {'max_features': 700, 'min_samples_leaf': 5} "
   ]
  },
  {
   "cell_type": "code",
   "execution_count": 73,
   "metadata": {},
   "outputs": [
    {
     "data": {
      "text/plain": [
       "array([ 0.,  0.,  0., ...,  0.,  0.,  0.])"
      ]
     },
     "execution_count": 73,
     "metadata": {},
     "output_type": "execute_result"
    }
   ],
   "source": [
    "# get array of Random Forest feature importances\n",
    "rf_clf.feature_importances_"
   ]
  },
  {
   "cell_type": "code",
   "execution_count": 74,
   "metadata": {},
   "outputs": [
    {
     "data": {
      "text/html": [
       "\n",
       "    <style>\n",
       "    table.eli5-weights tr:hover {\n",
       "        filter: brightness(85%);\n",
       "    }\n",
       "</style>\n",
       "\n",
       "\n",
       "\n",
       "    \n",
       "\n",
       "    \n",
       "\n",
       "    \n",
       "\n",
       "    \n",
       "\n",
       "    \n",
       "\n",
       "    \n",
       "\n",
       "\n",
       "    \n",
       "\n",
       "    \n",
       "\n",
       "    \n",
       "\n",
       "    \n",
       "\n",
       "    \n",
       "\n",
       "    \n",
       "\n",
       "\n",
       "    \n",
       "\n",
       "    \n",
       "\n",
       "    \n",
       "\n",
       "    \n",
       "\n",
       "    \n",
       "        <table class=\"eli5-weights eli5-feature-importances\" style=\"border-collapse: collapse; border: none; margin-top: 0em; table-layout: auto;\">\n",
       "    <thead>\n",
       "    <tr style=\"border: none;\">\n",
       "        <th style=\"padding: 0 1em 0 0.5em; text-align: right; border: none;\">Weight</th>\n",
       "        <th style=\"padding: 0 0.5em 0 0.5em; text-align: left; border: none;\">Feature</th>\n",
       "    </tr>\n",
       "    </thead>\n",
       "    <tbody>\n",
       "    \n",
       "        <tr style=\"background-color: hsl(120, 100.00%, 80.00%); border: none;\">\n",
       "            <td style=\"padding: 0 1em 0 0.5em; text-align: right; border: none;\">\n",
       "                0.0423\n",
       "                \n",
       "                    &plusmn; 0.0431\n",
       "                \n",
       "            </td>\n",
       "            <td style=\"padding: 0 0.5em 0 0.5em; text-align: left; border: none;\">\n",
       "                love\n",
       "            </td>\n",
       "        </tr>\n",
       "    \n",
       "        <tr style=\"background-color: hsl(120, 100.00%, 80.17%); border: none;\">\n",
       "            <td style=\"padding: 0 1em 0 0.5em; text-align: right; border: none;\">\n",
       "                0.0418\n",
       "                \n",
       "                    &plusmn; 0.0344\n",
       "                \n",
       "            </td>\n",
       "            <td style=\"padding: 0 0.5em 0 0.5em; text-align: left; border: none;\">\n",
       "                not\n",
       "            </td>\n",
       "        </tr>\n",
       "    \n",
       "        <tr style=\"background-color: hsl(120, 100.00%, 87.23%); border: none;\">\n",
       "            <td style=\"padding: 0 1em 0 0.5em; text-align: right; border: none;\">\n",
       "                0.0223\n",
       "                \n",
       "                    &plusmn; 0.0204\n",
       "                \n",
       "            </td>\n",
       "            <td style=\"padding: 0 0.5em 0 0.5em; text-align: left; border: none;\">\n",
       "                good\n",
       "            </td>\n",
       "        </tr>\n",
       "    \n",
       "        <tr style=\"background-color: hsl(120, 100.00%, 87.58%); border: none;\">\n",
       "            <td style=\"padding: 0 1em 0 0.5em; text-align: right; border: none;\">\n",
       "                0.0214\n",
       "                \n",
       "                    &plusmn; 0.0272\n",
       "                \n",
       "            </td>\n",
       "            <td style=\"padding: 0 0.5em 0 0.5em; text-align: left; border: none;\">\n",
       "                great\n",
       "            </td>\n",
       "        </tr>\n",
       "    \n",
       "        <tr style=\"background-color: hsl(120, 100.00%, 89.58%); border: none;\">\n",
       "            <td style=\"padding: 0 1em 0 0.5em; text-align: right; border: none;\">\n",
       "                0.0167\n",
       "                \n",
       "                    &plusmn; 0.0223\n",
       "                \n",
       "            </td>\n",
       "            <td style=\"padding: 0 0.5em 0 0.5em; text-align: left; border: none;\">\n",
       "                would\n",
       "            </td>\n",
       "        </tr>\n",
       "    \n",
       "        <tr style=\"background-color: hsl(120, 100.00%, 89.89%); border: none;\">\n",
       "            <td style=\"padding: 0 1em 0 0.5em; text-align: right; border: none;\">\n",
       "                0.0160\n",
       "                \n",
       "                    &plusmn; 0.0240\n",
       "                \n",
       "            </td>\n",
       "            <td style=\"padding: 0 0.5em 0 0.5em; text-align: left; border: none;\">\n",
       "                howev\n",
       "            </td>\n",
       "        </tr>\n",
       "    \n",
       "        <tr style=\"background-color: hsl(120, 100.00%, 91.49%); border: none;\">\n",
       "            <td style=\"padding: 0 1em 0 0.5em; text-align: right; border: none;\">\n",
       "                0.0125\n",
       "                \n",
       "                    &plusmn; 0.0190\n",
       "                \n",
       "            </td>\n",
       "            <td style=\"padding: 0 0.5em 0 0.5em; text-align: left; border: none;\">\n",
       "                wonder\n",
       "            </td>\n",
       "        </tr>\n",
       "    \n",
       "        <tr style=\"background-color: hsl(120, 100.00%, 91.65%); border: none;\">\n",
       "            <td style=\"padding: 0 1em 0 0.5em; text-align: right; border: none;\">\n",
       "                0.0121\n",
       "                \n",
       "                    &plusmn; 0.0202\n",
       "                \n",
       "            </td>\n",
       "            <td style=\"padding: 0 0.5em 0 0.5em; text-align: left; border: none;\">\n",
       "                excel\n",
       "            </td>\n",
       "        </tr>\n",
       "    \n",
       "        <tr style=\"background-color: hsl(120, 100.00%, 91.75%); border: none;\">\n",
       "            <td style=\"padding: 0 1em 0 0.5em; text-align: right; border: none;\">\n",
       "                0.0119\n",
       "                \n",
       "                    &plusmn; 0.0271\n",
       "                \n",
       "            </td>\n",
       "            <td style=\"padding: 0 0.5em 0 0.5em; text-align: left; border: none;\">\n",
       "                disappoint\n",
       "            </td>\n",
       "        </tr>\n",
       "    \n",
       "        <tr style=\"background-color: hsl(120, 100.00%, 91.78%); border: none;\">\n",
       "            <td style=\"padding: 0 1em 0 0.5em; text-align: right; border: none;\">\n",
       "                0.0119\n",
       "                \n",
       "                    &plusmn; 0.0252\n",
       "                \n",
       "            </td>\n",
       "            <td style=\"padding: 0 0.5em 0 0.5em; text-align: left; border: none;\">\n",
       "                much\n",
       "            </td>\n",
       "        </tr>\n",
       "    \n",
       "        <tr style=\"background-color: hsl(120, 100.00%, 92.22%); border: none;\">\n",
       "            <td style=\"padding: 0 1em 0 0.5em; text-align: right; border: none;\">\n",
       "                0.0110\n",
       "                \n",
       "                    &plusmn; 0.0251\n",
       "                \n",
       "            </td>\n",
       "            <td style=\"padding: 0 0.5em 0 0.5em; text-align: left; border: none;\">\n",
       "                seem\n",
       "            </td>\n",
       "        </tr>\n",
       "    \n",
       "        <tr style=\"background-color: hsl(120, 100.00%, 92.40%); border: none;\">\n",
       "            <td style=\"padding: 0 1em 0 0.5em; text-align: right; border: none;\">\n",
       "                0.0106\n",
       "                \n",
       "                    &plusmn; 0.0111\n",
       "                \n",
       "            </td>\n",
       "            <td style=\"padding: 0 0.5em 0 0.5em; text-align: left; border: none;\">\n",
       "                well\n",
       "            </td>\n",
       "        </tr>\n",
       "    \n",
       "        <tr style=\"background-color: hsl(120, 100.00%, 92.65%); border: none;\">\n",
       "            <td style=\"padding: 0 1em 0 0.5em; text-align: right; border: none;\">\n",
       "                0.0101\n",
       "                \n",
       "                    &plusmn; 0.0223\n",
       "                \n",
       "            </td>\n",
       "            <td style=\"padding: 0 0.5em 0 0.5em; text-align: left; border: none;\">\n",
       "                high\n",
       "            </td>\n",
       "        </tr>\n",
       "    \n",
       "        <tr style=\"background-color: hsl(120, 100.00%, 92.92%); border: none;\">\n",
       "            <td style=\"padding: 0 1em 0 0.5em; text-align: right; border: none;\">\n",
       "                0.0096\n",
       "                \n",
       "                    &plusmn; 0.0126\n",
       "                \n",
       "            </td>\n",
       "            <td style=\"padding: 0 0.5em 0 0.5em; text-align: left; border: none;\">\n",
       "                like\n",
       "            </td>\n",
       "        </tr>\n",
       "    \n",
       "        <tr style=\"background-color: hsl(120, 100.00%, 93.02%); border: none;\">\n",
       "            <td style=\"padding: 0 1em 0 0.5em; text-align: right; border: none;\">\n",
       "                0.0094\n",
       "                \n",
       "                    &plusmn; 0.0176\n",
       "                \n",
       "            </td>\n",
       "            <td style=\"padding: 0 0.5em 0 0.5em; text-align: left; border: none;\">\n",
       "                understand\n",
       "            </td>\n",
       "        </tr>\n",
       "    \n",
       "        <tr style=\"background-color: hsl(120, 100.00%, 93.05%); border: none;\">\n",
       "            <td style=\"padding: 0 1em 0 0.5em; text-align: right; border: none;\">\n",
       "                0.0094\n",
       "                \n",
       "                    &plusmn; 0.0148\n",
       "                \n",
       "            </td>\n",
       "            <td style=\"padding: 0 0.5em 0 0.5em; text-align: left; border: none;\">\n",
       "                read\n",
       "            </td>\n",
       "        </tr>\n",
       "    \n",
       "        <tr style=\"background-color: hsl(120, 100.00%, 93.39%); border: none;\">\n",
       "            <td style=\"padding: 0 1em 0 0.5em; text-align: right; border: none;\">\n",
       "                0.0087\n",
       "                \n",
       "                    &plusmn; 0.0187\n",
       "                \n",
       "            </td>\n",
       "            <td style=\"padding: 0 0.5em 0 0.5em; text-align: left; border: none;\">\n",
       "                bit\n",
       "            </td>\n",
       "        </tr>\n",
       "    \n",
       "        <tr style=\"background-color: hsl(120, 100.00%, 93.49%); border: none;\">\n",
       "            <td style=\"padding: 0 1em 0 0.5em; text-align: right; border: none;\">\n",
       "                0.0085\n",
       "                \n",
       "                    &plusmn; 0.0156\n",
       "                \n",
       "            </td>\n",
       "            <td style=\"padding: 0 0.5em 0 0.5em; text-align: left; border: none;\">\n",
       "                recommend\n",
       "            </td>\n",
       "        </tr>\n",
       "    \n",
       "        <tr style=\"background-color: hsl(120, 100.00%, 93.55%); border: none;\">\n",
       "            <td style=\"padding: 0 1em 0 0.5em; text-align: right; border: none;\">\n",
       "                0.0084\n",
       "                \n",
       "                    &plusmn; 0.0174\n",
       "                \n",
       "            </td>\n",
       "            <td style=\"padding: 0 0.5em 0 0.5em; text-align: left; border: none;\">\n",
       "                learn\n",
       "            </td>\n",
       "        </tr>\n",
       "    \n",
       "        <tr style=\"background-color: hsl(120, 100.00%, 93.82%); border: none;\">\n",
       "            <td style=\"padding: 0 1em 0 0.5em; text-align: right; border: none;\">\n",
       "                0.0079\n",
       "                \n",
       "                    &plusmn; 0.0096\n",
       "                \n",
       "            </td>\n",
       "            <td style=\"padding: 0 0.5em 0 0.5em; text-align: left; border: none;\">\n",
       "                best\n",
       "            </td>\n",
       "        </tr>\n",
       "    \n",
       "    \n",
       "        \n",
       "            <tr style=\"background-color: hsl(120, 100.00%, 93.82%); border: none;\">\n",
       "                <td colspan=\"2\" style=\"padding: 0 0.5em 0 0.5em; text-align: center; border: none; white-space: nowrap;\">\n",
       "                    <i>&hellip; 36918 more &hellip;</i>\n",
       "                </td>\n",
       "            </tr>\n",
       "        \n",
       "    \n",
       "    </tbody>\n",
       "</table>\n",
       "    \n",
       "\n",
       "    \n",
       "\n",
       "\n",
       "    \n",
       "\n",
       "    \n",
       "\n",
       "    \n",
       "\n",
       "    \n",
       "\n",
       "    \n",
       "\n",
       "    \n",
       "\n",
       "\n",
       "\n"
      ],
      "text/plain": [
       "<IPython.core.display.HTML object>"
      ]
     },
     "execution_count": 74,
     "metadata": {},
     "output_type": "execute_result"
    }
   ],
   "source": [
    "import eli5\n",
    "eli5.show_weights(rf_clf, vec=tfidf, top=20, target_names=y_test)"
   ]
  },
  {
   "cell_type": "code",
   "execution_count": 75,
   "metadata": {},
   "outputs": [
    {
     "name": "stdout",
     "output_type": "stream",
     "text": [
      "[0 0]\n"
     ]
    }
   ],
   "source": [
    "# test the current model\n",
    "print(rf_clf.predict(tfidf.transform(['This book is not good. I do not recommend that you ever read it',\n",
    "                                       'This book is not bad at all. I highly recommend this for anyone'])))"
   ]
  },
  {
   "cell_type": "code",
   "execution_count": 76,
   "metadata": {},
   "outputs": [
    {
     "name": "stdout",
     "output_type": "stream",
     "text": [
      "[0 1]\n"
     ]
    }
   ],
   "source": [
    "# test the current model with more extreme review text\n",
    "print(rf_clf.predict(tfidf.transform(['This is a big disappointing bore. I expected more. Unfortunately I was wrong',\n",
    "                                       'This book awesome. You should totally read it'])))"
   ]
  },
  {
   "cell_type": "code",
   "execution_count": 77,
   "metadata": {},
   "outputs": [
    {
     "name": "stdout",
     "output_type": "stream",
     "text": [
      "[0 0]\n"
     ]
    }
   ],
   "source": [
    "# test test without 'not' bigrams\n",
    "print(rf_clf.predict(tfidf.transform(['This book is bad. Avoid reading it',\n",
    "                                       'This book is good. I highly recommend this for everyone'])))"
   ]
  },
  {
   "cell_type": "markdown",
   "metadata": {},
   "source": [
    "## Fit LogisticRegressionCV classifier"
   ]
  },
  {
   "cell_type": "code",
   "execution_count": 78,
   "metadata": {},
   "outputs": [
    {
     "data": {
      "text/plain": [
       "0.81567796610169496"
      ]
     },
     "execution_count": 78,
     "metadata": {},
     "output_type": "execute_result"
    }
   ],
   "source": [
    "# Logistic Regression CV classifier.\n",
    "logreg_clf = LogisticRegressionCV(scoring='roc_auc', class_weight='balanced').fit(X_train_tfidf, y_train)\n",
    "\n",
    "predicted_logreg_clf = logreg_clf.predict(X_test_tfidf)\n",
    "\n",
    "metrics.f1_score(y_test, predicted_logreg_clf)"
   ]
  },
  {
   "cell_type": "code",
   "execution_count": 79,
   "metadata": {},
   "outputs": [
    {
     "data": {
      "text/plain": [
       "array([[ 651,  320],\n",
       "       [ 376, 1540]])"
      ]
     },
     "execution_count": 79,
     "metadata": {},
     "output_type": "execute_result"
    }
   ],
   "source": [
    "# print the confusion matrix \n",
    "metrics.confusion_matrix(y_test, predicted_logreg_clf)"
   ]
  },
  {
   "cell_type": "code",
   "execution_count": 80,
   "metadata": {},
   "outputs": [
    {
     "data": {
      "text/plain": [
       "array([ 0.82249922,  0.65528285,  0.17260319, ...,  0.90989356,\n",
       "        0.91937177,  0.90839186])"
      ]
     },
     "execution_count": 80,
     "metadata": {},
     "output_type": "execute_result"
    }
   ],
   "source": [
    "# calculate predicted probabilities for X_test with stemmed Logistic Regression model\n",
    "y_pred_prob_logreg_clf = logreg_clf.predict_proba(X_test_tfidf)[:, 1]\n",
    "y_pred_prob_logreg_clf"
   ]
  },
  {
   "cell_type": "code",
   "execution_count": 81,
   "metadata": {},
   "outputs": [
    {
     "data": {
      "image/png": "[encoded data removed]",
      "text/plain": [
       "<matplotlib.figure.Figure at 0x1a19a23be0>"
      ]
     },
     "metadata": {},
     "output_type": "display_data"
    }
   ],
   "source": [
    "# Generate ROC curve values: fpr, tpr, thresholds\n",
    "fpr, tpr, thresholds = roc_curve(y_test, y_pred_prob_logreg_clf)\n",
    "\n",
    "# Plot ROC curve\n",
    "plt.plot([0, 1], [0, 1], 'k--')\n",
    "plt.plot(fpr, tpr)\n",
    "plt.xlabel('False Positive Rate')\n",
    "plt.ylabel('True Positive Rate')\n",
    "plt.title('ROC Curve for LogisticRegressionCV, balanced classes')\n",
    "plt.show()"
   ]
  },
  {
   "cell_type": "code",
   "execution_count": 82,
   "metadata": {},
   "outputs": [
    {
     "data": {
      "text/plain": [
       "0.8134012672298323"
      ]
     },
     "execution_count": 82,
     "metadata": {},
     "output_type": "execute_result"
    }
   ],
   "source": [
    "# calculate AUC for LogisticRegressionCV classifier\n",
    "metrics.roc_auc_score(y_test, y_pred_prob_logreg_clf)"
   ]
  },
  {
   "cell_type": "code",
   "execution_count": 83,
   "metadata": {},
   "outputs": [
    {
     "data": {
      "text/html": [
       "\n",
       "    <style>\n",
       "    table.eli5-weights tr:hover {\n",
       "        filter: brightness(85%);\n",
       "    }\n",
       "</style>\n",
       "\n",
       "\n",
       "\n",
       "    \n",
       "\n",
       "    \n",
       "\n",
       "    \n",
       "\n",
       "    \n",
       "\n",
       "    \n",
       "\n",
       "    \n",
       "\n",
       "\n",
       "    \n",
       "\n",
       "    \n",
       "\n",
       "    \n",
       "\n",
       "    \n",
       "        \n",
       "\n",
       "    \n",
       "\n",
       "        \n",
       "            \n",
       "                \n",
       "                \n",
       "    \n",
       "        <p style=\"margin-bottom: 0.5em; margin-top: 0em\">\n",
       "            <b>\n",
       "    \n",
       "        y=1\n",
       "    \n",
       "</b>\n",
       "\n",
       "top features\n",
       "        </p>\n",
       "    \n",
       "    <table class=\"eli5-weights\"\n",
       "           style=\"border-collapse: collapse; border: none; margin-top: 0em; table-layout: auto; margin-bottom: 2em;\">\n",
       "        <thead>\n",
       "        <tr style=\"border: none;\">\n",
       "            \n",
       "                <th style=\"padding: 0 1em 0 0.5em; text-align: right; border: none;\" title=\"Feature weights. Note that weights do not account for feature value scales, so if feature values have different scales, features with highest weights might not be the most important.\">\n",
       "                    Weight<sup>?</sup>\n",
       "                </th>\n",
       "            \n",
       "            <th style=\"padding: 0 0.5em 0 0.5em; text-align: left; border: none;\">Feature</th>\n",
       "            \n",
       "        </tr>\n",
       "        </thead>\n",
       "        <tbody>\n",
       "        \n",
       "            <tr style=\"background-color: hsl(120, 100.00%, 80.15%); border: none;\">\n",
       "    <td style=\"padding: 0 1em 0 0.5em; text-align: right; border: none;\">\n",
       "        +5.262\n",
       "    </td>\n",
       "    <td style=\"padding: 0 0.5em 0 0.5em; text-align: left; border: none;\">\n",
       "        excel\n",
       "    </td>\n",
       "    \n",
       "</tr>\n",
       "        \n",
       "            <tr style=\"background-color: hsl(120, 100.00%, 81.77%); border: none;\">\n",
       "    <td style=\"padding: 0 1em 0 0.5em; text-align: right; border: none;\">\n",
       "        +4.659\n",
       "    </td>\n",
       "    <td style=\"padding: 0 0.5em 0 0.5em; text-align: left; border: none;\">\n",
       "        wonder\n",
       "    </td>\n",
       "    \n",
       "</tr>\n",
       "        \n",
       "            <tr style=\"background-color: hsl(120, 100.00%, 82.59%); border: none;\">\n",
       "    <td style=\"padding: 0 1em 0 0.5em; text-align: right; border: none;\">\n",
       "        +4.364\n",
       "    </td>\n",
       "    <td style=\"padding: 0 0.5em 0 0.5em; text-align: left; border: none;\">\n",
       "        love\n",
       "    </td>\n",
       "    \n",
       "</tr>\n",
       "        \n",
       "            <tr style=\"background-color: hsl(120, 100.00%, 83.08%); border: none;\">\n",
       "    <td style=\"padding: 0 1em 0 0.5em; text-align: right; border: none;\">\n",
       "        +4.188\n",
       "    </td>\n",
       "    <td style=\"padding: 0 0.5em 0 0.5em; text-align: left; border: none;\">\n",
       "        great\n",
       "    </td>\n",
       "    \n",
       "</tr>\n",
       "        \n",
       "            <tr style=\"background-color: hsl(120, 100.00%, 84.30%); border: none;\">\n",
       "    <td style=\"padding: 0 1em 0 0.5em; text-align: right; border: none;\">\n",
       "        +3.765\n",
       "    </td>\n",
       "    <td style=\"padding: 0 0.5em 0 0.5em; text-align: left; border: none;\">\n",
       "        perfect\n",
       "    </td>\n",
       "    \n",
       "</tr>\n",
       "        \n",
       "            <tr style=\"background-color: hsl(120, 100.00%, 86.01%); border: none;\">\n",
       "    <td style=\"padding: 0 1em 0 0.5em; text-align: right; border: none;\">\n",
       "        +3.193\n",
       "    </td>\n",
       "    <td style=\"padding: 0 0.5em 0 0.5em; text-align: left; border: none;\">\n",
       "        everi\n",
       "    </td>\n",
       "    \n",
       "</tr>\n",
       "        \n",
       "            <tr style=\"background-color: hsl(120, 100.00%, 86.21%); border: none;\">\n",
       "    <td style=\"padding: 0 1em 0 0.5em; text-align: right; border: none;\">\n",
       "        +3.129\n",
       "    </td>\n",
       "    <td style=\"padding: 0 0.5em 0 0.5em; text-align: left; border: none;\">\n",
       "        conspiraci\n",
       "    </td>\n",
       "    \n",
       "</tr>\n",
       "        \n",
       "            <tr style=\"background-color: hsl(120, 100.00%, 86.22%); border: none;\">\n",
       "    <td style=\"padding: 0 1em 0 0.5em; text-align: right; border: none;\">\n",
       "        +3.125\n",
       "    </td>\n",
       "    <td style=\"padding: 0 0.5em 0 0.5em; text-align: left; border: none;\">\n",
       "        high\n",
       "    </td>\n",
       "    \n",
       "</tr>\n",
       "        \n",
       "            <tr style=\"background-color: hsl(120, 100.00%, 86.37%); border: none;\">\n",
       "    <td style=\"padding: 0 1em 0 0.5em; text-align: right; border: none;\">\n",
       "        +3.076\n",
       "    </td>\n",
       "    <td style=\"padding: 0 0.5em 0 0.5em; text-align: left; border: none;\">\n",
       "        high recommend\n",
       "    </td>\n",
       "    \n",
       "</tr>\n",
       "        \n",
       "        \n",
       "            <tr style=\"background-color: hsl(120, 100.00%, 86.37%); border: none;\">\n",
       "                <td colspan=\"2\" style=\"padding: 0 0.5em 0 0.5em; text-align: center; border: none; white-space: nowrap;\">\n",
       "                    <i>&hellip; 19630 more positive &hellip;</i>\n",
       "                </td>\n",
       "            </tr>\n",
       "        \n",
       "\n",
       "        \n",
       "            <tr style=\"background-color: hsl(0, 100.00%, 86.41%); border: none;\">\n",
       "                <td colspan=\"2\" style=\"padding: 0 0.5em 0 0.5em; text-align: center; border: none; white-space: nowrap;\">\n",
       "                    <i>&hellip; 17289 more negative &hellip;</i>\n",
       "                </td>\n",
       "            </tr>\n",
       "        \n",
       "        \n",
       "            <tr style=\"background-color: hsl(0, 100.00%, 86.41%); border: none;\">\n",
       "    <td style=\"padding: 0 1em 0 0.5em; text-align: right; border: none;\">\n",
       "        -3.064\n",
       "    </td>\n",
       "    <td style=\"padding: 0 0.5em 0 0.5em; text-align: left; border: none;\">\n",
       "        lack\n",
       "    </td>\n",
       "    \n",
       "</tr>\n",
       "        \n",
       "            <tr style=\"background-color: hsl(0, 100.00%, 86.23%); border: none;\">\n",
       "    <td style=\"padding: 0 1em 0 0.5em; text-align: right; border: none;\">\n",
       "        -3.121\n",
       "    </td>\n",
       "    <td style=\"padding: 0 0.5em 0 0.5em; text-align: left; border: none;\">\n",
       "        page\n",
       "    </td>\n",
       "    \n",
       "</tr>\n",
       "        \n",
       "            <tr style=\"background-color: hsl(0, 100.00%, 86.22%); border: none;\">\n",
       "    <td style=\"padding: 0 1em 0 0.5em; text-align: right; border: none;\">\n",
       "        -3.123\n",
       "    </td>\n",
       "    <td style=\"padding: 0 0.5em 0 0.5em; text-align: left; border: none;\">\n",
       "        ok\n",
       "    </td>\n",
       "    \n",
       "</tr>\n",
       "        \n",
       "            <tr style=\"background-color: hsl(0, 100.00%, 86.00%); border: none;\">\n",
       "    <td style=\"padding: 0 1em 0 0.5em; text-align: right; border: none;\">\n",
       "        -3.196\n",
       "    </td>\n",
       "    <td style=\"padding: 0 0.5em 0 0.5em; text-align: left; border: none;\">\n",
       "        bore\n",
       "    </td>\n",
       "    \n",
       "</tr>\n",
       "        \n",
       "            <tr style=\"background-color: hsl(0, 100.00%, 85.86%); border: none;\">\n",
       "    <td style=\"padding: 0 1em 0 0.5em; text-align: right; border: none;\">\n",
       "        -3.240\n",
       "    </td>\n",
       "    <td style=\"padding: 0 0.5em 0 0.5em; text-align: left; border: none;\">\n",
       "        good\n",
       "    </td>\n",
       "    \n",
       "</tr>\n",
       "        \n",
       "            <tr style=\"background-color: hsl(0, 100.00%, 84.18%); border: none;\">\n",
       "    <td style=\"padding: 0 1em 0 0.5em; text-align: right; border: none;\">\n",
       "        -3.807\n",
       "    </td>\n",
       "    <td style=\"padding: 0 0.5em 0 0.5em; text-align: left; border: none;\">\n",
       "        unfortun\n",
       "    </td>\n",
       "    \n",
       "</tr>\n",
       "        \n",
       "            <tr style=\"background-color: hsl(0, 100.00%, 84.06%); border: none;\">\n",
       "    <td style=\"padding: 0 1em 0 0.5em; text-align: right; border: none;\">\n",
       "        -3.847\n",
       "    </td>\n",
       "    <td style=\"padding: 0 0.5em 0 0.5em; text-align: left; border: none;\">\n",
       "        would\n",
       "    </td>\n",
       "    \n",
       "</tr>\n",
       "        \n",
       "            <tr style=\"background-color: hsl(0, 100.00%, 84.02%); border: none;\">\n",
       "    <td style=\"padding: 0 1em 0 0.5em; text-align: right; border: none;\">\n",
       "        -3.860\n",
       "    </td>\n",
       "    <td style=\"padding: 0 0.5em 0 0.5em; text-align: left; border: none;\">\n",
       "        seem\n",
       "    </td>\n",
       "    \n",
       "</tr>\n",
       "        \n",
       "            <tr style=\"background-color: hsl(0, 100.00%, 83.64%); border: none;\">\n",
       "    <td style=\"padding: 0 1em 0 0.5em; text-align: right; border: none;\">\n",
       "        -3.992\n",
       "    </td>\n",
       "    <td style=\"padding: 0 0.5em 0 0.5em; text-align: left; border: none;\">\n",
       "        howev\n",
       "    </td>\n",
       "    \n",
       "</tr>\n",
       "        \n",
       "            <tr style=\"background-color: hsl(0, 100.00%, 80.14%); border: none;\">\n",
       "    <td style=\"padding: 0 1em 0 0.5em; text-align: right; border: none;\">\n",
       "        -5.268\n",
       "    </td>\n",
       "    <td style=\"padding: 0 0.5em 0 0.5em; text-align: left; border: none;\">\n",
       "        disappoint\n",
       "    </td>\n",
       "    \n",
       "</tr>\n",
       "        \n",
       "            <tr style=\"background-color: hsl(0, 100.00%, 80.00%); border: none;\">\n",
       "    <td style=\"padding: 0 1em 0 0.5em; text-align: right; border: none;\">\n",
       "        -5.320\n",
       "    </td>\n",
       "    <td style=\"padding: 0 0.5em 0 0.5em; text-align: left; border: none;\">\n",
       "        not\n",
       "    </td>\n",
       "    \n",
       "</tr>\n",
       "        \n",
       "\n",
       "        </tbody>\n",
       "    </table>\n",
       "\n",
       "            \n",
       "        \n",
       "\n",
       "        \n",
       "\n",
       "\n",
       "\n",
       "    \n",
       "\n",
       "    \n",
       "\n",
       "    \n",
       "\n",
       "    \n",
       "\n",
       "\n",
       "    \n",
       "\n",
       "    \n",
       "\n",
       "    \n",
       "\n",
       "    \n",
       "\n",
       "    \n",
       "\n",
       "    \n",
       "\n",
       "\n",
       "    \n",
       "\n",
       "    \n",
       "\n",
       "    \n",
       "\n",
       "    \n",
       "\n",
       "    \n",
       "\n",
       "    \n",
       "\n",
       "\n",
       "\n"
      ],
      "text/plain": [
       "<IPython.core.display.HTML object>"
      ]
     },
     "execution_count": 83,
     "metadata": {},
     "output_type": "execute_result"
    }
   ],
   "source": [
    "import eli5\n",
    "eli5.show_weights(logreg_clf, vec=tfidf, top=20, target_names=y_test)"
   ]
  },
  {
   "cell_type": "code",
   "execution_count": 84,
   "metadata": {},
   "outputs": [
    {
     "data": {
      "text/plain": [
       "LogisticRegressionCV(Cs=10, class_weight='balanced', cv=None, dual=False,\n",
       "           fit_intercept=True, intercept_scaling=1.0, max_iter=100,\n",
       "           multi_class='ovr', n_jobs=1, penalty='l2', random_state=None,\n",
       "           refit=True, scoring='roc_auc', solver='lbfgs', tol=0.0001,\n",
       "           verbose=0)"
      ]
     },
     "execution_count": 84,
     "metadata": {},
     "output_type": "execute_result"
    }
   ],
   "source": [
    "# view paramaters of logistic regression CV\n",
    "logreg_clf"
   ]
  },
  {
   "cell_type": "code",
   "execution_count": 85,
   "metadata": {},
   "outputs": [
    {
     "name": "stdout",
     "output_type": "stream",
     "text": [
      "[0 0]\n"
     ]
    }
   ],
   "source": [
    "# test the current model\n",
    "print(logreg_clf.predict(tfidf.transform(['This book is not good. I do not recommend that you ever read it',\n",
    "                                       'This book is not bad at all. I highly recommend this for anyone'])))"
   ]
  },
  {
   "cell_type": "code",
   "execution_count": 86,
   "metadata": {},
   "outputs": [
    {
     "name": "stdout",
     "output_type": "stream",
     "text": [
      "[0 1]\n"
     ]
    }
   ],
   "source": [
    "# test the current model\n",
    "print(logreg_clf.predict(tfidf.transform(['This is a big disappointing bore. I expected more. Unfortunately I was wrong',\n",
    "                                       'This book awesome. You should totally read it'])))"
   ]
  },
  {
   "cell_type": "code",
   "execution_count": 87,
   "metadata": {},
   "outputs": [
    {
     "name": "stdout",
     "output_type": "stream",
     "text": [
      "[0 0]\n"
     ]
    }
   ],
   "source": [
    "# test test without 'not' bigrams\n",
    "print(logreg_clf.predict(tfidf.transform(['This book is bad. Avoid reading it',\n",
    "                                       'This book is good. I highly recommend this for everyone'])))"
   ]
  },
  {
   "cell_type": "markdown",
   "metadata": {},
   "source": [
    "## Fit Support Vector Machines classifier"
   ]
  },
  {
   "cell_type": "code",
   "execution_count": 88,
   "metadata": {},
   "outputs": [
    {
     "data": {
      "text/plain": [
       "0.80779498131340111"
      ]
     },
     "execution_count": 88,
     "metadata": {},
     "output_type": "execute_result"
    }
   ],
   "source": [
    "# try fitting with Support Vector Machines (SVM) algorithm with CountVectorizer (does not work with TFIDFVect)\n",
    "clf_svm = SGDClassifier(max_iter=5, tol=None, alpha=0.1, random_state=42, class_weight='balanced').fit(X_train_dtm, y_train)\n",
    "# parameters from GridSearch below\n",
    "predicted_svm = clf_svm.predict(X_test_dtm)\n",
    "\n",
    "metrics.f1_score(y_test, predicted_svm)"
   ]
  },
  {
   "cell_type": "code",
   "execution_count": 89,
   "metadata": {},
   "outputs": [
    {
     "data": {
      "text/plain": [
       "array([[ 654,  317],\n",
       "       [ 403, 1513]])"
      ]
     },
     "execution_count": 89,
     "metadata": {},
     "output_type": "execute_result"
    }
   ],
   "source": [
    "# print the confusion matrix \n",
    "metrics.confusion_matrix(y_test, predicted_svm)"
   ]
  },
  {
   "cell_type": "code",
   "execution_count": 90,
   "metadata": {},
   "outputs": [
    {
     "data": {
      "text/plain": [
       "0.73159920577757043"
      ]
     },
     "execution_count": 90,
     "metadata": {},
     "output_type": "execute_result"
    }
   ],
   "source": [
    "# calculate AUC\n",
    "metrics.roc_auc_score(y_test, predicted_svm)"
   ]
  },
  {
   "cell_type": "code",
   "execution_count": 91,
   "metadata": {},
   "outputs": [
    {
     "data": {
      "text/plain": [
       "['alpha',\n",
       " 'average',\n",
       " 'class_weight',\n",
       " 'epsilon',\n",
       " 'eta0',\n",
       " 'fit_intercept',\n",
       " 'l1_ratio',\n",
       " 'learning_rate',\n",
       " 'loss',\n",
       " 'max_iter',\n",
       " 'n_iter',\n",
       " 'n_jobs',\n",
       " 'penalty',\n",
       " 'power_t',\n",
       " 'random_state',\n",
       " 'shuffle',\n",
       " 'tol',\n",
       " 'verbose',\n",
       " 'warm_start']"
      ]
     },
     "execution_count": 91,
     "metadata": {},
     "output_type": "execute_result"
    }
   ],
   "source": [
    "# get a list of the all available unique keys for the grid parameters\n",
    "sorted(clf_svm.get_params().keys())"
   ]
  },
  {
   "cell_type": "code",
   "execution_count": 92,
   "metadata": {
    "collapsed": true
   },
   "outputs": [],
   "source": [
    "# apply GridSearchCV\n",
    "\n",
    "# create a list of performace parameters for performace tuning (ngram range, use idf?, best alpha)\n",
    "parameters = {'alpha': (1, 0.1, 0.001, 0.0001)}"
   ]
  },
  {
   "cell_type": "code",
   "execution_count": 93,
   "metadata": {
    "collapsed": true
   },
   "outputs": [],
   "source": [
    "# create an instance of the grid search by passing the classifier, parameters \n",
    "# and n_jobs=-1 which tells to use multiple cores from user machine.\n",
    "\n",
    "gs_svm = GridSearchCV(SGDClassifier(max_iter=5, tol=None, random_state=42, class_weight='balanced'), parameters, n_jobs=-1)\n",
    "gs_svm = gs_svm.fit(X_train_dtm, y_train)\n",
    "# cannot set scoring to F1 or roc_auc"
   ]
  },
  {
   "cell_type": "code",
   "execution_count": 94,
   "metadata": {},
   "outputs": [
    {
     "name": "stdout",
     "output_type": "stream",
     "text": [
      "Best score for text: 0.746275551449\n"
     ]
    }
   ],
   "source": [
    "# View the best accuracy score\n",
    "print('Best score for text:', gs_svm.best_score_) "
   ]
  },
  {
   "cell_type": "code",
   "execution_count": 95,
   "metadata": {},
   "outputs": [
    {
     "name": "stdout",
     "output_type": "stream",
     "text": [
      "Best parameters: {'alpha': 0.1}\n"
     ]
    }
   ],
   "source": [
    "# View the best parameters\n",
    "print('Best parameters:', gs_svm.best_params_) \n",
    "# Best parameters: {'alpha': 0.1}"
   ]
  },
  {
   "cell_type": "code",
   "execution_count": 96,
   "metadata": {},
   "outputs": [
    {
     "data": {
      "text/plain": [
       "SGDClassifier(alpha=0.1, average=False, class_weight='balanced', epsilon=0.1,\n",
       "       eta0=0.0, fit_intercept=True, l1_ratio=0.15,\n",
       "       learning_rate='optimal', loss='hinge', max_iter=5, n_iter=None,\n",
       "       n_jobs=1, penalty='l2', power_t=0.5, random_state=42, shuffle=True,\n",
       "       tol=None, verbose=0, warm_start=False)"
      ]
     },
     "execution_count": 96,
     "metadata": {},
     "output_type": "execute_result"
    }
   ],
   "source": [
    "# view the SVM parameters from grid search\n",
    "clf_svm"
   ]
  },
  {
   "cell_type": "code",
   "execution_count": 97,
   "metadata": {},
   "outputs": [
    {
     "name": "stdout",
     "output_type": "stream",
     "text": [
      "[0 0]\n"
     ]
    }
   ],
   "source": [
    "# test the current model\n",
    "print(clf_svm.predict(tfidf.transform(['This book is not good. I do not recommend that you ever read it',\n",
    "                                       'This book is not bad at all. I highly recommend this for anyone'])))"
   ]
  },
  {
   "cell_type": "code",
   "execution_count": 98,
   "metadata": {},
   "outputs": [
    {
     "name": "stdout",
     "output_type": "stream",
     "text": [
      "[0 1]\n"
     ]
    }
   ],
   "source": [
    "# test the current model\n",
    "print(clf_svm.predict(tfidf.transform(['This is a big disappointing bore. I expected more. Unfortunately I was wrong',\n",
    "                                       'This book awesome. You should totally read it'])))"
   ]
  },
  {
   "cell_type": "code",
   "execution_count": 99,
   "metadata": {},
   "outputs": [
    {
     "name": "stdout",
     "output_type": "stream",
     "text": [
      "[0 0]\n"
     ]
    }
   ],
   "source": [
    "# test test without 'not' bigrams\n",
    "print(clf_svm.predict(tfidf.transform(['This book is bad. Avoid reading it',\n",
    "                                       'This book is good. I highly recommend this for everyone'])))"
   ]
  },
  {
   "cell_type": "markdown",
   "metadata": {},
   "source": [
    "### Can we improve parameterization of models with Pipelines?\n",
    "#### Pipeline with CountVectorizer, TfidfTransformer, MultinomialNB classifier"
   ]
  },
  {
   "cell_type": "code",
   "execution_count": 100,
   "metadata": {
    "collapsed": true
   },
   "outputs": [],
   "source": [
    "# Can we do better with a pipeline?\n",
    "# build pipeline with vectorizer, transformer, classifier\n",
    "count_vec = CountVectorizer(ngram_range=(1,2))\n",
    "tf_idf = TfidfTransformer()\n",
    "clf_mnb = MultinomialNB()\n",
    "\n",
    "steps = [('count_vec', count_vec),\n",
    "         ('tf_idf', tf_idf),\n",
    "         ('clf_mnb', clf_mnb)]\n",
    "\n",
    "p_grid = [{'count_vec__min_df': [5,6,7]}]\n",
    "\n",
    "pipeline = Pipeline(steps)\n",
    "skf = StratifiedKFold(n_splits=5, shuffle=True, random_state=42)\n",
    "nb_gs = GridSearchCV(pipeline, param_grid=p_grid, cv=skf, scoring='roc_auc', n_jobs=-1)"
   ]
  },
  {
   "cell_type": "code",
   "execution_count": 101,
   "metadata": {},
   "outputs": [
    {
     "data": {
      "text/plain": [
       "GridSearchCV(cv=StratifiedKFold(n_splits=5, random_state=42, shuffle=True),\n",
       "       error_score='raise',\n",
       "       estimator=Pipeline(memory=None,\n",
       "     steps=[('count_vec', CountVectorizer(analyzer='word', binary=False, decode_error='strict',\n",
       "        dtype=<class 'numpy.int64'>, encoding='utf-8', input='content',\n",
       "        lowercase=True, max_df=1.0, max_features=None, min_df=1,\n",
       "        ngram_range=(1, 2), preprocessor=None, stop_words=None,\n",
       "        ...r_tf=False, use_idf=True)), ('clf_mnb', MultinomialNB(alpha=1.0, class_prior=None, fit_prior=True))]),\n",
       "       fit_params=None, iid=True, n_jobs=-1,\n",
       "       param_grid=[{'count_vec__min_df': [5, 6, 7]}],\n",
       "       pre_dispatch='2*n_jobs', refit=True, return_train_score=True,\n",
       "       scoring='roc_auc', verbose=0)"
      ]
     },
     "execution_count": 101,
     "metadata": {},
     "output_type": "execute_result"
    }
   ],
   "source": [
    "# view parameters of naive bayes pipeline and grid search\n",
    "nb_gs"
   ]
  },
  {
   "cell_type": "code",
   "execution_count": 102,
   "metadata": {},
   "outputs": [
    {
     "data": {
      "text/plain": [
       "['cv',\n",
       " 'error_score',\n",
       " 'estimator',\n",
       " 'estimator__clf_mnb',\n",
       " 'estimator__clf_mnb__alpha',\n",
       " 'estimator__clf_mnb__class_prior',\n",
       " 'estimator__clf_mnb__fit_prior',\n",
       " 'estimator__count_vec',\n",
       " 'estimator__count_vec__analyzer',\n",
       " 'estimator__count_vec__binary',\n",
       " 'estimator__count_vec__decode_error',\n",
       " 'estimator__count_vec__dtype',\n",
       " 'estimator__count_vec__encoding',\n",
       " 'estimator__count_vec__input',\n",
       " 'estimator__count_vec__lowercase',\n",
       " 'estimator__count_vec__max_df',\n",
       " 'estimator__count_vec__max_features',\n",
       " 'estimator__count_vec__min_df',\n",
       " 'estimator__count_vec__ngram_range',\n",
       " 'estimator__count_vec__preprocessor',\n",
       " 'estimator__count_vec__stop_words',\n",
       " 'estimator__count_vec__strip_accents',\n",
       " 'estimator__count_vec__token_pattern',\n",
       " 'estimator__count_vec__tokenizer',\n",
       " 'estimator__count_vec__vocabulary',\n",
       " 'estimator__memory',\n",
       " 'estimator__steps',\n",
       " 'estimator__tf_idf',\n",
       " 'estimator__tf_idf__norm',\n",
       " 'estimator__tf_idf__smooth_idf',\n",
       " 'estimator__tf_idf__sublinear_tf',\n",
       " 'estimator__tf_idf__use_idf',\n",
       " 'fit_params',\n",
       " 'iid',\n",
       " 'n_jobs',\n",
       " 'param_grid',\n",
       " 'pre_dispatch',\n",
       " 'refit',\n",
       " 'return_train_score',\n",
       " 'scoring',\n",
       " 'verbose']"
      ]
     },
     "execution_count": 102,
     "metadata": {},
     "output_type": "execute_result"
    }
   ],
   "source": [
    "# run this to get a list of the all available pipe-items unique keys for the grid parameters\n",
    "sorted(nb_gs.get_params().keys())"
   ]
  },
  {
   "cell_type": "code",
   "execution_count": 103,
   "metadata": {},
   "outputs": [
    {
     "name": "stdout",
     "output_type": "stream",
     "text": [
      "Best score for text: 0.789807749135\n",
      "Best parameters: {'count_vec__min_df': 5}\n"
     ]
    }
   ],
   "source": [
    "# Fitting the Naive Bayes model \n",
    "nb_gs.fit(X_train, y_train)\n",
    "y_pred = nb_gs.best_estimator_.predict(X_test)\n",
    "\n",
    "# View the best score (set to roc_auc) for MultinomialNB with GridSearch\n",
    "print('Best score for text:', nb_gs.best_score_) \n",
    "\n",
    "# View the best parameters\n",
    "print('Best parameters:', nb_gs.best_params_) "
   ]
  },
  {
   "cell_type": "markdown",
   "metadata": {},
   "source": [
    "#### Pipeline with CountVectorizer, TfidfTransformer, SVC classifier"
   ]
  },
  {
   "cell_type": "code",
   "execution_count": 104,
   "metadata": {
    "collapsed": true
   },
   "outputs": [],
   "source": [
    "# Build pipeline with Support Vector Machines SVC classifier\n",
    "count_vec = CountVectorizer()\n",
    "tf_idf = TfidfTransformer()\n",
    "clf_SVC = SVC(class_weight='balanced')\n",
    "\n",
    "steps = [('count_vec', count_vec),\n",
    "         ('tf_idf', tf_idf),\n",
    "         ('clf_SVC', clf_SVC)]\n",
    "\n",
    "p_grid = [{'count_vec__min_df': [4,5,6],\n",
    "           'clf_SVC__random_state': [42],\n",
    "           #'clf_SVC__kernel': ['linear', 'poly', 'rbf', 'sigmoid'],\n",
    "           #'clf_SVC__C': [0.1,1,10,100,1000],\n",
    "           #'clf_SVC__gamma': [0.1,1,10,100,1000]\n",
    "          }]\n",
    "\n",
    "pipeline = Pipeline(steps)\n",
    "skf = StratifiedKFold(n_splits=5, shuffle=True, random_state=42)\n",
    "svm_gs = GridSearchCV(pipeline, param_grid=p_grid, cv=skf, scoring='roc_auc', n_jobs=-1)"
   ]
  },
  {
   "cell_type": "code",
   "execution_count": 105,
   "metadata": {
    "collapsed": true
   },
   "outputs": [],
   "source": [
    "# Fitting the SVM model \n",
    "svm_gs.fit(X_train, y_train)\n",
    "y_pred_svm = svm_gs.best_estimator_.predict(X_test)"
   ]
  },
  {
   "cell_type": "code",
   "execution_count": 106,
   "metadata": {},
   "outputs": [
    {
     "name": "stdout",
     "output_type": "stream",
     "text": [
      "Best score for text: 0.770146635216\n",
      "Best parameters: {'clf_SVC__random_state': 42, 'count_vec__min_df': 4}\n"
     ]
    }
   ],
   "source": [
    "# View the best score (set to roc_auc) for SVC with GridSearch\n",
    "print('Best score for text:', svm_gs.best_score_) \n",
    "\n",
    "# View the best parameters\n",
    "print('Best parameters:', svm_gs.best_params_) "
   ]
  },
  {
   "cell_type": "markdown",
   "metadata": {},
   "source": [
    "#### Pipeline with CountVectorizer, TfidfTransformer, Random Forest classifier"
   ]
  },
  {
   "cell_type": "code",
   "execution_count": 110,
   "metadata": {
    "collapsed": true
   },
   "outputs": [],
   "source": [
    "# Testing the Random Forest Classifier on review data \n",
    "clf_RFC = RandomForestClassifier()\n",
    "\n",
    "steps = [('counts', CountVectorizer(min_df=1)),\n",
    "         ('tf_idf', TfidfTransformer()),\n",
    "         ('clf_RFC', RandomForestClassifier(random_state=42, class_weight='balanced'))]\n",
    "\n",
    "pipeline = Pipeline(steps)\n",
    "skf = StratifiedKFold(n_splits=5, shuffle=True, random_state=42)\n",
    "p_grid = [{'counts__min_df': [1,3,5],\n",
    "           'clf_RFC__n_estimators': [500,600,700], \n",
    "           #'clf_RFC__min_samples_leaf': range(1,30),\n",
    "           #'clf_RFC__min_samples_split': range(2,30)\n",
    "          }]\n",
    "\n",
    "rf_gs = GridSearchCV(pipeline, param_grid=p_grid, cv=skf, scoring='roc_auc', n_jobs=-1)"
   ]
  },
  {
   "cell_type": "code",
   "execution_count": 111,
   "metadata": {},
   "outputs": [
    {
     "data": {
      "text/plain": [
       "GridSearchCV(cv=StratifiedKFold(n_splits=5, random_state=42, shuffle=True),\n",
       "       error_score='raise',\n",
       "       estimator=Pipeline(memory=None,\n",
       "     steps=[('counts', CountVectorizer(analyzer='word', binary=False, decode_error='strict',\n",
       "        dtype=<class 'numpy.int64'>, encoding='utf-8', input='content',\n",
       "        lowercase=True, max_df=1.0, max_features=None, min_df=1,\n",
       "        ngram_range=(1, 1), preprocessor=None, stop_words=None,\n",
       "        str...stimators=10, n_jobs=1, oob_score=False, random_state=42,\n",
       "            verbose=0, warm_start=False))]),\n",
       "       fit_params=None, iid=True, n_jobs=-1,\n",
       "       param_grid=[{'counts__min_df': [1, 3, 5], 'clf_RFC__n_estimators': [500, 600, 700]}],\n",
       "       pre_dispatch='2*n_jobs', refit=True, return_train_score=True,\n",
       "       scoring='roc_auc', verbose=0)"
      ]
     },
     "execution_count": 111,
     "metadata": {},
     "output_type": "execute_result"
    }
   ],
   "source": [
    "# view random forest grid search parameters\n",
    "rf_gs"
   ]
  },
  {
   "cell_type": "code",
   "execution_count": 112,
   "metadata": {},
   "outputs": [
    {
     "data": {
      "text/plain": [
       "['cv',\n",
       " 'error_score',\n",
       " 'estimator',\n",
       " 'estimator__clf_RFC',\n",
       " 'estimator__clf_RFC__bootstrap',\n",
       " 'estimator__clf_RFC__class_weight',\n",
       " 'estimator__clf_RFC__criterion',\n",
       " 'estimator__clf_RFC__max_depth',\n",
       " 'estimator__clf_RFC__max_features',\n",
       " 'estimator__clf_RFC__max_leaf_nodes',\n",
       " 'estimator__clf_RFC__min_impurity_decrease',\n",
       " 'estimator__clf_RFC__min_impurity_split',\n",
       " 'estimator__clf_RFC__min_samples_leaf',\n",
       " 'estimator__clf_RFC__min_samples_split',\n",
       " 'estimator__clf_RFC__min_weight_fraction_leaf',\n",
       " 'estimator__clf_RFC__n_estimators',\n",
       " 'estimator__clf_RFC__n_jobs',\n",
       " 'estimator__clf_RFC__oob_score',\n",
       " 'estimator__clf_RFC__random_state',\n",
       " 'estimator__clf_RFC__verbose',\n",
       " 'estimator__clf_RFC__warm_start',\n",
       " 'estimator__counts',\n",
       " 'estimator__counts__analyzer',\n",
       " 'estimator__counts__binary',\n",
       " 'estimator__counts__decode_error',\n",
       " 'estimator__counts__dtype',\n",
       " 'estimator__counts__encoding',\n",
       " 'estimator__counts__input',\n",
       " 'estimator__counts__lowercase',\n",
       " 'estimator__counts__max_df',\n",
       " 'estimator__counts__max_features',\n",
       " 'estimator__counts__min_df',\n",
       " 'estimator__counts__ngram_range',\n",
       " 'estimator__counts__preprocessor',\n",
       " 'estimator__counts__stop_words',\n",
       " 'estimator__counts__strip_accents',\n",
       " 'estimator__counts__token_pattern',\n",
       " 'estimator__counts__tokenizer',\n",
       " 'estimator__counts__vocabulary',\n",
       " 'estimator__memory',\n",
       " 'estimator__steps',\n",
       " 'estimator__tf_idf',\n",
       " 'estimator__tf_idf__norm',\n",
       " 'estimator__tf_idf__smooth_idf',\n",
       " 'estimator__tf_idf__sublinear_tf',\n",
       " 'estimator__tf_idf__use_idf',\n",
       " 'fit_params',\n",
       " 'iid',\n",
       " 'n_jobs',\n",
       " 'param_grid',\n",
       " 'pre_dispatch',\n",
       " 'refit',\n",
       " 'return_train_score',\n",
       " 'scoring',\n",
       " 'verbose']"
      ]
     },
     "execution_count": 112,
     "metadata": {},
     "output_type": "execute_result"
    }
   ],
   "source": [
    "# run this to get a list of the all available pipe-items unique keys for the grid parameters\n",
    "sorted(rf_gs.get_params().keys())"
   ]
  },
  {
   "cell_type": "code",
   "execution_count": 113,
   "metadata": {},
   "outputs": [],
   "source": [
    "# Fitting the Random Forest Classifier model\n",
    "rf_gs.fit(X_train, y_train)\n",
    "y_pred_rf = rf_gs.best_estimator_.predict(X_test)"
   ]
  },
  {
   "cell_type": "code",
   "execution_count": 114,
   "metadata": {},
   "outputs": [
    {
     "name": "stdout",
     "output_type": "stream",
     "text": [
      "Best roc_aucscore for rf model: 0.79220580241\n",
      "Best pipeline parameters: {'clf_RFC__n_estimators': 700, 'counts__min_df': 3}\n"
     ]
    }
   ],
   "source": [
    "# View the best score (set to roc_auc) for MultinomialNB with GridSearch\n",
    "print('Best roc_aucscore for rf model:', rf_gs.best_score_) \n",
    "\n",
    "# View the best parameters\n",
    "print('Best pipeline parameters:', rf_gs.best_params_)\n",
    "# took a long time to run: Best roc_aucscore for rf model: 0.784793252035\n",
    "#Best pipeline parameters: {'clf_RFC__n_estimators': 600, 'counts__min_df': 3}"
   ]
  }
 ],
 "metadata": {
  "kernelspec": {
   "display_name": "Python 3",
   "language": "python",
   "name": "python3"
  },
  "language_info": {
   "codemirror_mode": {
    "name": "ipython",
    "version": 3
   },
   "file_extension": ".py",
   "mimetype": "text/x-python",
   "name": "python",
   "nbconvert_exporter": "python",
   "pygments_lexer": "ipython3",
   "version": "3.6.1"
  }
 },
 "nbformat": 4,
 "nbformat_minor": 2
}
