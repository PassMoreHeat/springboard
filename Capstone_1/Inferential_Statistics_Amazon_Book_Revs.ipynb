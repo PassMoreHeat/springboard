{
 "cells": [
  {
   "cell_type": "markdown",
   "metadata": {},
   "source": [
    "The following are details of statistical comparisons performed by H. Passmore in partial completion of the Capstone 1 project for Springboard's Data Science Career Track Program. \n",
    "\n",
    "__Assignment Details:__\n",
    "At this point, you have obtained the data set for your Capstone project, cleaned and wrangled it into a form that's ready for analysis. It's now time to apply the inferential statistics techniques you have learned to explore the data. For example, are there variables that are particularly significant in terms of explaining the answer to your project question? Are there strong correlations between pairs of independent variables, or between an independent and a dependent variable? \n",
    "\n",
    "__Submission:__ Write a short report (1-2 pages) on the inferential statistics steps you performed and your findings. Check this report into your github and submit a link to it. Eventually, this report can be incorporated into your Milestone report."
   ]
  },
  {
   "cell_type": "markdown",
   "metadata": {},
   "source": [
    "# Inferential Statistics for Capstone 1\n",
    "_Amazon Book Reviews & Ratings Predictor_\n",
    "***"
   ]
  },
  {
   "cell_type": "markdown",
   "metadata": {},
   "source": [
    "## Summary of Project Data\n",
    "The data for this ratings predictor project are Amazon book reviews for 729 different published books in the genre \"Non-fiction Science and Textbooks\". The dataset comprises 11546 reviews where many books are reviewed once, and some are reviewed by over 100 different reviewers. The highest review count per book is 382 with an average of 16 reviews per book.\n",
    "\n",
    "Quantitative features of the dataset include: \n",
    "\n",
    "   * word count\n",
    "   * character count  \n",
    "   * estimated length of the longest word. \n",
    "\n",
    "Categorical features include: \n",
    "\n",
    "   * Overall star rating assigned by each reviewer, ranging from 1 to 5 stars (5 is the highest)\n",
    "   * High/Medium/Low ratings groupings where \n",
    "       * High = 5-stars, (n = 7662)\n",
    "       * Medium = 3 and 4-stars, (n = 2874)\n",
    "       * Low = 1 and 2-stars, (n = 1010)\n",
    "   * ratings over time (time series) for books with many reviews (>100)\n",
    "\n",
    "\n",
    "Patterns of note: \n",
    "* Five-star ratings are the most common, 66% of this subset of reviews are 5-star reviews, and they out number all other star-ratings combined. This proprotion of highly rated books mirrors the proportion of five-star reviews in the source dataset of 22,507,155 book reviews (McAuley et al. 2015, He & McAuley 2016).\n",
    "* The longest reviews are associated with the 5-star and 1-star ratings categories, respectively.\n",
    "* Observations of the most frequently reviewed books indicates that high and low ratings are evenly distributed over time (no trend apparent).\n",
    "* Most frequently reviewed books usually had more reviews early in the time series but some were reviewed more in the middle of the time series."
   ]
  },
  {
   "cell_type": "markdown",
   "metadata": {},
   "source": [
    "## Analysis of Review Text Characteristics\n",
    "To further explore patterns and differences in categorical features of the book review data set I explored the distribution of review length (measured by word count) across the different levels of star ratings. Count data are often not normally distributed, and these data were predictibly skewed with fewer reviews being much longer than the majority. To make comparisons between the different star-ratings I first log-transformed the word count data. The log-transformation smoothed out the Q-Q plot. To compare review word counts for low and high rated books I used an independent two-sample t-test for unequal variances. The hypotheses of interest are:\n",
    "\n",
    "__Null Hypothesis:__ Review length is equal for high and low rated reviews. Specifically [5] vs. [1+2] stars.\n",
    "\n",
    "__Alternative Hypothesis:__ Review lenghts are not equal for high and low rated reviews.\n",
    "\n",
    "Results of this test on the log-transformed word counts indicate that the word count of 'low' rated reviews is significantly higher than 'high' rated reviews (t = 13.7, p = 0.00).\n",
    "\n",
    "__Future Directions:__ Reviews have MM-DD-YYYY formatted dates of submission. A time series analysis of ratings over time is possible for books with many reviews (>100). Would this analysis contribute to our ability to predict ratings from text?"
   ]
  },
  {
   "cell_type": "markdown",
   "metadata": {},
   "source": [
    "## Analysis of Review Contents\n",
    "An initial application of a Multinomial Naive Bayes classifier model with default parameters on training and test review text results in accuracy scores of 0.846172 for the training data and 0.738136 accuracy score for the test data. This indicates that the Naive Bayes model is not overfit for these data, but that the model does not generalize well.\n",
    "\n",
    "Additional models, coming soon:\n",
    "\n",
    "n-grams\n",
    "\n",
    "TF-IDF\n"
   ]
  },
  {
   "cell_type": "markdown",
   "metadata": {},
   "source": [
    "## Summary of Findings\n",
    "\n",
    "* Review text for the five Amazon ratings levels is variable and patterns are not strongly obvious.\n",
    "* There are statistical differences between reviews for high and low rated books in this genre. Log-transformed word counts are longer for 'low' rated reviews using an indepdenent two-sample t-test for unequal variances.\n",
    "* A basic classification model using Multinomial Naive Bayes has 85% accuracy for training data and 74% accuracy for predicting rating level on test data.\n"
   ]
  },
  {
   "cell_type": "markdown",
   "metadata": {},
   "source": [
    "### Sources:\n",
    "Ruining He and Julian McAuley. 2016. Ups and Downs: Modeling the Visual Evolution of Fashion Trends with One-Class Collaborative Filtering. In Proceedings of the 25th International Conference on World Wide Web (WWW '16). International World Wide Web Conferences Steering Committee, Republic and Canton of Geneva, Switzerland, 507-517. DOI: https://doi.org/10.1145/2872427.2883037\n",
    " \n",
    "Julian McAuley, Christopher Targett, Qinfeng Shi, and Anton van den Hengel. 2015. Image-Based Recommendations on Styles and Substitutes. In Proceedings of the 38th International ACM SIGIR Conference on Research and Development in Information Retrieval (SIGIR '15). ACM, New York, NY, USA, 43-52. DOI: http://dx.doi.org/10.1145/2766462.2767755"
   ]
  },
  {
   "cell_type": "markdown",
   "metadata": {},
   "source": [
    "### Below is the code for statistical analyses associated with this report."
   ]
  },
  {
   "cell_type": "code",
   "execution_count": 5,
   "metadata": {
    "collapsed": true
   },
   "outputs": [],
   "source": [
    "# import modules\n",
    "import pandas as pd\n",
    "import matplotlib.pyplot as plt\n",
    "import seaborn as sns\n",
    "import scipy.stats\n",
    "from scipy.stats import norm\n",
    "import numpy as np\n",
    "\n",
    "# Build figures inline, set visualization style\n",
    "%matplotlib inline\n",
    "sns.set()"
   ]
  },
  {
   "cell_type": "code",
   "execution_count": 45,
   "metadata": {
    "collapsed": true
   },
   "outputs": [],
   "source": [
    "import scipy as sp\n",
    "import matplotlib as mpl\n",
    "import matplotlib.cm as cm\n",
    "\n",
    "# Setup Pandas\n",
    "pd.set_option('display.width', 500)\n",
    "pd.set_option('display.max_columns', 100)\n",
    "pd.set_option('display.notebook_repr_html', True)\n",
    "\n",
    "# Setup Seaborn\n",
    "sns.set_style(\"whitegrid\")\n",
    "sns.set_context(\"poster\")"
   ]
  },
  {
   "cell_type": "code",
   "execution_count": 2,
   "metadata": {},
   "outputs": [],
   "source": [
    "# bring the reviews and word counts dataframe into workspace\n",
    "# import pickle\n",
    "# load the pickled  DataFrame of Science Textbook Reviews from hard drive in 'rb' mode\n",
    "import pickle\n",
    "with open('reviews_counts.pickle','rb') as f:\n",
    "    sci_revs = pickle.load(f)"
   ]
  },
  {
   "cell_type": "code",
   "execution_count": 3,
   "metadata": {},
   "outputs": [
    {
     "data": {
      "text/html": [
       "<div>\n",
       "<style>\n",
       "    .dataframe thead tr:only-child th {\n",
       "        text-align: right;\n",
       "    }\n",
       "\n",
       "    .dataframe thead th {\n",
       "        text-align: left;\n",
       "    }\n",
       "\n",
       "    .dataframe tbody tr th {\n",
       "        vertical-align: top;\n",
       "    }\n",
       "</style>\n",
       "<table border=\"1\" class=\"dataframe\">\n",
       "  <thead>\n",
       "    <tr style=\"text-align: right;\">\n",
       "      <th></th>\n",
       "      <th>_id</th>\n",
       "      <th>asin</th>\n",
       "      <th>helpful</th>\n",
       "      <th>overall</th>\n",
       "      <th>reviewText</th>\n",
       "      <th>reviewTime</th>\n",
       "      <th>reviewerID</th>\n",
       "      <th>reviewerName</th>\n",
       "      <th>summary</th>\n",
       "      <th>unixReviewTime</th>\n",
       "      <th>words</th>\n",
       "      <th>word_count</th>\n",
       "      <th>long_word</th>\n",
       "      <th>longest</th>\n",
       "      <th>char_length</th>\n",
       "      <th>low_high</th>\n",
       "    </tr>\n",
       "  </thead>\n",
       "  <tbody>\n",
       "    <tr>\n",
       "      <th>0</th>\n",
       "      <td>5a1f057530ec5f57e705fb9f</td>\n",
       "      <td>0006531644</td>\n",
       "      <td>[0, 1]</td>\n",
       "      <td>4</td>\n",
       "      <td>This is a good book for the science nerd and t...</td>\n",
       "      <td>07 9, 2012</td>\n",
       "      <td>A2T1HLL9IPHEP1</td>\n",
       "      <td>plc86</td>\n",
       "      <td>A Great Read</td>\n",
       "      <td>1341792000</td>\n",
       "      <td>[This, is, a, good, book, for, the, science, n...</td>\n",
       "      <td>33</td>\n",
       "      <td>information,</td>\n",
       "      <td>12</td>\n",
       "      <td>185</td>\n",
       "      <td>med</td>\n",
       "    </tr>\n",
       "    <tr>\n",
       "      <th>1</th>\n",
       "      <td>5a1f057530ec5f57e705fba0</td>\n",
       "      <td>0006531644</td>\n",
       "      <td>[0, 0]</td>\n",
       "      <td>5</td>\n",
       "      <td>If you're a biology/genetics enthusiast, this ...</td>\n",
       "      <td>05 1, 2013</td>\n",
       "      <td>A1GP2V4NYRK36P</td>\n",
       "      <td>savvy reviewer</td>\n",
       "      <td>Very interesting reading</td>\n",
       "      <td>1367366400</td>\n",
       "      <td>[If, you're, a, biology/genetics, enthusiast,,...</td>\n",
       "      <td>39</td>\n",
       "      <td>biology/genetics</td>\n",
       "      <td>16</td>\n",
       "      <td>228</td>\n",
       "      <td>high</td>\n",
       "    </tr>\n",
       "    <tr>\n",
       "      <th>2</th>\n",
       "      <td>5a1f057530ec5f57e7060b85</td>\n",
       "      <td>0007116837</td>\n",
       "      <td>[1, 1]</td>\n",
       "      <td>4</td>\n",
       "      <td>I bought this for my daughter who borrowed all...</td>\n",
       "      <td>04 5, 2008</td>\n",
       "      <td>A3KTFMHASRH0VE</td>\n",
       "      <td>Randal L. Zelhart \"Lee Zelhart\"</td>\n",
       "      <td>Another McCourt</td>\n",
       "      <td>1207353600</td>\n",
       "      <td>[I, bought, this, for, my, daughter, who, borr...</td>\n",
       "      <td>52</td>\n",
       "      <td>daughter</td>\n",
       "      <td>8</td>\n",
       "      <td>255</td>\n",
       "      <td>med</td>\n",
       "    </tr>\n",
       "    <tr>\n",
       "      <th>3</th>\n",
       "      <td>5a1f057530ec5f57e7060b86</td>\n",
       "      <td>0007116837</td>\n",
       "      <td>[1, 1]</td>\n",
       "      <td>4</td>\n",
       "      <td>This book was recommended by a tour guide in I...</td>\n",
       "      <td>10 3, 2009</td>\n",
       "      <td>A36QKTOEIXPNTH</td>\n",
       "      <td>T. Lockhart \"Navigator lady\"</td>\n",
       "      <td>A Monk Swimming</td>\n",
       "      <td>1254528000</td>\n",
       "      <td>[This, book, was, recommended, by, a, tour, gu...</td>\n",
       "      <td>23</td>\n",
       "      <td>recommended</td>\n",
       "      <td>11</td>\n",
       "      <td>116</td>\n",
       "      <td>med</td>\n",
       "    </tr>\n",
       "    <tr>\n",
       "      <th>4</th>\n",
       "      <td>5a1f058730ec5f57e7078448</td>\n",
       "      <td>0028255267</td>\n",
       "      <td>[3, 3]</td>\n",
       "      <td>5</td>\n",
       "      <td>Our school recently upgraded to this chemistry...</td>\n",
       "      <td>09 3, 2000</td>\n",
       "      <td>AJ8F4IJXY6OT9</td>\n",
       "      <td>A Customer</td>\n",
       "      <td>very thorough chem book...</td>\n",
       "      <td>967939200</td>\n",
       "      <td>[Our, school, recently, upgraded, to, this, ch...</td>\n",
       "      <td>102</td>\n",
       "      <td>instructions,</td>\n",
       "      <td>13</td>\n",
       "      <td>612</td>\n",
       "      <td>high</td>\n",
       "    </tr>\n",
       "  </tbody>\n",
       "</table>\n",
       "</div>"
      ],
      "text/plain": [
       "                        _id        asin helpful  overall  \\\n",
       "0  5a1f057530ec5f57e705fb9f  0006531644  [0, 1]        4   \n",
       "1  5a1f057530ec5f57e705fba0  0006531644  [0, 0]        5   \n",
       "2  5a1f057530ec5f57e7060b85  0007116837  [1, 1]        4   \n",
       "3  5a1f057530ec5f57e7060b86  0007116837  [1, 1]        4   \n",
       "4  5a1f058730ec5f57e7078448  0028255267  [3, 3]        5   \n",
       "\n",
       "                                          reviewText  reviewTime  \\\n",
       "0  This is a good book for the science nerd and t...  07 9, 2012   \n",
       "1  If you're a biology/genetics enthusiast, this ...  05 1, 2013   \n",
       "2  I bought this for my daughter who borrowed all...  04 5, 2008   \n",
       "3  This book was recommended by a tour guide in I...  10 3, 2009   \n",
       "4  Our school recently upgraded to this chemistry...  09 3, 2000   \n",
       "\n",
       "       reviewerID                     reviewerName  \\\n",
       "0  A2T1HLL9IPHEP1                            plc86   \n",
       "1  A1GP2V4NYRK36P                   savvy reviewer   \n",
       "2  A3KTFMHASRH0VE  Randal L. Zelhart \"Lee Zelhart\"   \n",
       "3  A36QKTOEIXPNTH     T. Lockhart \"Navigator lady\"   \n",
       "4   AJ8F4IJXY6OT9                       A Customer   \n",
       "\n",
       "                      summary  unixReviewTime  \\\n",
       "0                A Great Read      1341792000   \n",
       "1    Very interesting reading      1367366400   \n",
       "2             Another McCourt      1207353600   \n",
       "3             A Monk Swimming      1254528000   \n",
       "4  very thorough chem book...       967939200   \n",
       "\n",
       "                                               words  word_count  \\\n",
       "0  [This, is, a, good, book, for, the, science, n...          33   \n",
       "1  [If, you're, a, biology/genetics, enthusiast,,...          39   \n",
       "2  [I, bought, this, for, my, daughter, who, borr...          52   \n",
       "3  [This, book, was, recommended, by, a, tour, gu...          23   \n",
       "4  [Our, school, recently, upgraded, to, this, ch...         102   \n",
       "\n",
       "          long_word  longest  char_length low_high  \n",
       "0      information,       12          185      med  \n",
       "1  biology/genetics       16          228     high  \n",
       "2          daughter        8          255      med  \n",
       "3       recommended       11          116      med  \n",
       "4     instructions,       13          612     high  "
      ]
     },
     "execution_count": 3,
     "metadata": {},
     "output_type": "execute_result"
    }
   ],
   "source": [
    "# create new low/med/high variable\n",
    "import numpy as np\n",
    "sci_revs['low_high'] = np.where((sci_revs['overall']> 0) & (sci_revs['overall']<=2), 'low', \n",
    "                                np.where((sci_revs['overall'] > 2) & (sci_revs['overall']<=4), 'med' , 'high'))\n",
    "sci_revs.head()"
   ]
  },
  {
   "cell_type": "code",
   "execution_count": 6,
   "metadata": {},
   "outputs": [
    {
     "data": {
      "image/png": "[encoded data removed]",
      "text/plain": [
       "<matplotlib.figure.Figure at 0x1a101564e0>"
      ]
     },
     "metadata": {},
     "output_type": "display_data"
    }
   ],
   "source": [
    "# view a histogram of word counts\n",
    "sns.distplot(sci_revs.word_count, bins= 30, kde=True, rug=True);\n",
    "plt.title('Histogram of review word count with kernel density estimation');\n",
    "plt.xlabel('Word Count');\n",
    "plt.ylabel('Frequency');"
   ]
  },
  {
   "cell_type": "code",
   "execution_count": 11,
   "metadata": {},
   "outputs": [
    {
     "data": {
      "image/png": "[encoded data removed]",
      "text/plain": [
       "<matplotlib.figure.Figure at 0x1a0e095d68>"
      ]
     },
     "metadata": {},
     "output_type": "display_data"
    }
   ],
   "source": [
    "# check normality with Q-Q plot\n",
    "scipy.stats.probplot(sci_revs.word_count, dist='norm', fit=True, plot=plt);"
   ]
  },
  {
   "cell_type": "code",
   "execution_count": 7,
   "metadata": {},
   "outputs": [
    {
     "data": {
      "text/html": [
       "<div>\n",
       "<style>\n",
       "    .dataframe thead tr:only-child th {\n",
       "        text-align: right;\n",
       "    }\n",
       "\n",
       "    .dataframe thead th {\n",
       "        text-align: left;\n",
       "    }\n",
       "\n",
       "    .dataframe tbody tr th {\n",
       "        vertical-align: top;\n",
       "    }\n",
       "</style>\n",
       "<table border=\"1\" class=\"dataframe\">\n",
       "  <thead>\n",
       "    <tr style=\"text-align: right;\">\n",
       "      <th></th>\n",
       "      <th>asin</th>\n",
       "      <th>overall</th>\n",
       "      <th>reviewText</th>\n",
       "      <th>reviewerID</th>\n",
       "      <th>summary</th>\n",
       "      <th>word_count</th>\n",
       "      <th>longest</th>\n",
       "      <th>char_length</th>\n",
       "      <th>low_high</th>\n",
       "    </tr>\n",
       "  </thead>\n",
       "  <tbody>\n",
       "    <tr>\n",
       "      <th>0</th>\n",
       "      <td>0006531644</td>\n",
       "      <td>4</td>\n",
       "      <td>This is a good book for the science nerd and t...</td>\n",
       "      <td>A2T1HLL9IPHEP1</td>\n",
       "      <td>A Great Read</td>\n",
       "      <td>33</td>\n",
       "      <td>12</td>\n",
       "      <td>185</td>\n",
       "      <td>med</td>\n",
       "    </tr>\n",
       "    <tr>\n",
       "      <th>1</th>\n",
       "      <td>0006531644</td>\n",
       "      <td>5</td>\n",
       "      <td>If you're a biology/genetics enthusiast, this ...</td>\n",
       "      <td>A1GP2V4NYRK36P</td>\n",
       "      <td>Very interesting reading</td>\n",
       "      <td>39</td>\n",
       "      <td>16</td>\n",
       "      <td>228</td>\n",
       "      <td>high</td>\n",
       "    </tr>\n",
       "    <tr>\n",
       "      <th>2</th>\n",
       "      <td>0007116837</td>\n",
       "      <td>4</td>\n",
       "      <td>I bought this for my daughter who borrowed all...</td>\n",
       "      <td>A3KTFMHASRH0VE</td>\n",
       "      <td>Another McCourt</td>\n",
       "      <td>52</td>\n",
       "      <td>8</td>\n",
       "      <td>255</td>\n",
       "      <td>med</td>\n",
       "    </tr>\n",
       "    <tr>\n",
       "      <th>3</th>\n",
       "      <td>0007116837</td>\n",
       "      <td>4</td>\n",
       "      <td>This book was recommended by a tour guide in I...</td>\n",
       "      <td>A36QKTOEIXPNTH</td>\n",
       "      <td>A Monk Swimming</td>\n",
       "      <td>23</td>\n",
       "      <td>11</td>\n",
       "      <td>116</td>\n",
       "      <td>med</td>\n",
       "    </tr>\n",
       "    <tr>\n",
       "      <th>4</th>\n",
       "      <td>0028255267</td>\n",
       "      <td>5</td>\n",
       "      <td>Our school recently upgraded to this chemistry...</td>\n",
       "      <td>AJ8F4IJXY6OT9</td>\n",
       "      <td>very thorough chem book...</td>\n",
       "      <td>102</td>\n",
       "      <td>13</td>\n",
       "      <td>612</td>\n",
       "      <td>high</td>\n",
       "    </tr>\n",
       "  </tbody>\n",
       "</table>\n",
       "</div>"
      ],
      "text/plain": [
       "         asin  overall                                         reviewText  \\\n",
       "0  0006531644        4  This is a good book for the science nerd and t...   \n",
       "1  0006531644        5  If you're a biology/genetics enthusiast, this ...   \n",
       "2  0007116837        4  I bought this for my daughter who borrowed all...   \n",
       "3  0007116837        4  This book was recommended by a tour guide in I...   \n",
       "4  0028255267        5  Our school recently upgraded to this chemistry...   \n",
       "\n",
       "       reviewerID                     summary  word_count  longest  \\\n",
       "0  A2T1HLL9IPHEP1                A Great Read          33       12   \n",
       "1  A1GP2V4NYRK36P    Very interesting reading          39       16   \n",
       "2  A3KTFMHASRH0VE             Another McCourt          52        8   \n",
       "3  A36QKTOEIXPNTH             A Monk Swimming          23       11   \n",
       "4   AJ8F4IJXY6OT9  very thorough chem book...         102       13   \n",
       "\n",
       "   char_length low_high  \n",
       "0          185      med  \n",
       "1          228     high  \n",
       "2          255      med  \n",
       "3          116      med  \n",
       "4          612     high  "
      ]
     },
     "execution_count": 7,
     "metadata": {},
     "output_type": "execute_result"
    }
   ],
   "source": [
    "small_df = pd.DataFrame(sci_revs[['asin','overall','reviewText', 'reviewerID', 'summary', 'word_count', 'longest',\n",
    "                                 'char_length', 'low_high']])\n",
    "small_df.head()"
   ]
  },
  {
   "cell_type": "code",
   "execution_count": 8,
   "metadata": {},
   "outputs": [
    {
     "data": {
      "text/html": [
       "<div>\n",
       "<style>\n",
       "    .dataframe thead tr:only-child th {\n",
       "        text-align: right;\n",
       "    }\n",
       "\n",
       "    .dataframe thead th {\n",
       "        text-align: left;\n",
       "    }\n",
       "\n",
       "    .dataframe tbody tr th {\n",
       "        vertical-align: top;\n",
       "    }\n",
       "</style>\n",
       "<table border=\"1\" class=\"dataframe\">\n",
       "  <thead>\n",
       "    <tr style=\"text-align: right;\">\n",
       "      <th></th>\n",
       "      <th>asin</th>\n",
       "      <th>overall</th>\n",
       "      <th>reviewText</th>\n",
       "      <th>reviewerID</th>\n",
       "      <th>summary</th>\n",
       "      <th>word_count</th>\n",
       "      <th>longest</th>\n",
       "      <th>char_length</th>\n",
       "      <th>low_high</th>\n",
       "      <th>log_count</th>\n",
       "    </tr>\n",
       "  </thead>\n",
       "  <tbody>\n",
       "    <tr>\n",
       "      <th>0</th>\n",
       "      <td>0006531644</td>\n",
       "      <td>4</td>\n",
       "      <td>This is a good book for the science nerd and t...</td>\n",
       "      <td>A2T1HLL9IPHEP1</td>\n",
       "      <td>A Great Read</td>\n",
       "      <td>33</td>\n",
       "      <td>12</td>\n",
       "      <td>185</td>\n",
       "      <td>med</td>\n",
       "      <td>3.496508</td>\n",
       "    </tr>\n",
       "    <tr>\n",
       "      <th>1</th>\n",
       "      <td>0006531644</td>\n",
       "      <td>5</td>\n",
       "      <td>If you're a biology/genetics enthusiast, this ...</td>\n",
       "      <td>A1GP2V4NYRK36P</td>\n",
       "      <td>Very interesting reading</td>\n",
       "      <td>39</td>\n",
       "      <td>16</td>\n",
       "      <td>228</td>\n",
       "      <td>high</td>\n",
       "      <td>3.663562</td>\n",
       "    </tr>\n",
       "    <tr>\n",
       "      <th>2</th>\n",
       "      <td>0007116837</td>\n",
       "      <td>4</td>\n",
       "      <td>I bought this for my daughter who borrowed all...</td>\n",
       "      <td>A3KTFMHASRH0VE</td>\n",
       "      <td>Another McCourt</td>\n",
       "      <td>52</td>\n",
       "      <td>8</td>\n",
       "      <td>255</td>\n",
       "      <td>med</td>\n",
       "      <td>3.951244</td>\n",
       "    </tr>\n",
       "    <tr>\n",
       "      <th>3</th>\n",
       "      <td>0007116837</td>\n",
       "      <td>4</td>\n",
       "      <td>This book was recommended by a tour guide in I...</td>\n",
       "      <td>A36QKTOEIXPNTH</td>\n",
       "      <td>A Monk Swimming</td>\n",
       "      <td>23</td>\n",
       "      <td>11</td>\n",
       "      <td>116</td>\n",
       "      <td>med</td>\n",
       "      <td>3.135494</td>\n",
       "    </tr>\n",
       "    <tr>\n",
       "      <th>4</th>\n",
       "      <td>0028255267</td>\n",
       "      <td>5</td>\n",
       "      <td>Our school recently upgraded to this chemistry...</td>\n",
       "      <td>AJ8F4IJXY6OT9</td>\n",
       "      <td>very thorough chem book...</td>\n",
       "      <td>102</td>\n",
       "      <td>13</td>\n",
       "      <td>612</td>\n",
       "      <td>high</td>\n",
       "      <td>4.624973</td>\n",
       "    </tr>\n",
       "  </tbody>\n",
       "</table>\n",
       "</div>"
      ],
      "text/plain": [
       "         asin  overall                                         reviewText  \\\n",
       "0  0006531644        4  This is a good book for the science nerd and t...   \n",
       "1  0006531644        5  If you're a biology/genetics enthusiast, this ...   \n",
       "2  0007116837        4  I bought this for my daughter who borrowed all...   \n",
       "3  0007116837        4  This book was recommended by a tour guide in I...   \n",
       "4  0028255267        5  Our school recently upgraded to this chemistry...   \n",
       "\n",
       "       reviewerID                     summary  word_count  longest  \\\n",
       "0  A2T1HLL9IPHEP1                A Great Read          33       12   \n",
       "1  A1GP2V4NYRK36P    Very interesting reading          39       16   \n",
       "2  A3KTFMHASRH0VE             Another McCourt          52        8   \n",
       "3  A36QKTOEIXPNTH             A Monk Swimming          23       11   \n",
       "4   AJ8F4IJXY6OT9  very thorough chem book...         102       13   \n",
       "\n",
       "   char_length low_high  log_count  \n",
       "0          185      med   3.496508  \n",
       "1          228     high   3.663562  \n",
       "2          255      med   3.951244  \n",
       "3          116      med   3.135494  \n",
       "4          612     high   4.624973  "
      ]
     },
     "execution_count": 8,
     "metadata": {},
     "output_type": "execute_result"
    }
   ],
   "source": [
    "# The number of words per review are count data and predictably non-normal\n",
    "# Log transform 'word_count' to improve normality\n",
    "# there are better ways to deal with non-normal count data (e.g., Poisson model), but log transforming helps with EDA\n",
    "small_df = small_df.assign(log_count = lambda x: np.log(x.word_count))\n",
    "small_df.head()"
   ]
  },
  {
   "cell_type": "code",
   "execution_count": 10,
   "metadata": {},
   "outputs": [
    {
     "data": {
      "image/png": "[encoded data removed]",
      "text/plain": [
       "<matplotlib.figure.Figure at 0x1041a5f60>"
      ]
     },
     "metadata": {},
     "output_type": "display_data"
    }
   ],
   "source": [
    "# check normality again with Q-Q plot\n",
    "scipy.stats.probplot(small_df.log_count, dist='norm', fit=True, plot=plt);"
   ]
  },
  {
   "cell_type": "code",
   "execution_count": 12,
   "metadata": {},
   "outputs": [
    {
     "name": "stdout",
     "output_type": "stream",
     "text": [
      "The sample mean is  4.298\n",
      "The sample standard deviation that estimates the population std is  1.008\n",
      "The sample size is  11546\n"
     ]
    }
   ],
   "source": [
    "import numpy as np\n",
    "# calculate sample statistics\n",
    "mu = np.mean(small_df.log_count)\n",
    "std = np.std(small_df.log_count, ddof=0) # the default calculation (ddof=0) estimates the population standard deviation\n",
    "n = len(small_df.log_count)\n",
    "print('The sample mean is ', '{0:0.3f}'.format(mu))\n",
    "print('The sample standard deviation that estimates the population std is ', '{0:0.3f}'.format(std))\n",
    "print('The sample size is ', n)"
   ]
  },
  {
   "cell_type": "code",
   "execution_count": 14,
   "metadata": {},
   "outputs": [
    {
     "data": {
      "text/plain": [
       "<pandas.core.groupby.SeriesGroupBy object at 0x1a2659f400>"
      ]
     },
     "execution_count": 14,
     "metadata": {},
     "output_type": "execute_result"
    }
   ],
   "source": [
    "groupby_rating = small_df['log_count'].groupby(small_df['low_high'])\n",
    "groupby_rating"
   ]
  },
  {
   "cell_type": "code",
   "execution_count": 15,
   "metadata": {},
   "outputs": [
    {
     "data": {
      "text/plain": [
       "low_high\n",
       "high    4.192534\n",
       "low     4.669839\n",
       "med     4.449925\n",
       "Name: log_count, dtype: float64"
      ]
     },
     "execution_count": 15,
     "metadata": {},
     "output_type": "execute_result"
    }
   ],
   "source": [
    "groupby_rating.mean()"
   ]
  },
  {
   "cell_type": "code",
   "execution_count": 16,
   "metadata": {},
   "outputs": [
    {
     "data": {
      "text/html": [
       "<div>\n",
       "<style>\n",
       "    .dataframe thead tr:only-child th {\n",
       "        text-align: right;\n",
       "    }\n",
       "\n",
       "    .dataframe thead th {\n",
       "        text-align: left;\n",
       "    }\n",
       "\n",
       "    .dataframe tbody tr th {\n",
       "        vertical-align: top;\n",
       "    }\n",
       "</style>\n",
       "<table border=\"1\" class=\"dataframe\">\n",
       "  <thead>\n",
       "    <tr style=\"text-align: right;\">\n",
       "      <th></th>\n",
       "      <th>count</th>\n",
       "      <th>mean</th>\n",
       "      <th>std</th>\n",
       "      <th>min</th>\n",
       "      <th>25%</th>\n",
       "      <th>50%</th>\n",
       "      <th>75%</th>\n",
       "      <th>max</th>\n",
       "    </tr>\n",
       "    <tr>\n",
       "      <th>low_high</th>\n",
       "      <th></th>\n",
       "      <th></th>\n",
       "      <th></th>\n",
       "      <th></th>\n",
       "      <th></th>\n",
       "      <th></th>\n",
       "      <th></th>\n",
       "      <th></th>\n",
       "    </tr>\n",
       "  </thead>\n",
       "  <tbody>\n",
       "    <tr>\n",
       "      <th>high</th>\n",
       "      <td>7662.0</td>\n",
       "      <td>4.192534</td>\n",
       "      <td>0.963172</td>\n",
       "      <td>0.000000</td>\n",
       "      <td>3.401197</td>\n",
       "      <td>4.060443</td>\n",
       "      <td>4.836282</td>\n",
       "      <td>8.587465</td>\n",
       "    </tr>\n",
       "    <tr>\n",
       "      <th>low</th>\n",
       "      <td>1010.0</td>\n",
       "      <td>4.669839</td>\n",
       "      <td>1.045670</td>\n",
       "      <td>0.693147</td>\n",
       "      <td>3.871201</td>\n",
       "      <td>4.663439</td>\n",
       "      <td>5.409404</td>\n",
       "      <td>8.300777</td>\n",
       "    </tr>\n",
       "    <tr>\n",
       "      <th>med</th>\n",
       "      <td>2874.0</td>\n",
       "      <td>4.449925</td>\n",
       "      <td>1.060431</td>\n",
       "      <td>0.000000</td>\n",
       "      <td>3.555348</td>\n",
       "      <td>4.406719</td>\n",
       "      <td>5.245705</td>\n",
       "      <td>7.751905</td>\n",
       "    </tr>\n",
       "  </tbody>\n",
       "</table>\n",
       "</div>"
      ],
      "text/plain": [
       "           count      mean       std       min       25%       50%       75%  \\\n",
       "low_high                                                                       \n",
       "high      7662.0  4.192534  0.963172  0.000000  3.401197  4.060443  4.836282   \n",
       "low       1010.0  4.669839  1.045670  0.693147  3.871201  4.663439  5.409404   \n",
       "med       2874.0  4.449925  1.060431  0.000000  3.555348  4.406719  5.245705   \n",
       "\n",
       "               max  \n",
       "low_high            \n",
       "high      8.587465  \n",
       "low       8.300777  \n",
       "med       7.751905  "
      ]
     },
     "execution_count": 16,
     "metadata": {},
     "output_type": "execute_result"
    }
   ],
   "source": [
    "groupby_rating.describe()"
   ]
  },
  {
   "cell_type": "code",
   "execution_count": 24,
   "metadata": {},
   "outputs": [
    {
     "data": {
      "image/png": "[encoded data removed]",
      "text/plain": [
       "<matplotlib.figure.Figure at 0x1a2580e5f8>"
      ]
     },
     "metadata": {},
     "output_type": "display_data"
    }
   ],
   "source": [
    "sns.boxplot(x='low_high', y='log_count', data=small_df, hue='low_high', order=['high', 'med', 'low'], \n",
    "            hue_order=['high', 'med', 'low'], palette='Set2', width=0.9);\n",
    "plt.xlabel('Rating Level');\n",
    "plt.ylabel('Log of Word Count');"
   ]
  },
  {
   "cell_type": "code",
   "execution_count": 25,
   "metadata": {},
   "outputs": [
    {
     "name": "stdout",
     "output_type": "stream",
     "text": [
      "High rating sample size is 7662\n",
      "Low rating sample size is 1010\n"
     ]
    }
   ],
   "source": [
    "# check out the male and female sample sizes\n",
    "high_count = small_df.log_count[small_df.low_high == 'high']\n",
    "low_count = small_df.log_count[small_df.low_high == 'low']\n",
    "print('High rating sample size is', len(high_count))\n",
    "print('Low rating sample size is', len(low_count))"
   ]
  },
  {
   "cell_type": "code",
   "execution_count": 31,
   "metadata": {},
   "outputs": [
    {
     "name": "stdout",
     "output_type": "stream",
     "text": [
      "Tests statistic 13.758\n",
      "P-value of test 0.000\n",
      "Reject the Null hypothesis: There is a difference between word counts for high and low rated reviews.\n"
     ]
    }
   ],
   "source": [
    "# perform hypothesis test with two-sided independent t-test for unequal variances\n",
    "tstat, p_value = scipy.stats.ttest_ind(low_count, high_count, equal_var=False)\n",
    "print('Tests statistic', '{0:0.3f}'.format(tstat))\n",
    "print('P-value of test', '{0:0.3f}'.format(p_value))\n",
    "if p_value < 0.05:\n",
    "    print('Reject the Null hypothesis: There is a difference between word counts for high and low rated reviews.')\n",
    "else:\n",
    "    print('Fail to reject the Null: There is no difference between word counts for high and low rated reviews.')"
   ]
  },
  {
   "cell_type": "code",
   "execution_count": 35,
   "metadata": {},
   "outputs": [
    {
     "data": {
      "image/png": "[encoded data removed]",
      "text/plain": [
       "<matplotlib.figure.Figure at 0x1c27357978>"
      ]
     },
     "metadata": {},
     "output_type": "display_data"
    }
   ],
   "source": [
    "grp = small_df.groupby('asin')\n",
    "counts = grp.asin.count()  # number of reviews per book\n",
    "means = grp.overall.mean()     # average rating for each book\n",
    "\n",
    "means[counts > 10].hist(bins=10, edgecolor='w', lw=1);\n",
    "plt.xlabel(\"Average Rating per book\");\n",
    "plt.ylabel(\"Number of Reviews\");\n",
    "# for books (asin) reviewed by more than 10 reviewers the mean ratings are most frequently 4+"
   ]
  },
  {
   "cell_type": "markdown",
   "metadata": {},
   "source": [
    "## Begin analysis of review content, split train and test data sets\n",
    "For text data, when should I split (train/test) - before vectorizing or after?\n",
    "Comment from Springboard community (credit to Rohit Dixit, student) \n",
    "\n",
    "Vectorize then split\n",
    "\n",
    "If we vectorize then we train/test split, our document-term matrix would contain every single feature (word) in the test and training sets\n",
    "What we want is to simulate the real world\n",
    "We would always see words we have not seen before so this method is not realistic and we cannot properly evaluate our models\n",
    "\n",
    "Split then vectorize (correct way)\n",
    "\n",
    "We do the train/test split before the CountVectorizer to properly simulate the real world where our future data contains words we have not seen before"
   ]
  },
  {
   "cell_type": "code",
   "execution_count": 36,
   "metadata": {
    "collapsed": true
   },
   "outputs": [],
   "source": [
    "from sklearn.feature_extraction.text import CountVectorizer\n",
    "# should I use this function? Have I set it up right?\n",
    "def make_xy(small_df, vectorizer=None):\n",
    "    if vectorizer is None:\n",
    "        vectorizer = CountVectorizer()\n",
    "    X = vectorizer.fit_transform(small_df.reviewText)\n",
    "    X = X.tocsc()  \n",
    "    y = (small_df.low_high == 'high').values.astype(np.int) # am I defining 'y' correctly? Okay to have high, med, low?\n",
    "    return X, y\n",
    "X, y = make_xy(small_df)"
   ]
  },
  {
   "cell_type": "code",
   "execution_count": 40,
   "metadata": {
    "collapsed": true
   },
   "outputs": [],
   "source": [
    "# split the data into training and test sets\n",
    "from sklearn.model_selection import train_test_split\n",
    "x_train, x_test, y_train, y_test = train_test_split(X, y, random_state=42, stratify=y)"
   ]
  },
  {
   "cell_type": "code",
   "execution_count": 41,
   "metadata": {},
   "outputs": [
    {
     "data": {
      "text/plain": [
       "MultinomialNB(alpha=1.0, class_prior=None, fit_prior=True)"
      ]
     },
     "execution_count": 41,
     "metadata": {},
     "output_type": "execute_result"
    }
   ],
   "source": [
    "# use scikit-learn's MultinomailNB() classifier with default parameters\n",
    "from sklearn.naive_bayes import MultinomialNB\n",
    "classifier = MultinomialNB()\n",
    "classifier.fit(x_train, y_train)"
   ]
  },
  {
   "cell_type": "code",
   "execution_count": 42,
   "metadata": {
    "collapsed": true
   },
   "outputs": [],
   "source": [
    "# train the classifier over the training set and test on the test set\n",
    "base_train = classifier.score(x_train, y_train)\n",
    "base_test = classifier.score(x_test, y_test)"
   ]
  },
  {
   "cell_type": "code",
   "execution_count": 43,
   "metadata": {},
   "outputs": [
    {
     "name": "stdout",
     "output_type": "stream",
     "text": [
      "Accuracy score for the train data is: 0.846172.\n",
      "Accuracy score for the test data is: 0.738136.\n"
     ]
    }
   ],
   "source": [
    "# print the accuracy scores for both the training and the test sets\n",
    "print(\"Accuracy score for the train data is: %.6f.\" % base_train)\n",
    "print(\"Accuracy score for the test data is: %.6f.\" % base_test)"
   ]
  },
  {
   "cell_type": "code",
   "execution_count": 46,
   "metadata": {},
   "outputs": [
    {
     "data": {
      "text/plain": [
       "<matplotlib.text.Text at 0x1c2752f630>"
      ]
     },
     "execution_count": 46,
     "metadata": {},
     "output_type": "execute_result"
    },
    {
     "data": {
      "image/png": "[encoded data removed]",
      "text/plain": [
       "<matplotlib.figure.Figure at 0x1c273a2da0>"
      ]
     },
     "metadata": {},
     "output_type": "display_data"
    }
   ],
   "source": [
    "# build cumulative distribtution of document frequencies (df) \n",
    "words = list((X > 0).sum(0).tolist()[0])\n",
    "w = pd.Series(words)\n",
    "y = np.arange(w.sum())\n",
    "plt.hist(w,y,normed=1, histtype='step', color='b', cumulative=True, linewidth=3)\n",
    "plt.xlim(-1,100) \n",
    "plt.xlabel('document count')\n",
    "plt.ylabel ('percentage of words appearing less than x')"
   ]
  },
  {
   "cell_type": "code",
   "execution_count": 47,
   "metadata": {
    "collapsed": true
   },
   "outputs": [],
   "source": [
    "from sklearn.model_selection import KFold\n",
    "def cv_score(clf, X, y, scorefunc):\n",
    "    result = 0.\n",
    "    nfold = 5\n",
    "    for train, test in KFold(nfold).split(X): # split data into train/test groups, 5 times\n",
    "        clf.fit(X[train], y[train]) # fit the classifier, passed is as clf.\n",
    "        result += scorefunc(clf, X[test], y[test]) # evaluate score function on held-out data\n",
    "    return result / nfold # average"
   ]
  },
  {
   "cell_type": "code",
   "execution_count": null,
   "metadata": {
    "collapsed": true
   },
   "outputs": [],
   "source": [
    "# can't do the log liklihood function with three categories?\n",
    "def log_likelihood(clf, x, y):\n",
    "    prob = clf.predict_log_proba(x)\n",
    "    rotten = y == 0 # low?\n",
    "    fresh = ~rotten # high? Can I also include prob of med?\n",
    "    return prob[rotten, 0].sum() + prob[fresh, 1].sum() # sum of three probabilities?"
   ]
  },
  {
   "cell_type": "markdown",
   "metadata": {},
   "source": [
    "Still need to find best classifiers."
   ]
  },
  {
   "cell_type": "code",
   "execution_count": null,
   "metadata": {
    "collapsed": true
   },
   "outputs": [],
   "source": [
    "words = np.array(vectorizer.get_feature_names())\n",
    "\n",
    "x = np.eye(xtest.shape[1])\n",
    "probs = clf.predict_log_proba(x)[:, 0] # do not have log-likelihood function working yet\n",
    "ind = np.argsort(probs)\n",
    "\n",
    "good_words = words[ind[:10]]\n",
    "bad_words = words[ind[-10:]]\n",
    "\n",
    "good_prob = probs[ind[:10]]\n",
    "bad_prob = probs[ind[-10:]]\n",
    "\n",
    "print(\"Good words\\t     P(fresh | word)\")\n",
    "for w, p in zip(good_words, good_prob):\n",
    "    print(\"{:>20}\".format(w), \"{:.2f}\".format(1 - np.exp(p)))\n",
    "    \n",
    "print(\"Bad words\\t     P(fresh | word)\")\n",
    "for w, p in zip(bad_words, bad_prob):\n",
    "    print(\"{:>20}\".format(w), \"{:.2f}\".format(1 - np.exp(p)))"
   ]
  },
  {
   "cell_type": "code",
   "execution_count": null,
   "metadata": {
    "collapsed": true
   },
   "outputs": [],
   "source": []
  }
 ],
 "metadata": {
  "kernelspec": {
   "display_name": "Python 3",
   "language": "python",
   "name": "python3"
  }
 },
 "nbformat": 4,
 "nbformat_minor": 2
}
