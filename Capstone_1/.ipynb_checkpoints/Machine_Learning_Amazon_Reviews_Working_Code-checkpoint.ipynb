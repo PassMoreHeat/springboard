{
 "cells": [
  {
   "cell_type": "markdown",
   "metadata": {},
   "source": [
    "The following is the notebook of code written by H. Passmore for the assessment and tuning of Machine Learning algorithms for Capstone 1: Amazon Book Reviews & Ratings Predictor. \n",
    "\n",
    "# Machine Learning Algorithms for Capstone 1\n",
    "_Amazon Book Reviews & Ratings Predictor_\n",
    "\n",
    "_Machine Learning Code_\n",
    "***"
   ]
  },
  {
   "cell_type": "markdown",
   "metadata": {},
   "source": [
    "### Below is the code for assessing and tuning machine learning algorithms to predict ratings from reviews."
   ]
  },
  {
   "cell_type": "code",
   "execution_count": 1,
   "metadata": {
    "collapsed": true
   },
   "outputs": [],
   "source": [
    "# import modules\n",
    "import pandas as pd\n",
    "import matplotlib.pyplot as plt\n",
    "import seaborn as sns\n",
    "import scipy.stats\n",
    "from scipy.stats import norm\n",
    "import numpy as np\n",
    "import scipy as sp\n",
    "import matplotlib as mpl\n",
    "import matplotlib.cm as cm\n",
    "\n",
    "# Build figures inline\n",
    "%matplotlib inline"
   ]
  },
  {
   "cell_type": "code",
   "execution_count": 2,
   "metadata": {
    "collapsed": true
   },
   "outputs": [],
   "source": [
    "# Setup Pandas  \n",
    "pd.set_option('display.width', 350)\n",
    "pd.set_option('display.max_columns', 100)\n",
    "pd.set_option('display.notebook_repr_html', True)\n",
    "\n",
    "# Setup Seaborn\n",
    "sns.set_style(\"whitegrid\")\n",
    "sns.set_context(\"talk\")"
   ]
  },
  {
   "cell_type": "code",
   "execution_count": 3,
   "metadata": {
    "collapsed": true
   },
   "outputs": [],
   "source": [
    "# Import scikit-learn tools, vectorizers, transformer, and classifiers\n",
    "from sklearn.model_selection import train_test_split\n",
    "from sklearn import metrics\n",
    "from sklearn.metrics import roc_curve\n",
    "from sklearn.metrics import classification_report\n",
    "\n",
    "# import CountVectorizer and TfidfVectorizer\n",
    "from sklearn.feature_extraction.text import CountVectorizer\n",
    "from sklearn.feature_extraction.text import TfidfVectorizer\n",
    "\n",
    "# import TfidfTransformer\n",
    "from sklearn.feature_extraction.text import TfidfTransformer\n",
    "\n",
    "# import Multinomial Naive Bayes classifier\n",
    "from sklearn.naive_bayes import MultinomialNB\n",
    "\n",
    "# import Random Forest Classifier\n",
    "from sklearn.ensemble import RandomForestClassifier\n",
    "\n",
    "# import Logistic Regression CV Classifier\n",
    "from sklearn.linear_model import LogisticRegressionCV\n",
    "\n",
    "# import SVM classifiers\n",
    "from sklearn.linear_model import SGDClassifier\n",
    "from sklearn.svm import SVC\n",
    "\n",
    "# Import GridSearchCV\n",
    "from sklearn.model_selection import GridSearchCV\n",
    "\n",
    "# Import Pipeline \n",
    "from sklearn.pipeline import Pipeline\n",
    "from sklearn.model_selection import StratifiedKFold"
   ]
  },
  {
   "cell_type": "code",
   "execution_count": 4,
   "metadata": {
    "collapsed": true
   },
   "outputs": [],
   "source": [
    "# Implement tools to Reduce Document Dimensions\n",
    "import nltk\n",
    "from nltk.tokenize import word_tokenize\n",
    "from nltk.corpus import stopwords\n",
    "import re\n",
    "from nltk.stem.snowball import SnowballStemmer\n",
    "import string"
   ]
  },
  {
   "cell_type": "code",
   "execution_count": 5,
   "metadata": {
    "collapsed": true
   },
   "outputs": [],
   "source": [
    "# bring the book_revs dataframe into workspace from the inferential statistics code\n",
    "# load the pickled  DataFrame of Science Textbook Reviews from hard drive in 'rb' mode\n",
    "import pickle\n",
    "with open('book_revs_forML.pickle','rb') as f:\n",
    "    book_revs = pickle.load(f)"
   ]
  },
  {
   "cell_type": "markdown",
   "metadata": {},
   "source": [
    "### Check dataframe of ratings and review text"
   ]
  },
  {
   "cell_type": "code",
   "execution_count": 6,
   "metadata": {},
   "outputs": [
    {
     "name": "stdout",
     "output_type": "stream",
     "text": [
      "<class 'pandas.core.frame.DataFrame'>\n",
      "RangeIndex: 11546 entries, 0 to 11545\n",
      "Data columns (total 9 columns):\n",
      "asin           11546 non-null object\n",
      "overall        11546 non-null int64\n",
      "reviewText     11546 non-null object\n",
      "summary        11546 non-null object\n",
      "five_not5      11546 non-null object\n",
      "rating_cat     11546 non-null int64\n",
      "token_count    11546 non-null int64\n",
      "caps_count     11546 non-null int64\n",
      "pct_caps       11546 non-null float64\n",
      "dtypes: float64(1), int64(4), object(4)\n",
      "memory usage: 811.9+ KB\n"
     ]
    }
   ],
   "source": [
    "# check input data for Machine Learning: reviewText and rating_cat\n",
    "book_revs.info()"
   ]
  },
  {
   "cell_type": "code",
   "execution_count": 7,
   "metadata": {},
   "outputs": [
    {
     "data": {
      "text/html": [
       "<div>\n",
       "<style>\n",
       "    .dataframe thead tr:only-child th {\n",
       "        text-align: right;\n",
       "    }\n",
       "\n",
       "    .dataframe thead th {\n",
       "        text-align: left;\n",
       "    }\n",
       "\n",
       "    .dataframe tbody tr th {\n",
       "        vertical-align: top;\n",
       "    }\n",
       "</style>\n",
       "<table border=\"1\" class=\"dataframe\">\n",
       "  <thead>\n",
       "    <tr style=\"text-align: right;\">\n",
       "      <th></th>\n",
       "      <th>reviewText</th>\n",
       "      <th>rating_cat</th>\n",
       "    </tr>\n",
       "  </thead>\n",
       "  <tbody>\n",
       "    <tr>\n",
       "      <th>0</th>\n",
       "      <td>This is a good book for the science nerd and t...</td>\n",
       "      <td>0</td>\n",
       "    </tr>\n",
       "    <tr>\n",
       "      <th>1</th>\n",
       "      <td>If you're a biology/genetics enthusiast, this ...</td>\n",
       "      <td>1</td>\n",
       "    </tr>\n",
       "  </tbody>\n",
       "</table>\n",
       "</div>"
      ],
      "text/plain": [
       "                                          reviewText  rating_cat\n",
       "0  This is a good book for the science nerd and t...           0\n",
       "1  If you're a biology/genetics enthusiast, this ...           1"
      ]
     },
     "execution_count": 7,
     "metadata": {},
     "output_type": "execute_result"
    }
   ],
   "source": [
    "# keep only what we need\n",
    "rev_rate = book_revs.drop(['asin', 'overall', 'summary', 'five_not5', 'token_count', 'caps_count', 'pct_caps'], axis=1)\n",
    "rev_rate.head(2)"
   ]
  },
  {
   "cell_type": "markdown",
   "metadata": {},
   "source": [
    "## Preprocess review text to reduce document dimensions"
   ]
  },
  {
   "cell_type": "code",
   "execution_count": 8,
   "metadata": {},
   "outputs": [],
   "source": [
    "# combine my review-specific stopwords with english stopwords as a set\n",
    "user_defined_stop_words = ['book', 'books']\n",
    "\n",
    "i = stopwords.words('english')\n",
    "j = list(string.punctuation) + user_defined_stop_words\n",
    "\n",
    "stopwords = set(i).union(j)"
   ]
  },
  {
   "cell_type": "code",
   "execution_count": 9,
   "metadata": {},
   "outputs": [],
   "source": [
    "# define first preprocessor\n",
    "def preprocess(x):\n",
    "    letters_only = re.sub('[^a-zA-Z]', ' ', str(x))                  # keep alpha only\n",
    "    words = letters_only.lower().split()                            # lowercase everything  \n",
    "    useful_words = [w for w in words if w not in set(stopwords)]    # remove stopwords\n",
    "    return (' '.join(useful_words))"
   ]
  },
  {
   "cell_type": "code",
   "execution_count": 10,
   "metadata": {},
   "outputs": [
    {
     "data": {
      "text/html": [
       "<div>\n",
       "<style>\n",
       "    .dataframe thead tr:only-child th {\n",
       "        text-align: right;\n",
       "    }\n",
       "\n",
       "    .dataframe thead th {\n",
       "        text-align: left;\n",
       "    }\n",
       "\n",
       "    .dataframe tbody tr th {\n",
       "        vertical-align: top;\n",
       "    }\n",
       "</style>\n",
       "<table border=\"1\" class=\"dataframe\">\n",
       "  <thead>\n",
       "    <tr style=\"text-align: right;\">\n",
       "      <th></th>\n",
       "      <th>reviewText</th>\n",
       "      <th>rating_cat</th>\n",
       "      <th>clean_revs</th>\n",
       "    </tr>\n",
       "  </thead>\n",
       "  <tbody>\n",
       "    <tr>\n",
       "      <th>11541</th>\n",
       "      <td>Definitely a MUST-READ if you are a home cooki...</td>\n",
       "      <td>1</td>\n",
       "      <td>definitely must read home cooking enthusiast w...</td>\n",
       "    </tr>\n",
       "    <tr>\n",
       "      <th>11542</th>\n",
       "      <td>Pros: Scientifically informative and solid. Kn...</td>\n",
       "      <td>0</td>\n",
       "      <td>pros scientifically informative solid knowing ...</td>\n",
       "    </tr>\n",
       "    <tr>\n",
       "      <th>11543</th>\n",
       "      <td>Real fun to read. For everybody that is inters...</td>\n",
       "      <td>0</td>\n",
       "      <td>real fun read everybody intersted cooking cert...</td>\n",
       "    </tr>\n",
       "    <tr>\n",
       "      <th>11544</th>\n",
       "      <td>This book will teach you the chemical secrets ...</td>\n",
       "      <td>0</td>\n",
       "      <td>teach chemical secrets techniques usually used...</td>\n",
       "    </tr>\n",
       "    <tr>\n",
       "      <th>11545</th>\n",
       "      <td>I paid more than $30 to buy such a superficial...</td>\n",
       "      <td>0</td>\n",
       "      <td>paid buy superficial trivial made big mistake ...</td>\n",
       "    </tr>\n",
       "  </tbody>\n",
       "</table>\n",
       "</div>"
      ],
      "text/plain": [
       "                                              reviewText  rating_cat                                         clean_revs\n",
       "11541  Definitely a MUST-READ if you are a home cooki...           1  definitely must read home cooking enthusiast w...\n",
       "11542  Pros: Scientifically informative and solid. Kn...           0  pros scientifically informative solid knowing ...\n",
       "11543  Real fun to read. For everybody that is inters...           0  real fun read everybody intersted cooking cert...\n",
       "11544  This book will teach you the chemical secrets ...           0  teach chemical secrets techniques usually used...\n",
       "11545  I paid more than $30 to buy such a superficial...           0  paid buy superficial trivial made big mistake ..."
      ]
     },
     "execution_count": 10,
     "metadata": {},
     "output_type": "execute_result"
    }
   ],
   "source": [
    "# apply preprocessor to review text\n",
    "rev_rate['clean_revs'] = rev_rate['reviewText'].apply(preprocess)\n",
    "rev_rate.tail()"
   ]
  },
  {
   "cell_type": "code",
   "execution_count": 11,
   "metadata": {},
   "outputs": [],
   "source": [
    "# instantiate the stemmer\n",
    "stemmer = SnowballStemmer(\"english\")"
   ]
  },
  {
   "cell_type": "code",
   "execution_count": 12,
   "metadata": {
    "collapsed": true
   },
   "outputs": [],
   "source": [
    "# define second preprocessor for tokenization and stemming\n",
    "def preprocess2(text):\n",
    "    stemmer = SnowballStemmer(\"english\", ignore_stopwords=True)\n",
    "    tokens = word_tokenize(text)\n",
    "    stems = [stemmer.stem(t) for t in tokens]\n",
    "    return stems"
   ]
  },
  {
   "cell_type": "code",
   "execution_count": 13,
   "metadata": {},
   "outputs": [
    {
     "data": {
      "text/html": [
       "<div>\n",
       "<style>\n",
       "    .dataframe thead tr:only-child th {\n",
       "        text-align: right;\n",
       "    }\n",
       "\n",
       "    .dataframe thead th {\n",
       "        text-align: left;\n",
       "    }\n",
       "\n",
       "    .dataframe tbody tr th {\n",
       "        vertical-align: top;\n",
       "    }\n",
       "</style>\n",
       "<table border=\"1\" class=\"dataframe\">\n",
       "  <thead>\n",
       "    <tr style=\"text-align: right;\">\n",
       "      <th></th>\n",
       "      <th>reviewText</th>\n",
       "      <th>rating_cat</th>\n",
       "      <th>clean_revs</th>\n",
       "    </tr>\n",
       "  </thead>\n",
       "  <tbody>\n",
       "    <tr>\n",
       "      <th>11541</th>\n",
       "      <td>Definitely a MUST-READ if you are a home cooki...</td>\n",
       "      <td>1</td>\n",
       "      <td>[definit, must, read, home, cook, enthusiast, ...</td>\n",
       "    </tr>\n",
       "    <tr>\n",
       "      <th>11542</th>\n",
       "      <td>Pros: Scientifically informative and solid. Kn...</td>\n",
       "      <td>0</td>\n",
       "      <td>[pros, scientif, inform, solid, know, chemic, ...</td>\n",
       "    </tr>\n",
       "    <tr>\n",
       "      <th>11543</th>\n",
       "      <td>Real fun to read. For everybody that is inters...</td>\n",
       "      <td>0</td>\n",
       "      <td>[real, fun, read, everybodi, interst, cook, ce...</td>\n",
       "    </tr>\n",
       "    <tr>\n",
       "      <th>11544</th>\n",
       "      <td>This book will teach you the chemical secrets ...</td>\n",
       "      <td>0</td>\n",
       "      <td>[teach, chemic, secret, techniqu, usual, use, ...</td>\n",
       "    </tr>\n",
       "    <tr>\n",
       "      <th>11545</th>\n",
       "      <td>I paid more than $30 to buy such a superficial...</td>\n",
       "      <td>0</td>\n",
       "      <td>[paid, buy, superfici, trivial, made, big, mis...</td>\n",
       "    </tr>\n",
       "  </tbody>\n",
       "</table>\n",
       "</div>"
      ],
      "text/plain": [
       "                                              reviewText  rating_cat                                         clean_revs\n",
       "11541  Definitely a MUST-READ if you are a home cooki...           1  [definit, must, read, home, cook, enthusiast, ...\n",
       "11542  Pros: Scientifically informative and solid. Kn...           0  [pros, scientif, inform, solid, know, chemic, ...\n",
       "11543  Real fun to read. For everybody that is inters...           0  [real, fun, read, everybodi, interst, cook, ce...\n",
       "11544  This book will teach you the chemical secrets ...           0  [teach, chemic, secret, techniqu, usual, use, ...\n",
       "11545  I paid more than $30 to buy such a superficial...           0  [paid, buy, superfici, trivial, made, big, mis..."
      ]
     },
     "execution_count": 13,
     "metadata": {},
     "output_type": "execute_result"
    }
   ],
   "source": [
    "# apply second preprocessor to clean_revs\n",
    "rev_rate['clean_revs'] = rev_rate['clean_revs'].apply(preprocess2)\n",
    "rev_rate.tail()"
   ]
  },
  {
   "cell_type": "code",
   "execution_count": 14,
   "metadata": {},
   "outputs": [
    {
     "data": {
      "text/html": [
       "<div>\n",
       "<style>\n",
       "    .dataframe thead tr:only-child th {\n",
       "        text-align: right;\n",
       "    }\n",
       "\n",
       "    .dataframe thead th {\n",
       "        text-align: left;\n",
       "    }\n",
       "\n",
       "    .dataframe tbody tr th {\n",
       "        vertical-align: top;\n",
       "    }\n",
       "</style>\n",
       "<table border=\"1\" class=\"dataframe\">\n",
       "  <thead>\n",
       "    <tr style=\"text-align: right;\">\n",
       "      <th></th>\n",
       "      <th>reviewText</th>\n",
       "      <th>rating_cat</th>\n",
       "      <th>clean_revs</th>\n",
       "    </tr>\n",
       "  </thead>\n",
       "  <tbody>\n",
       "    <tr>\n",
       "      <th>11541</th>\n",
       "      <td>Definitely a MUST-READ if you are a home cooki...</td>\n",
       "      <td>1</td>\n",
       "      <td>['definit', 'must', 'read', 'home', 'cook', 'e...</td>\n",
       "    </tr>\n",
       "    <tr>\n",
       "      <th>11542</th>\n",
       "      <td>Pros: Scientifically informative and solid. Kn...</td>\n",
       "      <td>0</td>\n",
       "      <td>['pros', 'scientif', 'inform', 'solid', 'know'...</td>\n",
       "    </tr>\n",
       "    <tr>\n",
       "      <th>11543</th>\n",
       "      <td>Real fun to read. For everybody that is inters...</td>\n",
       "      <td>0</td>\n",
       "      <td>['real', 'fun', 'read', 'everybodi', 'interst'...</td>\n",
       "    </tr>\n",
       "    <tr>\n",
       "      <th>11544</th>\n",
       "      <td>This book will teach you the chemical secrets ...</td>\n",
       "      <td>0</td>\n",
       "      <td>['teach', 'chemic', 'secret', 'techniqu', 'usu...</td>\n",
       "    </tr>\n",
       "    <tr>\n",
       "      <th>11545</th>\n",
       "      <td>I paid more than $30 to buy such a superficial...</td>\n",
       "      <td>0</td>\n",
       "      <td>['paid', 'buy', 'superfici', 'trivial', 'made'...</td>\n",
       "    </tr>\n",
       "  </tbody>\n",
       "</table>\n",
       "</div>"
      ],
      "text/plain": [
       "                                              reviewText  rating_cat                                         clean_revs\n",
       "11541  Definitely a MUST-READ if you are a home cooki...           1  ['definit', 'must', 'read', 'home', 'cook', 'e...\n",
       "11542  Pros: Scientifically informative and solid. Kn...           0  ['pros', 'scientif', 'inform', 'solid', 'know'...\n",
       "11543  Real fun to read. For everybody that is inters...           0  ['real', 'fun', 'read', 'everybodi', 'interst'...\n",
       "11544  This book will teach you the chemical secrets ...           0  ['teach', 'chemic', 'secret', 'techniqu', 'usu...\n",
       "11545  I paid more than $30 to buy such a superficial...           0  ['paid', 'buy', 'superfici', 'trivial', 'made'..."
      ]
     },
     "execution_count": 14,
     "metadata": {},
     "output_type": "execute_result"
    }
   ],
   "source": [
    "# clean_revs must be a list of strings for vectorization steps\n",
    "rev_rate['clean_revs'] = rev_rate['clean_revs'].apply(str)\n",
    "rev_rate.tail()"
   ]
  },
  {
   "cell_type": "code",
   "execution_count": 15,
   "metadata": {},
   "outputs": [
    {
     "data": {
      "text/plain": [
       "11537    ['author', 'good', 'job', 'describ', 'scientif...\n",
       "11538    ['buy', 'look', 'cookbook', 'recip', 'list', '...\n",
       "11539    ['receipt', 'perfect', 'excel', 'condit', 'con...\n",
       "11540    ['fascin', 'explor', 'physic', 'cook', 'writte...\n",
       "11541    ['definit', 'must', 'read', 'home', 'cook', 'e...\n",
       "11542    ['pros', 'scientif', 'inform', 'solid', 'know'...\n",
       "11543    ['real', 'fun', 'read', 'everybodi', 'interst'...\n",
       "11544    ['teach', 'chemic', 'secret', 'techniqu', 'usu...\n",
       "Name: clean_revs, dtype: object"
      ]
     },
     "execution_count": 15,
     "metadata": {},
     "output_type": "execute_result"
    }
   ],
   "source": [
    "rev_rate.clean_revs[-9:-1]"
   ]
  },
  {
   "cell_type": "markdown",
   "metadata": {},
   "source": [
    "## Create X & y, split train and test data sets"
   ]
  },
  {
   "cell_type": "code",
   "execution_count": 16,
   "metadata": {},
   "outputs": [
    {
     "name": "stdout",
     "output_type": "stream",
     "text": [
      "(11546,)\n",
      "(11546,)\n"
     ]
    }
   ],
   "source": [
    "# store the feature matrix (X) and response vector (y) \n",
    "# uppercase X because it's an m x n matrix\n",
    "X = rev_rate.clean_revs\n",
    "\n",
    "# lowercase y because it's a m x 1 vector\n",
    "y = rev_rate.rating_cat\n",
    "\n",
    "print(X.shape)\n",
    "print(y.shape)"
   ]
  },
  {
   "cell_type": "code",
   "execution_count": 17,
   "metadata": {},
   "outputs": [
    {
     "name": "stdout",
     "output_type": "stream",
     "text": [
      "X Training set sample size: 8659\n",
      "X Testing set sample size: 2887\n",
      "y Training set sample size: 8659\n",
      "y Testing set sample size: 2887\n"
     ]
    }
   ],
   "source": [
    "# split the data into training and test sets\n",
    "X_train, X_test, y_train, y_test = train_test_split(X, y, random_state=42, stratify=y)\n",
    "\n",
    "# Show the results of the split\n",
    "print(\"X Training set sample size:\", (X_train.shape[0]))\n",
    "print(\"X Testing set sample size:\", (X_test.shape[0]))\n",
    "print(\"y Training set sample size:\", (y_train.shape[0]))\n",
    "print(\"y Testing set sample size:\", (y_test.shape[0]))"
   ]
  },
  {
   "cell_type": "code",
   "execution_count": 18,
   "metadata": {},
   "outputs": [
    {
     "name": "stdout",
     "output_type": "stream",
     "text": [
      "0.336412980714\n",
      "0.336335296155\n"
     ]
    }
   ],
   "source": [
    "# Double check stratification\n",
    "print(np.mean(y_train == 0))\n",
    "print(np.mean(y_test == 0))"
   ]
  },
  {
   "cell_type": "code",
   "execution_count": 19,
   "metadata": {},
   "outputs": [
    {
     "name": "stdout",
     "output_type": "stream",
     "text": [
      "7665    ['rainforest', 'grew', 'around', 'susan', 'k',...\n",
      "1141    ['consequ', 'develop', 'electron', 'superintel...\n",
      "Name: clean_revs, dtype: object\n"
     ]
    }
   ],
   "source": [
    "print(X_train[0:2])"
   ]
  },
  {
   "cell_type": "markdown",
   "metadata": {},
   "source": [
    "## Vectorize, fit, output document-term matrix with two vectorizers"
   ]
  },
  {
   "cell_type": "code",
   "execution_count": 20,
   "metadata": {},
   "outputs": [],
   "source": [
    "# instantiate two vectorizers\n",
    "vect = CountVectorizer(stop_words='english', lowercase=False, analyzer='word', tokenizer=None, ngram_range=(1, 2)) \n",
    "tfidf = TfidfVectorizer(stop_words='english', max_df=0.7, lowercase=False, ngram_range=(1, 2))"
   ]
  },
  {
   "cell_type": "code",
   "execution_count": 21,
   "metadata": {},
   "outputs": [
    {
     "data": {
      "text/plain": [
       "<8659x360104 sparse matrix of type '<class 'numpy.int64'>'\n",
       "\twith 866303 stored elements in Compressed Sparse Row format>"
      ]
     },
     "execution_count": 21,
     "metadata": {},
     "output_type": "execute_result"
    }
   ],
   "source": [
    "# Apply CountVectorizer ('vect') to stemmed tokens to learn training data vocabulary\n",
    "# then use it to create a document-term matrix\n",
    "X_train_dtm = vect.fit_transform(X_train.values)\n",
    "\n",
    "# examine the document-term matrix\n",
    "X_train_dtm"
   ]
  },
  {
   "cell_type": "code",
   "execution_count": 22,
   "metadata": {},
   "outputs": [
    {
     "data": {
      "text/plain": [
       "<2887x360104 sparse matrix of type '<class 'numpy.int64'>'\n",
       "\twith 189783 stored elements in Compressed Sparse Row format>"
      ]
     },
     "execution_count": 22,
     "metadata": {},
     "output_type": "execute_result"
    }
   ],
   "source": [
    "# transform testing data (using fitted vocabulary) into a document-term matrix\n",
    "X_test_dtm = vect.transform(X_test.values)\n",
    "X_test_dtm"
   ]
  },
  {
   "cell_type": "code",
   "execution_count": 23,
   "metadata": {},
   "outputs": [
    {
     "data": {
      "text/plain": [
       "<8659x360104 sparse matrix of type '<class 'numpy.float64'>'\n",
       "\twith 866303 stored elements in Compressed Sparse Row format>"
      ]
     },
     "execution_count": 23,
     "metadata": {},
     "output_type": "execute_result"
    }
   ],
   "source": [
    "# Apply TfidfVectorizer to learn training data vocabulary\n",
    "# then use it to create a document-term matrix\n",
    "X_train_tfidf = tfidf.fit_transform(X_train.values)\n",
    "\n",
    "# examine the document-term matrix\n",
    "X_train_tfidf"
   ]
  },
  {
   "cell_type": "code",
   "execution_count": 24,
   "metadata": {},
   "outputs": [
    {
     "data": {
      "text/plain": [
       "CountVectorizer(analyzer='word', binary=False, decode_error='strict',\n",
       "        dtype=<class 'numpy.int64'>, encoding='utf-8', input='content',\n",
       "        lowercase=False, max_df=1.0, max_features=None, min_df=1,\n",
       "        ngram_range=(1, 2), preprocessor=None, stop_words='english',\n",
       "        strip_accents=None, token_pattern='(?u)\\\\b\\\\w\\\\w+\\\\b',\n",
       "        tokenizer=None, vocabulary=None)"
      ]
     },
     "execution_count": 24,
     "metadata": {},
     "output_type": "execute_result"
    }
   ],
   "source": [
    "# view current parameters for CountVectorizer 'vect'\n",
    "vect"
   ]
  },
  {
   "cell_type": "code",
   "execution_count": 25,
   "metadata": {},
   "outputs": [
    {
     "data": {
      "text/plain": [
       "TfidfVectorizer(analyzer='word', binary=False, decode_error='strict',\n",
       "        dtype=<class 'numpy.int64'>, encoding='utf-8', input='content',\n",
       "        lowercase=False, max_df=0.7, max_features=None, min_df=1,\n",
       "        ngram_range=(1, 2), norm='l2', preprocessor=None, smooth_idf=True,\n",
       "        stop_words='english', strip_accents=None, sublinear_tf=False,\n",
       "        token_pattern='(?u)\\\\b\\\\w\\\\w+\\\\b', tokenizer=None, use_idf=True,\n",
       "        vocabulary=None)"
      ]
     },
     "execution_count": 25,
     "metadata": {},
     "output_type": "execute_result"
    }
   ],
   "source": [
    "# view current parameters for TfidfVectorizer 'tfidf'\n",
    "tfidf"
   ]
  },
  {
   "cell_type": "code",
   "execution_count": 26,
   "metadata": {},
   "outputs": [
    {
     "data": {
      "text/plain": [
       "<2887x360104 sparse matrix of type '<class 'numpy.float64'>'\n",
       "\twith 189783 stored elements in Compressed Sparse Row format>"
      ]
     },
     "execution_count": 26,
     "metadata": {},
     "output_type": "execute_result"
    }
   ],
   "source": [
    "# transform testing data with tfidif vectorizer into document-term matrix\n",
    "X_test_tfidf = tfidf.transform(X_test.values)\n",
    "X_test_tfidf"
   ]
  },
  {
   "cell_type": "markdown",
   "metadata": {},
   "source": [
    "## Build the simple model with Naive Bayes for baseline and to compare vectorizers"
   ]
  },
  {
   "cell_type": "code",
   "execution_count": 27,
   "metadata": {
    "collapsed": true
   },
   "outputs": [],
   "source": [
    "# instantiate scikit-learn's MultinomialNB() classifier to use on CountVec vectors\n",
    "nb = MultinomialNB(alpha=1, fit_prior=True)"
   ]
  },
  {
   "cell_type": "code",
   "execution_count": 28,
   "metadata": {},
   "outputs": [
    {
     "name": "stdout",
     "output_type": "stream",
     "text": [
      "CPU times: user 45.3 ms, sys: 28.1 ms, total: 73.5 ms\n",
      "Wall time: 85 ms\n"
     ]
    },
    {
     "data": {
      "text/plain": [
       "MultinomialNB(alpha=1, class_prior=None, fit_prior=True)"
      ]
     },
     "execution_count": 28,
     "metadata": {},
     "output_type": "execute_result"
    }
   ],
   "source": [
    "# train the model using X_train_dtm from CountVectorizer (vect)\n",
    "%time nb.fit(X_train_dtm, y_train)"
   ]
  },
  {
   "cell_type": "code",
   "execution_count": 29,
   "metadata": {},
   "outputs": [],
   "source": [
    "# COMPARE TFIDF VECTORIZER\n",
    "# instantiate scikit-learn's MultinomialNB() classifier to use on tfidf vectors\n",
    "nbtfidf = MultinomialNB(alpha=1, fit_prior=True) "
   ]
  },
  {
   "cell_type": "code",
   "execution_count": 30,
   "metadata": {},
   "outputs": [
    {
     "name": "stdout",
     "output_type": "stream",
     "text": [
      "CPU times: user 41.4 ms, sys: 8.65 ms, total: 50.1 ms\n",
      "Wall time: 48.8 ms\n"
     ]
    },
    {
     "data": {
      "text/plain": [
       "MultinomialNB(alpha=1, class_prior=None, fit_prior=True)"
      ]
     },
     "execution_count": 30,
     "metadata": {},
     "output_type": "execute_result"
    }
   ],
   "source": [
    "# COMPARE TFIDF VECTORIZER\n",
    "# train the model using X_train_tfidf from TfidfVectorizer\n",
    "%time nbtfidf.fit(X_train_tfidf, y_train)"
   ]
  },
  {
   "cell_type": "code",
   "execution_count": 31,
   "metadata": {},
   "outputs": [
    {
     "data": {
      "text/plain": [
       "0.81416722707913025"
      ]
     },
     "execution_count": 31,
     "metadata": {},
     "output_type": "execute_result"
    }
   ],
   "source": [
    "# make class predictions for X_test_dtm\n",
    "y_pred_class = nb.predict(X_test_dtm)\n",
    "\n",
    "# calculate F1 Score: a weighted average of the precision and recall (est value at 1 and worst score at 0)\n",
    "metrics.f1_score(y_test, y_pred_class)"
   ]
  },
  {
   "cell_type": "code",
   "execution_count": 32,
   "metadata": {},
   "outputs": [
    {
     "data": {
      "text/plain": [
       "0.7986661108795331"
      ]
     },
     "execution_count": 32,
     "metadata": {},
     "output_type": "execute_result"
    }
   ],
   "source": [
    "# COMPARE TFIDF VECTORIZER\n",
    "# make class predictions for X_test_dtm\n",
    "y_pred_tfidf = nbtfidf.predict(X_test_tfidf)\n",
    "\n",
    "# calculate F1 Score: a weighted average of the precision and recall (est value at 1 and worst score at 0)\n",
    "metrics.f1_score(y_test, y_pred_tfidf)"
   ]
  },
  {
   "cell_type": "code",
   "execution_count": 33,
   "metadata": {},
   "outputs": [
    {
     "data": {
      "text/plain": [
       "array([[ 242,  729],\n",
       "       [ 100, 1816]])"
      ]
     },
     "execution_count": 33,
     "metadata": {},
     "output_type": "execute_result"
    }
   ],
   "source": [
    "# print the confusion matrix from Count Vectorizer\n",
    "metrics.confusion_matrix(y_test, y_pred_class)"
   ]
  },
  {
   "cell_type": "markdown",
   "metadata": {},
   "source": [
    "Confusions Matrix breakdown for Count Vectorizer with Naive Bayes:\n",
    "True Positives: 1816 reviews correctly predicted as 'five'\n",
    "True Negatives: 242 reviews correctly predicted as 'not5'\n",
    "False Positives: 729 reviews incorrectly predicted to be 'five' but they are 'not5' (Type I error).\n",
    "False Negatives: 100 reviews incorrectly predicted to be 'not5' but they are 'five' (Type II error)."
   ]
  },
  {
   "cell_type": "code",
   "execution_count": 34,
   "metadata": {},
   "outputs": [
    {
     "data": {
      "text/plain": [
       "array([[   5,  966],\n",
       "       [   0, 1916]])"
      ]
     },
     "execution_count": 34,
     "metadata": {},
     "output_type": "execute_result"
    }
   ],
   "source": [
    "# COMPARE TFIDF VECTORIZER\n",
    "# print the confusion matrix from Count Vectorizer\n",
    "metrics.confusion_matrix(y_test, y_pred_tfidf)"
   ]
  },
  {
   "cell_type": "markdown",
   "metadata": {},
   "source": [
    "Confusions Matrix breakdown for TFIDF Vectorizer with Naive Bayes:\n",
    "True Positives: 1916 reviews correctly predicted as 'five'\n",
    "True Negatives: 5 reviews correctly predicted as 'not5'\n",
    "False Positives: 966 reviews incorrectly predicted to be 'five' but they are 'not5' (Type I error).\n",
    "False Negatives: 0 reviews incorrectly predicted to be 'not5' but they are 'five' (Type II error).\n",
    "\n",
    "Before tuning Naive Bayes parameters with GridSearchCV (below) the TfidfVectorizer with default settings does very poorly assigning review text to high vs low rating categories."
   ]
  },
  {
   "cell_type": "code",
   "execution_count": 35,
   "metadata": {},
   "outputs": [
    {
     "data": {
      "text/plain": [
       "array([ 0.99600461,  0.97748259,  0.73135397, ...,  0.99999115,\n",
       "        0.9999891 ,  0.99999999])"
      ]
     },
     "execution_count": 35,
     "metadata": {},
     "output_type": "execute_result"
    }
   ],
   "source": [
    "# calculate predicted probabilities for X_test_dtm (document-term matrix from CountVectorizer)\n",
    "y_pred_prob = nb.predict_proba(X_test_dtm)[:, 1]\n",
    "y_pred_prob"
   ]
  },
  {
   "cell_type": "code",
   "execution_count": 36,
   "metadata": {},
   "outputs": [
    {
     "data": {
      "text/plain": [
       "array([ 0.89910551,  0.88567692,  0.71900536, ...,  0.97841308,\n",
       "        0.9314422 ,  0.96034283])"
      ]
     },
     "execution_count": 36,
     "metadata": {},
     "output_type": "execute_result"
    }
   ],
   "source": [
    "# COMPARE TFIDF VECTORIZER\n",
    "# calculate predicted probabilities for X_test_dtm (poorly calibrated)\n",
    "y_pred_prob_tfidf = nbtfidf.predict_proba(X_test_tfidf)[:, 1]\n",
    "y_pred_prob_tfidf"
   ]
  },
  {
   "cell_type": "code",
   "execution_count": 37,
   "metadata": {},
   "outputs": [
    {
     "data": {
      "image/png": "[encoded data removed]",
      "text/plain": [
       "<matplotlib.figure.Figure at 0x1a10042160>"
      ]
     },
     "metadata": {},
     "output_type": "display_data"
    }
   ],
   "source": [
    "# Generate ROC curve values: fpr, tpr, thresholds\n",
    "fpr, tpr, thresholds = roc_curve(y_test, y_pred_prob)\n",
    "\n",
    "# Plot ROC curve for Naive Bayes with CountVectorizer\n",
    "plt.plot([0, 1], [0, 1], 'k--')\n",
    "plt.plot(fpr, tpr)\n",
    "plt.xlabel('False Positive Rate')\n",
    "plt.ylabel('True Positive Rate')\n",
    "plt.title('ROC Curve with CountVectorizer')\n",
    "plt.show()"
   ]
  },
  {
   "cell_type": "code",
   "execution_count": 38,
   "metadata": {},
   "outputs": [
    {
     "data": {
      "text/plain": [
       "0.71100107716685768"
      ]
     },
     "execution_count": 38,
     "metadata": {},
     "output_type": "execute_result"
    }
   ],
   "source": [
    "# calculate AUC for NB model with CountVect\n",
    "metrics.roc_auc_score(y_test, y_pred_prob)"
   ]
  },
  {
   "cell_type": "code",
   "execution_count": 39,
   "metadata": {},
   "outputs": [
    {
     "data": {
      "image/png": "[encoded data removed]",
      "text/plain": [
       "<matplotlib.figure.Figure at 0x1a10042a20>"
      ]
     },
     "metadata": {},
     "output_type": "display_data"
    }
   ],
   "source": [
    "# COMPARE TFIDF VECTORIZER\n",
    "# Generate ROC curve values: fpr, tpr, thresholds\n",
    "fpr, tpr, thresholds = roc_curve(y_test, y_pred_prob_tfidf)\n",
    "\n",
    "# Plot ROC curve\n",
    "plt.plot([0, 1], [0, 1], 'k--')\n",
    "plt.plot(fpr, tpr)\n",
    "plt.xlabel('False Positive Rate')\n",
    "plt.ylabel('True Positive Rate')\n",
    "plt.title('ROC Curve with TfidfVectorizer')\n",
    "plt.show()"
   ]
  },
  {
   "cell_type": "code",
   "execution_count": 40,
   "metadata": {},
   "outputs": [
    {
     "data": {
      "text/plain": [
       "0.71287106893222885"
      ]
     },
     "execution_count": 40,
     "metadata": {},
     "output_type": "execute_result"
    }
   ],
   "source": [
    "# COMPARE TFIDF VECTORIZER\n",
    "# calculate AUC for simple model\n",
    "metrics.roc_auc_score(y_test, y_pred_prob_tfidf)"
   ]
  },
  {
   "cell_type": "markdown",
   "metadata": {},
   "source": [
    "### Run GridSearchCV on best parameters for CountVectorizer"
   ]
  },
  {
   "cell_type": "code",
   "execution_count": 41,
   "metadata": {},
   "outputs": [],
   "source": [
    "# create a list of performace parameters for performace tuning (ngram range, use idf?, best alpha)\n",
    "parameters = {#'ngram_range': [(1, 1), (1, 2), (1,3)], \n",
    "              #'max_df': (0.5, 0.75, 1.0),\n",
    "              #'vect__max_features': [1, 3, 10],\n",
    "              #'min_df' :(0.00001,0.0001,0.001,0.01,1),\n",
    "              'fit_prior': (True, False),\n",
    "              #'class_prior': (True, False), \n",
    "              'alpha': (0.001, 0.1, 1, 5, 10)\n",
    "             }"
   ]
  },
  {
   "cell_type": "code",
   "execution_count": 42,
   "metadata": {},
   "outputs": [
    {
     "data": {
      "text/plain": [
       "['alpha', 'class_prior', 'fit_prior']"
      ]
     },
     "execution_count": 42,
     "metadata": {},
     "output_type": "execute_result"
    }
   ],
   "source": [
    "# run this to get a list of the all available pipe-items unique keys for the grid parameters\n",
    "sorted(nb.get_params().keys())"
   ]
  },
  {
   "cell_type": "code",
   "execution_count": 43,
   "metadata": {},
   "outputs": [],
   "source": [
    "# create an instance of the grid search by passing the classifier, parameters \n",
    "# and n_jobs=-1 which tells to use multiple cores from user machine.\n",
    "gs_mnb = GridSearchCV(MultinomialNB(), parameters, scoring='roc_auc', n_jobs=-1)\n",
    "gs_mnb = gs_mnb.fit(X_train_dtm, y_train)"
   ]
  },
  {
   "cell_type": "code",
   "execution_count": 44,
   "metadata": {},
   "outputs": [
    {
     "name": "stdout",
     "output_type": "stream",
     "text": [
      "Best score for text: 0.7283986003\n"
     ]
    }
   ],
   "source": [
    "# View the best score (set to roc_auc) for MultinomialNB with CountVect\n",
    "print('Best score for text:', gs_mnb.best_score_) "
   ]
  },
  {
   "cell_type": "code",
   "execution_count": 45,
   "metadata": {},
   "outputs": [
    {
     "name": "stdout",
     "output_type": "stream",
     "text": [
      "Best parameters: {'alpha': 1, 'fit_prior': True}\n"
     ]
    }
   ],
   "source": [
    "# Get best parameters for MultinomialNB with CountVect\n",
    "print('Best parameters:', gs_mnb.best_params_)\n",
    "# Alpha = 1 is the default and picked as best alpha\n",
    "# fit_prior: True"
   ]
  },
  {
   "cell_type": "code",
   "execution_count": 46,
   "metadata": {},
   "outputs": [
    {
     "data": {
      "text/plain": [
       "GridSearchCV(cv=None, error_score='raise',\n",
       "       estimator=MultinomialNB(alpha=1.0, class_prior=None, fit_prior=True),\n",
       "       fit_params=None, iid=True, n_jobs=-1,\n",
       "       param_grid={'fit_prior': (True, False), 'alpha': (0.001, 0.1, 1, 5, 10)},\n",
       "       pre_dispatch='2*n_jobs', refit=True, return_train_score=True,\n",
       "       scoring='roc_auc', verbose=0)"
      ]
     },
     "execution_count": 46,
     "metadata": {},
     "output_type": "execute_result"
    }
   ],
   "source": [
    "gs_mnb"
   ]
  },
  {
   "cell_type": "markdown",
   "metadata": {},
   "source": [
    "### Run GridSearchCV on best parameters for TfidfVectorizer"
   ]
  },
  {
   "cell_type": "code",
   "execution_count": 47,
   "metadata": {},
   "outputs": [],
   "source": [
    "# fit grid search again with DTM for tfidf vectorizer (same parameters)\n",
    "gs_tfidf = GridSearchCV(MultinomialNB(), parameters, scoring='roc_auc', n_jobs=-1)\n",
    "gs_tfidf = gs_tfidf.fit(X_train_tfidf, y_train)"
   ]
  },
  {
   "cell_type": "code",
   "execution_count": 48,
   "metadata": {},
   "outputs": [
    {
     "name": "stdout",
     "output_type": "stream",
     "text": [
      "Best score for text: 0.754143238471\n"
     ]
    }
   ],
   "source": [
    "# View the best score (set to roc_auc)\n",
    "print('Best score for text:', gs_tfidf.best_score_) "
   ]
  },
  {
   "cell_type": "code",
   "execution_count": 49,
   "metadata": {},
   "outputs": [
    {
     "name": "stdout",
     "output_type": "stream",
     "text": [
      "Best parameters: {'alpha': 0.1, 'fit_prior': True}\n"
     ]
    }
   ],
   "source": [
    "# Get best parameters\n",
    "print('Best parameters:', gs_tfidf.best_params_)\n",
    "# Alpha = 0.1 is the default and picked as best alpha\n",
    "# fit_prior: True"
   ]
  },
  {
   "cell_type": "code",
   "execution_count": 50,
   "metadata": {},
   "outputs": [
    {
     "data": {
      "text/plain": [
       "GridSearchCV(cv=None, error_score='raise',\n",
       "       estimator=MultinomialNB(alpha=1.0, class_prior=None, fit_prior=True),\n",
       "       fit_params=None, iid=True, n_jobs=-1,\n",
       "       param_grid={'fit_prior': (True, False), 'alpha': (0.001, 0.1, 1, 5, 10)},\n",
       "       pre_dispatch='2*n_jobs', refit=True, return_train_score=True,\n",
       "       scoring='roc_auc', verbose=0)"
      ]
     },
     "execution_count": 50,
     "metadata": {},
     "output_type": "execute_result"
    }
   ],
   "source": [
    "gs_tfidf"
   ]
  },
  {
   "cell_type": "markdown",
   "metadata": {},
   "source": [
    "#### Re-fit Naive Bayes model with Tfidf document-terms matrix and tuned parameters"
   ]
  },
  {
   "cell_type": "code",
   "execution_count": 51,
   "metadata": {
    "collapsed": true
   },
   "outputs": [],
   "source": [
    "# COMPARE TFIDF VECTORIZER\n",
    "# instantiate scikit-learn's MultinomialNB() classifier to use on tfidf vectors\n",
    "nbtfidf = MultinomialNB(alpha=0.1, fit_prior=True, class_prior=None) # parameters from GridSearchCV"
   ]
  },
  {
   "cell_type": "code",
   "execution_count": 52,
   "metadata": {},
   "outputs": [
    {
     "name": "stdout",
     "output_type": "stream",
     "text": [
      "CPU times: user 47 ms, sys: 10.8 ms, total: 57.8 ms\n",
      "Wall time: 58.4 ms\n"
     ]
    },
    {
     "data": {
      "text/plain": [
       "MultinomialNB(alpha=0.1, class_prior=None, fit_prior=True)"
      ]
     },
     "execution_count": 52,
     "metadata": {},
     "output_type": "execute_result"
    }
   ],
   "source": [
    "# COMPARE TFIDF VECTORIZER\n",
    "# train the model using X_train_tfidf from TfidfVectorizer\n",
    "%time nbtfidf.fit(X_train_tfidf, y_train)"
   ]
  },
  {
   "cell_type": "code",
   "execution_count": 53,
   "metadata": {},
   "outputs": [
    {
     "data": {
      "text/plain": [
       "0.81130040974768181"
      ]
     },
     "execution_count": 53,
     "metadata": {},
     "output_type": "execute_result"
    }
   ],
   "source": [
    "# COMPARE TFIDF VECTORIZER\n",
    "# make class predictions for X_test_dtm\n",
    "y_pred_tfidf = nbtfidf.predict(X_test_tfidf)\n",
    "\n",
    "# calculate F1 Score: a weighted average of the precision and recall (est value at 1 and worst score at 0)\n",
    "metrics.f1_score(y_test, y_pred_tfidf)"
   ]
  },
  {
   "cell_type": "code",
   "execution_count": 54,
   "metadata": {},
   "outputs": [
    {
     "data": {
      "text/plain": [
       "array([[ 131,  840],\n",
       "       [  35, 1881]])"
      ]
     },
     "execution_count": 54,
     "metadata": {},
     "output_type": "execute_result"
    }
   ],
   "source": [
    "# COMPARE TFIDF VECTORIZER\n",
    "# print the confusion matrix from Count Vectorizer\n",
    "metrics.confusion_matrix(y_test, y_pred_tfidf)"
   ]
  },
  {
   "cell_type": "markdown",
   "metadata": {},
   "source": [
    "With tuned Naive Bayes parameters many more reviews are assigned to the 'low' rating category instead of almost all reviews classified as 'high' before parameter tuning."
   ]
  },
  {
   "cell_type": "code",
   "execution_count": 55,
   "metadata": {},
   "outputs": [
    {
     "data": {
      "text/plain": [
       "array([ 0.88892274,  0.89518515,  0.73966857, ...,  0.99035755,\n",
       "        0.97274783,  0.97266372])"
      ]
     },
     "execution_count": 55,
     "metadata": {},
     "output_type": "execute_result"
    }
   ],
   "source": [
    "# COMPARE TFIDF VECTORIZER\n",
    "# calculate predicted probabilities for X_test_dtm (poorly calibrated)\n",
    "y_pred_prob_tfidf = nbtfidf.predict_proba(X_test_tfidf)[:, 1]\n",
    "y_pred_prob_tfidf"
   ]
  },
  {
   "cell_type": "code",
   "execution_count": 56,
   "metadata": {},
   "outputs": [
    {
     "data": {
      "image/png": "[encoded data removed]",
      "text/plain": [
       "<matplotlib.figure.Figure at 0x1a0f3b5080>"
      ]
     },
     "metadata": {},
     "output_type": "display_data"
    }
   ],
   "source": [
    "# COMPARE TFIDF VECTORIZER\n",
    "# Generate ROC curve values: fpr, tpr, thresholds\n",
    "fpr, tpr, thresholds = roc_curve(y_test, y_pred_prob_tfidf)\n",
    "\n",
    "# Plot ROC curve\n",
    "plt.plot([0, 1], [0, 1], 'k--')\n",
    "plt.plot(fpr, tpr)\n",
    "plt.xlabel('False Positive Rate')\n",
    "plt.ylabel('True Positive Rate')\n",
    "plt.title('ROC Curve with TfidfVectorizer')\n",
    "plt.show()"
   ]
  },
  {
   "cell_type": "code",
   "execution_count": 57,
   "metadata": {},
   "outputs": [
    {
     "data": {
      "text/plain": [
       "0.75882857566720918"
      ]
     },
     "execution_count": 57,
     "metadata": {},
     "output_type": "execute_result"
    }
   ],
   "source": [
    "# COMPARE TFIDF VECTORIZER\n",
    "# calculate AUC for simple model\n",
    "metrics.roc_auc_score(y_test, y_pred_prob_tfidf)"
   ]
  },
  {
   "cell_type": "markdown",
   "metadata": {},
   "source": [
    "## Examine model inputs for further insight"
   ]
  },
  {
   "cell_type": "code",
   "execution_count": 58,
   "metadata": {},
   "outputs": [
    {
     "data": {
      "text/plain": [
       "360104"
      ]
     },
     "execution_count": 58,
     "metadata": {},
     "output_type": "execute_result"
    }
   ],
   "source": [
    "# store the vocabulary of X_train with CountVectorizer\n",
    "X_train_tokens = vect.get_feature_names()\n",
    "len(X_train_tokens)"
   ]
  },
  {
   "cell_type": "code",
   "execution_count": 59,
   "metadata": {},
   "outputs": [
    {
     "name": "stdout",
     "output_type": "stream",
     "text": [
      "['aa', 'aa best', 'aa big', 'aa spectroscopi', 'aa way', 'aa zweikant', 'aaa', 'aaaah', 'aaaah memori', 'aacut', 'aacut ctico', 'aacut nyi', 'aacut ttes', 'aah', 'aah ing', 'aar', 'aar treat', 'aar use', 'aardvark', 'aardvark tapir', 'aarhus', 'aarhus denmark', 'aarhus member', 'aarhus univers', 'aaron', 'aaron cantor', 'aaron klug', 'aaron mcconnel', 'aaron mother', 'aaron sach', 'aaron select', 'aaron shepard', 'aaron taunt', 'aaron wildavski', 'aayah', 'aayah arab', 'ab', 'ab cruncher', 'ab factor', 'ab hugh', 'ab roller', 'ababa', 'ababa ethiopia', 'aback', 'aback numer', 'aback various', 'abacus', 'abacus india', 'abandon', 'abandon airport']\n"
     ]
    }
   ],
   "source": [
    "# examine the first 50 tokens\n",
    "print(X_train_tokens[0:50])"
   ]
  },
  {
   "cell_type": "code",
   "execution_count": 60,
   "metadata": {},
   "outputs": [
    {
     "name": "stdout",
     "output_type": "stream",
     "text": [
      "['zoonom viral', 'zoonos', 'zoonos far', 'zoonos fascin', 'zoonos includ', 'zoonos infecti', 'zoonos instead', 'zoonos mani', 'zoonos ought', 'zoonos pandem', 'zoonos particular', 'zoonos read', 'zoonos report', 'zoonos risk', 'zoonos sinc', 'zoonos unawar', 'zoonos word', 'zoonosi', 'zoonosi abil', 'zoonosi anim', 'zoonosi bubon', 'zoonosi case', 'zoonosi certain', 'zoonosi diseas', 'zoonosi got', 'zoonosi great', 'zoonosi http', 'zoonosi infect', 'zoonosi infecti', 'zoonosi new', 'zoonosi pg', 'zoonosi prove', 'zoonosi spillov', 'zoonosi virul', 'zoonosi virus', 'zoonot', 'zoonot anim', 'zoonot diseas', 'zoonot infect', 'zoonot infecti', 'zoonot outbreak', 'zoonot pandem', 'zoonot pathogen', 'zoonot thought', 'zoonot virus', 'zumba', 'zumba come', 'zumdahl', 'zumdahl mcquarri', 'zweikant']\n"
     ]
    }
   ],
   "source": [
    "# examine the last 50 tokens\n",
    "print(X_train_tokens[-50:])"
   ]
  },
  {
   "cell_type": "markdown",
   "metadata": {},
   "source": [
    "__Interpretation of simple model:__ The Naive Bayes model trained on stemmed tokens with stop words removed performs fairly well. GridSearchCV indicates the best parameters for the two vectorizers. For the rest of the algorithms I will use the document terms matrix from the TfidfVectorizer based on the comparisons above."
   ]
  },
  {
   "cell_type": "code",
   "execution_count": 61,
   "metadata": {},
   "outputs": [
    {
     "name": "stdout",
     "output_type": "stream",
     "text": [
      "Smallest Coefs: \n",
      "['theolog student' 'escap wild' 'escape' 'escape main' 'live kennedi'\n",
      " 'eschatolog premillennialist' 'provis articl' 'escap unrel' 'scope pretti'\n",
      " 'escher draw']\n",
      "\n",
      "Largest Coefs: \n",
      "['read' 'love' 'great' 'year' 'inform' 'use' 'scienc' 'learn' 'like' 'good']\n",
      "\n"
     ]
    }
   ],
   "source": [
    "# Examine features with largest and smallest coefficients from Tfidf/Multinomial NB model\n",
    "feature_names = np.array(tfidf.get_feature_names())\n",
    "sorted_coef_index = nbtfidf.coef_[0].argsort()\n",
    "print('Smallest Coefs: \\n{}\\n'.format(feature_names[sorted_coef_index[:10]]))\n",
    "print('Largest Coefs: \\n{}\\n'.format(feature_names[sorted_coef_index[:-11:-1]]))"
   ]
  },
  {
   "cell_type": "code",
   "execution_count": 62,
   "metadata": {},
   "outputs": [
    {
     "name": "stdout",
     "output_type": "stream",
     "text": [
      "[1 1]\n"
     ]
    }
   ],
   "source": [
    "# test the current model\n",
    "print(nbtfidf.predict(tfidf.transform(['This book is not good. I do not recommend that you ever read it',\n",
    "                                       'This book is not bad at all. I highly recommend this for anyone'])))"
   ]
  },
  {
   "cell_type": "code",
   "execution_count": 63,
   "metadata": {},
   "outputs": [
    {
     "name": "stdout",
     "output_type": "stream",
     "text": [
      "[1 1]\n"
     ]
    }
   ],
   "source": [
    "# test the current model with more extreme review text\n",
    "print(nbtfidf.predict(tfidf.transform(['This is a big disappointing bore. I expected more. Unfortunately I was wrong',\n",
    "                                       'This book is not bad at all. You should read it'])))"
   ]
  },
  {
   "cell_type": "markdown",
   "metadata": {},
   "source": [
    "The text reviews are all assigned to the 'high' rating category. The current model includes bigrams in the document-terms matrix but it still does not assign 'not good' to the negative review class."
   ]
  },
  {
   "cell_type": "markdown",
   "metadata": {},
   "source": [
    "## Fit classifiers with TFIDF Vectorizer"
   ]
  },
  {
   "cell_type": "markdown",
   "metadata": {},
   "source": [
    "## Fit Random Forest classifier, get feature importance"
   ]
  },
  {
   "cell_type": "code",
   "execution_count": 64,
   "metadata": {},
   "outputs": [
    {
     "data": {
      "text/plain": [
       "0.80183928180424791"
      ]
     },
     "execution_count": 64,
     "metadata": {},
     "output_type": "execute_result"
    }
   ],
   "source": [
    "# classifier with grid search parameters (multiple runs to target best parameters)\n",
    "rf_clf = RandomForestClassifier(max_features=400, min_samples_leaf=3).fit(X_train_tfidf, y_train)\n",
    "# parameters added after GridSearch below\n",
    "predicted_rf_clf = rf_clf.predict(X_test_tfidf)\n",
    "\n",
    "metrics.f1_score(y_test, predicted_rf_clf)"
   ]
  },
  {
   "cell_type": "code",
   "execution_count": 65,
   "metadata": {},
   "outputs": [
    {
     "data": {
      "text/plain": [
       "array([[ 151,  820],\n",
       "       [  85, 1831]])"
      ]
     },
     "execution_count": 65,
     "metadata": {},
     "output_type": "execute_result"
    }
   ],
   "source": [
    "# print the confusion matrix \n",
    "metrics.confusion_matrix(y_test, predicted_rf_clf)"
   ]
  },
  {
   "cell_type": "code",
   "execution_count": 66,
   "metadata": {},
   "outputs": [
    {
     "data": {
      "text/plain": [
       "array([ 0.75187099,  0.62293112,  0.62646804, ...,  0.77751288,\n",
       "        0.77176541,  0.82442676])"
      ]
     },
     "execution_count": 66,
     "metadata": {},
     "output_type": "execute_result"
    }
   ],
   "source": [
    "# calculate predicted probabilities\n",
    "y_pred_prob_rf_clf = rf_clf.predict_proba(X_test_tfidf)[:, 1]\n",
    "y_pred_prob_rf_clf"
   ]
  },
  {
   "cell_type": "code",
   "execution_count": 67,
   "metadata": {},
   "outputs": [
    {
     "data": {
      "image/png": "[encoded data removed]",
      "text/plain": [
       "<matplotlib.figure.Figure at 0x1a0fd0cfd0>"
      ]
     },
     "metadata": {},
     "output_type": "display_data"
    }
   ],
   "source": [
    "# Generate ROC curve values: fpr, tpr, thresholds\n",
    "fpr, tpr, thresholds = roc_curve(y_test, y_pred_prob_rf_clf)\n",
    "\n",
    "# Plot ROC curve\n",
    "plt.plot([0, 1], [0, 1], 'k--')\n",
    "plt.plot(fpr, tpr)\n",
    "plt.xlabel('False Positive Rate')\n",
    "plt.ylabel('True Positive Rate')\n",
    "plt.title('ROC Curve')\n",
    "plt.show()"
   ]
  },
  {
   "cell_type": "code",
   "execution_count": 68,
   "metadata": {},
   "outputs": [
    {
     "data": {
      "text/plain": [
       "0.69235571661696504"
      ]
     },
     "execution_count": 68,
     "metadata": {},
     "output_type": "execute_result"
    }
   ],
   "source": [
    "# calculate AUC for randomforest model\n",
    "metrics.roc_auc_score(y_test, y_pred_prob_rf_clf)"
   ]
  },
  {
   "cell_type": "code",
   "execution_count": null,
   "metadata": {},
   "outputs": [],
   "source": [
    "# use to get a list of the all available pipe-items unique keys for the grid parameters\n",
    "sorted(rf_clf.get_params().keys())"
   ]
  },
  {
   "cell_type": "code",
   "execution_count": 69,
   "metadata": {
    "collapsed": true
   },
   "outputs": [],
   "source": [
    "# find best parameters with GridSearchCV\n",
    "# create a list of performace parameters for performace tuning (ngram range, use idf?, best alpha)\n",
    "params = {#'vect__ngram_range': [(1, 1), (1, 2), (1,3)], \n",
    "              #'vect__max_df': (0.5, 0.75, 1.0),\n",
    "              'max_features': [300, 400, 500, 600, 700],\n",
    "              #'vect__min_df' :(0.00001,0.0001,0.001,0.01,1),\n",
    "              'min_samples_leaf': (1, 3, 4, 5),\n",
    "              #'min_samples_split': (1, 3, 10),\n",
    "              #'tfidf__use_idf': (True, False), \n",
    "              #'mnb__alpha': (0.1, 1, 5, 10)\n",
    "         }"
   ]
  },
  {
   "cell_type": "code",
   "execution_count": 70,
   "metadata": {},
   "outputs": [],
   "source": [
    "# create an instance of the grid search by passing the classifier, parameters \n",
    "# and n_jobs=-1 which tells to use multiple cores from user machine.\n",
    "gs_rf = GridSearchCV(RandomForestClassifier(), params, scoring='roc_auc', n_jobs=-1)\n",
    "gs_rf = gs_rf.fit(X_train_tfidf, y_train) "
   ]
  },
  {
   "cell_type": "code",
   "execution_count": 71,
   "metadata": {},
   "outputs": [
    {
     "name": "stdout",
     "output_type": "stream",
     "text": [
      "Best score for text: 0.712400298569\n"
     ]
    }
   ],
   "source": [
    "# View the best accuracy score\n",
    "print('Best score for text:', gs_rf.best_score_) \n",
    "# prior run gave: Best score for text: 0.737"
   ]
  },
  {
   "cell_type": "code",
   "execution_count": 72,
   "metadata": {},
   "outputs": [
    {
     "name": "stdout",
     "output_type": "stream",
     "text": [
      "Best parameters: {'max_features': 700, 'min_samples_leaf': 5}\n"
     ]
    }
   ],
   "source": [
    "# Get best parameters\n",
    "print('Best parameters:', gs_rf.best_params_)\n",
    "# prior run gave: Best parameters: {'max_features': 300, 'min_samples_leaf': 5} first run gave 10 & 3"
   ]
  },
  {
   "cell_type": "code",
   "execution_count": 73,
   "metadata": {},
   "outputs": [
    {
     "data": {
      "text/plain": [
       "array([ 0.,  0.,  0., ...,  0.,  0.,  0.])"
      ]
     },
     "execution_count": 73,
     "metadata": {},
     "output_type": "execute_result"
    }
   ],
   "source": [
    "# get array of Random Forest feature importances\n",
    "rf_clf.feature_importances_"
   ]
  },
  {
   "cell_type": "code",
   "execution_count": 74,
   "metadata": {},
   "outputs": [
    {
     "data": {
      "text/html": [
       "\n",
       "    <style>\n",
       "    table.eli5-weights tr:hover {\n",
       "        filter: brightness(85%);\n",
       "    }\n",
       "</style>\n",
       "\n",
       "\n",
       "\n",
       "    \n",
       "\n",
       "    \n",
       "\n",
       "    \n",
       "\n",
       "    \n",
       "\n",
       "    \n",
       "\n",
       "    \n",
       "\n",
       "\n",
       "    \n",
       "\n",
       "    \n",
       "\n",
       "    \n",
       "\n",
       "    \n",
       "\n",
       "    \n",
       "\n",
       "    \n",
       "\n",
       "\n",
       "    \n",
       "\n",
       "    \n",
       "\n",
       "    \n",
       "\n",
       "    \n",
       "\n",
       "    \n",
       "        <table class=\"eli5-weights eli5-feature-importances\" style=\"border-collapse: collapse; border: none; margin-top: 0em; table-layout: auto;\">\n",
       "    <thead>\n",
       "    <tr style=\"border: none;\">\n",
       "        <th style=\"padding: 0 1em 0 0.5em; text-align: right; border: none;\">Weight</th>\n",
       "        <th style=\"padding: 0 0.5em 0 0.5em; text-align: left; border: none;\">Feature</th>\n",
       "    </tr>\n",
       "    </thead>\n",
       "    <tbody>\n",
       "    \n",
       "        <tr style=\"background-color: hsl(120, 100.00%, 80.00%); border: none;\">\n",
       "            <td style=\"padding: 0 1em 0 0.5em; text-align: right; border: none;\">\n",
       "                0.0096\n",
       "                \n",
       "                    &plusmn; 0.0262\n",
       "                \n",
       "            </td>\n",
       "            <td style=\"padding: 0 0.5em 0 0.5em; text-align: left; border: none;\">\n",
       "                wast\n",
       "            </td>\n",
       "        </tr>\n",
       "    \n",
       "        <tr style=\"background-color: hsl(120, 100.00%, 82.26%); border: none;\">\n",
       "            <td style=\"padding: 0 1em 0 0.5em; text-align: right; border: none;\">\n",
       "                0.0081\n",
       "                \n",
       "                    &plusmn; 0.0487\n",
       "                \n",
       "            </td>\n",
       "            <td style=\"padding: 0 0.5em 0 0.5em; text-align: left; border: none;\">\n",
       "                good\n",
       "            </td>\n",
       "        </tr>\n",
       "    \n",
       "        <tr style=\"background-color: hsl(120, 100.00%, 82.49%); border: none;\">\n",
       "            <td style=\"padding: 0 1em 0 0.5em; text-align: right; border: none;\">\n",
       "                0.0080\n",
       "                \n",
       "                    &plusmn; 0.0193\n",
       "                \n",
       "            </td>\n",
       "            <td style=\"padding: 0 0.5em 0 0.5em; text-align: left; border: none;\">\n",
       "                better\n",
       "            </td>\n",
       "        </tr>\n",
       "    \n",
       "        <tr style=\"background-color: hsl(120, 100.00%, 82.56%); border: none;\">\n",
       "            <td style=\"padding: 0 1em 0 0.5em; text-align: right; border: none;\">\n",
       "                0.0079\n",
       "                \n",
       "                    &plusmn; 0.0431\n",
       "                \n",
       "            </td>\n",
       "            <td style=\"padding: 0 0.5em 0 0.5em; text-align: left; border: none;\">\n",
       "                disappoint\n",
       "            </td>\n",
       "        </tr>\n",
       "    \n",
       "        <tr style=\"background-color: hsl(120, 100.00%, 83.87%); border: none;\">\n",
       "            <td style=\"padding: 0 1em 0 0.5em; text-align: right; border: none;\">\n",
       "                0.0071\n",
       "                \n",
       "                    &plusmn; 0.0287\n",
       "                \n",
       "            </td>\n",
       "            <td style=\"padding: 0 0.5em 0 0.5em; text-align: left; border: none;\">\n",
       "                mention\n",
       "            </td>\n",
       "        </tr>\n",
       "    \n",
       "        <tr style=\"background-color: hsl(120, 100.00%, 84.23%); border: none;\">\n",
       "            <td style=\"padding: 0 1em 0 0.5em; text-align: right; border: none;\">\n",
       "                0.0069\n",
       "                \n",
       "                    &plusmn; 0.0305\n",
       "                \n",
       "            </td>\n",
       "            <td style=\"padding: 0 0.5em 0 0.5em; text-align: left; border: none;\">\n",
       "                lack\n",
       "            </td>\n",
       "        </tr>\n",
       "    \n",
       "        <tr style=\"background-color: hsl(120, 100.00%, 86.45%); border: none;\">\n",
       "            <td style=\"padding: 0 1em 0 0.5em; text-align: right; border: none;\">\n",
       "                0.0055\n",
       "                \n",
       "                    &plusmn; 0.0331\n",
       "                \n",
       "            </td>\n",
       "            <td style=\"padding: 0 0.5em 0 0.5em; text-align: left; border: none;\">\n",
       "                unfortun\n",
       "            </td>\n",
       "        </tr>\n",
       "    \n",
       "        <tr style=\"background-color: hsl(120, 100.00%, 87.33%); border: none;\">\n",
       "            <td style=\"padding: 0 1em 0 0.5em; text-align: right; border: none;\">\n",
       "                0.0050\n",
       "                \n",
       "                    &plusmn; 0.0148\n",
       "                \n",
       "            </td>\n",
       "            <td style=\"padding: 0 0.5em 0 0.5em; text-align: left; border: none;\">\n",
       "                section\n",
       "            </td>\n",
       "        </tr>\n",
       "    \n",
       "        <tr style=\"background-color: hsl(120, 100.00%, 87.62%); border: none;\">\n",
       "            <td style=\"padding: 0 1em 0 0.5em; text-align: right; border: none;\">\n",
       "                0.0049\n",
       "                \n",
       "                    &plusmn; 0.0197\n",
       "                \n",
       "            </td>\n",
       "            <td style=\"padding: 0 0.5em 0 0.5em; text-align: left; border: none;\">\n",
       "                hope\n",
       "            </td>\n",
       "        </tr>\n",
       "    \n",
       "        <tr style=\"background-color: hsl(120, 100.00%, 87.62%); border: none;\">\n",
       "            <td style=\"padding: 0 1em 0 0.5em; text-align: right; border: none;\">\n",
       "                0.0049\n",
       "                \n",
       "                    &plusmn; 0.0195\n",
       "                \n",
       "            </td>\n",
       "            <td style=\"padding: 0 0.5em 0 0.5em; text-align: left; border: none;\">\n",
       "                like\n",
       "            </td>\n",
       "        </tr>\n",
       "    \n",
       "        <tr style=\"background-color: hsl(120, 100.00%, 87.65%); border: none;\">\n",
       "            <td style=\"padding: 0 1em 0 0.5em; text-align: right; border: none;\">\n",
       "                0.0048\n",
       "                \n",
       "                    &plusmn; 0.0108\n",
       "                \n",
       "            </td>\n",
       "            <td style=\"padding: 0 0.5em 0 0.5em; text-align: left; border: none;\">\n",
       "                wish\n",
       "            </td>\n",
       "        </tr>\n",
       "    \n",
       "        <tr style=\"background-color: hsl(120, 100.00%, 87.94%); border: none;\">\n",
       "            <td style=\"padding: 0 1em 0 0.5em; text-align: right; border: none;\">\n",
       "                0.0047\n",
       "                \n",
       "                    &plusmn; 0.0163\n",
       "                \n",
       "            </td>\n",
       "            <td style=\"padding: 0 0.5em 0 0.5em; text-align: left; border: none;\">\n",
       "                bit\n",
       "            </td>\n",
       "        </tr>\n",
       "    \n",
       "        <tr style=\"background-color: hsl(120, 100.00%, 87.97%); border: none;\">\n",
       "            <td style=\"padding: 0 1em 0 0.5em; text-align: right; border: none;\">\n",
       "                0.0047\n",
       "                \n",
       "                    &plusmn; 0.0118\n",
       "                \n",
       "            </td>\n",
       "            <td style=\"padding: 0 0.5em 0 0.5em; text-align: left; border: none;\">\n",
       "                nuclear\n",
       "            </td>\n",
       "        </tr>\n",
       "    \n",
       "        <tr style=\"background-color: hsl(120, 100.00%, 88.53%); border: none;\">\n",
       "            <td style=\"padding: 0 1em 0 0.5em; text-align: right; border: none;\">\n",
       "                0.0044\n",
       "                \n",
       "                    &plusmn; 0.0174\n",
       "                \n",
       "            </td>\n",
       "            <td style=\"padding: 0 0.5em 0 0.5em; text-align: left; border: none;\">\n",
       "                sometim\n",
       "            </td>\n",
       "        </tr>\n",
       "    \n",
       "        <tr style=\"background-color: hsl(120, 100.00%, 89.00%); border: none;\">\n",
       "            <td style=\"padding: 0 1em 0 0.5em; text-align: right; border: none;\">\n",
       "                0.0041\n",
       "                \n",
       "                    &plusmn; 0.0114\n",
       "                \n",
       "            </td>\n",
       "            <td style=\"padding: 0 0.5em 0 0.5em; text-align: left; border: none;\">\n",
       "                argument\n",
       "            </td>\n",
       "        </tr>\n",
       "    \n",
       "        <tr style=\"background-color: hsl(120, 100.00%, 89.10%); border: none;\">\n",
       "            <td style=\"padding: 0 1em 0 0.5em; text-align: right; border: none;\">\n",
       "                0.0040\n",
       "                \n",
       "                    &plusmn; 0.0179\n",
       "                \n",
       "            </td>\n",
       "            <td style=\"padding: 0 0.5em 0 0.5em; text-align: left; border: none;\">\n",
       "                page\n",
       "            </td>\n",
       "        </tr>\n",
       "    \n",
       "        <tr style=\"background-color: hsl(120, 100.00%, 89.27%); border: none;\">\n",
       "            <td style=\"padding: 0 1em 0 0.5em; text-align: right; border: none;\">\n",
       "                0.0040\n",
       "                \n",
       "                    &plusmn; 0.0237\n",
       "                \n",
       "            </td>\n",
       "            <td style=\"padding: 0 0.5em 0 0.5em; text-align: left; border: none;\">\n",
       "                actual\n",
       "            </td>\n",
       "        </tr>\n",
       "    \n",
       "        <tr style=\"background-color: hsl(120, 100.00%, 89.58%); border: none;\">\n",
       "            <td style=\"padding: 0 1em 0 0.5em; text-align: right; border: none;\">\n",
       "                0.0038\n",
       "                \n",
       "                    &plusmn; 0.0125\n",
       "                \n",
       "            </td>\n",
       "            <td style=\"padding: 0 0.5em 0 0.5em; text-align: left; border: none;\">\n",
       "                conclus\n",
       "            </td>\n",
       "        </tr>\n",
       "    \n",
       "        <tr style=\"background-color: hsl(120, 100.00%, 89.79%); border: none;\">\n",
       "            <td style=\"padding: 0 1em 0 0.5em; text-align: right; border: none;\">\n",
       "                0.0037\n",
       "                \n",
       "                    &plusmn; 0.0112\n",
       "                \n",
       "            </td>\n",
       "            <td style=\"padding: 0 0.5em 0 0.5em; text-align: left; border: none;\">\n",
       "                otherwis\n",
       "            </td>\n",
       "        </tr>\n",
       "    \n",
       "        <tr style=\"background-color: hsl(120, 100.00%, 90.03%); border: none;\">\n",
       "            <td style=\"padding: 0 1em 0 0.5em; text-align: right; border: none;\">\n",
       "                0.0036\n",
       "                \n",
       "                    &plusmn; 0.0093\n",
       "                \n",
       "            </td>\n",
       "            <td style=\"padding: 0 0.5em 0 0.5em; text-align: left; border: none;\">\n",
       "                paper\n",
       "            </td>\n",
       "        </tr>\n",
       "    \n",
       "    \n",
       "        \n",
       "            <tr style=\"background-color: hsl(120, 100.00%, 90.03%); border: none;\">\n",
       "                <td colspan=\"2\" style=\"padding: 0 0.5em 0 0.5em; text-align: center; border: none; white-space: nowrap;\">\n",
       "                    <i>&hellip; 360084 more &hellip;</i>\n",
       "                </td>\n",
       "            </tr>\n",
       "        \n",
       "    \n",
       "    </tbody>\n",
       "</table>\n",
       "    \n",
       "\n",
       "    \n",
       "\n",
       "\n",
       "    \n",
       "\n",
       "    \n",
       "\n",
       "    \n",
       "\n",
       "    \n",
       "\n",
       "    \n",
       "\n",
       "    \n",
       "\n",
       "\n",
       "\n"
      ],
      "text/plain": [
       "<IPython.core.display.HTML object>"
      ]
     },
     "execution_count": 74,
     "metadata": {},
     "output_type": "execute_result"
    }
   ],
   "source": [
    "import eli5\n",
    "eli5.show_weights(rf_clf, vec=tfidf, top=20, target_names=y_test)"
   ]
  },
  {
   "cell_type": "code",
   "execution_count": 75,
   "metadata": {},
   "outputs": [
    {
     "name": "stdout",
     "output_type": "stream",
     "text": [
      "[1 1]\n"
     ]
    }
   ],
   "source": [
    "# test the current model\n",
    "print(rf_clf.predict(tfidf.transform(['This book is not good. I do not recommend that you ever read it',\n",
    "                                       'This book is not bad at all. I highly recommend this for anyone'])))"
   ]
  },
  {
   "cell_type": "code",
   "execution_count": 76,
   "metadata": {},
   "outputs": [
    {
     "name": "stdout",
     "output_type": "stream",
     "text": [
      "[1 1]\n"
     ]
    }
   ],
   "source": [
    "# test the current model with more extreme review text\n",
    "print(rf_clf.predict(tfidf.transform(['This is a big disappointing bore. I expected more. Unfortunately I was wrong',\n",
    "                                       'This book is not bad at all. You should read it'])))"
   ]
  },
  {
   "cell_type": "markdown",
   "metadata": {},
   "source": [
    "## Fit LogisticRegressionCV classifier"
   ]
  },
  {
   "cell_type": "code",
   "execution_count": 77,
   "metadata": {},
   "outputs": [
    {
     "data": {
      "text/plain": [
       "0.83198090692124105"
      ]
     },
     "execution_count": 77,
     "metadata": {},
     "output_type": "execute_result"
    }
   ],
   "source": [
    "# Logistic Regression CV classifier.\n",
    "logreg_clf = LogisticRegressionCV(scoring='roc_auc').fit(X_train_tfidf, y_train)\n",
    "\n",
    "predicted_logreg_clf = logreg_clf.predict(X_test_tfidf)\n",
    "\n",
    "metrics.f1_score(y_test, predicted_logreg_clf)"
   ]
  },
  {
   "cell_type": "code",
   "execution_count": 78,
   "metadata": {},
   "outputs": [
    {
     "data": {
      "text/plain": [
       "array([[ 440,  531],\n",
       "       [ 173, 1743]])"
      ]
     },
     "execution_count": 78,
     "metadata": {},
     "output_type": "execute_result"
    }
   ],
   "source": [
    "# print the confusion matrix These changed on a new run. Do I need to set random state?\n",
    "metrics.confusion_matrix(y_test, predicted_logreg_clf)"
   ]
  },
  {
   "cell_type": "code",
   "execution_count": 79,
   "metadata": {},
   "outputs": [
    {
     "name": "stdout",
     "output_type": "stream",
     "text": [
      "             precision    recall  f1-score   support\n",
      "\n",
      "          0       0.72      0.45      0.56       971\n",
      "          1       0.77      0.91      0.83      1916\n",
      "\n",
      "avg / total       0.75      0.76      0.74      2887\n",
      "\n"
     ]
    }
   ],
   "source": [
    "# print the classification report for stemmed Logistic Regression model\n",
    "print(classification_report(y_test, predicted_logreg_clf))"
   ]
  },
  {
   "cell_type": "code",
   "execution_count": 80,
   "metadata": {},
   "outputs": [
    {
     "data": {
      "text/plain": [
       "array([ 0.84707155,  0.73464122,  0.17787839, ...,  0.95402635,\n",
       "        0.95508403,  0.9340199 ])"
      ]
     },
     "execution_count": 80,
     "metadata": {},
     "output_type": "execute_result"
    }
   ],
   "source": [
    "# calculate predicted probabilities for X_test with stemmed Logistic Regression model\n",
    "y_pred_prob_logreg_clf = logreg_clf.predict_proba(X_test_tfidf)[:, 1]\n",
    "y_pred_prob_logreg_clf"
   ]
  },
  {
   "cell_type": "code",
   "execution_count": 81,
   "metadata": {},
   "outputs": [
    {
     "data": {
      "image/png": "[encoded data removed]",
      "text/plain": [
       "<matplotlib.figure.Figure at 0x1a0fd097f0>"
      ]
     },
     "metadata": {},
     "output_type": "display_data"
    }
   ],
   "source": [
    "# Generate ROC curve values: fpr, tpr, thresholds\n",
    "fpr, tpr, thresholds = roc_curve(y_test, y_pred_prob_logreg_clf)\n",
    "\n",
    "# Plot ROC curve\n",
    "plt.plot([0, 1], [0, 1], 'k--')\n",
    "plt.plot(fpr, tpr)\n",
    "plt.xlabel('False Positive Rate')\n",
    "plt.ylabel('True Positive Rate')\n",
    "plt.title('ROC Curve for LogisticRegressionCV')\n",
    "plt.show()"
   ]
  },
  {
   "cell_type": "code",
   "execution_count": 82,
   "metadata": {},
   "outputs": [
    {
     "data": {
      "text/plain": [
       "0.8013481785989951"
      ]
     },
     "execution_count": 82,
     "metadata": {},
     "output_type": "execute_result"
    }
   ],
   "source": [
    "# calculate AUC for LogisticRegressionCV classifier\n",
    "metrics.roc_auc_score(y_test, y_pred_prob_logreg_clf)"
   ]
  },
  {
   "cell_type": "code",
   "execution_count": 83,
   "metadata": {},
   "outputs": [
    {
     "data": {
      "text/html": [
       "\n",
       "    <style>\n",
       "    table.eli5-weights tr:hover {\n",
       "        filter: brightness(85%);\n",
       "    }\n",
       "</style>\n",
       "\n",
       "\n",
       "\n",
       "    \n",
       "\n",
       "    \n",
       "\n",
       "    \n",
       "\n",
       "    \n",
       "\n",
       "    \n",
       "\n",
       "    \n",
       "\n",
       "\n",
       "    \n",
       "\n",
       "    \n",
       "\n",
       "    \n",
       "\n",
       "    \n",
       "        \n",
       "\n",
       "    \n",
       "\n",
       "        \n",
       "            \n",
       "                \n",
       "                \n",
       "    \n",
       "        <p style=\"margin-bottom: 0.5em; margin-top: 0em\">\n",
       "            <b>\n",
       "    \n",
       "        y=1\n",
       "    \n",
       "</b>\n",
       "\n",
       "top features\n",
       "        </p>\n",
       "    \n",
       "    <table class=\"eli5-weights\"\n",
       "           style=\"border-collapse: collapse; border: none; margin-top: 0em; table-layout: auto; margin-bottom: 2em;\">\n",
       "        <thead>\n",
       "        <tr style=\"border: none;\">\n",
       "            \n",
       "                <th style=\"padding: 0 1em 0 0.5em; text-align: right; border: none;\" title=\"Feature weights. Note that weights do not account for feature value scales, so if feature values have different scales, features with highest weights might not be the most important.\">\n",
       "                    Weight<sup>?</sup>\n",
       "                </th>\n",
       "            \n",
       "            <th style=\"padding: 0 0.5em 0 0.5em; text-align: left; border: none;\">Feature</th>\n",
       "            \n",
       "        </tr>\n",
       "        </thead>\n",
       "        <tbody>\n",
       "        \n",
       "            <tr style=\"background-color: hsl(120, 100.00%, 80.96%); border: none;\">\n",
       "    <td style=\"padding: 0 1em 0 0.5em; text-align: right; border: none;\">\n",
       "        +5.552\n",
       "    </td>\n",
       "    <td style=\"padding: 0 0.5em 0 0.5em; text-align: left; border: none;\">\n",
       "        love\n",
       "    </td>\n",
       "    \n",
       "</tr>\n",
       "        \n",
       "            <tr style=\"background-color: hsl(120, 100.00%, 81.65%); border: none;\">\n",
       "    <td style=\"padding: 0 1em 0 0.5em; text-align: right; border: none;\">\n",
       "        +5.268\n",
       "    </td>\n",
       "    <td style=\"padding: 0 0.5em 0 0.5em; text-align: left; border: none;\">\n",
       "        excel\n",
       "    </td>\n",
       "    \n",
       "</tr>\n",
       "        \n",
       "            <tr style=\"background-color: hsl(120, 100.00%, 82.52%); border: none;\">\n",
       "    <td style=\"padding: 0 1em 0 0.5em; text-align: right; border: none;\">\n",
       "        +4.912\n",
       "    </td>\n",
       "    <td style=\"padding: 0 0.5em 0 0.5em; text-align: left; border: none;\">\n",
       "        great\n",
       "    </td>\n",
       "    \n",
       "</tr>\n",
       "        \n",
       "            <tr style=\"background-color: hsl(120, 100.00%, 83.60%); border: none;\">\n",
       "    <td style=\"padding: 0 1em 0 0.5em; text-align: right; border: none;\">\n",
       "        +4.487\n",
       "    </td>\n",
       "    <td style=\"padding: 0 0.5em 0 0.5em; text-align: left; border: none;\">\n",
       "        wonder\n",
       "    </td>\n",
       "    \n",
       "</tr>\n",
       "        \n",
       "            <tr style=\"background-color: hsl(120, 100.00%, 86.16%); border: none;\">\n",
       "    <td style=\"padding: 0 1em 0 0.5em; text-align: right; border: none;\">\n",
       "        +3.520\n",
       "    </td>\n",
       "    <td style=\"padding: 0 0.5em 0 0.5em; text-align: left; border: none;\">\n",
       "        high recommend\n",
       "    </td>\n",
       "    \n",
       "</tr>\n",
       "        \n",
       "            <tr style=\"background-color: hsl(120, 100.00%, 86.21%); border: none;\">\n",
       "    <td style=\"padding: 0 1em 0 0.5em; text-align: right; border: none;\">\n",
       "        +3.503\n",
       "    </td>\n",
       "    <td style=\"padding: 0 0.5em 0 0.5em; text-align: left; border: none;\">\n",
       "        high\n",
       "    </td>\n",
       "    \n",
       "</tr>\n",
       "        \n",
       "            <tr style=\"background-color: hsl(120, 100.00%, 86.51%); border: none;\">\n",
       "    <td style=\"padding: 0 1em 0 0.5em; text-align: right; border: none;\">\n",
       "        +3.393\n",
       "    </td>\n",
       "    <td style=\"padding: 0 0.5em 0 0.5em; text-align: left; border: none;\">\n",
       "        perfect\n",
       "    </td>\n",
       "    \n",
       "</tr>\n",
       "        \n",
       "            <tr style=\"background-color: hsl(120, 100.00%, 86.78%); border: none;\">\n",
       "    <td style=\"padding: 0 1em 0 0.5em; text-align: right; border: none;\">\n",
       "        +3.298\n",
       "    </td>\n",
       "    <td style=\"padding: 0 0.5em 0 0.5em; text-align: left; border: none;\">\n",
       "        everi\n",
       "    </td>\n",
       "    \n",
       "</tr>\n",
       "        \n",
       "            <tr style=\"background-color: hsl(120, 100.00%, 87.20%); border: none;\">\n",
       "    <td style=\"padding: 0 1em 0 0.5em; text-align: right; border: none;\">\n",
       "        +3.147\n",
       "    </td>\n",
       "    <td style=\"padding: 0 0.5em 0 0.5em; text-align: left; border: none;\">\n",
       "        read\n",
       "    </td>\n",
       "    \n",
       "</tr>\n",
       "        \n",
       "        \n",
       "            <tr style=\"background-color: hsl(120, 100.00%, 87.20%); border: none;\">\n",
       "                <td colspan=\"2\" style=\"padding: 0 0.5em 0 0.5em; text-align: center; border: none; white-space: nowrap;\">\n",
       "                    <i>&hellip; 199280 more positive &hellip;</i>\n",
       "                </td>\n",
       "            </tr>\n",
       "        \n",
       "\n",
       "        \n",
       "            <tr style=\"background-color: hsl(0, 100.00%, 86.79%); border: none;\">\n",
       "                <td colspan=\"2\" style=\"padding: 0 0.5em 0 0.5em; text-align: center; border: none; white-space: nowrap;\">\n",
       "                    <i>&hellip; 160805 more negative &hellip;</i>\n",
       "                </td>\n",
       "            </tr>\n",
       "        \n",
       "        \n",
       "            <tr style=\"background-color: hsl(0, 100.00%, 86.79%); border: none;\">\n",
       "    <td style=\"padding: 0 1em 0 0.5em; text-align: right; border: none;\">\n",
       "        -3.293\n",
       "    </td>\n",
       "    <td style=\"padding: 0 0.5em 0 0.5em; text-align: left; border: none;\">\n",
       "        unfortun\n",
       "    </td>\n",
       "    \n",
       "</tr>\n",
       "        \n",
       "            <tr style=\"background-color: hsl(0, 100.00%, 86.66%); border: none;\">\n",
       "    <td style=\"padding: 0 1em 0 0.5em; text-align: right; border: none;\">\n",
       "        -3.339\n",
       "    </td>\n",
       "    <td style=\"padding: 0 0.5em 0 0.5em; text-align: left; border: none;\">\n",
       "        ok\n",
       "    </td>\n",
       "    \n",
       "</tr>\n",
       "        \n",
       "            <tr style=\"background-color: hsl(0, 100.00%, 86.61%); border: none;\">\n",
       "    <td style=\"padding: 0 1em 0 0.5em; text-align: right; border: none;\">\n",
       "        -3.356\n",
       "    </td>\n",
       "    <td style=\"padding: 0 0.5em 0 0.5em; text-align: left; border: none;\">\n",
       "        bit\n",
       "    </td>\n",
       "    \n",
       "</tr>\n",
       "        \n",
       "            <tr style=\"background-color: hsl(0, 100.00%, 86.25%); border: none;\">\n",
       "    <td style=\"padding: 0 1em 0 0.5em; text-align: right; border: none;\">\n",
       "        -3.488\n",
       "    </td>\n",
       "    <td style=\"padding: 0 0.5em 0 0.5em; text-align: left; border: none;\">\n",
       "        littl\n",
       "    </td>\n",
       "    \n",
       "</tr>\n",
       "        \n",
       "            <tr style=\"background-color: hsl(0, 100.00%, 86.06%); border: none;\">\n",
       "    <td style=\"padding: 0 1em 0 0.5em; text-align: right; border: none;\">\n",
       "        -3.557\n",
       "    </td>\n",
       "    <td style=\"padding: 0 0.5em 0 0.5em; text-align: left; border: none;\">\n",
       "        expect\n",
       "    </td>\n",
       "    \n",
       "</tr>\n",
       "        \n",
       "            <tr style=\"background-color: hsl(0, 100.00%, 85.81%); border: none;\">\n",
       "    <td style=\"padding: 0 1em 0 0.5em; text-align: right; border: none;\">\n",
       "        -3.647\n",
       "    </td>\n",
       "    <td style=\"padding: 0 0.5em 0 0.5em; text-align: left; border: none;\">\n",
       "        page\n",
       "    </td>\n",
       "    \n",
       "</tr>\n",
       "        \n",
       "            <tr style=\"background-color: hsl(0, 100.00%, 85.66%); border: none;\">\n",
       "    <td style=\"padding: 0 1em 0 0.5em; text-align: right; border: none;\">\n",
       "        -3.704\n",
       "    </td>\n",
       "    <td style=\"padding: 0 0.5em 0 0.5em; text-align: left; border: none;\">\n",
       "        bore\n",
       "    </td>\n",
       "    \n",
       "</tr>\n",
       "        \n",
       "            <tr style=\"background-color: hsl(0, 100.00%, 85.18%); border: none;\">\n",
       "    <td style=\"padding: 0 1em 0 0.5em; text-align: right; border: none;\">\n",
       "        -3.880\n",
       "    </td>\n",
       "    <td style=\"padding: 0 0.5em 0 0.5em; text-align: left; border: none;\">\n",
       "        good\n",
       "    </td>\n",
       "    \n",
       "</tr>\n",
       "        \n",
       "            <tr style=\"background-color: hsl(0, 100.00%, 84.81%); border: none;\">\n",
       "    <td style=\"padding: 0 1em 0 0.5em; text-align: right; border: none;\">\n",
       "        -4.023\n",
       "    </td>\n",
       "    <td style=\"padding: 0 0.5em 0 0.5em; text-align: left; border: none;\">\n",
       "        like\n",
       "    </td>\n",
       "    \n",
       "</tr>\n",
       "        \n",
       "            <tr style=\"background-color: hsl(0, 100.00%, 83.67%); border: none;\">\n",
       "    <td style=\"padding: 0 1em 0 0.5em; text-align: right; border: none;\">\n",
       "        -4.460\n",
       "    </td>\n",
       "    <td style=\"padding: 0 0.5em 0 0.5em; text-align: left; border: none;\">\n",
       "        howev\n",
       "    </td>\n",
       "    \n",
       "</tr>\n",
       "        \n",
       "            <tr style=\"background-color: hsl(0, 100.00%, 80.00%); border: none;\">\n",
       "    <td style=\"padding: 0 1em 0 0.5em; text-align: right; border: none;\">\n",
       "        -5.957\n",
       "    </td>\n",
       "    <td style=\"padding: 0 0.5em 0 0.5em; text-align: left; border: none;\">\n",
       "        disappoint\n",
       "    </td>\n",
       "    \n",
       "</tr>\n",
       "        \n",
       "\n",
       "        </tbody>\n",
       "    </table>\n",
       "\n",
       "            \n",
       "        \n",
       "\n",
       "        \n",
       "\n",
       "\n",
       "\n",
       "    \n",
       "\n",
       "    \n",
       "\n",
       "    \n",
       "\n",
       "    \n",
       "\n",
       "\n",
       "    \n",
       "\n",
       "    \n",
       "\n",
       "    \n",
       "\n",
       "    \n",
       "\n",
       "    \n",
       "\n",
       "    \n",
       "\n",
       "\n",
       "    \n",
       "\n",
       "    \n",
       "\n",
       "    \n",
       "\n",
       "    \n",
       "\n",
       "    \n",
       "\n",
       "    \n",
       "\n",
       "\n",
       "\n"
      ],
      "text/plain": [
       "<IPython.core.display.HTML object>"
      ]
     },
     "execution_count": 83,
     "metadata": {},
     "output_type": "execute_result"
    }
   ],
   "source": [
    "import eli5\n",
    "eli5.show_weights(logreg_clf, vec=tfidf, top=20, target_names=y_test)"
   ]
  },
  {
   "cell_type": "code",
   "execution_count": 84,
   "metadata": {},
   "outputs": [
    {
     "data": {
      "text/plain": [
       "LogisticRegressionCV(Cs=10, class_weight=None, cv=None, dual=False,\n",
       "           fit_intercept=True, intercept_scaling=1.0, max_iter=100,\n",
       "           multi_class='ovr', n_jobs=1, penalty='l2', random_state=None,\n",
       "           refit=True, scoring='roc_auc', solver='lbfgs', tol=0.0001,\n",
       "           verbose=0)"
      ]
     },
     "execution_count": 84,
     "metadata": {},
     "output_type": "execute_result"
    }
   ],
   "source": [
    "logreg_clf"
   ]
  },
  {
   "cell_type": "code",
   "execution_count": 85,
   "metadata": {},
   "outputs": [
    {
     "name": "stdout",
     "output_type": "stream",
     "text": [
      "[1 1]\n"
     ]
    }
   ],
   "source": [
    "# test the current model\n",
    "print(logreg_clf.predict(tfidf.transform(['This book is not good. I do not recommend that you ever read it',\n",
    "                                       'This book is not bad at all. I highly recommend this for anyone'])))"
   ]
  },
  {
   "cell_type": "code",
   "execution_count": 86,
   "metadata": {},
   "outputs": [
    {
     "name": "stdout",
     "output_type": "stream",
     "text": [
      "[0 1]\n"
     ]
    }
   ],
   "source": [
    "# test the current model\n",
    "print(logreg_clf.predict(tfidf.transform(['This is a big disappointing bore. I expected more. Unfortunately I was wrong',\n",
    "                                       'This book is not bad at all. You should read it'])))"
   ]
  },
  {
   "cell_type": "markdown",
   "metadata": {},
   "source": [
    "## Fit Support Vector Machines classifier"
   ]
  },
  {
   "cell_type": "code",
   "execution_count": 87,
   "metadata": {},
   "outputs": [
    {
     "data": {
      "text/plain": [
       "0.81677704194260481"
      ]
     },
     "execution_count": 87,
     "metadata": {},
     "output_type": "execute_result"
    }
   ],
   "source": [
    "# try fitting with Support Vector Machines (SVM) algorithm with CountVectorier (does not work with TFIDFVect)\n",
    "clf_svm = SGDClassifier(max_iter=5, tol=None, alpha=0.001, random_state=42).fit(X_train_dtm, y_train)\n",
    "# parameters from GridSearch below\n",
    "predicted_svm = clf_svm.predict(X_test_dtm)\n",
    "\n",
    "metrics.f1_score(y_test, predicted_svm)"
   ]
  },
  {
   "cell_type": "code",
   "execution_count": 88,
   "metadata": {},
   "outputs": [
    {
     "data": {
      "text/plain": [
       "array([[ 475,  496],\n",
       "       [ 251, 1665]])"
      ]
     },
     "execution_count": 88,
     "metadata": {},
     "output_type": "execute_result"
    }
   ],
   "source": [
    "# print the confusion matrix \n",
    "metrics.confusion_matrix(y_test, predicted_svm)"
   ]
  },
  {
   "cell_type": "code",
   "execution_count": 89,
   "metadata": {},
   "outputs": [
    {
     "name": "stdout",
     "output_type": "stream",
     "text": [
      "             precision    recall  f1-score   support\n",
      "\n",
      "          0       0.65      0.49      0.56       971\n",
      "          1       0.77      0.87      0.82      1916\n",
      "\n",
      "avg / total       0.73      0.74      0.73      2887\n",
      "\n"
     ]
    }
   ],
   "source": [
    "# print the classification report for stemmed Logistic Regression model\n",
    "print(classification_report(y_test, predicted_svm))"
   ]
  },
  {
   "cell_type": "code",
   "execution_count": 90,
   "metadata": {},
   "outputs": [
    {
     "data": {
      "text/plain": [
       "0.67909215904228903"
      ]
     },
     "execution_count": 90,
     "metadata": {},
     "output_type": "execute_result"
    }
   ],
   "source": [
    "# calculate AUC\n",
    "metrics.roc_auc_score(y_test, predicted_svm)"
   ]
  },
  {
   "cell_type": "code",
   "execution_count": 91,
   "metadata": {},
   "outputs": [
    {
     "data": {
      "text/plain": [
       "['alpha',\n",
       " 'average',\n",
       " 'class_weight',\n",
       " 'epsilon',\n",
       " 'eta0',\n",
       " 'fit_intercept',\n",
       " 'l1_ratio',\n",
       " 'learning_rate',\n",
       " 'loss',\n",
       " 'max_iter',\n",
       " 'n_iter',\n",
       " 'n_jobs',\n",
       " 'penalty',\n",
       " 'power_t',\n",
       " 'random_state',\n",
       " 'shuffle',\n",
       " 'tol',\n",
       " 'verbose',\n",
       " 'warm_start']"
      ]
     },
     "execution_count": 91,
     "metadata": {},
     "output_type": "execute_result"
    }
   ],
   "source": [
    "# get a list of the all available pipe-items unique keys for the grid parameters\n",
    "sorted(clf_svm.get_params().keys())"
   ]
  },
  {
   "cell_type": "code",
   "execution_count": 92,
   "metadata": {
    "collapsed": true
   },
   "outputs": [],
   "source": [
    "# apply GridSearchCV\n",
    "\n",
    "# create a list of performace parameters for performace tuning (ngram range, use idf?, best alpha)\n",
    "parameters = {'alpha': (1, 0.1, 0.001, 0.0001)}"
   ]
  },
  {
   "cell_type": "code",
   "execution_count": 93,
   "metadata": {},
   "outputs": [],
   "source": [
    "# create an instance of the grid search by passing the classifier, parameters \n",
    "# and n_jobs=-1 which tells to use multiple cores from user machine.\n",
    "\n",
    "gs_svm = GridSearchCV(SGDClassifier(max_iter=5, tol=None, random_state=42), parameters, n_jobs=-1)\n",
    "gs_svm = gs_svm.fit(X_train_dtm, y_train)\n",
    "# cannot set scoring to F1 or roc_auc"
   ]
  },
  {
   "cell_type": "code",
   "execution_count": 94,
   "metadata": {},
   "outputs": [
    {
     "name": "stdout",
     "output_type": "stream",
     "text": [
      "Best score for text: 0.734264926666\n"
     ]
    }
   ],
   "source": [
    "# View the best accuracy score\n",
    "print('Best score for text:', gs_svm.best_score_) "
   ]
  },
  {
   "cell_type": "code",
   "execution_count": 95,
   "metadata": {},
   "outputs": [
    {
     "name": "stdout",
     "output_type": "stream",
     "text": [
      "Best parameters: {'alpha': 0.001}\n"
     ]
    }
   ],
   "source": [
    "# View the best parameters\n",
    "print('Best parameters:', gs_svm.best_params_) \n",
    "# Best parameters: {'alpha': 0.01}"
   ]
  },
  {
   "cell_type": "code",
   "execution_count": 96,
   "metadata": {},
   "outputs": [
    {
     "data": {
      "text/plain": [
       "SGDClassifier(alpha=0.001, average=False, class_weight=None, epsilon=0.1,\n",
       "       eta0=0.0, fit_intercept=True, l1_ratio=0.15,\n",
       "       learning_rate='optimal', loss='hinge', max_iter=5, n_iter=None,\n",
       "       n_jobs=1, penalty='l2', power_t=0.5, random_state=42, shuffle=True,\n",
       "       tol=None, verbose=0, warm_start=False)"
      ]
     },
     "execution_count": 96,
     "metadata": {},
     "output_type": "execute_result"
    }
   ],
   "source": [
    "clf_svm"
   ]
  },
  {
   "cell_type": "markdown",
   "metadata": {},
   "source": [
    "### Can we improve parameterization of models with a Pipeline?"
   ]
  },
  {
   "cell_type": "code",
   "execution_count": 97,
   "metadata": {},
   "outputs": [],
   "source": [
    "# Can we do better with a pipeline?\n",
    "# build pipeline with vectorizer, transformer, classifier\n",
    "count_vec = CountVectorizer(ngram_range=(1,2))\n",
    "tf_idf = TfidfTransformer()\n",
    "clf_mnb = MultinomialNB()\n",
    "\n",
    "steps = [('count_vec', count_vec),\n",
    "         ('tf_idf', tf_idf),\n",
    "         ('clf_mnb', clf_mnb)]\n",
    "\n",
    "p_grid = [{'count_vec__min_df': [4]}]\n",
    "\n",
    "pipeline = Pipeline(steps)\n",
    "skf = StratifiedKFold(n_splits=5, shuffle=True, random_state=42)\n",
    "nb_gs = GridSearchCV(pipeline, param_grid=p_grid, cv=skf, scoring='roc_auc', n_jobs=-1)"
   ]
  },
  {
   "cell_type": "code",
   "execution_count": 98,
   "metadata": {},
   "outputs": [
    {
     "data": {
      "text/plain": [
       "GridSearchCV(cv=StratifiedKFold(n_splits=5, random_state=42, shuffle=True),\n",
       "       error_score='raise',\n",
       "       estimator=Pipeline(memory=None,\n",
       "     steps=[('count_vec', CountVectorizer(analyzer='word', binary=False, decode_error='strict',\n",
       "        dtype=<class 'numpy.int64'>, encoding='utf-8', input='content',\n",
       "        lowercase=True, max_df=1.0, max_features=None, min_df=1,\n",
       "        ngram_range=(1, 2), preprocessor=None, stop_words=None,\n",
       "        ...r_tf=False, use_idf=True)), ('clf_mnb', MultinomialNB(alpha=1.0, class_prior=None, fit_prior=True))]),\n",
       "       fit_params=None, iid=True, n_jobs=-1,\n",
       "       param_grid=[{'count_vec__min_df': [4]}], pre_dispatch='2*n_jobs',\n",
       "       refit=True, return_train_score=True, scoring='roc_auc', verbose=0)"
      ]
     },
     "execution_count": 98,
     "metadata": {},
     "output_type": "execute_result"
    }
   ],
   "source": [
    "nb_gs"
   ]
  },
  {
   "cell_type": "code",
   "execution_count": null,
   "metadata": {},
   "outputs": [],
   "source": [
    "# run this to get a list of the all available pipe-items unique keys for the grid parameters\n",
    "sorted(nb_gs.get_params().keys())"
   ]
  },
  {
   "cell_type": "code",
   "execution_count": 99,
   "metadata": {},
   "outputs": [
    {
     "name": "stdout",
     "output_type": "stream",
     "text": [
      "Best score for text: 0.785074559625\n",
      "Best parameters: {'count_vec__min_df': 4}\n"
     ]
    }
   ],
   "source": [
    "# Fitting the Naive Bayes model \n",
    "nb_gs.fit(X_train, y_train)\n",
    "y_pred = nb_gs.best_estimator_.predict(X_test)\n",
    "\n",
    "# View the best score (set to roc_auc) for MultinomialNB with GridSearch\n",
    "print('Best score for text:', nb_gs.best_score_) \n",
    "\n",
    "# View the best parameters\n",
    "print('Best parameters:', nb_gs.best_params_) "
   ]
  },
  {
   "cell_type": "code",
   "execution_count": 100,
   "metadata": {
    "collapsed": true
   },
   "outputs": [],
   "source": [
    "# Build pipeline with Support Vector Machines\n",
    "count_vec = CountVectorizer()\n",
    "tf_idf = TfidfTransformer()\n",
    "clf_SVC = SVC()\n",
    "\n",
    "steps = [('count_vec', count_vec),\n",
    "         ('tf_idf', tf_idf),\n",
    "         ('clf_SVC', clf_SVC)]\n",
    "\n",
    "p_grid = [{'count_vec__min_df': [4,5,6],\n",
    "           'clf_SVC__random_state': [42],\n",
    "           #'clf_SVC__kernel': ['linear', 'poly', 'rbf', 'sigmoid'],\n",
    "           #'clf_SVC__C': [0.1,1,10,100,1000],\n",
    "           #'clf_SVC__gamma': [0.1,1,10,100,1000]\n",
    "          }]\n",
    "\n",
    "pipeline = Pipeline(steps)\n",
    "skf = StratifiedKFold(n_splits=5, shuffle=True, random_state=42)\n",
    "svm_gs = GridSearchCV(pipeline, param_grid=p_grid, cv=skf, scoring='roc_auc', n_jobs=-1)"
   ]
  },
  {
   "cell_type": "code",
   "execution_count": 101,
   "metadata": {},
   "outputs": [],
   "source": [
    "# Fitting the SVM model \n",
    "svm_gs.fit(X_train, y_train)\n",
    "y_pred_svm = svm_gs.best_estimator_.predict(X_test)"
   ]
  },
  {
   "cell_type": "code",
   "execution_count": 102,
   "metadata": {},
   "outputs": [
    {
     "name": "stdout",
     "output_type": "stream",
     "text": [
      "Best score for text: 0.805481359072\n",
      "Best parameters: {'clf_SVC__random_state': 42, 'count_vec__min_df': 5}\n"
     ]
    }
   ],
   "source": [
    "# View the best score (set to roc_auc) for MultinomialNB with GridSearch\n",
    "print('Best score for text:', svm_gs.best_score_) \n",
    "\n",
    "# View the best parameters\n",
    "print('Best parameters:', svm_gs.best_params_) "
   ]
  },
  {
   "cell_type": "code",
   "execution_count": 103,
   "metadata": {},
   "outputs": [],
   "source": [
    "# Testing the Random Forest Classifier on review data \n",
    "clf_RFC = RandomForestClassifier()\n",
    "\n",
    "steps = [('counts', CountVectorizer(min_df=1)),\n",
    "         ('tf_idf', TfidfTransformer()),\n",
    "         ('clf_RFC', RandomForestClassifier(random_state=42))]\n",
    "\n",
    "pipeline = Pipeline(steps)\n",
    "skf = StratifiedKFold(n_splits=5, shuffle=True, random_state=42)\n",
    "p_grid = [{#'counts__min_df': [1],\n",
    "           #'clf_RFC__random_state': [42],\n",
    "           'clf_RFC__n_estimators': [300,400,500], # keeps going up\n",
    "           #'clf_RFC__min_samples_leaf': range(1,30),\n",
    "           #'clf_RFC__min_samples_split': range(2,30)\n",
    "          }]\n",
    "\n",
    "rf_gs = GridSearchCV(pipeline, param_grid=p_grid, cv=skf, scoring='roc_auc', n_jobs=-1)"
   ]
  },
  {
   "cell_type": "code",
   "execution_count": 104,
   "metadata": {},
   "outputs": [
    {
     "data": {
      "text/plain": [
       "GridSearchCV(cv=StratifiedKFold(n_splits=5, random_state=42, shuffle=True),\n",
       "       error_score='raise',\n",
       "       estimator=Pipeline(memory=None,\n",
       "     steps=[('counts', CountVectorizer(analyzer='word', binary=False, decode_error='strict',\n",
       "        dtype=<class 'numpy.int64'>, encoding='utf-8', input='content',\n",
       "        lowercase=True, max_df=1.0, max_features=None, min_df=1,\n",
       "        ngram_range=(1, 1), preprocessor=None, stop_words=None,\n",
       "        str...stimators=10, n_jobs=1,\n",
       "            oob_score=False, random_state=42, verbose=0, warm_start=False))]),\n",
       "       fit_params=None, iid=True, n_jobs=-1,\n",
       "       param_grid=[{'clf_RFC__n_estimators': [300, 400, 500]}],\n",
       "       pre_dispatch='2*n_jobs', refit=True, return_train_score=True,\n",
       "       scoring='roc_auc', verbose=0)"
      ]
     },
     "execution_count": 104,
     "metadata": {},
     "output_type": "execute_result"
    }
   ],
   "source": [
    "rf_gs"
   ]
  },
  {
   "cell_type": "code",
   "execution_count": null,
   "metadata": {},
   "outputs": [],
   "source": [
    "# run this to get a list of the all available pipe-items unique keys for the grid parameters\n",
    "sorted(rf_gs.get_params().keys())"
   ]
  },
  {
   "cell_type": "code",
   "execution_count": 105,
   "metadata": {},
   "outputs": [
    {
     "name": "stdout",
     "output_type": "stream",
     "text": [
      "Best roc_aucscore for rf model: 0.777388361532\n",
      "Best pipeline parameters: {'clf_RFC__n_estimators': 500}\n"
     ]
    }
   ],
   "source": [
    "# Fitting the Random Forest Classifier model\n",
    "rf_gs.fit(X_train, y_train)\n",
    "y_pred_rf = rf_gs.best_estimator_.predict(X_test)\n",
    "\n",
    "# View the best score (set to roc_auc) for MultinomialNB with GridSearch\n",
    "print('Best roc_aucscore for rf model:', rf_gs.best_score_) \n",
    "\n",
    "# View the best parameters\n",
    "print('Best pipeline parameters:', rf_gs.best_params_)"
   ]
  },
  {
   "cell_type": "markdown",
   "metadata": {},
   "source": [
    "## Build rating category word clouds"
   ]
  },
  {
   "cell_type": "code",
   "execution_count": null,
   "metadata": {},
   "outputs": [],
   "source": [
    "from wordcloud import WordCloud\n",
    "# coming soon"
   ]
  },
  {
   "cell_type": "code",
   "execution_count": null,
   "metadata": {
    "collapsed": true
   },
   "outputs": [],
   "source": [
    "# separate high and low rating words\n",
    "low_words = ''\n",
    "high_words = ''\n",
    "low = rev_rate[rev_rate.rating_cat == 0]\n",
    "high = rev_rate[rev_rate.rating_cat == 1]"
   ]
  },
  {
   "cell_type": "code",
   "execution_count": null,
   "metadata": {},
   "outputs": [],
   "source": [
    "# Generate a word cloud image\n",
    "low_wordcloud = WordCloud(width=600, height=400).generate(low_words[:0])\n",
    "high_wordcloud = WordCloud(width=600, height=400).generate(high_words[:0])"
   ]
  },
  {
   "cell_type": "code",
   "execution_count": null,
   "metadata": {
    "collapsed": true
   },
   "outputs": [],
   "source": [
    "# Low rating Word cloud\n",
    "plt.figure( figsize=(10,8), facecolor='k')\n",
    "plt.imshow(low_wordcloud)\n",
    "plt.axis(\"off\")\n",
    "plt.tight_layout(pad=0)\n",
    "plt.show()"
   ]
  },
  {
   "cell_type": "code",
   "execution_count": null,
   "metadata": {
    "collapsed": true
   },
   "outputs": [],
   "source": [
    "# High rating Word cloud\n",
    "plt.figure( figsize=(10,8), facecolor='k')\n",
    "plt.imshow(high_wordcloud)\n",
    "plt.axis(\"off\")\n",
    "plt.tight_layout(pad=0)\n",
    "plt.show()"
   ]
  }
 ],
 "metadata": {
  "kernelspec": {
   "display_name": "Python 3",
   "language": "python",
   "name": "python3"
  },
  "language_info": {
   "codemirror_mode": {
    "name": "ipython",
    "version": 3
   },
   "file_extension": ".py",
   "mimetype": "text/x-python",
   "name": "python",
   "nbconvert_exporter": "python",
   "pygments_lexer": "ipython3",
   "version": "3.6.1"
  }
 },
 "nbformat": 4,
 "nbformat_minor": 2
}
