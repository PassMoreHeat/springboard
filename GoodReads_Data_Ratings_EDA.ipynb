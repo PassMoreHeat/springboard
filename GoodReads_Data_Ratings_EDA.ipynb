{
 "cells": [
  {
   "cell_type": "code",
   "execution_count": 45,
   "metadata": {
    "collapsed": true
   },
   "outputs": [],
   "source": [
    "# Import Pandas as pd\n",
    "import pandas as pd\n",
    "import numpy as np\n",
    "import matplotlib.pylab as plt\n",
    "# Bring GoodReads ratings data \n",
    "df = pd.read_csv('ratings.csv')"
   ]
  },
  {
   "cell_type": "code",
   "execution_count": 46,
   "metadata": {},
   "outputs": [
    {
     "name": "stdout",
     "output_type": "stream",
     "text": [
      "(981756, 3)\n"
     ]
    }
   ],
   "source": [
    "# Print shape (rows, columns) of data file\n",
    "print(df.shape)"
   ]
  },
  {
   "cell_type": "code",
   "execution_count": 47,
   "metadata": {},
   "outputs": [
    {
     "name": "stdout",
     "output_type": "stream",
     "text": [
      "<bound method NDFrame.head of         book_id  user_id  rating\n",
      "0             1      314       5\n",
      "1             1      439       3\n",
      "2             1      588       5\n",
      "3             1     1169       4\n",
      "4             1     1185       4\n",
      "5             1     2077       4\n",
      "6             1     2487       4\n",
      "7             1     2900       5\n",
      "8             1     3662       4\n",
      "9             1     3922       5\n",
      "10            1     5379       5\n",
      "11            1     5461       3\n",
      "12            1     5885       5\n",
      "13            1     6630       5\n",
      "14            1     7563       3\n",
      "15            1     9246       1\n",
      "16            1    10140       4\n",
      "17            1    10146       5\n",
      "18            1    10246       4\n",
      "19            1    10335       4\n",
      "20            1    10610       5\n",
      "21            1    10944       5\n",
      "22            1    11854       4\n",
      "23            1    11927       4\n",
      "24            1    12471       5\n",
      "25            1    13282       5\n",
      "26            1    13544       5\n",
      "27            1    15494       5\n",
      "28            1    16377       4\n",
      "29            1    16913       5\n",
      "...         ...      ...     ...\n",
      "981726    10000    35643       5\n",
      "981727    10000    35899       5\n",
      "981728    10000    36234       4\n",
      "981729    10000    36483       4\n",
      "981730    10000    37122       5\n",
      "981731    10000    37777       5\n",
      "981732    10000    38663       4\n",
      "981733    10000    39251       4\n",
      "981734    10000    39997       4\n",
      "981735    10000    42257       5\n",
      "981736    10000    42537       4\n",
      "981737    10000    42810       3\n",
      "981738    10000    43068       3\n",
      "981739    10000    43318       4\n",
      "981740    10000    43319       5\n",
      "981741    10000    43744       4\n",
      "981742    10000    44206       4\n",
      "981743    10000    44655       3\n",
      "981744    10000    44889       4\n",
      "981745    10000    46337       5\n",
      "981746    10000    47069       4\n",
      "981747    10000    47326       3\n",
      "981748    10000    47515       4\n",
      "981749    10000    48201       5\n",
      "981750    10000    48281       4\n",
      "981751    10000    48386       5\n",
      "981752    10000    49007       4\n",
      "981753    10000    49383       5\n",
      "981754    10000    50124       5\n",
      "981755    10000    51328       1\n",
      "\n",
      "[981756 rows x 3 columns]>\n"
     ]
    }
   ],
   "source": [
    "# Print head\n",
    "print(df.head)"
   ]
  },
  {
   "cell_type": "code",
   "execution_count": 48,
   "metadata": {},
   "outputs": [
    {
     "name": "stdout",
     "output_type": "stream",
     "text": [
      "Index(['book_id', 'user_id', 'rating'], dtype='object')\n"
     ]
    }
   ],
   "source": [
    "# Print column names and data type\n",
    "print(df.columns)"
   ]
  },
  {
   "cell_type": "code",
   "execution_count": 55,
   "metadata": {},
   "outputs": [],
   "source": [
    "# Create subset of data to explore, select all rows with book_id =2\n",
    "one_book = df[df['book_id']==2]"
   ]
  },
  {
   "cell_type": "code",
   "execution_count": 56,
   "metadata": {},
   "outputs": [
    {
     "name": "stdout",
     "output_type": "stream",
     "text": [
      "<bound method NDFrame.head of      book_id  user_id  rating\n",
      "100        2     1169       3\n",
      "101        2     3022       4\n",
      "102        2     3922       5\n",
      "103        2     5115       4\n",
      "104        2     5436       5\n",
      "105        2     5461       4\n",
      "106        2     5885       4\n",
      "107        2     6063       1\n",
      "108        2     6342       3\n",
      "109        2     6630       5\n",
      "110        2     8167       2\n",
      "111        2     9731       4\n",
      "112        2    10111       5\n",
      "113        2    10140       3\n",
      "114        2    10288       5\n",
      "115        2    10509       2\n",
      "116        2    10610       5\n",
      "117        2    10751       3\n",
      "118        2    10944       5\n",
      "119        2    11285       4\n",
      "120        2    11408       5\n",
      "121        2    11691       4\n",
      "122        2    11692       3\n",
      "123        2    11868       5\n",
      "124        2    11927       5\n",
      "125        2    11945       5\n",
      "126        2    12874       4\n",
      "127        2    12946       5\n",
      "128        2    13282       5\n",
      "129        2    13794       1\n",
      "..       ...      ...     ...\n",
      "170        2    32918       5\n",
      "171        2    33065       5\n",
      "172        2    33697       4\n",
      "173        2    33716       5\n",
      "174        2    33872       5\n",
      "175        2    36099       5\n",
      "176        2    37834       4\n",
      "177        2    38082       5\n",
      "178        2    42404       5\n",
      "179        2    42508       4\n",
      "180        2    42810       4\n",
      "181        2    45269       4\n",
      "182        2    45493       5\n",
      "183        2    46421       5\n",
      "184        2    46977       3\n",
      "185        2    47476       3\n",
      "186        2    47478       2\n",
      "187        2    47800       5\n",
      "188        2    48482       5\n",
      "189        2    48559       5\n",
      "190        2    48687       1\n",
      "191        2    49298       5\n",
      "192        2    50096       5\n",
      "193        2    50104       5\n",
      "194        2    50133       5\n",
      "195        2    51166       5\n",
      "196        2    51460       4\n",
      "197        2    51838       4\n",
      "198        2    52036       3\n",
      "199        2    53292       5\n",
      "\n",
      "[100 rows x 3 columns]>\n"
     ]
    }
   ],
   "source": [
    "# Print head of data fram with just one book_id\n",
    "print(one_book.head)"
   ]
  },
  {
   "cell_type": "code",
   "execution_count": 58,
   "metadata": {},
   "outputs": [
    {
     "data": {
      "image/png": "[encoded data removed]",
      "text/plain": [
       "<matplotlib.figure.Figure at 0x10869d080>"
      ]
     },
     "metadata": {},
     "output_type": "display_data"
    }
   ],
   "source": [
    "# create data frame of just the ratings column for book_id =10\n",
    "# bin ratings into 5 bins \n",
    "# print histogram of ratings for book_id = 10\n",
    "rating_2 = one_book.loc[:, 'rating']\n",
    "plt.hist(rating_2, bins =5)\n",
    "plt.show()"
   ]
  },
  {
   "cell_type": "code",
   "execution_count": null,
   "metadata": {
    "collapsed": true
   },
   "outputs": [],
   "source": []
  },
  {
   "cell_type": "code",
   "execution_count": null,
   "metadata": {},
   "outputs": [],
   "source": []
  }
 ],
 "metadata": {
  "kernelspec": {
   "display_name": "Python 3",
   "language": "python",
   "name": "python3"
  },
  "language_info": {
   "codemirror_mode": {
    "name": "ipython",
    "version": 3
   },
   "file_extension": ".py",
   "mimetype": "text/x-python",
   "name": "python",
   "nbconvert_exporter": "python",
   "pygments_lexer": "ipython3",
   "version": "3.6.1"
  }
 },
 "nbformat": 4,
 "nbformat_minor": 2
}
