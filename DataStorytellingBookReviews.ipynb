{
 "cells": [
  {
   "cell_type": "markdown",
   "metadata": {},
   "source": [
    "## Data Story Telling: Book Ratings Predictor\n",
    "### Springboard Data Science Career Track, Capstone 1\n",
    "***\n",
    "- Author: H. Passmore\n",
    "- Data: Amazon.com Book Reviews, access granted by Julian McAuley\n",
    "- Capstone Description: [Project Proposal](https://github.com/PassMoreHeat/Capstone_Project_1/blob/master/ProjectProposal.md)\n",
    "- Initial Data Approach: [Data Wrangling](https://github.com/PassMoreHeat/Capstone_Project_1/blob/master/DataWranglingReport.md)\n",
    "***\n",
    "## Data Story Table of Contents\n",
    "1. Book review data questions\n",
    "2. Review data trends\n",
    "3. Data visualizations\n",
    "4. Conclusions"
   ]
  },
  {
   "cell_type": "code",
   "execution_count": 44,
   "metadata": {
    "collapsed": true
   },
   "outputs": [],
   "source": [
    "# import modules\n",
    "import pandas as pd\n",
    "import numpy as np\n",
    "import matplotlib.pyplot as plt\n",
    "import seaborn as sns\n",
    "from sklearn import tree\n",
    "from sklearn.metrics import accuracy_score\n",
    "\n",
    "# Figures inline, visualization style\n",
    "%matplotlib inline\n",
    "sns.set()"
   ]
  },
  {
   "cell_type": "code",
   "execution_count": 45,
   "metadata": {
    "collapsed": true
   },
   "outputs": [],
   "source": [
    "# import genre reviews\n",
    "# load the pickled ISBN_10 DataFrame of Biology & Invertebrate Textbooks from hard drive in 'rb' mode\n",
    "import pickle\n",
    "with open('invertbiorevs.pickle','rb') as f:\n",
    "    rev_texts = pickle.load(f) # change the name here and through out once the full data are here"
   ]
  },
  {
   "cell_type": "code",
   "execution_count": 46,
   "metadata": {},
   "outputs": [
    {
     "name": "stdout",
     "output_type": "stream",
     "text": [
      "<class 'pandas.core.frame.DataFrame'>\n",
      "RangeIndex: 1663 entries, 0 to 1662\n",
      "Data columns (total 10 columns):\n",
      "_id               1663 non-null object\n",
      "asin              1663 non-null object\n",
      "helpful           1663 non-null object\n",
      "overall           1663 non-null float64\n",
      "reviewText        1663 non-null object\n",
      "reviewTime        1663 non-null object\n",
      "reviewerID        1663 non-null object\n",
      "reviewerName      1654 non-null object\n",
      "summary           1663 non-null object\n",
      "unixReviewTime    1663 non-null int64\n",
      "dtypes: float64(1), int64(1), object(8)\n",
      "memory usage: 130.0+ KB\n"
     ]
    }
   ],
   "source": [
    "# check the reviews DataFrame info\n",
    "rev_texts.info()"
   ]
  },
  {
   "cell_type": "code",
   "execution_count": 47,
   "metadata": {},
   "outputs": [
    {
     "data": {
      "text/html": [
       "<div>\n",
       "<style>\n",
       "    .dataframe thead tr:only-child th {\n",
       "        text-align: right;\n",
       "    }\n",
       "\n",
       "    .dataframe thead th {\n",
       "        text-align: left;\n",
       "    }\n",
       "\n",
       "    .dataframe tbody tr th {\n",
       "        vertical-align: top;\n",
       "    }\n",
       "</style>\n",
       "<table border=\"1\" class=\"dataframe\">\n",
       "  <thead>\n",
       "    <tr style=\"text-align: right;\">\n",
       "      <th></th>\n",
       "      <th>_id</th>\n",
       "      <th>asin</th>\n",
       "      <th>helpful</th>\n",
       "      <th>overall</th>\n",
       "      <th>reviewText</th>\n",
       "      <th>reviewTime</th>\n",
       "      <th>reviewerID</th>\n",
       "      <th>reviewerName</th>\n",
       "      <th>summary</th>\n",
       "      <th>unixReviewTime</th>\n",
       "    </tr>\n",
       "  </thead>\n",
       "  <tbody>\n",
       "    <tr>\n",
       "      <th>0</th>\n",
       "      <td>5a1f058a30ec5f57e707c294</td>\n",
       "      <td>003046224X</td>\n",
       "      <td>[0, 0]</td>\n",
       "      <td>5.0</td>\n",
       "      <td>I loved the life science book it's just full o...</td>\n",
       "      <td>09 10, 2013</td>\n",
       "      <td>A13MQTT3YQIDRS</td>\n",
       "      <td>Belia Russell</td>\n",
       "      <td>Life science</td>\n",
       "      <td>1378771200</td>\n",
       "    </tr>\n",
       "    <tr>\n",
       "      <th>1</th>\n",
       "      <td>5a1f058a30ec5f57e707c295</td>\n",
       "      <td>003046224X</td>\n",
       "      <td>[5, 5]</td>\n",
       "      <td>5.0</td>\n",
       "      <td>My son is using this book for book 7th grade s...</td>\n",
       "      <td>10 2, 2010</td>\n",
       "      <td>A2MHGJFVA5A6K3</td>\n",
       "      <td>blessed</td>\n",
       "      <td>excellent</td>\n",
       "      <td>1285977600</td>\n",
       "    </tr>\n",
       "    <tr>\n",
       "      <th>2</th>\n",
       "      <td>5a1f058a30ec5f57e707c296</td>\n",
       "      <td>003046224X</td>\n",
       "      <td>[0, 0]</td>\n",
       "      <td>5.0</td>\n",
       "      <td>This book was very helpful for homework comple...</td>\n",
       "      <td>10 2, 2013</td>\n",
       "      <td>A1KJS9N5D0W35R</td>\n",
       "      <td>Kimberly M. Berkey</td>\n",
       "      <td>Great life science book</td>\n",
       "      <td>1380672000</td>\n",
       "    </tr>\n",
       "    <tr>\n",
       "      <th>3</th>\n",
       "      <td>5a1f058a30ec5f57e707c297</td>\n",
       "      <td>003046224X</td>\n",
       "      <td>[0, 0]</td>\n",
       "      <td>5.0</td>\n",
       "      <td>Great pictures. Great information. My son is u...</td>\n",
       "      <td>11 11, 2013</td>\n",
       "      <td>AHXN35UA7T80O</td>\n",
       "      <td>Mary Lundquist</td>\n",
       "      <td>Great book</td>\n",
       "      <td>1384128000</td>\n",
       "    </tr>\n",
       "    <tr>\n",
       "      <th>4</th>\n",
       "      <td>5a1f058a30ec5f57e707c371</td>\n",
       "      <td>0030514339</td>\n",
       "      <td>[1, 1]</td>\n",
       "      <td>1.0</td>\n",
       "      <td>I just finished my biology course for this sem...</td>\n",
       "      <td>02 7, 2010</td>\n",
       "      <td>A1KCOD5478CHMV</td>\n",
       "      <td>John Smith \"Bob\"</td>\n",
       "      <td>you're kidding me, right?</td>\n",
       "      <td>1265500800</td>\n",
       "    </tr>\n",
       "  </tbody>\n",
       "</table>\n",
       "</div>"
      ],
      "text/plain": [
       "                        _id        asin helpful  overall  \\\n",
       "0  5a1f058a30ec5f57e707c294  003046224X  [0, 0]      5.0   \n",
       "1  5a1f058a30ec5f57e707c295  003046224X  [5, 5]      5.0   \n",
       "2  5a1f058a30ec5f57e707c296  003046224X  [0, 0]      5.0   \n",
       "3  5a1f058a30ec5f57e707c297  003046224X  [0, 0]      5.0   \n",
       "4  5a1f058a30ec5f57e707c371  0030514339  [1, 1]      1.0   \n",
       "\n",
       "                                          reviewText   reviewTime  \\\n",
       "0  I loved the life science book it's just full o...  09 10, 2013   \n",
       "1  My son is using this book for book 7th grade s...   10 2, 2010   \n",
       "2  This book was very helpful for homework comple...   10 2, 2013   \n",
       "3  Great pictures. Great information. My son is u...  11 11, 2013   \n",
       "4  I just finished my biology course for this sem...   02 7, 2010   \n",
       "\n",
       "       reviewerID        reviewerName                    summary  \\\n",
       "0  A13MQTT3YQIDRS       Belia Russell               Life science   \n",
       "1  A2MHGJFVA5A6K3             blessed                  excellent   \n",
       "2  A1KJS9N5D0W35R  Kimberly M. Berkey    Great life science book   \n",
       "3   AHXN35UA7T80O      Mary Lundquist                 Great book   \n",
       "4  A1KCOD5478CHMV    John Smith \"Bob\"  you're kidding me, right?   \n",
       "\n",
       "   unixReviewTime  \n",
       "0      1378771200  \n",
       "1      1285977600  \n",
       "2      1380672000  \n",
       "3      1384128000  \n",
       "4      1265500800  "
      ]
     },
     "execution_count": 47,
     "metadata": {},
     "output_type": "execute_result"
    }
   ],
   "source": [
    "# check-out the DataFrame\n",
    "rev_texts.head()"
   ]
  },
  {
   "cell_type": "markdown",
   "metadata": {},
   "source": [
    "#### Section Summary: The DataFrame of reviews includes 10 columns and 1663 reviews ('reviewText') and ratings ('overall')."
   ]
  },
  {
   "cell_type": "markdown",
   "metadata": {},
   "source": [
    "### 1) Book Review Data Questions\n",
    "- Count reviews per book\n",
    "- Count characters per review\n",
    "- Count words per review\n",
    "- Words and characters per star rating\n",
    "- Longest word length, average word length..."
   ]
  },
  {
   "cell_type": "code",
   "execution_count": 48,
   "metadata": {},
   "outputs": [
    {
     "data": {
      "text/plain": [
       "count    1663.000000\n",
       "mean        4.384847\n",
       "std         1.039444\n",
       "min         1.000000\n",
       "25%         4.000000\n",
       "50%         5.000000\n",
       "75%         5.000000\n",
       "max         5.000000\n",
       "Name: overall, dtype: float64"
      ]
     },
     "execution_count": 48,
     "metadata": {},
     "output_type": "execute_result"
    }
   ],
   "source": [
    "# use DataFrame method .describe() to view summary stats of 'overall' rating field\n",
    "rev_texts['overall'].describe()"
   ]
  },
  {
   "cell_type": "code",
   "execution_count": 115,
   "metadata": {},
   "outputs": [
    {
     "name": "stdout",
     "output_type": "stream",
     "text": [
      "The data include reviews for 112 books.\n"
     ]
    }
   ],
   "source": [
    "# count number of books in Biology Textbook review dataframe \n",
    "counts = rev_texts['asin'].value_counts()\n",
    "print('The data include reviews for', len(counts), 'books.')"
   ]
  },
  {
   "cell_type": "code",
   "execution_count": 50,
   "metadata": {},
   "outputs": [
    {
     "name": "stdout",
     "output_type": "stream",
     "text": [
      "Minimum reviews per book  1\n",
      "Maximum reviews per book  382\n",
      "Mean number of reviews per book  14.848214285714286\n"
     ]
    }
   ],
   "source": [
    "# average, minimum and maximum number of reviews per book\n",
    "print('Minimum reviews per book ', (np.min(counts)))\n",
    "print('Maximum reviews per book ', (np.max(counts)))\n",
    "print('Mean number of reviews per book ', (np.mean(counts)))"
   ]
  },
  {
   "cell_type": "code",
   "execution_count": 110,
   "metadata": {},
   "outputs": [],
   "source": [
    "# estimate word counts per review into a new column\n",
    "rev_texts['words'] = rev_texts['reviewText'].str.split()\n",
    "rev_texts['word_count'] = rev_texts.words.str.len()"
   ]
  },
  {
   "cell_type": "code",
   "execution_count": 111,
   "metadata": {},
   "outputs": [],
   "source": [
    "# calculate longest word length (don't worry about removing punctuation yet) \n",
    "rev_texts['long_word'] = rev_texts['reviewText'].apply(lambda x: max(x.split(), key=len))\n",
    "rev_texts['longest'] = rev_texts['long_word'].str.len()"
   ]
  },
  {
   "cell_type": "code",
   "execution_count": 112,
   "metadata": {},
   "outputs": [
    {
     "data": {
      "text/html": [
       "<div>\n",
       "<style>\n",
       "    .dataframe thead tr:only-child th {\n",
       "        text-align: right;\n",
       "    }\n",
       "\n",
       "    .dataframe thead th {\n",
       "        text-align: left;\n",
       "    }\n",
       "\n",
       "    .dataframe tbody tr th {\n",
       "        vertical-align: top;\n",
       "    }\n",
       "</style>\n",
       "<table border=\"1\" class=\"dataframe\">\n",
       "  <thead>\n",
       "    <tr style=\"text-align: right;\">\n",
       "      <th></th>\n",
       "      <th>overall</th>\n",
       "      <th>char_length</th>\n",
       "      <th>word_count</th>\n",
       "      <th>longest</th>\n",
       "    </tr>\n",
       "  </thead>\n",
       "  <tbody>\n",
       "    <tr>\n",
       "      <th>count</th>\n",
       "      <td>1663.000000</td>\n",
       "      <td>1663.000000</td>\n",
       "      <td>1663.000000</td>\n",
       "      <td>1663.000000</td>\n",
       "    </tr>\n",
       "    <tr>\n",
       "      <th>mean</th>\n",
       "      <td>4.384847</td>\n",
       "      <td>851.830427</td>\n",
       "      <td>143.650030</td>\n",
       "      <td>14.266386</td>\n",
       "    </tr>\n",
       "    <tr>\n",
       "      <th>std</th>\n",
       "      <td>1.039444</td>\n",
       "      <td>1084.998021</td>\n",
       "      <td>177.942875</td>\n",
       "      <td>7.385833</td>\n",
       "    </tr>\n",
       "    <tr>\n",
       "      <th>min</th>\n",
       "      <td>1.000000</td>\n",
       "      <td>8.000000</td>\n",
       "      <td>1.000000</td>\n",
       "      <td>6.000000</td>\n",
       "    </tr>\n",
       "    <tr>\n",
       "      <th>25%</th>\n",
       "      <td>4.000000</td>\n",
       "      <td>206.000000</td>\n",
       "      <td>36.000000</td>\n",
       "      <td>11.000000</td>\n",
       "    </tr>\n",
       "    <tr>\n",
       "      <th>50%</th>\n",
       "      <td>5.000000</td>\n",
       "      <td>440.000000</td>\n",
       "      <td>77.000000</td>\n",
       "      <td>13.000000</td>\n",
       "    </tr>\n",
       "    <tr>\n",
       "      <th>75%</th>\n",
       "      <td>5.000000</td>\n",
       "      <td>1016.500000</td>\n",
       "      <td>171.000000</td>\n",
       "      <td>16.000000</td>\n",
       "    </tr>\n",
       "    <tr>\n",
       "      <th>max</th>\n",
       "      <td>5.000000</td>\n",
       "      <td>11589.000000</td>\n",
       "      <td>1853.000000</td>\n",
       "      <td>253.000000</td>\n",
       "    </tr>\n",
       "  </tbody>\n",
       "</table>\n",
       "</div>"
      ],
      "text/plain": [
       "           overall   char_length   word_count      longest\n",
       "count  1663.000000   1663.000000  1663.000000  1663.000000\n",
       "mean      4.384847    851.830427   143.650030    14.266386\n",
       "std       1.039444   1084.998021   177.942875     7.385833\n",
       "min       1.000000      8.000000     1.000000     6.000000\n",
       "25%       4.000000    206.000000    36.000000    11.000000\n",
       "50%       5.000000    440.000000    77.000000    13.000000\n",
       "75%       5.000000   1016.500000   171.000000    16.000000\n",
       "max       5.000000  11589.000000  1853.000000   253.000000"
      ]
     },
     "execution_count": 112,
     "metadata": {},
     "output_type": "execute_result"
    }
   ],
   "source": [
    "# use .describe() to find average, minimum and maximum number of stars, characters, words and longest word per review\n",
    "rev_texts['char_length'] = rev_texts['reviewText'].str.len()\n",
    "rev_texts[['overall','char_length','word_count','longest']].describe()"
   ]
  },
  {
   "cell_type": "markdown",
   "metadata": {},
   "source": [
    "#### Section Summary: \n",
    "* This Biology Textbook genre subset of reviews includes reviews for 112 different books.\n",
    "* The number of reviews per book ranges from 1 to 382 with an average of 15 per book.\n",
    "* Average reviews are 851 characters or 143 words long.\n",
    "* Reviews and awarded 4 stars on average.\n",
    "* The longest review in this genre subset is 1,853 words long.\n",
    "* The __longest word__ per review was 14 characters on average. Longest word calculation does not account for punctuation and needs cleaning up (e.g., maximum length word is 253 characters)"
   ]
  },
  {
   "cell_type": "markdown",
   "metadata": {},
   "source": [
    "### 2) Review Data Trends\n",
    "- Trends with number of stars\n",
    "- Words per review and high or low ratings\n",
    "- Longest word length and high or low ratings\n",
    "- Average word length\n"
   ]
  },
  {
   "cell_type": "code",
   "execution_count": 116,
   "metadata": {},
   "outputs": [
    {
     "data": {
      "text/html": [
       "<div>\n",
       "<style>\n",
       "    .dataframe thead tr:only-child th {\n",
       "        text-align: right;\n",
       "    }\n",
       "\n",
       "    .dataframe thead th {\n",
       "        text-align: left;\n",
       "    }\n",
       "\n",
       "    .dataframe tbody tr th {\n",
       "        vertical-align: top;\n",
       "    }\n",
       "</style>\n",
       "<table border=\"1\" class=\"dataframe\">\n",
       "  <thead>\n",
       "    <tr style=\"text-align: right;\">\n",
       "      <th></th>\n",
       "      <th>count</th>\n",
       "      <th>mean</th>\n",
       "      <th>std</th>\n",
       "      <th>min</th>\n",
       "      <th>25%</th>\n",
       "      <th>50%</th>\n",
       "      <th>75%</th>\n",
       "      <th>max</th>\n",
       "    </tr>\n",
       "    <tr>\n",
       "      <th>overall</th>\n",
       "      <th></th>\n",
       "      <th></th>\n",
       "      <th></th>\n",
       "      <th></th>\n",
       "      <th></th>\n",
       "      <th></th>\n",
       "      <th></th>\n",
       "      <th></th>\n",
       "    </tr>\n",
       "  </thead>\n",
       "  <tbody>\n",
       "    <tr>\n",
       "      <th>1.0</th>\n",
       "      <td>61.0</td>\n",
       "      <td>883.557377</td>\n",
       "      <td>1042.223305</td>\n",
       "      <td>11.0</td>\n",
       "      <td>268.00</td>\n",
       "      <td>463.0</td>\n",
       "      <td>1108.00</td>\n",
       "      <td>5303.0</td>\n",
       "    </tr>\n",
       "    <tr>\n",
       "      <th>2.0</th>\n",
       "      <td>68.0</td>\n",
       "      <td>1293.411765</td>\n",
       "      <td>1516.427235</td>\n",
       "      <td>38.0</td>\n",
       "      <td>337.25</td>\n",
       "      <td>767.5</td>\n",
       "      <td>1462.25</td>\n",
       "      <td>7467.0</td>\n",
       "    </tr>\n",
       "    <tr>\n",
       "      <th>3.0</th>\n",
       "      <td>131.0</td>\n",
       "      <td>1319.503817</td>\n",
       "      <td>1603.774588</td>\n",
       "      <td>20.0</td>\n",
       "      <td>372.00</td>\n",
       "      <td>841.0</td>\n",
       "      <td>1516.00</td>\n",
       "      <td>11589.0</td>\n",
       "    </tr>\n",
       "    <tr>\n",
       "      <th>4.0</th>\n",
       "      <td>313.0</td>\n",
       "      <td>1002.990415</td>\n",
       "      <td>1121.635997</td>\n",
       "      <td>22.0</td>\n",
       "      <td>235.00</td>\n",
       "      <td>567.0</td>\n",
       "      <td>1417.00</td>\n",
       "      <td>6825.0</td>\n",
       "    </tr>\n",
       "    <tr>\n",
       "      <th>5.0</th>\n",
       "      <td>1090.0</td>\n",
       "      <td>722.893578</td>\n",
       "      <td>930.634688</td>\n",
       "      <td>8.0</td>\n",
       "      <td>186.00</td>\n",
       "      <td>373.0</td>\n",
       "      <td>826.75</td>\n",
       "      <td>7758.0</td>\n",
       "    </tr>\n",
       "  </tbody>\n",
       "</table>\n",
       "</div>"
      ],
      "text/plain": [
       "          count         mean          std   min     25%    50%      75%  \\\n",
       "overall                                                                   \n",
       "1.0        61.0   883.557377  1042.223305  11.0  268.00  463.0  1108.00   \n",
       "2.0        68.0  1293.411765  1516.427235  38.0  337.25  767.5  1462.25   \n",
       "3.0       131.0  1319.503817  1603.774588  20.0  372.00  841.0  1516.00   \n",
       "4.0       313.0  1002.990415  1121.635997  22.0  235.00  567.0  1417.00   \n",
       "5.0      1090.0   722.893578   930.634688   8.0  186.00  373.0   826.75   \n",
       "\n",
       "             max  \n",
       "overall           \n",
       "1.0       5303.0  \n",
       "2.0       7467.0  \n",
       "3.0      11589.0  \n",
       "4.0       6825.0  \n",
       "5.0       7758.0  "
      ]
     },
     "execution_count": 116,
     "metadata": {},
     "output_type": "execute_result"
    }
   ],
   "source": [
    "# use DataFrame method .describe() to view summary stats of character count as a function of 'overall' rating\n",
    "rev_texts.groupby('overall').char_length.describe()"
   ]
  },
  {
   "cell_type": "code",
   "execution_count": 117,
   "metadata": {},
   "outputs": [
    {
     "data": {
      "text/html": [
       "<div>\n",
       "<style>\n",
       "    .dataframe thead tr:only-child th {\n",
       "        text-align: right;\n",
       "    }\n",
       "\n",
       "    .dataframe thead th {\n",
       "        text-align: left;\n",
       "    }\n",
       "\n",
       "    .dataframe tbody tr th {\n",
       "        vertical-align: top;\n",
       "    }\n",
       "</style>\n",
       "<table border=\"1\" class=\"dataframe\">\n",
       "  <thead>\n",
       "    <tr style=\"text-align: right;\">\n",
       "      <th></th>\n",
       "      <th>count</th>\n",
       "      <th>mean</th>\n",
       "      <th>std</th>\n",
       "      <th>min</th>\n",
       "      <th>25%</th>\n",
       "      <th>50%</th>\n",
       "      <th>75%</th>\n",
       "      <th>max</th>\n",
       "    </tr>\n",
       "    <tr>\n",
       "      <th>overall</th>\n",
       "      <th></th>\n",
       "      <th></th>\n",
       "      <th></th>\n",
       "      <th></th>\n",
       "      <th></th>\n",
       "      <th></th>\n",
       "      <th></th>\n",
       "      <th></th>\n",
       "    </tr>\n",
       "  </thead>\n",
       "  <tbody>\n",
       "    <tr>\n",
       "      <th>1.0</th>\n",
       "      <td>61.0</td>\n",
       "      <td>149.704918</td>\n",
       "      <td>174.061516</td>\n",
       "      <td>2.0</td>\n",
       "      <td>51.0</td>\n",
       "      <td>73.0</td>\n",
       "      <td>187.00</td>\n",
       "      <td>891.0</td>\n",
       "    </tr>\n",
       "    <tr>\n",
       "      <th>2.0</th>\n",
       "      <td>68.0</td>\n",
       "      <td>216.147059</td>\n",
       "      <td>245.323196</td>\n",
       "      <td>5.0</td>\n",
       "      <td>61.0</td>\n",
       "      <td>136.0</td>\n",
       "      <td>260.75</td>\n",
       "      <td>1282.0</td>\n",
       "    </tr>\n",
       "    <tr>\n",
       "      <th>3.0</th>\n",
       "      <td>131.0</td>\n",
       "      <td>221.977099</td>\n",
       "      <td>262.638871</td>\n",
       "      <td>4.0</td>\n",
       "      <td>65.5</td>\n",
       "      <td>140.0</td>\n",
       "      <td>253.50</td>\n",
       "      <td>1853.0</td>\n",
       "    </tr>\n",
       "    <tr>\n",
       "      <th>4.0</th>\n",
       "      <td>313.0</td>\n",
       "      <td>168.824281</td>\n",
       "      <td>181.719170</td>\n",
       "      <td>3.0</td>\n",
       "      <td>42.0</td>\n",
       "      <td>99.0</td>\n",
       "      <td>235.00</td>\n",
       "      <td>1052.0</td>\n",
       "    </tr>\n",
       "    <tr>\n",
       "      <th>5.0</th>\n",
       "      <td>1090.0</td>\n",
       "      <td>122.145872</td>\n",
       "      <td>153.439363</td>\n",
       "      <td>1.0</td>\n",
       "      <td>32.0</td>\n",
       "      <td>65.0</td>\n",
       "      <td>141.75</td>\n",
       "      <td>1341.0</td>\n",
       "    </tr>\n",
       "  </tbody>\n",
       "</table>\n",
       "</div>"
      ],
      "text/plain": [
       "          count        mean         std  min   25%    50%     75%     max\n",
       "overall                                                                  \n",
       "1.0        61.0  149.704918  174.061516  2.0  51.0   73.0  187.00   891.0\n",
       "2.0        68.0  216.147059  245.323196  5.0  61.0  136.0  260.75  1282.0\n",
       "3.0       131.0  221.977099  262.638871  4.0  65.5  140.0  253.50  1853.0\n",
       "4.0       313.0  168.824281  181.719170  3.0  42.0   99.0  235.00  1052.0\n",
       "5.0      1090.0  122.145872  153.439363  1.0  32.0   65.0  141.75  1341.0"
      ]
     },
     "execution_count": 117,
     "metadata": {},
     "output_type": "execute_result"
    }
   ],
   "source": [
    "# use DataFrame method .describe() to view summary stats of word count as a function of 'overall' rating\n",
    "rev_texts.groupby('overall').word_count.describe()"
   ]
  },
  {
   "cell_type": "code",
   "execution_count": 118,
   "metadata": {},
   "outputs": [
    {
     "name": "stdout",
     "output_type": "stream",
     "text": [
      "<class 'pandas.core.frame.DataFrame'>\n",
      "Int64Index: 1151 entries, 0 to 1661\n",
      "Data columns (total 16 columns):\n",
      "_id               1151 non-null object\n",
      "asin              1151 non-null object\n",
      "helpful           1151 non-null object\n",
      "overall           1151 non-null float64\n",
      "reviewText        1151 non-null object\n",
      "reviewTime        1151 non-null object\n",
      "reviewerID        1151 non-null object\n",
      "reviewerName      1143 non-null object\n",
      "summary           1151 non-null object\n",
      "unixReviewTime    1151 non-null int64\n",
      "char_length       1151 non-null int64\n",
      "words             1151 non-null object\n",
      "word_count        1151 non-null int64\n",
      "words2            1151 non-null object\n",
      "long_word         1151 non-null object\n",
      "longest           1151 non-null int64\n",
      "dtypes: float64(1), int64(4), object(11)\n",
      "memory usage: 152.9+ KB\n"
     ]
    }
   ],
   "source": [
    "# subset main DataFrame: 1 and 5 star reviews\n",
    "one_five = rev_texts[rev_texts['overall'].isin([1,5])]\n",
    "one_five.info()"
   ]
  },
  {
   "cell_type": "code",
   "execution_count": 120,
   "metadata": {},
   "outputs": [
    {
     "data": {
      "text/html": [
       "<div>\n",
       "<style>\n",
       "    .dataframe thead tr:only-child th {\n",
       "        text-align: right;\n",
       "    }\n",
       "\n",
       "    .dataframe thead th {\n",
       "        text-align: left;\n",
       "    }\n",
       "\n",
       "    .dataframe tbody tr th {\n",
       "        vertical-align: top;\n",
       "    }\n",
       "</style>\n",
       "<table border=\"1\" class=\"dataframe\">\n",
       "  <thead>\n",
       "    <tr style=\"text-align: right;\">\n",
       "      <th></th>\n",
       "      <th>count</th>\n",
       "      <th>mean</th>\n",
       "      <th>std</th>\n",
       "      <th>min</th>\n",
       "      <th>25%</th>\n",
       "      <th>50%</th>\n",
       "      <th>75%</th>\n",
       "      <th>max</th>\n",
       "    </tr>\n",
       "    <tr>\n",
       "      <th>overall</th>\n",
       "      <th></th>\n",
       "      <th></th>\n",
       "      <th></th>\n",
       "      <th></th>\n",
       "      <th></th>\n",
       "      <th></th>\n",
       "      <th></th>\n",
       "      <th></th>\n",
       "    </tr>\n",
       "  </thead>\n",
       "  <tbody>\n",
       "    <tr>\n",
       "      <th>1.0</th>\n",
       "      <td>61.0</td>\n",
       "      <td>149.704918</td>\n",
       "      <td>174.061516</td>\n",
       "      <td>2.0</td>\n",
       "      <td>51.0</td>\n",
       "      <td>73.0</td>\n",
       "      <td>187.00</td>\n",
       "      <td>891.0</td>\n",
       "    </tr>\n",
       "    <tr>\n",
       "      <th>5.0</th>\n",
       "      <td>1090.0</td>\n",
       "      <td>122.145872</td>\n",
       "      <td>153.439363</td>\n",
       "      <td>1.0</td>\n",
       "      <td>32.0</td>\n",
       "      <td>65.0</td>\n",
       "      <td>141.75</td>\n",
       "      <td>1341.0</td>\n",
       "    </tr>\n",
       "  </tbody>\n",
       "</table>\n",
       "</div>"
      ],
      "text/plain": [
       "          count        mean         std  min   25%   50%     75%     max\n",
       "overall                                                                 \n",
       "1.0        61.0  149.704918  174.061516  2.0  51.0  73.0  187.00   891.0\n",
       "5.0      1090.0  122.145872  153.439363  1.0  32.0  65.0  141.75  1341.0"
      ]
     },
     "execution_count": 120,
     "metadata": {},
     "output_type": "execute_result"
    }
   ],
   "source": [
    "# use .describe() to explore summary statistics of longest word length and 1 vs 5 stars\n",
    "one_five.groupby('overall').word_count.describe()"
   ]
  },
  {
   "cell_type": "code",
   "execution_count": 119,
   "metadata": {},
   "outputs": [
    {
     "data": {
      "text/html": [
       "<div>\n",
       "<style>\n",
       "    .dataframe thead tr:only-child th {\n",
       "        text-align: right;\n",
       "    }\n",
       "\n",
       "    .dataframe thead th {\n",
       "        text-align: left;\n",
       "    }\n",
       "\n",
       "    .dataframe tbody tr th {\n",
       "        vertical-align: top;\n",
       "    }\n",
       "</style>\n",
       "<table border=\"1\" class=\"dataframe\">\n",
       "  <thead>\n",
       "    <tr style=\"text-align: right;\">\n",
       "      <th></th>\n",
       "      <th>count</th>\n",
       "      <th>mean</th>\n",
       "      <th>std</th>\n",
       "      <th>min</th>\n",
       "      <th>25%</th>\n",
       "      <th>50%</th>\n",
       "      <th>75%</th>\n",
       "      <th>max</th>\n",
       "    </tr>\n",
       "    <tr>\n",
       "      <th>overall</th>\n",
       "      <th></th>\n",
       "      <th></th>\n",
       "      <th></th>\n",
       "      <th></th>\n",
       "      <th></th>\n",
       "      <th></th>\n",
       "      <th></th>\n",
       "      <th></th>\n",
       "    </tr>\n",
       "  </thead>\n",
       "  <tbody>\n",
       "    <tr>\n",
       "      <th>1.0</th>\n",
       "      <td>61.0</td>\n",
       "      <td>14.540984</td>\n",
       "      <td>4.642463</td>\n",
       "      <td>7.0</td>\n",
       "      <td>11.0</td>\n",
       "      <td>14.0</td>\n",
       "      <td>17.0</td>\n",
       "      <td>26.0</td>\n",
       "    </tr>\n",
       "    <tr>\n",
       "      <th>5.0</th>\n",
       "      <td>1090.0</td>\n",
       "      <td>14.014679</td>\n",
       "      <td>8.551028</td>\n",
       "      <td>6.0</td>\n",
       "      <td>11.0</td>\n",
       "      <td>13.0</td>\n",
       "      <td>15.0</td>\n",
       "      <td>253.0</td>\n",
       "    </tr>\n",
       "  </tbody>\n",
       "</table>\n",
       "</div>"
      ],
      "text/plain": [
       "          count       mean       std  min   25%   50%   75%    max\n",
       "overall                                                           \n",
       "1.0        61.0  14.540984  4.642463  7.0  11.0  14.0  17.0   26.0\n",
       "5.0      1090.0  14.014679  8.551028  6.0  11.0  13.0  15.0  253.0"
      ]
     },
     "execution_count": 119,
     "metadata": {},
     "output_type": "execute_result"
    }
   ],
   "source": [
    "# use .describe() to explore summary statistics of longest word length and 1 vs 5 stars\n",
    "one_five.groupby('overall').longest.describe()"
   ]
  },
  {
   "cell_type": "markdown",
   "metadata": {},
   "source": [
    "#### Section Summary: \n",
    "* This genre subset of Biology Textbooks reviews with ratings from 1 to 5 stars:\n",
    "    * Only 61 of the reviews were paired with one-star ratings (the lowest rating).\n",
    "    * Reviews with 5-stars (n = 1090) are the most common and they out number all other star-ratings combined.\n",
    "* The longest reviews are associated with the 2-star and 3-star ratings categories.\n",
    "* Sample sizes for 1-star vs. 5-star categories are disparate, but word counts and longest word length are comparable."
   ]
  },
  {
   "cell_type": "markdown",
   "metadata": {},
   "source": [
    "### 3) Data visualizations\n",
    "- Frequency histogram of star ratings (histogram)\n",
    "- Compare review features 1 star vs 5 star \n",
    "- Number of words vs number of stars (scatterplot)\n",
    "- Follow one frequently reviewed book over time: how do star ratings change over time? (a potential peer effect; time-series plot)."
   ]
  },
  {
   "cell_type": "code",
   "execution_count": 127,
   "metadata": {},
   "outputs": [],
   "source": [
    "# convert 'overall' from float64 to int64\n",
    "rev_texts['overall'] = rev_texts['overall'].astype(np.int64)"
   ]
  },
  {
   "cell_type": "code",
   "execution_count": 125,
   "metadata": {},
   "outputs": [
    {
     "data": {
      "image/png": "[encoded data removed]",
      "text/plain": [
       "<matplotlib.figure.Figure at 0x1a223f2e10>"
      ]
     },
     "metadata": {},
     "output_type": "display_data"
    }
   ],
   "source": [
    "# frequency histogram of star ratings\n",
    "sns.distplot(rev_texts.overall, bins=5, kde=False);\n",
    "plt.title('Histogram of star ratings');\n",
    "plt.xlabel('star rating');\n",
    "plt.ylabel('number of reviews');"
   ]
  },
  {
   "cell_type": "code",
   "execution_count": 145,
   "metadata": {},
   "outputs": [
    {
     "data": {
      "image/png": "[encoded data removed]",
      "text/plain": [
       "<matplotlib.figure.Figure at 0x1a2439f5c0>"
      ]
     },
     "metadata": {},
     "output_type": "display_data"
    }
   ],
   "source": [
    "# compare review text features for 1-star vs 5-star reviews \n",
    "rev_texts.groupby('overall').char_length.hist(alpha=0.6);\n",
    "plt.title('Histogram of character length grouped by star ratings');\n",
    "plt.xlabel('character length');\n",
    "plt.ylabel('number of reviews');"
   ]
  },
  {
   "cell_type": "code",
   "execution_count": 146,
   "metadata": {},
   "outputs": [
    {
     "data": {
      "image/png": "[encoded data removed]",
      "text/plain": [
       "<matplotlib.figure.Figure at 0x1a20972d30>"
      ]
     },
     "metadata": {},
     "output_type": "display_data"
    }
   ],
   "source": [
    "# compare review text features for 1-star vs 5-star reviews\n",
    "one_five.groupby('overall').char_length.hist(alpha=0.6);\n",
    "plt.title('Histogram of character length for 1- and 5-star ratings');\n",
    "plt.xlabel('character length');\n",
    "plt.ylabel('number of reviews');"
   ]
  },
  {
   "cell_type": "code",
   "execution_count": 129,
   "metadata": {},
   "outputs": [
    {
     "data": {
      "image/png": "[encoded data removed]",
      "text/plain": [
       "<matplotlib.figure.Figure at 0x1a2444f3c8>"
      ]
     },
     "metadata": {},
     "output_type": "display_data"
    }
   ],
   "source": [
    "# most reviews have 200 words or less. Since we have so many 5-star reviews more of them are 'outliers'\n",
    "# swarmplot of review length and 1 vs 5 stars\n",
    "sns.swarmplot(x='overall', y= 'word_count', data=one_five);"
   ]
  },
  {
   "cell_type": "code",
   "execution_count": 148,
   "metadata": {},
   "outputs": [
    {
     "data": {
      "image/png": "[encoded data removed]",
      "text/plain": [
       "<matplotlib.figure.Figure at 0x1a22425f98>"
      ]
     },
     "metadata": {},
     "output_type": "display_data"
    }
   ],
   "source": [
    "# how closely related are the number of characters per review and the length of the longest word?\n",
    "# with seaborn plot scatter plot of review character count against longest word length colored by 'overall'\n",
    "sns.lmplot(x='char_length', y='longest', hue='overall', palette='Set2', data=rev_texts, fit_reg=False, scatter_kws={'alpha':0.5});\n",
    "plt.ylim(0,60); # limit y-axis to hide the very-long-word ouliers that I will deal with later"
   ]
  },
  {
   "cell_type": "code",
   "execution_count": 149,
   "metadata": {},
   "outputs": [
    {
     "data": {
      "image/png": "[encoded data removed]",
      "text/plain": [
       "<matplotlib.figure.Figure at 0x1a24408438>"
      ]
     },
     "metadata": {},
     "output_type": "display_data"
    }
   ],
   "source": [
    "# word count and number of characters will certainly be closely related, but let's look\n",
    "# with seaborn plot scatter plot of review character count against longest word length colored by 'overall'\n",
    "sns.lmplot(x='char_length', y='word_count', hue='overall', palette='Set2', data=rev_texts, fit_reg=False, x_jitter=200, scatter_kws={'alpha':0.5});\n",
    "#plt.ylim(0,60); # limit y-axis to hide the very-long-word ouliers that I will deal with later"
   ]
  },
  {
   "cell_type": "markdown",
   "metadata": {},
   "source": [
    "### 4) Conclusions\n",
    "- __Sythesis__: Characterizing Amazon book reviews of Biology Textbooks (and associated non-fiction titles) quantitatively indicates that many more reviewers assign 5-stars to a book than any other rating. Both negatively (1 to 2 stars) and positively (4 to 5-stars) rated books get reviews ranging from one word to up to 1000 words. A quick-and-dirty estimate of the length of the longest word per review does not reveal any outstanding pattern relating to ratings or word count, but the metric does need refining as the outliers are probably just words strung together without spaces. My data includes many books that only have one or few reviews and one book reviewed by 382 reviewers.\n",
    "- __Conclusions__: This sub-sampled set of reviews in a specific genre match general trends from the large source-database. The original database of 22,507,155 book reviews is 62% 5-star reviews. The Biology Textbook reviews consist of 65% 5-star reviews. The paucity of low rated books may mean that I need a larger subsample to be able to make predictions about ratings based on review text.\n",
    "- __Future directions__: Besides growing my Biology Textbook review sample size I expect that gaining insights from the content, not just quantitative metrics, will give me more insight into the nature of low and highly-rated books. I will use more refined methods to count words, assess word lengths, and build additional features to contribute to the characterization of reviews. Another interesting feature of the Amazon review format is that reviewers include a short 'summary' of their review, separate from the text of the review. Can this short summary predict ratings as well as long reviews? Can the sentiment of the summary encapsulate the feelings of the reviewer towards the book?\n",
    "***"
   ]
  }
 ],
 "metadata": {
  "kernelspec": {
   "display_name": "Python 3",
   "language": "python",
   "name": "python3"
  },
  "language_info": {
   "codemirror_mode": {
    "name": "ipython",
    "version": 3
   },
   "file_extension": ".py",
   "mimetype": "text/x-python",
   "name": "python",
   "nbconvert_exporter": "python",
   "pygments_lexer": "ipython3",
   "version": "3.6.1"
  }
 },
 "nbformat": 4,
 "nbformat_minor": 2
}
