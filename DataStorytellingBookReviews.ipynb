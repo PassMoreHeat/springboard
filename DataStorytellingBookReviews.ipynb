{
 "cells": [
  {
   "cell_type": "markdown",
   "metadata": {},
   "source": [
    "## Data Story Telling: Book Ratings Predictor\n",
    "### Springboard Data Science Career Track, Capstone 1\n",
    "***\n",
    "- Author: H. Passmore\n",
    "- Data: Amazon.com Book Reviews, access granted by Julian McAuley\n",
    "- Capstone Description: [Project Proposal](https://github.com/PassMoreHeat/Capstone_Project_1/blob/master/ProjectProposal.md)\n",
    "- Initial Data Approach: [Data Wrangling](https://github.com/PassMoreHeat/Capstone_Project_1/blob/master/DataWranglingReport.md)\n",
    "***\n",
    "## Data Story Table of Contents\n",
    "1. Book review data questions\n",
    "2. Review data trends\n",
    "3. Data visualizations\n",
    "4. Conclusions"
   ]
  },
  {
   "cell_type": "code",
   "execution_count": 1,
   "metadata": {
    "collapsed": true
   },
   "outputs": [],
   "source": [
    "# import modules\n",
    "import pandas as pd\n",
    "import numpy as np\n",
    "import matplotlib.pyplot as plt\n",
    "import seaborn as sns\n",
    "from sklearn import tree\n",
    "from sklearn.metrics import accuracy_score\n",
    "\n",
    "# Figures inline, visualization style\n",
    "%matplotlib inline\n",
    "sns.set()"
   ]
  },
  {
   "cell_type": "code",
   "execution_count": 2,
   "metadata": {
    "collapsed": true
   },
   "outputs": [],
   "source": [
    "# import genre reviews\n",
    "# load the pickled ISBN_10 DataFrame of Science Textbooks & nonfiction from hard drive in 'rb' mode\n",
    "import pickle\n",
    "with open('allscience_revs.pickle','rb') as f:\n",
    "    rev_texts = pickle.load(f) "
   ]
  },
  {
   "cell_type": "code",
   "execution_count": 3,
   "metadata": {},
   "outputs": [
    {
     "name": "stdout",
     "output_type": "stream",
     "text": [
      "<class 'pandas.core.frame.DataFrame'>\n",
      "RangeIndex: 11546 entries, 0 to 11545\n",
      "Data columns (total 10 columns):\n",
      "_id               11546 non-null object\n",
      "asin              11546 non-null object\n",
      "helpful           11546 non-null object\n",
      "overall           11546 non-null float64\n",
      "reviewText        11546 non-null object\n",
      "reviewTime        11546 non-null object\n",
      "reviewerID        11546 non-null object\n",
      "reviewerName      11503 non-null object\n",
      "summary           11546 non-null object\n",
      "unixReviewTime    11546 non-null int64\n",
      "dtypes: float64(1), int64(1), object(8)\n",
      "memory usage: 902.1+ KB\n"
     ]
    }
   ],
   "source": [
    "# check the reviews DataFrame info\n",
    "rev_texts.info()"
   ]
  },
  {
   "cell_type": "code",
   "execution_count": 4,
   "metadata": {},
   "outputs": [
    {
     "data": {
      "text/html": [
       "<div>\n",
       "<style>\n",
       "    .dataframe thead tr:only-child th {\n",
       "        text-align: right;\n",
       "    }\n",
       "\n",
       "    .dataframe thead th {\n",
       "        text-align: left;\n",
       "    }\n",
       "\n",
       "    .dataframe tbody tr th {\n",
       "        vertical-align: top;\n",
       "    }\n",
       "</style>\n",
       "<table border=\"1\" class=\"dataframe\">\n",
       "  <thead>\n",
       "    <tr style=\"text-align: right;\">\n",
       "      <th></th>\n",
       "      <th>_id</th>\n",
       "      <th>asin</th>\n",
       "      <th>helpful</th>\n",
       "      <th>overall</th>\n",
       "      <th>reviewText</th>\n",
       "      <th>reviewTime</th>\n",
       "      <th>reviewerID</th>\n",
       "      <th>reviewerName</th>\n",
       "      <th>summary</th>\n",
       "      <th>unixReviewTime</th>\n",
       "    </tr>\n",
       "  </thead>\n",
       "  <tbody>\n",
       "    <tr>\n",
       "      <th>0</th>\n",
       "      <td>5a1f057530ec5f57e705fb9f</td>\n",
       "      <td>0006531644</td>\n",
       "      <td>[0, 1]</td>\n",
       "      <td>4.0</td>\n",
       "      <td>This is a good book for the science nerd and t...</td>\n",
       "      <td>07 9, 2012</td>\n",
       "      <td>A2T1HLL9IPHEP1</td>\n",
       "      <td>plc86</td>\n",
       "      <td>A Great Read</td>\n",
       "      <td>1341792000</td>\n",
       "    </tr>\n",
       "    <tr>\n",
       "      <th>1</th>\n",
       "      <td>5a1f057530ec5f57e705fba0</td>\n",
       "      <td>0006531644</td>\n",
       "      <td>[0, 0]</td>\n",
       "      <td>5.0</td>\n",
       "      <td>If you're a biology/genetics enthusiast, this ...</td>\n",
       "      <td>05 1, 2013</td>\n",
       "      <td>A1GP2V4NYRK36P</td>\n",
       "      <td>savvy reviewer</td>\n",
       "      <td>Very interesting reading</td>\n",
       "      <td>1367366400</td>\n",
       "    </tr>\n",
       "    <tr>\n",
       "      <th>2</th>\n",
       "      <td>5a1f057530ec5f57e7060b85</td>\n",
       "      <td>0007116837</td>\n",
       "      <td>[1, 1]</td>\n",
       "      <td>4.0</td>\n",
       "      <td>I bought this for my daughter who borrowed all...</td>\n",
       "      <td>04 5, 2008</td>\n",
       "      <td>A3KTFMHASRH0VE</td>\n",
       "      <td>Randal L. Zelhart \"Lee Zelhart\"</td>\n",
       "      <td>Another McCourt</td>\n",
       "      <td>1207353600</td>\n",
       "    </tr>\n",
       "    <tr>\n",
       "      <th>3</th>\n",
       "      <td>5a1f057530ec5f57e7060b86</td>\n",
       "      <td>0007116837</td>\n",
       "      <td>[1, 1]</td>\n",
       "      <td>4.0</td>\n",
       "      <td>This book was recommended by a tour guide in I...</td>\n",
       "      <td>10 3, 2009</td>\n",
       "      <td>A36QKTOEIXPNTH</td>\n",
       "      <td>T. Lockhart \"Navigator lady\"</td>\n",
       "      <td>A Monk Swimming</td>\n",
       "      <td>1254528000</td>\n",
       "    </tr>\n",
       "  </tbody>\n",
       "</table>\n",
       "</div>"
      ],
      "text/plain": [
       "                        _id        asin helpful  overall  \\\n",
       "0  5a1f057530ec5f57e705fb9f  0006531644  [0, 1]      4.0   \n",
       "1  5a1f057530ec5f57e705fba0  0006531644  [0, 0]      5.0   \n",
       "2  5a1f057530ec5f57e7060b85  0007116837  [1, 1]      4.0   \n",
       "3  5a1f057530ec5f57e7060b86  0007116837  [1, 1]      4.0   \n",
       "\n",
       "                                          reviewText  reviewTime  \\\n",
       "0  This is a good book for the science nerd and t...  07 9, 2012   \n",
       "1  If you're a biology/genetics enthusiast, this ...  05 1, 2013   \n",
       "2  I bought this for my daughter who borrowed all...  04 5, 2008   \n",
       "3  This book was recommended by a tour guide in I...  10 3, 2009   \n",
       "\n",
       "       reviewerID                     reviewerName                   summary  \\\n",
       "0  A2T1HLL9IPHEP1                            plc86              A Great Read   \n",
       "1  A1GP2V4NYRK36P                   savvy reviewer  Very interesting reading   \n",
       "2  A3KTFMHASRH0VE  Randal L. Zelhart \"Lee Zelhart\"           Another McCourt   \n",
       "3  A36QKTOEIXPNTH     T. Lockhart \"Navigator lady\"           A Monk Swimming   \n",
       "\n",
       "   unixReviewTime  \n",
       "0      1341792000  \n",
       "1      1367366400  \n",
       "2      1207353600  \n",
       "3      1254528000  "
      ]
     },
     "execution_count": 4,
     "metadata": {},
     "output_type": "execute_result"
    }
   ],
   "source": [
    "# check-out the DataFrame\n",
    "rev_texts.head(4)"
   ]
  },
  {
   "cell_type": "markdown",
   "metadata": {},
   "source": [
    "#### Section Summary: The DataFrame of reviews includes 10 columns and 11546 reviews ('reviewText') and ratings ('overall')."
   ]
  },
  {
   "cell_type": "markdown",
   "metadata": {},
   "source": [
    "### 1) Book Review Data Questions\n",
    "- Count reviews per book\n",
    "- Count characters per review\n",
    "- Count words per review\n",
    "- Words and characters per star rating\n",
    "- Longest word length, average word length..."
   ]
  },
  {
   "cell_type": "code",
   "execution_count": 5,
   "metadata": {},
   "outputs": [
    {
     "data": {
      "text/plain": [
       "count    11546.000000\n",
       "mean         4.363243\n",
       "std          1.103032\n",
       "min          1.000000\n",
       "25%          4.000000\n",
       "50%          5.000000\n",
       "75%          5.000000\n",
       "max          5.000000\n",
       "Name: overall, dtype: float64"
      ]
     },
     "execution_count": 5,
     "metadata": {},
     "output_type": "execute_result"
    }
   ],
   "source": [
    "# use DataFrame method .describe() to view summary stats of 'overall' rating field\n",
    "rev_texts['overall'].describe()"
   ]
  },
  {
   "cell_type": "code",
   "execution_count": 6,
   "metadata": {},
   "outputs": [
    {
     "name": "stdout",
     "output_type": "stream",
     "text": [
      "0312347294    382\n",
      "1594865671    340\n",
      "0544114515    320\n",
      "0553294385    314\n",
      "0393045250    310\n",
      "0316113506    298\n",
      "0521010683    294\n",
      "0393066800    265\n",
      "160358286X    211\n",
      "031242759X    201\n",
      "0345466632    198\n",
      "1426310145    188\n",
      "0140296476    183\n",
      "0192860925    168\n",
      "0812992806    140\n",
      "059600768X    136\n",
      "0309085497    135\n",
      "157912366X    130\n",
      "0985690437    124\n",
      "1401923860    118\n",
      "0395248302    118\n",
      "1582970912    109\n",
      "1426310226    108\n",
      "1400051576     99\n",
      "071677108X     97\n",
      "1426307683     96\n",
      "1599635933     88\n",
      "0307742954     87\n",
      "0679891153     84\n",
      "0142001163     82\n",
      "             ... \n",
      "0545330289      1\n",
      "087226601X      1\n",
      "0060292652      1\n",
      "0823414949      1\n",
      "1432924885      1\n",
      "0766011747      1\n",
      "0030647991      1\n",
      "0199152659      1\n",
      "0787291811      1\n",
      "1563347369      1\n",
      "0756516129      1\n",
      "1567113257      1\n",
      "052140956X      1\n",
      "0807131237      1\n",
      "1408509202      1\n",
      "1404203222      1\n",
      "1591021855      1\n",
      "0531113647      1\n",
      "1404853022      1\n",
      "1426304641      1\n",
      "1429640146      1\n",
      "1416985964      1\n",
      "0792255828      1\n",
      "142068020X      1\n",
      "0448449242      1\n",
      "0131903624      1\n",
      "1404205004      1\n",
      "0531147649      1\n",
      "0521176913      1\n",
      "0195120299      1\n",
      "Name: asin, Length: 729, dtype: int64\n"
     ]
    }
   ],
   "source": [
    "# count number of books in Science Textbook review dataframe \n",
    "counts = rev_texts['asin'].value_counts()\n",
    "#print('The data include reviews for', len(counts), 'books.')\n",
    "print(counts)"
   ]
  },
  {
   "cell_type": "code",
   "execution_count": 7,
   "metadata": {},
   "outputs": [
    {
     "name": "stdout",
     "output_type": "stream",
     "text": [
      "Minimum reviews per book  1\n",
      "Maximum reviews per book  382\n",
      "Mean number of reviews per book  15.838134430727024\n"
     ]
    }
   ],
   "source": [
    "# average, minimum and maximum number of reviews per book\n",
    "print('Minimum reviews per book ', (np.min(counts)))\n",
    "print('Maximum reviews per book ', (np.max(counts)))\n",
    "print('Mean number of reviews per book ', (np.mean(counts)))"
   ]
  },
  {
   "cell_type": "code",
   "execution_count": 8,
   "metadata": {},
   "outputs": [
    {
     "name": "stdout",
     "output_type": "stream",
     "text": [
      "Number of book reviews: 11546\n",
      "Number of unique reviewers: 10917\n",
      "Number of books:  729\n"
     ]
    }
   ],
   "source": [
    "# count of reviews, books and reviewers\n",
    "n_reviews = len(rev_texts)\n",
    "n_books = rev_texts.asin.unique().size\n",
    "n_reviewers = rev_texts.reviewerID.unique().size\n",
    "\n",
    "print(\"Number of book reviews: {:d}\".format(n_reviews))\n",
    "print(\"Number of unique reviewers: {:d}\".format(n_reviewers))\n",
    "print(\"Number of books:  {:d}\".format(n_books))"
   ]
  },
  {
   "cell_type": "code",
   "execution_count": 9,
   "metadata": {},
   "outputs": [
    {
     "data": {
      "text/html": [
       "<div>\n",
       "<style>\n",
       "    .dataframe thead tr:only-child th {\n",
       "        text-align: right;\n",
       "    }\n",
       "\n",
       "    .dataframe thead th {\n",
       "        text-align: left;\n",
       "    }\n",
       "\n",
       "    .dataframe tbody tr th {\n",
       "        vertical-align: top;\n",
       "    }\n",
       "</style>\n",
       "<table border=\"1\" class=\"dataframe\">\n",
       "  <thead>\n",
       "    <tr style=\"text-align: right;\">\n",
       "      <th></th>\n",
       "      <th>_id</th>\n",
       "      <th>asin</th>\n",
       "      <th>helpful</th>\n",
       "      <th>overall</th>\n",
       "      <th>reviewText</th>\n",
       "      <th>reviewTime</th>\n",
       "      <th>reviewerID</th>\n",
       "      <th>reviewerName</th>\n",
       "      <th>summary</th>\n",
       "      <th>unixReviewTime</th>\n",
       "    </tr>\n",
       "  </thead>\n",
       "  <tbody>\n",
       "    <tr>\n",
       "      <th>0</th>\n",
       "      <td>5a1f057530ec5f57e705fb9f</td>\n",
       "      <td>0006531644</td>\n",
       "      <td>[0, 1]</td>\n",
       "      <td>4.0</td>\n",
       "      <td>This is a good book for the science nerd and t...</td>\n",
       "      <td>07 9, 2012</td>\n",
       "      <td>A2T1HLL9IPHEP1</td>\n",
       "      <td>plc86</td>\n",
       "      <td>A Great Read</td>\n",
       "      <td>1341792000</td>\n",
       "    </tr>\n",
       "    <tr>\n",
       "      <th>1</th>\n",
       "      <td>5a1f057530ec5f57e705fba0</td>\n",
       "      <td>0006531644</td>\n",
       "      <td>[0, 0]</td>\n",
       "      <td>5.0</td>\n",
       "      <td>If you're a biology/genetics enthusiast, this ...</td>\n",
       "      <td>05 1, 2013</td>\n",
       "      <td>A1GP2V4NYRK36P</td>\n",
       "      <td>savvy reviewer</td>\n",
       "      <td>Very interesting reading</td>\n",
       "      <td>1367366400</td>\n",
       "    </tr>\n",
       "    <tr>\n",
       "      <th>2</th>\n",
       "      <td>5a1f057530ec5f57e7060b85</td>\n",
       "      <td>0007116837</td>\n",
       "      <td>[1, 1]</td>\n",
       "      <td>4.0</td>\n",
       "      <td>I bought this for my daughter who borrowed all...</td>\n",
       "      <td>04 5, 2008</td>\n",
       "      <td>A3KTFMHASRH0VE</td>\n",
       "      <td>Randal L. Zelhart \"Lee Zelhart\"</td>\n",
       "      <td>Another McCourt</td>\n",
       "      <td>1207353600</td>\n",
       "    </tr>\n",
       "    <tr>\n",
       "      <th>3</th>\n",
       "      <td>5a1f057530ec5f57e7060b86</td>\n",
       "      <td>0007116837</td>\n",
       "      <td>[1, 1]</td>\n",
       "      <td>4.0</td>\n",
       "      <td>This book was recommended by a tour guide in I...</td>\n",
       "      <td>10 3, 2009</td>\n",
       "      <td>A36QKTOEIXPNTH</td>\n",
       "      <td>T. Lockhart \"Navigator lady\"</td>\n",
       "      <td>A Monk Swimming</td>\n",
       "      <td>1254528000</td>\n",
       "    </tr>\n",
       "    <tr>\n",
       "      <th>4</th>\n",
       "      <td>5a1f058730ec5f57e7078448</td>\n",
       "      <td>0028255267</td>\n",
       "      <td>[3, 3]</td>\n",
       "      <td>5.0</td>\n",
       "      <td>Our school recently upgraded to this chemistry...</td>\n",
       "      <td>09 3, 2000</td>\n",
       "      <td>AJ8F4IJXY6OT9</td>\n",
       "      <td>A Customer</td>\n",
       "      <td>very thorough chem book...</td>\n",
       "      <td>967939200</td>\n",
       "    </tr>\n",
       "  </tbody>\n",
       "</table>\n",
       "</div>"
      ],
      "text/plain": [
       "                        _id        asin helpful  overall  \\\n",
       "0  5a1f057530ec5f57e705fb9f  0006531644  [0, 1]      4.0   \n",
       "1  5a1f057530ec5f57e705fba0  0006531644  [0, 0]      5.0   \n",
       "2  5a1f057530ec5f57e7060b85  0007116837  [1, 1]      4.0   \n",
       "3  5a1f057530ec5f57e7060b86  0007116837  [1, 1]      4.0   \n",
       "4  5a1f058730ec5f57e7078448  0028255267  [3, 3]      5.0   \n",
       "\n",
       "                                          reviewText  reviewTime  \\\n",
       "0  This is a good book for the science nerd and t...  07 9, 2012   \n",
       "1  If you're a biology/genetics enthusiast, this ...  05 1, 2013   \n",
       "2  I bought this for my daughter who borrowed all...  04 5, 2008   \n",
       "3  This book was recommended by a tour guide in I...  10 3, 2009   \n",
       "4  Our school recently upgraded to this chemistry...  09 3, 2000   \n",
       "\n",
       "       reviewerID                     reviewerName  \\\n",
       "0  A2T1HLL9IPHEP1                            plc86   \n",
       "1  A1GP2V4NYRK36P                   savvy reviewer   \n",
       "2  A3KTFMHASRH0VE  Randal L. Zelhart \"Lee Zelhart\"   \n",
       "3  A36QKTOEIXPNTH     T. Lockhart \"Navigator lady\"   \n",
       "4   AJ8F4IJXY6OT9                       A Customer   \n",
       "\n",
       "                      summary  unixReviewTime  \n",
       "0                A Great Read      1341792000  \n",
       "1    Very interesting reading      1367366400  \n",
       "2             Another McCourt      1207353600  \n",
       "3             A Monk Swimming      1254528000  \n",
       "4  very thorough chem book...       967939200  "
      ]
     },
     "execution_count": 9,
     "metadata": {},
     "output_type": "execute_result"
    }
   ],
   "source": [
    "# remove punctuation\n",
    "import string\n",
    "# create function using string.punctuation to remove all punctuation\n",
    "def remove_punctuation(sentence: str) -> str:\n",
    "    return sentence.translate(str.maketrans('', '', string.punctuation))\n",
    "\n",
    "# apply function\n",
    "[remove_punctuation(sentence) for sentence in rev_texts.reviewText]\n",
    "rev_texts.head()"
   ]
  },
  {
   "cell_type": "code",
   "execution_count": 10,
   "metadata": {
    "collapsed": true
   },
   "outputs": [],
   "source": [
    "# replace empty reviews with 'NaN'\n",
    "rev_texts.reviewText.replace('', np.nan, inplace=True)"
   ]
  },
  {
   "cell_type": "code",
   "execution_count": 11,
   "metadata": {},
   "outputs": [
    {
     "name": "stdout",
     "output_type": "stream",
     "text": [
      "<class 'pandas.core.frame.DataFrame'>\n",
      "RangeIndex: 11546 entries, 0 to 11545\n",
      "Data columns (total 10 columns):\n",
      "_id               11546 non-null object\n",
      "asin              11546 non-null object\n",
      "helpful           11546 non-null object\n",
      "overall           11546 non-null float64\n",
      "reviewText        11546 non-null object\n",
      "reviewTime        11546 non-null object\n",
      "reviewerID        11546 non-null object\n",
      "reviewerName      11503 non-null object\n",
      "summary           11546 non-null object\n",
      "unixReviewTime    11546 non-null int64\n",
      "dtypes: float64(1), int64(1), object(8)\n",
      "memory usage: 902.1+ KB\n"
     ]
    }
   ],
   "source": [
    "# where reviewText is NaN fill with 'summary'\n",
    "rev_texts.reviewText = rev_texts.reviewText.fillna(value=rev_texts.summary)\n",
    "rev_texts.info()"
   ]
  },
  {
   "cell_type": "code",
   "execution_count": 12,
   "metadata": {
    "collapsed": true
   },
   "outputs": [],
   "source": [
    "# estimate word counts per review into a new column\n",
    "rev_texts['words'] = rev_texts['reviewText'].str.split()\n",
    "rev_texts['word_count'] = rev_texts.words.str.len()"
   ]
  },
  {
   "cell_type": "code",
   "execution_count": 13,
   "metadata": {},
   "outputs": [],
   "source": [
    "# calculate longest word length \n",
    "rev_texts['long_word'] = rev_texts['reviewText'].apply(lambda x: max(x.split(), key=len))\n",
    "rev_texts['longest'] = rev_texts['long_word'].str.len()"
   ]
  },
  {
   "cell_type": "code",
   "execution_count": 14,
   "metadata": {},
   "outputs": [
    {
     "data": {
      "text/html": [
       "<div>\n",
       "<style>\n",
       "    .dataframe thead tr:only-child th {\n",
       "        text-align: right;\n",
       "    }\n",
       "\n",
       "    .dataframe thead th {\n",
       "        text-align: left;\n",
       "    }\n",
       "\n",
       "    .dataframe tbody tr th {\n",
       "        vertical-align: top;\n",
       "    }\n",
       "</style>\n",
       "<table border=\"1\" class=\"dataframe\">\n",
       "  <thead>\n",
       "    <tr style=\"text-align: right;\">\n",
       "      <th></th>\n",
       "      <th>overall</th>\n",
       "      <th>char_length</th>\n",
       "      <th>word_count</th>\n",
       "      <th>longest</th>\n",
       "    </tr>\n",
       "  </thead>\n",
       "  <tbody>\n",
       "    <tr>\n",
       "      <th>count</th>\n",
       "      <td>11546.000000</td>\n",
       "      <td>11546.000000</td>\n",
       "      <td>11546.000000</td>\n",
       "      <td>11546.000000</td>\n",
       "    </tr>\n",
       "    <tr>\n",
       "      <th>mean</th>\n",
       "      <td>4.363243</td>\n",
       "      <td>754.486835</td>\n",
       "      <td>128.674000</td>\n",
       "      <td>13.838212</td>\n",
       "    </tr>\n",
       "    <tr>\n",
       "      <th>std</th>\n",
       "      <td>1.103032</td>\n",
       "      <td>1147.573084</td>\n",
       "      <td>190.622656</td>\n",
       "      <td>5.600855</td>\n",
       "    </tr>\n",
       "    <tr>\n",
       "      <th>min</th>\n",
       "      <td>1.000000</td>\n",
       "      <td>4.000000</td>\n",
       "      <td>1.000000</td>\n",
       "      <td>3.000000</td>\n",
       "    </tr>\n",
       "    <tr>\n",
       "      <th>25%</th>\n",
       "      <td>4.000000</td>\n",
       "      <td>178.000000</td>\n",
       "      <td>32.000000</td>\n",
       "      <td>11.000000</td>\n",
       "    </tr>\n",
       "    <tr>\n",
       "      <th>50%</th>\n",
       "      <td>5.000000</td>\n",
       "      <td>376.000000</td>\n",
       "      <td>66.000000</td>\n",
       "      <td>13.000000</td>\n",
       "    </tr>\n",
       "    <tr>\n",
       "      <th>75%</th>\n",
       "      <td>5.000000</td>\n",
       "      <td>856.000000</td>\n",
       "      <td>147.750000</td>\n",
       "      <td>15.000000</td>\n",
       "    </tr>\n",
       "    <tr>\n",
       "      <th>max</th>\n",
       "      <td>5.000000</td>\n",
       "      <td>31880.000000</td>\n",
       "      <td>5364.000000</td>\n",
       "      <td>253.000000</td>\n",
       "    </tr>\n",
       "  </tbody>\n",
       "</table>\n",
       "</div>"
      ],
      "text/plain": [
       "            overall   char_length    word_count       longest\n",
       "count  11546.000000  11546.000000  11546.000000  11546.000000\n",
       "mean       4.363243    754.486835    128.674000     13.838212\n",
       "std        1.103032   1147.573084    190.622656      5.600855\n",
       "min        1.000000      4.000000      1.000000      3.000000\n",
       "25%        4.000000    178.000000     32.000000     11.000000\n",
       "50%        5.000000    376.000000     66.000000     13.000000\n",
       "75%        5.000000    856.000000    147.750000     15.000000\n",
       "max        5.000000  31880.000000   5364.000000    253.000000"
      ]
     },
     "execution_count": 14,
     "metadata": {},
     "output_type": "execute_result"
    }
   ],
   "source": [
    "# use .describe() to find average, minimum and maximum number of stars, characters, words and longest word per review\n",
    "rev_texts['char_length'] = rev_texts['reviewText'].str.len()\n",
    "rev_texts[['overall','char_length','word_count','longest']].describe()"
   ]
  },
  {
   "cell_type": "markdown",
   "metadata": {},
   "source": [
    "#### Section Summary: \n",
    "* This Science Textbook genre subset of reviews includes reviews for 729 different books.\n",
    "* The number of reviews per book ranges from 1 to 382 with an average of 16 per book.\n",
    "* Average reviews are 754 characters or 128 words long.\n",
    "* Reviewers awarded 4 stars on average.\n",
    "* The longest review in this genre subset is 5,364 words long.\n",
    "* The __longest word__ per review was 14 characters on average. Longest word calculation does not account for punctuation and needs cleaning up (e.g., maximum length word is 253 characters - probably a string of words)."
   ]
  },
  {
   "cell_type": "markdown",
   "metadata": {},
   "source": [
    "### 2) Review Data Trends\n",
    "- Trends with number of stars\n",
    "- Words per review and high or low ratings\n",
    "- Longest word length and high or low ratings\n",
    "- Average word length\n"
   ]
  },
  {
   "cell_type": "code",
   "execution_count": 15,
   "metadata": {},
   "outputs": [
    {
     "data": {
      "text/html": [
       "<div>\n",
       "<style>\n",
       "    .dataframe thead tr:only-child th {\n",
       "        text-align: right;\n",
       "    }\n",
       "\n",
       "    .dataframe thead th {\n",
       "        text-align: left;\n",
       "    }\n",
       "\n",
       "    .dataframe tbody tr th {\n",
       "        vertical-align: top;\n",
       "    }\n",
       "</style>\n",
       "<table border=\"1\" class=\"dataframe\">\n",
       "  <thead>\n",
       "    <tr style=\"text-align: right;\">\n",
       "      <th></th>\n",
       "      <th>count</th>\n",
       "      <th>mean</th>\n",
       "      <th>std</th>\n",
       "      <th>min</th>\n",
       "      <th>25%</th>\n",
       "      <th>50%</th>\n",
       "      <th>75%</th>\n",
       "      <th>max</th>\n",
       "    </tr>\n",
       "    <tr>\n",
       "      <th>overall</th>\n",
       "      <th></th>\n",
       "      <th></th>\n",
       "      <th></th>\n",
       "      <th></th>\n",
       "      <th></th>\n",
       "      <th></th>\n",
       "      <th></th>\n",
       "      <th></th>\n",
       "    </tr>\n",
       "  </thead>\n",
       "  <tbody>\n",
       "    <tr>\n",
       "      <th>1.0</th>\n",
       "      <td>605.0</td>\n",
       "      <td>1140.575207</td>\n",
       "      <td>1840.924318</td>\n",
       "      <td>11.0</td>\n",
       "      <td>279.0</td>\n",
       "      <td>620.0</td>\n",
       "      <td>1319.0</td>\n",
       "      <td>23386.0</td>\n",
       "    </tr>\n",
       "    <tr>\n",
       "      <th>2.0</th>\n",
       "      <td>405.0</td>\n",
       "      <td>1088.353086</td>\n",
       "      <td>1549.808208</td>\n",
       "      <td>38.0</td>\n",
       "      <td>267.0</td>\n",
       "      <td>595.0</td>\n",
       "      <td>1319.0</td>\n",
       "      <td>16584.0</td>\n",
       "    </tr>\n",
       "    <tr>\n",
       "      <th>3.0</th>\n",
       "      <td>843.0</td>\n",
       "      <td>942.986951</td>\n",
       "      <td>1261.709855</td>\n",
       "      <td>20.0</td>\n",
       "      <td>212.0</td>\n",
       "      <td>503.0</td>\n",
       "      <td>1090.0</td>\n",
       "      <td>13419.0</td>\n",
       "    </tr>\n",
       "    <tr>\n",
       "      <th>4.0</th>\n",
       "      <td>2031.0</td>\n",
       "      <td>861.895126</td>\n",
       "      <td>1115.168766</td>\n",
       "      <td>4.0</td>\n",
       "      <td>186.0</td>\n",
       "      <td>442.0</td>\n",
       "      <td>1111.0</td>\n",
       "      <td>12254.0</td>\n",
       "    </tr>\n",
       "    <tr>\n",
       "      <th>5.0</th>\n",
       "      <td>7662.0</td>\n",
       "      <td>657.142652</td>\n",
       "      <td>1025.732303</td>\n",
       "      <td>5.0</td>\n",
       "      <td>168.0</td>\n",
       "      <td>330.0</td>\n",
       "      <td>732.0</td>\n",
       "      <td>31880.0</td>\n",
       "    </tr>\n",
       "  </tbody>\n",
       "</table>\n",
       "</div>"
      ],
      "text/plain": [
       "          count         mean          std   min    25%    50%     75%      max\n",
       "overall                                                                       \n",
       "1.0       605.0  1140.575207  1840.924318  11.0  279.0  620.0  1319.0  23386.0\n",
       "2.0       405.0  1088.353086  1549.808208  38.0  267.0  595.0  1319.0  16584.0\n",
       "3.0       843.0   942.986951  1261.709855  20.0  212.0  503.0  1090.0  13419.0\n",
       "4.0      2031.0   861.895126  1115.168766   4.0  186.0  442.0  1111.0  12254.0\n",
       "5.0      7662.0   657.142652  1025.732303   5.0  168.0  330.0   732.0  31880.0"
      ]
     },
     "execution_count": 15,
     "metadata": {},
     "output_type": "execute_result"
    }
   ],
   "source": [
    "# use DataFrame method .describe() to view summary stats of character count as a function of 'overall' rating\n",
    "rev_texts.groupby('overall').char_length.describe()"
   ]
  },
  {
   "cell_type": "code",
   "execution_count": 16,
   "metadata": {},
   "outputs": [
    {
     "data": {
      "text/html": [
       "<div>\n",
       "<style>\n",
       "    .dataframe thead tr:only-child th {\n",
       "        text-align: right;\n",
       "    }\n",
       "\n",
       "    .dataframe thead th {\n",
       "        text-align: left;\n",
       "    }\n",
       "\n",
       "    .dataframe tbody tr th {\n",
       "        vertical-align: top;\n",
       "    }\n",
       "</style>\n",
       "<table border=\"1\" class=\"dataframe\">\n",
       "  <thead>\n",
       "    <tr style=\"text-align: right;\">\n",
       "      <th></th>\n",
       "      <th>count</th>\n",
       "      <th>mean</th>\n",
       "      <th>std</th>\n",
       "      <th>min</th>\n",
       "      <th>25%</th>\n",
       "      <th>50%</th>\n",
       "      <th>75%</th>\n",
       "      <th>max</th>\n",
       "    </tr>\n",
       "    <tr>\n",
       "      <th>overall</th>\n",
       "      <th></th>\n",
       "      <th></th>\n",
       "      <th></th>\n",
       "      <th></th>\n",
       "      <th></th>\n",
       "      <th></th>\n",
       "      <th></th>\n",
       "      <th></th>\n",
       "    </tr>\n",
       "  </thead>\n",
       "  <tbody>\n",
       "    <tr>\n",
       "      <th>1.0</th>\n",
       "      <td>605.0</td>\n",
       "      <td>193.793388</td>\n",
       "      <td>311.485001</td>\n",
       "      <td>2.0</td>\n",
       "      <td>50.0</td>\n",
       "      <td>107.0</td>\n",
       "      <td>226.0</td>\n",
       "      <td>4027.0</td>\n",
       "    </tr>\n",
       "    <tr>\n",
       "      <th>2.0</th>\n",
       "      <td>405.0</td>\n",
       "      <td>183.938272</td>\n",
       "      <td>253.039461</td>\n",
       "      <td>5.0</td>\n",
       "      <td>47.0</td>\n",
       "      <td>105.0</td>\n",
       "      <td>221.0</td>\n",
       "      <td>2703.0</td>\n",
       "    </tr>\n",
       "    <tr>\n",
       "      <th>3.0</th>\n",
       "      <td>843.0</td>\n",
       "      <td>161.240807</td>\n",
       "      <td>209.893209</td>\n",
       "      <td>4.0</td>\n",
       "      <td>38.5</td>\n",
       "      <td>90.0</td>\n",
       "      <td>188.5</td>\n",
       "      <td>2326.0</td>\n",
       "    </tr>\n",
       "    <tr>\n",
       "      <th>4.0</th>\n",
       "      <td>2031.0</td>\n",
       "      <td>146.835549</td>\n",
       "      <td>185.368640</td>\n",
       "      <td>1.0</td>\n",
       "      <td>33.5</td>\n",
       "      <td>78.0</td>\n",
       "      <td>190.0</td>\n",
       "      <td>2041.0</td>\n",
       "    </tr>\n",
       "    <tr>\n",
       "      <th>5.0</th>\n",
       "      <td>7662.0</td>\n",
       "      <td>112.213652</td>\n",
       "      <td>169.749282</td>\n",
       "      <td>1.0</td>\n",
       "      <td>30.0</td>\n",
       "      <td>58.0</td>\n",
       "      <td>126.0</td>\n",
       "      <td>5364.0</td>\n",
       "    </tr>\n",
       "  </tbody>\n",
       "</table>\n",
       "</div>"
      ],
      "text/plain": [
       "          count        mean         std  min   25%    50%    75%     max\n",
       "overall                                                                 \n",
       "1.0       605.0  193.793388  311.485001  2.0  50.0  107.0  226.0  4027.0\n",
       "2.0       405.0  183.938272  253.039461  5.0  47.0  105.0  221.0  2703.0\n",
       "3.0       843.0  161.240807  209.893209  4.0  38.5   90.0  188.5  2326.0\n",
       "4.0      2031.0  146.835549  185.368640  1.0  33.5   78.0  190.0  2041.0\n",
       "5.0      7662.0  112.213652  169.749282  1.0  30.0   58.0  126.0  5364.0"
      ]
     },
     "execution_count": 16,
     "metadata": {},
     "output_type": "execute_result"
    }
   ],
   "source": [
    "# use DataFrame method .describe() to view summary stats of word count as a function of 'overall' rating\n",
    "rev_texts.groupby('overall').word_count.describe()"
   ]
  },
  {
   "cell_type": "code",
   "execution_count": 17,
   "metadata": {},
   "outputs": [
    {
     "name": "stdout",
     "output_type": "stream",
     "text": [
      "<class 'pandas.core.frame.DataFrame'>\n",
      "Int64Index: 8267 entries, 1 to 11545\n",
      "Data columns (total 15 columns):\n",
      "_id               8267 non-null object\n",
      "asin              8267 non-null object\n",
      "helpful           8267 non-null object\n",
      "overall           8267 non-null float64\n",
      "reviewText        8267 non-null object\n",
      "reviewTime        8267 non-null object\n",
      "reviewerID        8267 non-null object\n",
      "reviewerName      8232 non-null object\n",
      "summary           8267 non-null object\n",
      "unixReviewTime    8267 non-null int64\n",
      "words             8267 non-null object\n",
      "word_count        8267 non-null int64\n",
      "long_word         8267 non-null object\n",
      "longest           8267 non-null int64\n",
      "char_length       8267 non-null int64\n",
      "dtypes: float64(1), int64(4), object(10)\n",
      "memory usage: 1.0+ MB\n"
     ]
    }
   ],
   "source": [
    "# subset main DataFrame: 1 and 5 star reviews\n",
    "one_five = rev_texts[rev_texts['overall'].isin([1,5])]\n",
    "one_five.info()"
   ]
  },
  {
   "cell_type": "code",
   "execution_count": 18,
   "metadata": {},
   "outputs": [
    {
     "data": {
      "text/html": [
       "<div>\n",
       "<style>\n",
       "    .dataframe thead tr:only-child th {\n",
       "        text-align: right;\n",
       "    }\n",
       "\n",
       "    .dataframe thead th {\n",
       "        text-align: left;\n",
       "    }\n",
       "\n",
       "    .dataframe tbody tr th {\n",
       "        vertical-align: top;\n",
       "    }\n",
       "</style>\n",
       "<table border=\"1\" class=\"dataframe\">\n",
       "  <thead>\n",
       "    <tr style=\"text-align: right;\">\n",
       "      <th></th>\n",
       "      <th>count</th>\n",
       "      <th>mean</th>\n",
       "      <th>std</th>\n",
       "      <th>min</th>\n",
       "      <th>25%</th>\n",
       "      <th>50%</th>\n",
       "      <th>75%</th>\n",
       "      <th>max</th>\n",
       "    </tr>\n",
       "    <tr>\n",
       "      <th>overall</th>\n",
       "      <th></th>\n",
       "      <th></th>\n",
       "      <th></th>\n",
       "      <th></th>\n",
       "      <th></th>\n",
       "      <th></th>\n",
       "      <th></th>\n",
       "      <th></th>\n",
       "    </tr>\n",
       "  </thead>\n",
       "  <tbody>\n",
       "    <tr>\n",
       "      <th>1.0</th>\n",
       "      <td>605.0</td>\n",
       "      <td>193.793388</td>\n",
       "      <td>311.485001</td>\n",
       "      <td>2.0</td>\n",
       "      <td>50.0</td>\n",
       "      <td>107.0</td>\n",
       "      <td>226.0</td>\n",
       "      <td>4027.0</td>\n",
       "    </tr>\n",
       "    <tr>\n",
       "      <th>5.0</th>\n",
       "      <td>7662.0</td>\n",
       "      <td>112.213652</td>\n",
       "      <td>169.749282</td>\n",
       "      <td>1.0</td>\n",
       "      <td>30.0</td>\n",
       "      <td>58.0</td>\n",
       "      <td>126.0</td>\n",
       "      <td>5364.0</td>\n",
       "    </tr>\n",
       "  </tbody>\n",
       "</table>\n",
       "</div>"
      ],
      "text/plain": [
       "          count        mean         std  min   25%    50%    75%     max\n",
       "overall                                                                 \n",
       "1.0       605.0  193.793388  311.485001  2.0  50.0  107.0  226.0  4027.0\n",
       "5.0      7662.0  112.213652  169.749282  1.0  30.0   58.0  126.0  5364.0"
      ]
     },
     "execution_count": 18,
     "metadata": {},
     "output_type": "execute_result"
    }
   ],
   "source": [
    "# use .describe() to explore summary statistics of longest word length and 1 vs 5 stars\n",
    "one_five.groupby('overall').word_count.describe()"
   ]
  },
  {
   "cell_type": "code",
   "execution_count": 19,
   "metadata": {},
   "outputs": [
    {
     "data": {
      "text/html": [
       "<div>\n",
       "<style>\n",
       "    .dataframe thead tr:only-child th {\n",
       "        text-align: right;\n",
       "    }\n",
       "\n",
       "    .dataframe thead th {\n",
       "        text-align: left;\n",
       "    }\n",
       "\n",
       "    .dataframe tbody tr th {\n",
       "        vertical-align: top;\n",
       "    }\n",
       "</style>\n",
       "<table border=\"1\" class=\"dataframe\">\n",
       "  <thead>\n",
       "    <tr style=\"text-align: right;\">\n",
       "      <th></th>\n",
       "      <th>count</th>\n",
       "      <th>mean</th>\n",
       "      <th>std</th>\n",
       "      <th>min</th>\n",
       "      <th>25%</th>\n",
       "      <th>50%</th>\n",
       "      <th>75%</th>\n",
       "      <th>max</th>\n",
       "    </tr>\n",
       "    <tr>\n",
       "      <th>overall</th>\n",
       "      <th></th>\n",
       "      <th></th>\n",
       "      <th></th>\n",
       "      <th></th>\n",
       "      <th></th>\n",
       "      <th></th>\n",
       "      <th></th>\n",
       "      <th></th>\n",
       "    </tr>\n",
       "  </thead>\n",
       "  <tbody>\n",
       "    <tr>\n",
       "      <th>1.0</th>\n",
       "      <td>605.0</td>\n",
       "      <td>14.732231</td>\n",
       "      <td>4.263005</td>\n",
       "      <td>7.0</td>\n",
       "      <td>12.0</td>\n",
       "      <td>14.0</td>\n",
       "      <td>17.0</td>\n",
       "      <td>37.0</td>\n",
       "    </tr>\n",
       "    <tr>\n",
       "      <th>5.0</th>\n",
       "      <td>7662.0</td>\n",
       "      <td>13.572305</td>\n",
       "      <td>5.762083</td>\n",
       "      <td>3.0</td>\n",
       "      <td>11.0</td>\n",
       "      <td>13.0</td>\n",
       "      <td>15.0</td>\n",
       "      <td>253.0</td>\n",
       "    </tr>\n",
       "  </tbody>\n",
       "</table>\n",
       "</div>"
      ],
      "text/plain": [
       "          count       mean       std  min   25%   50%   75%    max\n",
       "overall                                                           \n",
       "1.0       605.0  14.732231  4.263005  7.0  12.0  14.0  17.0   37.0\n",
       "5.0      7662.0  13.572305  5.762083  3.0  11.0  13.0  15.0  253.0"
      ]
     },
     "execution_count": 19,
     "metadata": {},
     "output_type": "execute_result"
    }
   ],
   "source": [
    "# use .describe() to explore summary statistics of longest word length and 1 vs 5 stars\n",
    "one_five.groupby('overall').longest.describe()"
   ]
  },
  {
   "cell_type": "markdown",
   "metadata": {},
   "source": [
    "#### Section Summary: \n",
    "* This genre subset of Science Textbooks reviews with ratings from 1 to 5 stars:\n",
    "    * Only 605 of the reviews were paired with one-star ratings (the lowest rating).\n",
    "    * Reviews with 5-stars (n = 7662) are the most common and they out number all other star-ratings combined.\n",
    "    * 66% of this subset of reviews are 5-star reviews.\n",
    "* The longest reviews are associated with the 5-star and 1-star ratings categories, respectively.\n"
   ]
  },
  {
   "cell_type": "markdown",
   "metadata": {},
   "source": [
    "### 3) Data visualizations\n",
    "- Frequency histogram of star ratings (histogram)\n",
    "- Compare review features 1 star vs 5 star \n",
    "- Number of words vs number of stars (scatterplot)\n",
    "- Follow one frequently reviewed book over time: how do star ratings change over time? (a potential peer effect; time-series plot)."
   ]
  },
  {
   "cell_type": "code",
   "execution_count": 20,
   "metadata": {
    "collapsed": true
   },
   "outputs": [],
   "source": [
    "# convert 'overall' from float64 to int64\n",
    "rev_texts['overall'] = rev_texts['overall'].astype(np.int64)"
   ]
  },
  {
   "cell_type": "code",
   "execution_count": 21,
   "metadata": {},
   "outputs": [
    {
     "data": {
      "image/png": "[encoded data removed]",
      "text/plain": [
       "<matplotlib.figure.Figure at 0x1a1a17dbe0>"
      ]
     },
     "metadata": {},
     "output_type": "display_data"
    }
   ],
   "source": [
    "# frequency histogram of star ratings\n",
    "sns.distplot(rev_texts.overall, bins=5, kde=False);\n",
    "plt.title('Histogram of star ratings');\n",
    "plt.xlabel('star rating');\n",
    "plt.ylabel('number of reviews');"
   ]
  },
  {
   "cell_type": "code",
   "execution_count": 22,
   "metadata": {},
   "outputs": [
    {
     "data": {
      "image/png": "[encoded data removed]",
      "text/plain": [
       "<matplotlib.figure.Figure at 0x1a21ca7470>"
      ]
     },
     "metadata": {},
     "output_type": "display_data"
    }
   ],
   "source": [
    "# compare review text features for 1-star vs 5-star reviews \n",
    "rev_texts.groupby('overall').char_length.hist(alpha=0.6);\n",
    "plt.title('Histogram of character length grouped by star ratings');\n",
    "plt.xlabel('character length');\n",
    "plt.ylabel('number of reviews');"
   ]
  },
  {
   "cell_type": "code",
   "execution_count": 23,
   "metadata": {},
   "outputs": [
    {
     "data": {
      "image/png": "[encoded data removed]",
      "text/plain": [
       "<matplotlib.figure.Figure at 0x1a1a1c6160>"
      ]
     },
     "metadata": {},
     "output_type": "display_data"
    }
   ],
   "source": [
    "# compare review text features for 1-star vs 5-star reviews\n",
    "one_five.groupby('overall').char_length.hist(alpha=0.6);\n",
    "plt.title('Histogram of character length for 1- and 5-star ratings');\n",
    "plt.xlabel('character length');\n",
    "plt.ylabel('number of reviews');"
   ]
  },
  {
   "cell_type": "code",
   "execution_count": 24,
   "metadata": {},
   "outputs": [
    {
     "data": {
      "image/png": "[encoded data removed]",
      "text/plain": [
       "<matplotlib.figure.Figure at 0x1a21f7dac8>"
      ]
     },
     "metadata": {},
     "output_type": "display_data"
    }
   ],
   "source": [
    "# how closely related are the number of characters per review and the length of the longest word?\n",
    "# with seaborn plot scatter plot of review character count against longest word length colored by 'overall'\n",
    "sns.lmplot(x='char_length', y='longest', hue='overall', palette='Set2', data=rev_texts, fit_reg=False, scatter_kws={'alpha':0.5});\n",
    "plt.ylim(0,60); # limit y-axis to hide the very-long-word ouliers that I will deal with later"
   ]
  },
  {
   "cell_type": "code",
   "execution_count": 25,
   "metadata": {},
   "outputs": [
    {
     "data": {
      "image/png": "[encoded data removed]",
      "text/plain": [
       "<matplotlib.figure.Figure at 0x1a1a1d52e8>"
      ]
     },
     "metadata": {},
     "output_type": "display_data"
    }
   ],
   "source": [
    "# word count and number of characters will certainly be closely related, but let's look\n",
    "# with seaborn plot scatter plot of review character count against longest word length colored by 'overall'\n",
    "sns.lmplot(x='char_length', y='word_count', hue='overall', palette='Set2', data=rev_texts, fit_reg=False, x_jitter=200, scatter_kws={'alpha':0.5});\n",
    "#plt.ylim(0,60); # limit y-axis to hide the very-long-word ouliers that I will deal with later"
   ]
  },
  {
   "cell_type": "markdown",
   "metadata": {},
   "source": [
    "### 4) Conclusions\n",
    "- __Sythesis__: Characterizing Amazon book reviews of Science Textbooks (and associated non-fiction titles) quantitatively indicates that many more reviewers assign 5-stars to a book than any other rating. Both negatively (1 to 2 stars) and positively (4 to 5-stars) rated books get reviews ranging from a few words to up to 1000 words. A quick-and-dirty estimate of the length of the longest word per review does not reveal any outstanding pattern relating to ratings or word count, but the metric does need refining as the outliers are probably just words strung together without spaces. My data includes many books that only have one or few reviews and one book reviewed by 382 reviewers.\n",
    "- __Conclusions__: This sub-sampled set of reviews in a specific genre match general trends from the large source-database. The original database of 22,507,155 book reviews is 62% 5-star reviews. The Science Textbook reviews consist of 66% 5-star reviews.\n",
    "- __Future directions__: As I explore the data further, I expect that gaining insights from the content, not just quantitative metrics, will give me more insight into the nature of low and highly-rated books. I will use more refined methods to count words, assess word lengths, and build additional features to contribute to the characterization of reviews. Another interesting feature of the Amazon review format is that reviewers include a short 'summary' of their review, separate from the text of the review. Can this short summary predict ratings as well as long reviews? Can the sentiment of the summary encapsulate the feelings of the reviewer towards the book?\n",
    "***"
   ]
  }
 ],
 "metadata": {
  "kernelspec": {
   "display_name": "Python 3",
   "language": "python",
   "name": "python3"
  },
  "language_info": {
   "codemirror_mode": {
    "name": "ipython",
    "version": 3
   },
   "file_extension": ".py",
   "mimetype": "text/x-python",
   "name": "python",
   "nbconvert_exporter": "python",
   "pygments_lexer": "ipython3",
   "version": "3.6.1"
  }
 },
 "nbformat": 4,
 "nbformat_minor": 2
}
