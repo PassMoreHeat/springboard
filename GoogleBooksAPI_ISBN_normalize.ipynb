{
 "cells": [
  {
   "cell_type": "markdown",
   "metadata": {},
   "source": [
    "## Goal: Building a list of ISBN_10 codes for Biology Textbooks\n",
    "### Use Google Books API queries. First Query: Invertebrate Biology Textbooks"
   ]
  },
  {
   "cell_type": "code",
   "execution_count": 2,
   "metadata": {
    "collapsed": true
   },
   "outputs": [],
   "source": [
    "# import requests and json\n",
    "import requests\n",
    "import json\n",
    "\n",
    "# assign the google books api URL to the variable URL\n",
    "# this query is for invertebrate biology textbooks\n",
    "url = 'https://www.googleapis.com/books/v1/volumes?q=science+biology+invertebrate+nonfiction&maxResults=40&startIndex=1&printType=books&subject:textbook&key=xxx'\n",
    "r = requests.get(url)\n",
    "json_data = r.json()"
   ]
  },
  {
   "cell_type": "code",
   "execution_count": 3,
   "metadata": {},
   "outputs": [
    {
     "data": {
      "text/plain": [
       "dict"
      ]
     },
     "execution_count": 3,
     "metadata": {},
     "output_type": "execute_result"
    }
   ],
   "source": [
    "# the result is a dictionary\n",
    "type(json_data)"
   ]
  },
  {
   "cell_type": "code",
   "execution_count": 35,
   "metadata": {},
   "outputs": [],
   "source": [
    "#import pandas package as pd\n",
    "import pandas as pd\n",
    "from pandas.io.json import json_normalize\n",
    "# Remember that pandas allows you to take seimi-structured data (like a dictionary or list of dictionaries) \n",
    "# and 'normalize' it into a flat table\n",
    "df = pd.io.json.json_normalize(data =json_data['items'][0:40])"
   ]
  },
  {
   "cell_type": "code",
   "execution_count": 45,
   "metadata": {},
   "outputs": [
    {
     "name": "stdout",
     "output_type": "stream",
     "text": [
      "<class 'pandas.core.frame.DataFrame'>\n",
      "RangeIndex: 40 entries, 0 to 39\n",
      "Data columns (total 51 columns):\n",
      "accessInfo.accessViewStatus                            40 non-null object\n",
      "accessInfo.country                                     40 non-null object\n",
      "accessInfo.embeddable                                  40 non-null bool\n",
      "accessInfo.epub.acsTokenLink                           9 non-null object\n",
      "accessInfo.epub.isAvailable                            40 non-null bool\n",
      "accessInfo.pdf.acsTokenLink                            11 non-null object\n",
      "accessInfo.pdf.isAvailable                             40 non-null bool\n",
      "accessInfo.publicDomain                                40 non-null bool\n",
      "accessInfo.quoteSharingAllowed                         40 non-null bool\n",
      "accessInfo.textToSpeechPermission                      40 non-null object\n",
      "accessInfo.viewability                                 40 non-null object\n",
      "accessInfo.webReaderLink                               40 non-null object\n",
      "etag                                                   40 non-null object\n",
      "id                                                     40 non-null object\n",
      "kind                                                   40 non-null object\n",
      "saleInfo.buyLink                                       13 non-null object\n",
      "saleInfo.country                                       40 non-null object\n",
      "saleInfo.isEbook                                       40 non-null bool\n",
      "saleInfo.listPrice.amount                              13 non-null float64\n",
      "saleInfo.listPrice.currencyCode                        13 non-null object\n",
      "saleInfo.offers                                        13 non-null object\n",
      "saleInfo.retailPrice.amount                            13 non-null float64\n",
      "saleInfo.retailPrice.currencyCode                      13 non-null object\n",
      "saleInfo.saleability                                   40 non-null object\n",
      "searchInfo.textSnippet                                 33 non-null object\n",
      "selfLink                                               40 non-null object\n",
      "volumeInfo.allowAnonLogging                            40 non-null bool\n",
      "volumeInfo.authors                                     39 non-null object\n",
      "volumeInfo.averageRating                               11 non-null float64\n",
      "volumeInfo.canonicalVolumeLink                         40 non-null object\n",
      "volumeInfo.categories                                  36 non-null object\n",
      "volumeInfo.contentVersion                              40 non-null object\n",
      "volumeInfo.description                                 33 non-null object\n",
      "volumeInfo.imageLinks.smallThumbnail                   38 non-null object\n",
      "volumeInfo.imageLinks.thumbnail                        38 non-null object\n",
      "volumeInfo.industryIdentifiers                         40 non-null object\n",
      "volumeInfo.infoLink                                    40 non-null object\n",
      "volumeInfo.language                                    40 non-null object\n",
      "volumeInfo.maturityRating                              40 non-null object\n",
      "volumeInfo.pageCount                                   36 non-null float64\n",
      "volumeInfo.panelizationSummary.containsEpubBubbles     15 non-null object\n",
      "volumeInfo.panelizationSummary.containsImageBubbles    15 non-null object\n",
      "volumeInfo.previewLink                                 40 non-null object\n",
      "volumeInfo.printType                                   40 non-null object\n",
      "volumeInfo.publishedDate                               40 non-null object\n",
      "volumeInfo.publisher                                   36 non-null object\n",
      "volumeInfo.ratingsCount                                11 non-null float64\n",
      "volumeInfo.readingModes.image                          40 non-null bool\n",
      "volumeInfo.readingModes.text                           40 non-null bool\n",
      "volumeInfo.subtitle                                    22 non-null object\n",
      "volumeInfo.title                                       40 non-null object\n",
      "dtypes: bool(9), float64(5), object(37)\n",
      "memory usage: 13.6+ KB\n"
     ]
    }
   ],
   "source": [
    "# the initial dataframe 'df' is nested\n",
    "# I am interested in the nested arrays and objects \"volumeInfo.title\" and \"volumeInfo.industryIdentifiers\"\n",
    "df.info()"
   ]
  },
  {
   "cell_type": "code",
   "execution_count": 55,
   "metadata": {},
   "outputs": [
    {
     "ename": "KeyError",
     "evalue": "'volumeInfo'",
     "output_type": "error",
     "traceback": [
      "\u001b[0;31m---------------------------------------------------------------------------\u001b[0m",
      "\u001b[0;31mKeyError\u001b[0m                                  Traceback (most recent call last)",
      "\u001b[0;32m<ipython-input-55-310439c10124>\u001b[0m in \u001b[0;36m<module>\u001b[0;34m()\u001b[0m\n\u001b[1;32m      1\u001b[0m \u001b[0;31m# by flattening the record_path 'volumeInfo' which are the individual book records, we have more fields\u001b[0m\u001b[0;34m\u001b[0m\u001b[0;34m\u001b[0m\u001b[0m\n\u001b[1;32m      2\u001b[0m \u001b[0;31m# the book titles and other information is in the 'volumeInfo' object\u001b[0m\u001b[0;34m\u001b[0m\u001b[0;34m\u001b[0m\u001b[0m\n\u001b[0;32m----> 3\u001b[0;31m \u001b[0mtitles\u001b[0m \u001b[0;34m=\u001b[0m \u001b[0mpd\u001b[0m\u001b[0;34m.\u001b[0m\u001b[0mio\u001b[0m\u001b[0;34m.\u001b[0m\u001b[0mjson\u001b[0m\u001b[0;34m.\u001b[0m\u001b[0mjson_normalize\u001b[0m\u001b[0;34m(\u001b[0m\u001b[0mjson_data\u001b[0m\u001b[0;34m,\u001b[0m \u001b[0mrecord_path\u001b[0m\u001b[0;34m=\u001b[0m\u001b[0;34m'volumeInfo'\u001b[0m\u001b[0;34m)\u001b[0m\u001b[0;34m\u001b[0m\u001b[0m\n\u001b[0m",
      "\u001b[0;32m~/anaconda/lib/python3.6/site-packages/pandas/io/json/normalize.py\u001b[0m in \u001b[0;36mjson_normalize\u001b[0;34m(data, record_path, meta, meta_prefix, record_prefix, errors, sep)\u001b[0m\n\u001b[1;32m    246\u001b[0m                 \u001b[0mrecords\u001b[0m\u001b[0;34m.\u001b[0m\u001b[0mextend\u001b[0m\u001b[0;34m(\u001b[0m\u001b[0mrecs\u001b[0m\u001b[0;34m)\u001b[0m\u001b[0;34m\u001b[0m\u001b[0m\n\u001b[1;32m    247\u001b[0m \u001b[0;34m\u001b[0m\u001b[0m\n\u001b[0;32m--> 248\u001b[0;31m     \u001b[0m_recursive_extract\u001b[0m\u001b[0;34m(\u001b[0m\u001b[0mdata\u001b[0m\u001b[0;34m,\u001b[0m \u001b[0mrecord_path\u001b[0m\u001b[0;34m,\u001b[0m \u001b[0;34m{\u001b[0m\u001b[0;34m}\u001b[0m\u001b[0;34m,\u001b[0m \u001b[0mlevel\u001b[0m\u001b[0;34m=\u001b[0m\u001b[0;36m0\u001b[0m\u001b[0;34m)\u001b[0m\u001b[0;34m\u001b[0m\u001b[0m\n\u001b[0m\u001b[1;32m    249\u001b[0m \u001b[0;34m\u001b[0m\u001b[0m\n\u001b[1;32m    250\u001b[0m     \u001b[0mresult\u001b[0m \u001b[0;34m=\u001b[0m \u001b[0mDataFrame\u001b[0m\u001b[0;34m(\u001b[0m\u001b[0mrecords\u001b[0m\u001b[0;34m)\u001b[0m\u001b[0;34m\u001b[0m\u001b[0m\n",
      "\u001b[0;32m~/anaconda/lib/python3.6/site-packages/pandas/io/json/normalize.py\u001b[0m in \u001b[0;36m_recursive_extract\u001b[0;34m(data, path, seen_meta, level)\u001b[0m\n\u001b[1;32m    223\u001b[0m         \u001b[0;32melse\u001b[0m\u001b[0;34m:\u001b[0m\u001b[0;34m\u001b[0m\u001b[0m\n\u001b[1;32m    224\u001b[0m             \u001b[0;32mfor\u001b[0m \u001b[0mobj\u001b[0m \u001b[0;32min\u001b[0m \u001b[0mdata\u001b[0m\u001b[0;34m:\u001b[0m\u001b[0;34m\u001b[0m\u001b[0m\n\u001b[0;32m--> 225\u001b[0;31m                 \u001b[0mrecs\u001b[0m \u001b[0;34m=\u001b[0m \u001b[0m_pull_field\u001b[0m\u001b[0;34m(\u001b[0m\u001b[0mobj\u001b[0m\u001b[0;34m,\u001b[0m \u001b[0mpath\u001b[0m\u001b[0;34m[\u001b[0m\u001b[0;36m0\u001b[0m\u001b[0;34m]\u001b[0m\u001b[0;34m)\u001b[0m\u001b[0;34m\u001b[0m\u001b[0m\n\u001b[0m\u001b[1;32m    226\u001b[0m \u001b[0;34m\u001b[0m\u001b[0m\n\u001b[1;32m    227\u001b[0m                 \u001b[0;31m# For repeating the metadata later\u001b[0m\u001b[0;34m\u001b[0m\u001b[0;34m\u001b[0m\u001b[0m\n",
      "\u001b[0;32m~/anaconda/lib/python3.6/site-packages/pandas/io/json/normalize.py\u001b[0m in \u001b[0;36m_pull_field\u001b[0;34m(js, spec)\u001b[0m\n\u001b[1;32m    169\u001b[0m                 \u001b[0mresult\u001b[0m \u001b[0;34m=\u001b[0m \u001b[0mresult\u001b[0m\u001b[0;34m[\u001b[0m\u001b[0mfield\u001b[0m\u001b[0;34m]\u001b[0m\u001b[0;34m\u001b[0m\u001b[0m\n\u001b[1;32m    170\u001b[0m         \u001b[0;32melse\u001b[0m\u001b[0;34m:\u001b[0m\u001b[0;34m\u001b[0m\u001b[0m\n\u001b[0;32m--> 171\u001b[0;31m             \u001b[0mresult\u001b[0m \u001b[0;34m=\u001b[0m \u001b[0mresult\u001b[0m\u001b[0;34m[\u001b[0m\u001b[0mspec\u001b[0m\u001b[0;34m]\u001b[0m\u001b[0;34m\u001b[0m\u001b[0m\n\u001b[0m\u001b[1;32m    172\u001b[0m \u001b[0;34m\u001b[0m\u001b[0m\n\u001b[1;32m    173\u001b[0m         \u001b[0;32mreturn\u001b[0m \u001b[0mresult\u001b[0m\u001b[0;34m\u001b[0m\u001b[0m\n",
      "\u001b[0;31mKeyError\u001b[0m: 'volumeInfo'"
     ]
    }
   ],
   "source": [
    "# by flattening the record_path 'volumeInfo' which are the individual book records, we have more fields\n",
    "# the book titles and other information is in the 'volumeInfo' object\n",
    "titles = pd.io.json.json_normalize(json_data, record_path='volumeInfo')"
   ]
  }
 ],
 "metadata": {
  "kernelspec": {
   "display_name": "Python 3",
   "language": "python",
   "name": "python3"
  },
  "language_info": {
   "codemirror_mode": {
    "name": "ipython",
    "version": 3
   },
   "file_extension": ".py",
   "mimetype": "text/x-python",
   "name": "python",
   "nbconvert_exporter": "python",
   "pygments_lexer": "ipython3",
   "version": "3.6.1"
  }
 },
 "nbformat": 4,
 "nbformat_minor": 2
}
