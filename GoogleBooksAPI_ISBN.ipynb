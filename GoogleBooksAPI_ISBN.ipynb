{
 "cells": [
  {
   "cell_type": "code",
   "execution_count": 30,
   "metadata": {
    "collapsed": true
   },
   "outputs": [],
   "source": [
    "# import requests and json\n",
    "import requests\n",
    "import json\n",
    "\n",
    "# assign the google books api URL to the variable URL\n",
    "url = 'https://www.googleapis.com/books/v1/volumes?q=science+biology+invertebrate+nonfiction&maxResults=40&printType=books&subject:textbook&key=xxx'\n",
    "r = requests.get(url)\n",
    "json_data = r.json()"
   ]
  },
  {
   "cell_type": "code",
   "execution_count": 31,
   "metadata": {},
   "outputs": [
    {
     "data": {
      "text/plain": [
       "dict"
      ]
     },
     "execution_count": 31,
     "metadata": {},
     "output_type": "execute_result"
    }
   ],
   "source": [
    "# the result is a dictionary\n",
    "type(json_data)"
   ]
  },
  {
   "cell_type": "code",
   "execution_count": 68,
   "metadata": {},
   "outputs": [],
   "source": [
    "#import pandas package as pd\n",
    "import pandas as pd\n",
    "from pandas.io.json import json_normalize\n",
    "# Remember that pandas allows you to take seimi-structured data (like a dictionary or list of dictionaries) \n",
    "# and 'normalize' it into a flat table\n",
    "df = pd.io.json.json_normalize(json_data) # normalize json\n",
    "items = pd.io.json.json_normalize(json_data, record_path='items')\n",
    "#titles = json_normalize(items, 'volumeInfo')\n",
    "#df.columns = df.columns.map(lambda x: x.split(\".\")[-1])\n",
    "#df.head(15) # view the first 15 rows"
   ]
  },
  {
   "cell_type": "code",
   "execution_count": 105,
   "metadata": {},
   "outputs": [
    {
     "name": "stdout",
     "output_type": "stream",
     "text": [
      "<class 'pandas.core.frame.DataFrame'>\n",
      "RangeIndex: 1 entries, 0 to 0\n",
      "Data columns (total 3 columns):\n",
      "items         1 non-null object\n",
      "kind          1 non-null object\n",
      "totalItems    1 non-null int64\n",
      "dtypes: int64(1), object(2)\n",
      "memory usage: 104.0+ bytes\n"
     ]
    }
   ],
   "source": [
    "# the initial dataframe 'df' is nested\n",
    "df.info()"
   ]
  },
  {
   "cell_type": "code",
   "execution_count": 69,
   "metadata": {},
   "outputs": [
    {
     "name": "stdout",
     "output_type": "stream",
     "text": [
      "<class 'pandas.core.frame.DataFrame'>\n",
      "RangeIndex: 40 entries, 0 to 39\n",
      "Data columns (total 8 columns):\n",
      "accessInfo    40 non-null object\n",
      "etag          40 non-null object\n",
      "id            40 non-null object\n",
      "kind          40 non-null object\n",
      "saleInfo      40 non-null object\n",
      "searchInfo    34 non-null object\n",
      "selfLink      40 non-null object\n",
      "volumeInfo    40 non-null object\n",
      "dtypes: object(8)\n",
      "memory usage: 2.6+ KB\n"
     ]
    }
   ],
   "source": [
    "# by flattening the record_path 'items' which are the individual book records, we have more fields\n",
    "# the book titles and other information is in the 'volumeInfo' object\n",
    "items.info()"
   ]
  },
  {
   "cell_type": "code",
   "execution_count": 70,
   "metadata": {},
   "outputs": [
    {
     "data": {
      "text/plain": [
       "pandas.core.frame.DataFrame"
      ]
     },
     "execution_count": 70,
     "metadata": {},
     "output_type": "execute_result"
    }
   ],
   "source": [
    "# items is a DataFrame in pandas\n",
    "type(items)"
   ]
  },
  {
   "cell_type": "code",
   "execution_count": 94,
   "metadata": {},
   "outputs": [
    {
     "data": {
      "text/html": [
       "<div>\n",
       "<style>\n",
       "    .dataframe thead tr:only-child th {\n",
       "        text-align: right;\n",
       "    }\n",
       "\n",
       "    .dataframe thead th {\n",
       "        text-align: left;\n",
       "    }\n",
       "\n",
       "    .dataframe tbody tr th {\n",
       "        vertical-align: top;\n",
       "    }\n",
       "</style>\n",
       "<table border=\"1\" class=\"dataframe\">\n",
       "  <thead>\n",
       "    <tr style=\"text-align: right;\">\n",
       "      <th></th>\n",
       "      <th>accessInfo</th>\n",
       "      <th>etag</th>\n",
       "      <th>id</th>\n",
       "      <th>kind</th>\n",
       "      <th>saleInfo</th>\n",
       "      <th>searchInfo</th>\n",
       "      <th>selfLink</th>\n",
       "      <th>volumeInfo</th>\n",
       "    </tr>\n",
       "  </thead>\n",
       "  <tbody>\n",
       "    <tr>\n",
       "      <th>0</th>\n",
       "      <td>{'country': 'US', 'viewability': 'PARTIAL', 'e...</td>\n",
       "      <td>2ObvgRI/mDE</td>\n",
       "      <td>S2tzCgAAQBAJ</td>\n",
       "      <td>books#volume</td>\n",
       "      <td>{'country': 'US', 'saleability': 'FOR_RENTAL_O...</td>\n",
       "      <td>{'textSnippet': 'This textbook is the most con...</td>\n",
       "      <td>https://www.googleapis.com/books/v1/volumes/S2...</td>\n",
       "      <td>{'title': 'Biology of the Invertebrates', 'aut...</td>\n",
       "    </tr>\n",
       "    <tr>\n",
       "      <th>1</th>\n",
       "      <td>{'country': 'US', 'viewability': 'PARTIAL', 'e...</td>\n",
       "      <td>Sdo4x2is/Wo</td>\n",
       "      <td>qa7gBAAAQBAJ</td>\n",
       "      <td>books#volume</td>\n",
       "      <td>{'country': 'US', 'saleability': 'FOR_SALE', '...</td>\n",
       "      <td>{'textSnippet': 'Did you know that most animal...</td>\n",
       "      <td>https://www.googleapis.com/books/v1/volumes/qa...</td>\n",
       "      <td>{'title': 'Incredible Invertebrates', 'authors...</td>\n",
       "    </tr>\n",
       "    <tr>\n",
       "      <th>2</th>\n",
       "      <td>{'country': 'US', 'viewability': 'PARTIAL', 'e...</td>\n",
       "      <td>AQUU4yhjvss</td>\n",
       "      <td>93_dBwAAQBAJ</td>\n",
       "      <td>books#volume</td>\n",
       "      <td>{'country': 'US', 'saleability': 'FOR_SALE_AND...</td>\n",
       "      <td>{'textSnippet': 'This text is concerned exclus...</td>\n",
       "      <td>https://www.googleapis.com/books/v1/volumes/93...</td>\n",
       "      <td>{'title': 'Invertebrate Biology', 'subtitle': ...</td>\n",
       "    </tr>\n",
       "    <tr>\n",
       "      <th>3</th>\n",
       "      <td>{'country': 'US', 'viewability': 'PARTIAL', 'e...</td>\n",
       "      <td>gnHXadZ6iWk</td>\n",
       "      <td>s0oQx7IYiO0C</td>\n",
       "      <td>books#volume</td>\n",
       "      <td>{'country': 'US', 'saleability': 'NOT_FOR_SALE...</td>\n",
       "      <td>{'textSnippet': 'A complete synthesis of curre...</td>\n",
       "      <td>https://www.googleapis.com/books/v1/volumes/s0...</td>\n",
       "      <td>{'title': 'Invertebrate Vision', 'authors': ['...</td>\n",
       "    </tr>\n",
       "    <tr>\n",
       "      <th>4</th>\n",
       "      <td>{'country': 'US', 'viewability': 'NO_PAGES', '...</td>\n",
       "      <td>wk1p0E9SdAw</td>\n",
       "      <td>NnEjBbDokRIC</td>\n",
       "      <td>books#volume</td>\n",
       "      <td>{'country': 'US', 'saleability': 'NOT_FOR_SALE...</td>\n",
       "      <td>{'textSnippet': 'Examines the anatomy, life cy...</td>\n",
       "      <td>https://www.googleapis.com/books/v1/volumes/Nn...</td>\n",
       "      <td>{'title': 'Jellyfish to Insects', 'subtitle': ...</td>\n",
       "    </tr>\n",
       "  </tbody>\n",
       "</table>\n",
       "</div>"
      ],
      "text/plain": [
       "                                          accessInfo         etag  \\\n",
       "0  {'country': 'US', 'viewability': 'PARTIAL', 'e...  2ObvgRI/mDE   \n",
       "1  {'country': 'US', 'viewability': 'PARTIAL', 'e...  Sdo4x2is/Wo   \n",
       "2  {'country': 'US', 'viewability': 'PARTIAL', 'e...  AQUU4yhjvss   \n",
       "3  {'country': 'US', 'viewability': 'PARTIAL', 'e...  gnHXadZ6iWk   \n",
       "4  {'country': 'US', 'viewability': 'NO_PAGES', '...  wk1p0E9SdAw   \n",
       "\n",
       "             id          kind  \\\n",
       "0  S2tzCgAAQBAJ  books#volume   \n",
       "1  qa7gBAAAQBAJ  books#volume   \n",
       "2  93_dBwAAQBAJ  books#volume   \n",
       "3  s0oQx7IYiO0C  books#volume   \n",
       "4  NnEjBbDokRIC  books#volume   \n",
       "\n",
       "                                            saleInfo  \\\n",
       "0  {'country': 'US', 'saleability': 'FOR_RENTAL_O...   \n",
       "1  {'country': 'US', 'saleability': 'FOR_SALE', '...   \n",
       "2  {'country': 'US', 'saleability': 'FOR_SALE_AND...   \n",
       "3  {'country': 'US', 'saleability': 'NOT_FOR_SALE...   \n",
       "4  {'country': 'US', 'saleability': 'NOT_FOR_SALE...   \n",
       "\n",
       "                                          searchInfo  \\\n",
       "0  {'textSnippet': 'This textbook is the most con...   \n",
       "1  {'textSnippet': 'Did you know that most animal...   \n",
       "2  {'textSnippet': 'This text is concerned exclus...   \n",
       "3  {'textSnippet': 'A complete synthesis of curre...   \n",
       "4  {'textSnippet': 'Examines the anatomy, life cy...   \n",
       "\n",
       "                                            selfLink  \\\n",
       "0  https://www.googleapis.com/books/v1/volumes/S2...   \n",
       "1  https://www.googleapis.com/books/v1/volumes/qa...   \n",
       "2  https://www.googleapis.com/books/v1/volumes/93...   \n",
       "3  https://www.googleapis.com/books/v1/volumes/s0...   \n",
       "4  https://www.googleapis.com/books/v1/volumes/Nn...   \n",
       "\n",
       "                                          volumeInfo  \n",
       "0  {'title': 'Biology of the Invertebrates', 'aut...  \n",
       "1  {'title': 'Incredible Invertebrates', 'authors...  \n",
       "2  {'title': 'Invertebrate Biology', 'subtitle': ...  \n",
       "3  {'title': 'Invertebrate Vision', 'authors': ['...  \n",
       "4  {'title': 'Jellyfish to Insects', 'subtitle': ...  "
      ]
     },
     "execution_count": 94,
     "metadata": {},
     "output_type": "execute_result"
    }
   ],
   "source": [
    "# volumeInfo is the last field and it is nested too\n",
    "items.head()"
   ]
  },
  {
   "cell_type": "code",
   "execution_count": 106,
   "metadata": {},
   "outputs": [
    {
     "data": {
      "text/plain": [
       "0    {'title': 'Biology of the Invertebrates', 'aut...\n",
       "1    {'title': 'Incredible Invertebrates', 'authors...\n",
       "2    {'title': 'Invertebrate Biology', 'subtitle': ...\n",
       "3    {'title': 'Invertebrate Vision', 'authors': ['...\n",
       "4    {'title': 'Jellyfish to Insects', 'subtitle': ...\n",
       "5    {'title': 'Ecology and Classification of North...\n",
       "6    {'title': 'Animals Without Backbones', 'author...\n",
       "7    {'title': 'The Biology of Terrestrial Molluscs...\n",
       "8    {'title': 'The Writer's handbook', 'authors': ...\n",
       "9    {'title': 'U.S. Environmental Protection Agenc...\n",
       "Name: volumeInfo, dtype: object"
      ]
     },
     "execution_count": 106,
     "metadata": {},
     "output_type": "execute_result"
    }
   ],
   "source": [
    "items.volumeInfo.head(10)"
   ]
  },
  {
   "cell_type": "code",
   "execution_count": 108,
   "metadata": {},
   "outputs": [
    {
     "ename": "KeyError",
     "evalue": "'volumeInfo'",
     "output_type": "error",
     "traceback": [
      "\u001b[0;31m---------------------------------------------------------------------------\u001b[0m",
      "\u001b[0;31mKeyError\u001b[0m                                  Traceback (most recent call last)",
      "\u001b[0;32m<ipython-input-108-a520a32fe3a2>\u001b[0m in \u001b[0;36m<module>\u001b[0;34m()\u001b[0m\n\u001b[1;32m      1\u001b[0m \u001b[0;31m# I thought I could apply the json_normalize function to the volumeInfo key to get another DataFrame\u001b[0m\u001b[0;34m\u001b[0m\u001b[0;34m\u001b[0m\u001b[0m\n\u001b[1;32m      2\u001b[0m \u001b[0;31m# When I give 'volumeInfo' as the record_path I get errors\u001b[0m\u001b[0;34m\u001b[0m\u001b[0;34m\u001b[0m\u001b[0m\n\u001b[0;32m----> 3\u001b[0;31m \u001b[0mbook_details\u001b[0m \u001b[0;34m=\u001b[0m \u001b[0mpd\u001b[0m\u001b[0;34m.\u001b[0m\u001b[0mio\u001b[0m\u001b[0;34m.\u001b[0m\u001b[0mjson\u001b[0m\u001b[0;34m.\u001b[0m\u001b[0mjson_normalize\u001b[0m\u001b[0;34m(\u001b[0m\u001b[0mjson_data\u001b[0m\u001b[0;34m,\u001b[0m \u001b[0mrecord_path\u001b[0m\u001b[0;34m=\u001b[0m\u001b[0;34m'volumeInfo'\u001b[0m\u001b[0;34m,\u001b[0m \u001b[0mmeta\u001b[0m\u001b[0;34m=\u001b[0m\u001b[0;34m'id'\u001b[0m\u001b[0;34m)\u001b[0m\u001b[0;34m\u001b[0m\u001b[0m\n\u001b[0m\u001b[1;32m      4\u001b[0m \u001b[0;34m\u001b[0m\u001b[0m\n\u001b[1;32m      5\u001b[0m \u001b[0;31m# record_path parameter specifies the path of the lowest-level record I am interested in\u001b[0m\u001b[0;34m\u001b[0m\u001b[0;34m\u001b[0m\u001b[0m\n",
      "\u001b[0;32m~/anaconda/lib/python3.6/site-packages/pandas/io/json/normalize.py\u001b[0m in \u001b[0;36mjson_normalize\u001b[0;34m(data, record_path, meta, meta_prefix, record_prefix, errors, sep)\u001b[0m\n\u001b[1;32m    246\u001b[0m                 \u001b[0mrecords\u001b[0m\u001b[0;34m.\u001b[0m\u001b[0mextend\u001b[0m\u001b[0;34m(\u001b[0m\u001b[0mrecs\u001b[0m\u001b[0;34m)\u001b[0m\u001b[0;34m\u001b[0m\u001b[0m\n\u001b[1;32m    247\u001b[0m \u001b[0;34m\u001b[0m\u001b[0m\n\u001b[0;32m--> 248\u001b[0;31m     \u001b[0m_recursive_extract\u001b[0m\u001b[0;34m(\u001b[0m\u001b[0mdata\u001b[0m\u001b[0;34m,\u001b[0m \u001b[0mrecord_path\u001b[0m\u001b[0;34m,\u001b[0m \u001b[0;34m{\u001b[0m\u001b[0;34m}\u001b[0m\u001b[0;34m,\u001b[0m \u001b[0mlevel\u001b[0m\u001b[0;34m=\u001b[0m\u001b[0;36m0\u001b[0m\u001b[0;34m)\u001b[0m\u001b[0;34m\u001b[0m\u001b[0m\n\u001b[0m\u001b[1;32m    249\u001b[0m \u001b[0;34m\u001b[0m\u001b[0m\n\u001b[1;32m    250\u001b[0m     \u001b[0mresult\u001b[0m \u001b[0;34m=\u001b[0m \u001b[0mDataFrame\u001b[0m\u001b[0;34m(\u001b[0m\u001b[0mrecords\u001b[0m\u001b[0;34m)\u001b[0m\u001b[0;34m\u001b[0m\u001b[0m\n",
      "\u001b[0;32m~/anaconda/lib/python3.6/site-packages/pandas/io/json/normalize.py\u001b[0m in \u001b[0;36m_recursive_extract\u001b[0;34m(data, path, seen_meta, level)\u001b[0m\n\u001b[1;32m    223\u001b[0m         \u001b[0;32melse\u001b[0m\u001b[0;34m:\u001b[0m\u001b[0;34m\u001b[0m\u001b[0m\n\u001b[1;32m    224\u001b[0m             \u001b[0;32mfor\u001b[0m \u001b[0mobj\u001b[0m \u001b[0;32min\u001b[0m \u001b[0mdata\u001b[0m\u001b[0;34m:\u001b[0m\u001b[0;34m\u001b[0m\u001b[0m\n\u001b[0;32m--> 225\u001b[0;31m                 \u001b[0mrecs\u001b[0m \u001b[0;34m=\u001b[0m \u001b[0m_pull_field\u001b[0m\u001b[0;34m(\u001b[0m\u001b[0mobj\u001b[0m\u001b[0;34m,\u001b[0m \u001b[0mpath\u001b[0m\u001b[0;34m[\u001b[0m\u001b[0;36m0\u001b[0m\u001b[0;34m]\u001b[0m\u001b[0;34m)\u001b[0m\u001b[0;34m\u001b[0m\u001b[0m\n\u001b[0m\u001b[1;32m    226\u001b[0m \u001b[0;34m\u001b[0m\u001b[0m\n\u001b[1;32m    227\u001b[0m                 \u001b[0;31m# For repeating the metadata later\u001b[0m\u001b[0;34m\u001b[0m\u001b[0;34m\u001b[0m\u001b[0m\n",
      "\u001b[0;32m~/anaconda/lib/python3.6/site-packages/pandas/io/json/normalize.py\u001b[0m in \u001b[0;36m_pull_field\u001b[0;34m(js, spec)\u001b[0m\n\u001b[1;32m    169\u001b[0m                 \u001b[0mresult\u001b[0m \u001b[0;34m=\u001b[0m \u001b[0mresult\u001b[0m\u001b[0;34m[\u001b[0m\u001b[0mfield\u001b[0m\u001b[0;34m]\u001b[0m\u001b[0;34m\u001b[0m\u001b[0m\n\u001b[1;32m    170\u001b[0m         \u001b[0;32melse\u001b[0m\u001b[0;34m:\u001b[0m\u001b[0;34m\u001b[0m\u001b[0m\n\u001b[0;32m--> 171\u001b[0;31m             \u001b[0mresult\u001b[0m \u001b[0;34m=\u001b[0m \u001b[0mresult\u001b[0m\u001b[0;34m[\u001b[0m\u001b[0mspec\u001b[0m\u001b[0;34m]\u001b[0m\u001b[0;34m\u001b[0m\u001b[0m\n\u001b[0m\u001b[1;32m    172\u001b[0m \u001b[0;34m\u001b[0m\u001b[0m\n\u001b[1;32m    173\u001b[0m         \u001b[0;32mreturn\u001b[0m \u001b[0mresult\u001b[0m\u001b[0;34m\u001b[0m\u001b[0m\n",
      "\u001b[0;31mKeyError\u001b[0m: 'volumeInfo'"
     ]
    }
   ],
   "source": [
    "# I thought I could apply the json_normalize function to the volumeInfo key to get another DataFrame\n",
    "# When I give 'volumeInfo' as the record_path I get errors\n",
    "book_details = pd.io.json.json_normalize(json_data, record_path='volumeInfo', )\n",
    "\n",
    "# record_path parameter specifies the path of the lowest-level record I am interested in\n",
    "book_details.head(20)\n",
    "#book_details.info()"
   ]
  },
  {
   "cell_type": "code",
   "execution_count": null,
   "metadata": {
    "collapsed": true
   },
   "outputs": [],
   "source": []
  }
 ],
 "metadata": {
  "kernelspec": {
   "display_name": "Python 3",
   "language": "python",
   "name": "python3"
  },
  "language_info": {
   "codemirror_mode": {
    "name": "ipython",
    "version": 3
   },
   "file_extension": ".py",
   "mimetype": "text/x-python",
   "name": "python",
   "nbconvert_exporter": "python",
   "pygments_lexer": "ipython3",
   "version": "3.6.1"
  }
 },
 "nbformat": 4,
 "nbformat_minor": 2
}
