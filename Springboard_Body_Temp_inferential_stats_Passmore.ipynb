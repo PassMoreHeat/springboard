{
 "cells": [
  {
   "cell_type": "markdown",
   "metadata": {},
   "source": [
    "# What is the True Normal Human Body Temperature? \n",
    "\n",
    "#### Background\n",
    "\n",
    "The mean normal body temperature was held to be 37$^{\\circ}$C or 98.6$^{\\circ}$F for more than 120 years since it was first conceptualized and reported by Carl Wunderlich in a famous 1868 book. But, is this value statistically correct?"
   ]
  },
  {
   "cell_type": "markdown",
   "metadata": {},
   "source": [
    "<h3>Exercises</h3>\n",
    "\n",
    "<p>In this exercise, you will analyze a dataset of human body temperatures and employ the concepts of hypothesis testing, confidence intervals, and statistical significance.</p>\n",
    "\n",
    "<p>Answer the following questions <b>in this notebook below and submit to your Github account</b>.</p> \n",
    "\n",
    "<ol>\n",
    "<li>  Is the distribution of body temperatures normal? \n",
    "    <ul>\n",
    "    <li> Although this is not a requirement for CLT to hold (read CLT carefully), it gives us some peace of mind that the population may also be normally distributed if we assume that this sample is representative of the population.\n",
    "    </ul>\n",
    "<li>  Is the sample size large? Are the observations independent?\n",
    "    <ul>\n",
    "    <li> Remember that this is a condition for the CLT, and hence the statistical tests we are using, to apply.\n",
    "    </ul>\n",
    "<li>  Is the true population mean really 98.6 degrees F?\n",
    "    <ul>\n",
    "    <li> Would you use a one-sample or two-sample test? Why?\n",
    "    <li> In this situation, is it appropriate to use the $t$ or $z$ statistic? \n",
    "    <li> Now try using the other test. How is the result be different? Why?\n",
    "    </ul>\n",
    "<li>  Draw a small sample of size 10 from the data and repeat both tests. \n",
    "    <ul>\n",
    "    <li> Which one is the correct one to use? \n",
    "    <li> What do you notice? What does this tell you about the difference in application of the $t$ and $z$ statistic?\n",
    "    </ul>\n",
    "<li>  At what temperature should we consider someone's temperature to be \"abnormal\"?\n",
    "    <ul>\n",
    "    <li> Start by computing the margin of error and confidence interval.\n",
    "    </ul>\n",
    "<li>  Is there a significant difference between males and females in normal temperature?\n",
    "    <ul>\n",
    "    <li> What test did you use and why?\n",
    "    <li> Write a story with your conclusion in the context of the original problem.\n",
    "    </ul>\n",
    "</ol>\n",
    "\n",
    "You can include written notes in notebook cells using Markdown: \n",
    "   - In the control panel at the top, choose Cell > Cell Type > Markdown\n",
    "   - Markdown syntax: http://nestacms.com/docs/creating-content/markdown-cheat-sheet\n",
    "\n",
    "#### Resources\n",
    "\n",
    "+ Information and data sources: http://www.amstat.org/publications/jse/datasets/normtemp.txt, http://www.amstat.org/publications/jse/jse_data_archive.htm\n",
    "+ Markdown syntax: http://nestacms.com/docs/creating-content/markdown-cheat-sheet\n",
    "\n",
    "****"
   ]
  },
  {
   "cell_type": "code",
   "execution_count": 1,
   "metadata": {
    "collapsed": true
   },
   "outputs": [],
   "source": [
    "# import modules\n",
    "import pandas as pd\n",
    "import matplotlib.pyplot as plt\n",
    "import seaborn as sns\n",
    "import scipy.stats\n",
    "from scipy.stats import norm\n",
    "\n",
    "# Build figures inline, set visualization style\n",
    "%matplotlib inline\n",
    "sns.set()\n",
    "\n",
    "df = pd.read_csv('data/human_body_temperature.csv')"
   ]
  },
  {
   "cell_type": "code",
   "execution_count": 2,
   "metadata": {},
   "outputs": [
    {
     "data": {
      "text/html": [
       "<div>\n",
       "<style>\n",
       "    .dataframe thead tr:only-child th {\n",
       "        text-align: right;\n",
       "    }\n",
       "\n",
       "    .dataframe thead th {\n",
       "        text-align: left;\n",
       "    }\n",
       "\n",
       "    .dataframe tbody tr th {\n",
       "        vertical-align: top;\n",
       "    }\n",
       "</style>\n",
       "<table border=\"1\" class=\"dataframe\">\n",
       "  <thead>\n",
       "    <tr style=\"text-align: right;\">\n",
       "      <th></th>\n",
       "      <th>temperature</th>\n",
       "      <th>gender</th>\n",
       "      <th>heart_rate</th>\n",
       "    </tr>\n",
       "  </thead>\n",
       "  <tbody>\n",
       "    <tr>\n",
       "      <th>0</th>\n",
       "      <td>99.3</td>\n",
       "      <td>F</td>\n",
       "      <td>68.0</td>\n",
       "    </tr>\n",
       "    <tr>\n",
       "      <th>1</th>\n",
       "      <td>98.4</td>\n",
       "      <td>F</td>\n",
       "      <td>81.0</td>\n",
       "    </tr>\n",
       "    <tr>\n",
       "      <th>2</th>\n",
       "      <td>97.8</td>\n",
       "      <td>M</td>\n",
       "      <td>73.0</td>\n",
       "    </tr>\n",
       "    <tr>\n",
       "      <th>3</th>\n",
       "      <td>99.2</td>\n",
       "      <td>F</td>\n",
       "      <td>66.0</td>\n",
       "    </tr>\n",
       "    <tr>\n",
       "      <th>4</th>\n",
       "      <td>98.0</td>\n",
       "      <td>F</td>\n",
       "      <td>73.0</td>\n",
       "    </tr>\n",
       "  </tbody>\n",
       "</table>\n",
       "</div>"
      ],
      "text/plain": [
       "   temperature gender  heart_rate\n",
       "0         99.3      F        68.0\n",
       "1         98.4      F        81.0\n",
       "2         97.8      M        73.0\n",
       "3         99.2      F        66.0\n",
       "4         98.0      F        73.0"
      ]
     },
     "execution_count": 2,
     "metadata": {},
     "output_type": "execute_result"
    }
   ],
   "source": [
    "# before starting questions, view and explore data\n",
    "df.head(5)"
   ]
  },
  {
   "cell_type": "code",
   "execution_count": 3,
   "metadata": {},
   "outputs": [
    {
     "name": "stdout",
     "output_type": "stream",
     "text": [
      "<class 'pandas.core.frame.DataFrame'>\n",
      "RangeIndex: 130 entries, 0 to 129\n",
      "Data columns (total 3 columns):\n",
      "temperature    130 non-null float64\n",
      "gender         130 non-null object\n",
      "heart_rate     130 non-null float64\n",
      "dtypes: float64(2), object(1)\n",
      "memory usage: 3.1+ KB\n"
     ]
    }
   ],
   "source": [
    "# see how many observations and variables you have\n",
    "df.info()"
   ]
  },
  {
   "cell_type": "markdown",
   "metadata": {},
   "source": [
    "## Q1: Is the distribution of body temperatures normal?"
   ]
  },
  {
   "cell_type": "code",
   "execution_count": 4,
   "metadata": {},
   "outputs": [
    {
     "data": {
      "text/html": [
       "<div>\n",
       "<style>\n",
       "    .dataframe thead tr:only-child th {\n",
       "        text-align: right;\n",
       "    }\n",
       "\n",
       "    .dataframe thead th {\n",
       "        text-align: left;\n",
       "    }\n",
       "\n",
       "    .dataframe tbody tr th {\n",
       "        vertical-align: top;\n",
       "    }\n",
       "</style>\n",
       "<table border=\"1\" class=\"dataframe\">\n",
       "  <thead>\n",
       "    <tr style=\"text-align: right;\">\n",
       "      <th></th>\n",
       "      <th>temperature</th>\n",
       "      <th>heart_rate</th>\n",
       "    </tr>\n",
       "  </thead>\n",
       "  <tbody>\n",
       "    <tr>\n",
       "      <th>count</th>\n",
       "      <td>130.000000</td>\n",
       "      <td>130.000000</td>\n",
       "    </tr>\n",
       "    <tr>\n",
       "      <th>mean</th>\n",
       "      <td>98.249231</td>\n",
       "      <td>73.761538</td>\n",
       "    </tr>\n",
       "    <tr>\n",
       "      <th>std</th>\n",
       "      <td>0.733183</td>\n",
       "      <td>7.062077</td>\n",
       "    </tr>\n",
       "    <tr>\n",
       "      <th>min</th>\n",
       "      <td>96.300000</td>\n",
       "      <td>57.000000</td>\n",
       "    </tr>\n",
       "    <tr>\n",
       "      <th>25%</th>\n",
       "      <td>97.800000</td>\n",
       "      <td>69.000000</td>\n",
       "    </tr>\n",
       "    <tr>\n",
       "      <th>50%</th>\n",
       "      <td>98.300000</td>\n",
       "      <td>74.000000</td>\n",
       "    </tr>\n",
       "    <tr>\n",
       "      <th>75%</th>\n",
       "      <td>98.700000</td>\n",
       "      <td>79.000000</td>\n",
       "    </tr>\n",
       "    <tr>\n",
       "      <th>max</th>\n",
       "      <td>100.800000</td>\n",
       "      <td>89.000000</td>\n",
       "    </tr>\n",
       "  </tbody>\n",
       "</table>\n",
       "</div>"
      ],
      "text/plain": [
       "       temperature  heart_rate\n",
       "count   130.000000  130.000000\n",
       "mean     98.249231   73.761538\n",
       "std       0.733183    7.062077\n",
       "min      96.300000   57.000000\n",
       "25%      97.800000   69.000000\n",
       "50%      98.300000   74.000000\n",
       "75%      98.700000   79.000000\n",
       "max     100.800000   89.000000"
      ]
     },
     "execution_count": 4,
     "metadata": {},
     "output_type": "execute_result"
    }
   ],
   "source": [
    "# check the summary statistics\n",
    "df.describe()"
   ]
  },
  {
   "cell_type": "code",
   "execution_count": 5,
   "metadata": {},
   "outputs": [
    {
     "data": {
      "image/png": "[encoded data removed]",
      "text/plain": [
       "<matplotlib.figure.Figure at 0x1a0db19390>"
      ]
     },
     "metadata": {},
     "output_type": "display_data"
    }
   ],
   "source": [
    "# view a histogram of body temperatures\n",
    "sns.distplot(df.temperature, bins= 30, kde=True, rug=True);\n",
    "plt.title('Histogram of body temp with kernel density estimation');\n",
    "plt.xlabel('Body Temperaure (F)');\n",
    "plt.ylabel('Frequency');"
   ]
  },
  {
   "cell_type": "code",
   "execution_count": 6,
   "metadata": {},
   "outputs": [
    {
     "data": {
      "image/png": "[encoded data removed]",
      "text/plain": [
       "<matplotlib.figure.Figure at 0x107c686a0>"
      ]
     },
     "metadata": {},
     "output_type": "display_data"
    }
   ],
   "source": [
    "# check normality with Q-Q plot\n",
    "scipy.stats.probplot(df.temperature, dist='norm', fit=True, plot=plt);"
   ]
  },
  {
   "cell_type": "code",
   "execution_count": 7,
   "metadata": {},
   "outputs": [
    {
     "data": {
      "text/plain": [
       "NormaltestResult(statistic=2.7038014333192031, pvalue=0.2587479863488254)"
      ]
     },
     "execution_count": 7,
     "metadata": {},
     "output_type": "execute_result"
    }
   ],
   "source": [
    "# check for normality using scipy.stats\n",
    "scipy.stats.mstats.normaltest(df['temperature'])"
   ]
  },
  {
   "cell_type": "markdown",
   "metadata": {},
   "source": [
    "### Conclusion: The body temperature measurements are normally distributed\n",
    "### Justification:\n",
    "* If a large number of body temperature samples are taken and they are independent (not dependant on each other) from the population of body temperatures the central limit theorem (CLT) predicts that means of the samples will approach a normal distribution even if the distribution of the population is not normal.\n",
    "* The normal quantile-quantile plot above supports our assumption that the data are plausibly normally distributed. The body temperature measurements are likely normally distributed because the quantiles of the body temperature sample data generally fall along the line of quantiles from the theoretical normal distribution.\n",
    "* The scipy normaltest on the array of temperature values tests the null hypothesis that the sample comes from a normal distribution. The p-value (p = 0.26) is for a 2-sided chi-square test, so a large p-value means that we fail to reject the null hypothesis that the sample comes from a normal distribution."
   ]
  },
  {
   "cell_type": "markdown",
   "metadata": {},
   "source": [
    "## Q2: Is the sample size large? Are the observations independent?"
   ]
  },
  {
   "cell_type": "markdown",
   "metadata": {},
   "source": [
    "* The human body temperature dataset provided includes 130 body temperature measurements. Reapeatedly taking the average with samples of 30 or more from a population will result in normally distributed means, so our sample size of 130 is large enough. \n",
    "* Apparently, each body temperature measurement in the dataset is from a different individual. Measurements of body temperature (as well as heart rate) for different individuals are considered independent."
   ]
  },
  {
   "cell_type": "markdown",
   "metadata": {},
   "source": [
    "## Q3: Is the true population mean really 98.6 degrees F?\n",
    "* Would you use a one-sample or two-sample test? Why?\n",
    "* In this situation, is it appropriate to use the  _t_  or  _z_  statistic?\n",
    "* Now try using the other test. How is the result different? Why?"
   ]
  },
  {
   "cell_type": "markdown",
   "metadata": {},
   "source": [
    "### Perform a hypothesis test to determine if the true population mean is likely different from 98.6 (F)\n",
    "__Null__: There is no difference between 'normal' (98.6F) body temp and the true population mean. __Alternative__: There is a difference between 'normal' body temperature and the true population mean.\n",
    "\n",
    "__Appropriate test__: For these hypotheses, a 1-sample test is appropriate. Our null hypothesis states that there is no difference between the sample mean and the population mean. By comparison, a two-sample test would be appropriate for comparing two sample groups (e.g., males vs. females, children vs. adults, dogs vs. cats, etc.)\n",
    "\n",
    "__Test statistic__: Our sample size is relatively large, n=130, so a _z_-test is appropriate (_t_-tests are indicated when sample sizes are small; e.g., less than n=30). Ideally we would also have the population standard deviation for a _z_-test, but we do not have this population statistic. However, since we have a large sample size (n=130), under the cenral limit theorem we can assume that our sample standard deviation can estimate the population standard deviation. A _z_ statistic is appropriate for this hypthesis test."
   ]
  },
  {
   "cell_type": "code",
   "execution_count": 8,
   "metadata": {},
   "outputs": [
    {
     "name": "stdout",
     "output_type": "stream",
     "text": [
      "The sample mean is  98.24923076923078\n",
      "The sample standard deviation that estimates the population std is  0.7303577789050377\n",
      "The sample size is  130\n"
     ]
    }
   ],
   "source": [
    "import numpy as np\n",
    "# calculate sample statistics\n",
    "mu = np.mean(df.temperature)\n",
    "std = np.std(df.temperature, ddof=0) # the default calculation (ddof=0) estimates the population standard deviation\n",
    "n = len(df.temperature)\n",
    "print('The sample mean is ',mu)\n",
    "print('The sample standard deviation that estimates the population std is ', std)\n",
    "print('The sample size is ', n)"
   ]
  },
  {
   "cell_type": "code",
   "execution_count": 9,
   "metadata": {},
   "outputs": [
    {
     "name": "stdout",
     "output_type": "stream",
     "text": [
      "The test statistic z is 5.47592520208 indicating that it is 5.5 standard deviations from the mean.\n",
      "p-value =  4.35231516588e-08\n",
      "Reject the Null hypothesis: There is a difference between NORMAL temp and the population mean.\n"
     ]
    }
   ],
   "source": [
    "# perform hypothesis test with two-sided z-test\n",
    "# calculate the test statistic\n",
    "z_value = (mu - 98.6)/(std/(np.sqrt(n)))\n",
    "print('The test statistic z is', abs(z_value), 'indicating that it is 5.5 standard deviations from the mean.')\n",
    "# calculate the p-value for a two-sided z-test\n",
    "p_value = scipy.stats.norm.cdf(z_value)*2\n",
    "print('p-value = ', p_value)\n",
    "# state the conclusion\n",
    "if p_value < 0.05:\n",
    "    print('Reject the Null hypothesis: There is a difference between NORMAL temp and the population mean.')\n",
    "else:\n",
    "    print('Fail to reject the Null: There is no difference between NORMAL temp and the population mean.')"
   ]
  },
  {
   "cell_type": "code",
   "execution_count": 10,
   "metadata": {},
   "outputs": [
    {
     "data": {
      "text/plain": [
       "Ttest_1sampResult(statistic=-5.4548232923645195, pvalue=2.4106320415561276e-07)"
      ]
     },
     "execution_count": 10,
     "metadata": {},
     "output_type": "execute_result"
    }
   ],
   "source": [
    "# compare t-test results to above\n",
    "scipy.stats.ttest_1samp(df.temperature, 98.6)"
   ]
  },
  {
   "cell_type": "markdown",
   "metadata": {},
   "source": [
    "__Interpretation__: Because the sample size is large (>30) the t-test statistic and the z-test statistic are similar. The conclusion, to reject the null hypothesis, is the same based on both tests."
   ]
  },
  {
   "cell_type": "markdown",
   "metadata": {},
   "source": [
    "## Q4: Draw a small sample of size 10 from the data and repeat both tests.\n",
    "* Which one is the correct one to use?\n",
    "* What do you notice? What does this tell you about the difference in application of the  _t_  and  _z_  statistic?"
   ]
  },
  {
   "cell_type": "code",
   "execution_count": 11,
   "metadata": {},
   "outputs": [
    {
     "data": {
      "text/plain": [
       "count    10.000000\n",
       "mean     97.890000\n",
       "std       0.897466\n",
       "min      96.700000\n",
       "25%      97.200000\n",
       "50%      98.050000\n",
       "75%      98.600000\n",
       "max      99.000000\n",
       "Name: temperature, dtype: float64"
      ]
     },
     "execution_count": 11,
     "metadata": {},
     "output_type": "execute_result"
    }
   ],
   "source": [
    "# create a series that is a random sample of 10 of the body temp measurements\n",
    "sub_temp = df.temperature.sample(n=10)\n",
    "sub_temp.describe()"
   ]
  },
  {
   "cell_type": "code",
   "execution_count": 12,
   "metadata": {},
   "outputs": [
    {
     "name": "stdout",
     "output_type": "stream",
     "text": [
      "The sub-sample mean is  97.89000000000001\n",
      "The sub-sample standard deviation is  0.8514105942493304\n",
      "The sub-sample size is  10\n"
     ]
    }
   ],
   "source": [
    "# calculate the z-test statistic from the subset of temperatures\n",
    "# calculate sample statistics\n",
    "mu2 = np.mean(sub_temp)\n",
    "std2 = np.std(sub_temp, ddof=0) # the default calculation (ddof=0) estimates the population standard deviation\n",
    "n2 = len(sub_temp)\n",
    "print('The sub-sample mean is ',mu2)\n",
    "print('The sub-sample standard deviation is ', std2)\n",
    "print('The sub-sample size is ', n2)"
   ]
  },
  {
   "cell_type": "code",
   "execution_count": 13,
   "metadata": {},
   "outputs": [
    {
     "name": "stdout",
     "output_type": "stream",
     "text": [
      "The test statistic z is 2.63705567429 indicating that it is 2.63705567429 standard deviations from the mean.\n",
      "p-value =  0.00836291047344\n",
      "Reject the Null hypothesis: There is a difference between NORMAL temp and the population mean.\n"
     ]
    }
   ],
   "source": [
    "# perform hypothesis test with two-sided z-test\n",
    "# calculate the test statistic of the sub-sample\n",
    "z_value2 = (mu2 - 98.6)/(std2/(np.sqrt(n2)))\n",
    "print('The test statistic z is', abs(z_value2), 'indicating that it is', abs(z_value2), 'standard deviations from the mean.')\n",
    "# calculate the p-value for a two-sided z-test\n",
    "p_value2 = scipy.stats.norm.cdf(z_value2)*2\n",
    "print('p-value = ', p_value2)\n",
    "# state the conclusion\n",
    "if p_value2 < 0.05:\n",
    "    print('Reject the Null hypothesis: There is a difference between NORMAL temp and the population mean.')\n",
    "else:\n",
    "    print('Fail to reject the Null: There is no difference between NORMAL temp and the population mean.')"
   ]
  },
  {
   "cell_type": "code",
   "execution_count": 14,
   "metadata": {},
   "outputs": [
    {
     "data": {
      "text/plain": [
       "Ttest_1sampResult(statistic=-2.5017306742323946, pvalue=0.03376580728842965)"
      ]
     },
     "execution_count": 14,
     "metadata": {},
     "output_type": "execute_result"
    }
   ],
   "source": [
    "# run a t-test on the small subset of temps\n",
    "scipy.stats.ttest_1samp(sub_temp, 98.6)"
   ]
  },
  {
   "cell_type": "markdown",
   "metadata": {},
   "source": [
    "__Interpretation__: If sample sizes are as small (n=10) and population standard deviation is not known, then a _t_-test is more appropriate.  When I took multiple different random samples of n=10 from the full body temperature data series 1) the descriptive statistics were variable with each subset, 2) the test statistics and p-values were also varialbe, but 3) the conclusion for both _z_ and _t_ tests were always to reject the null hypothesis."
   ]
  },
  {
   "cell_type": "markdown",
   "metadata": {},
   "source": [
    "## Q5: At what temperature should we consider someone's temperature to be \"abnormal\"?\n",
    "* Start by computing the margin of error and confidence interval.\n",
    "* __Definitions__:\n",
    "    * __Margin of error__: Margin of error - 'the amount allowed for miscalculation'. The margin of error for a sample mean is calculated from the critical z-value for the selected level of confidence times the standard error for the mean (the sample standard deviation divided by the square-root of the sample size). The margin of error is very small and approaches zero as the sample size grows very large. You can calculate confidence intervals with margin of error.\n",
    "    * __Confidence Interval__: The width of confidence intervals is completely determined by sampling error. If you could sample the entire population (everyone's temperature!) then your confidence interval would be zero. CIs can only tell you about the parameter of interest, not about the distribution of values. The confidence interval does not allow you predict that some percentage of future body temperature measurements will fall within the range of the CI. Confidence intervals are the mean +/- the appropriate margin of error.\n",
    "    * __Prediction Interval__: A prediction interval calculation gives a range of values that are likely to contain a new temperature measurement, and is always wider than a CI. Gives information about the distribution of values.\n",
    "    * __Tolerance Interval__: Range of values likely to include a specific portion of the population. In contrast to CI, tolerance intervals widths depend on both sampling error and the variance in the population. Tolerance intervals can be estimated with percentiles, but unless you can sample the entire population the percentile estimates also have error associated with them. \n",
    "    \n",
    "    __Sources__: \n",
    "    [MiniTab Blog](http://blog.minitab.com/blog/adventures-in-statistics-2/when-should-i-use-confidence-intervals-prediction-intervals-and-tolerance-intervals)\n",
    "    [Prediction Interval - Wikipedia](https://en.wikipedia.org/wiki/Prediction_interval#Unknown_mean.2C_unknown_variance)\n",
    "    \n",
    "    "
   ]
  },
  {
   "cell_type": "code",
   "execution_count": 16,
   "metadata": {},
   "outputs": [
    {
     "name": "stdout",
     "output_type": "stream",
     "text": [
      "The critical value for z is 1.95996398454\n",
      "The margin of error for body temperatures is 0.125548657774\n",
      "Lower margin of error 98.1236821115\n",
      "Upper margin of error 98.374779427\n"
     ]
    }
   ],
   "source": [
    "# find the z-critical value for 95%\n",
    "z_critical = scipy.stats.norm.ppf(q = 0.975) #q = confidence interval of 95%\n",
    "print('The critical value for z is',z_critical)\n",
    "# compute margin of error for body temperature data: z-critical * sem\n",
    "moe = z_critical * (std/(np.sqrt(n)))\n",
    "print('The margin of error for body temperatures is', moe)\n",
    "# calculate the 95% CI using the margin of error\n",
    "moe_low, moe_high = np.array([mu - moe, mu + moe])\n",
    "print('Lower margin of error', moe_low)\n",
    "print('Upper margin of error', moe_high)"
   ]
  },
  {
   "cell_type": "code",
   "execution_count": 17,
   "metadata": {},
   "outputs": [
    {
     "name": "stdout",
     "output_type": "stream",
     "text": [
      "Low end of CI 98.1231964282\n",
      "Upper end of CI 98.3752651103\n"
     ]
    }
   ],
   "source": [
    "# compute the 95% confidence interval of body temperature data\n",
    "# with scipy.stats the norm.interval method gives the endpoints of the range containing alpha percent of a distribution\n",
    "# where: alpha= 0.95, loc=mu [sample mean], scale = standard error of measurement (or of mean)\n",
    "CI_low, CI_high = scipy.stats.norm.interval(0.95, mu, scipy.stats.sem(df.temperature))\n",
    "print('Low end of CI', CI_low)\n",
    "print('Upper end of CI', CI_high)"
   ]
  },
  {
   "cell_type": "code",
   "execution_count": 18,
   "metadata": {},
   "outputs": [
    {
     "name": "stdout",
     "output_type": "stream",
     "text": [
      "Prediction interval, low end: 96.8122607012\n",
      "Prediction interval, upper end: 99.6862008373\n"
     ]
    }
   ],
   "source": [
    "# compute prediction interval of body temperature data\n",
    "# where: alpha= 0.95, loc=mu [sample mean], scale = sample standard deviation *sqrt((1 + 1/(n)))\n",
    "# note: the prediction interval would be the same practically speaking if we used std for the scale term\n",
    "PI_low, PI_high = scipy.stats.norm.interval(0.95, mu, (std*(np.sqrt(1+1/(n)))))\n",
    "print('Prediction interval, low end:', PI_low)\n",
    "print('Prediction interval, upper end:', PI_high)"
   ]
  },
  {
   "cell_type": "code",
   "execution_count": 20,
   "metadata": {},
   "outputs": [
    {
     "name": "stdout",
     "output_type": "stream",
     "text": [
      "Tolerance interval lower: 96.7225\n",
      "Tolerance interval upper: 99.4775\n"
     ]
    }
   ],
   "source": [
    "# estimate the tolerance interval\n",
    "TI_low, TI_high = np.percentile(df.temperature, [2.5, 97.5])\n",
    "print('Tolerance interval lower:', TI_low)\n",
    "print('Tolerance interval upper:', TI_high)"
   ]
  },
  {
   "cell_type": "markdown",
   "metadata": {},
   "source": [
    "__Interpretation__: \n",
    "If we were to use the margin of error and the 95% confidence interval to determine what body temperature should be considered abnormal, then a large proportion of our sample group would be told they are 'sick'. The 95% confidence interval of the body temperature sample group (n=130) is narrow (98.12 F - 98.38 F). The CI would be even more narrow with a very large sample size (e.g., n=100000), approaching zero. For our subsampled (n=10) analysis the CI would be wider (97.8 F - 98.7 F) as the margin of error increases. \n",
    "A better interval to define 'abnormal' body temperatures would be the prediction interval. Given our data, a new temperature measurement is likely to fall between 96.8 F and 99.5 F. We could consider new temperature measurements outside of this range to be 'abnormal'."
   ]
  },
  {
   "cell_type": "markdown",
   "metadata": {},
   "source": [
    "## Q6: Is there a significant difference between males and females in normal temperature?\n",
    "* What test did you use and why?\n",
    "* Write a story with your conclusion in the context of the original problem."
   ]
  },
  {
   "cell_type": "code",
   "execution_count": 21,
   "metadata": {},
   "outputs": [
    {
     "data": {
      "text/plain": [
       "<matplotlib.axes._subplots.AxesSubplot at 0x1a156c53c8>"
      ]
     },
     "execution_count": 21,
     "metadata": {},
     "output_type": "execute_result"
    },
    {
     "data": {
      "image/png": "[encoded data removed]",
      "text/plain": [
       "<matplotlib.figure.Figure at 0x1a156d4240>"
      ]
     },
     "metadata": {},
     "output_type": "display_data"
    }
   ],
   "source": [
    "# explore the data of body temp by 'gender' visually\n",
    "# build boxplot of temp by 'gender'\n",
    "sns.boxplot(x='gender', y='temperature', data=df)"
   ]
  },
  {
   "cell_type": "code",
   "execution_count": 22,
   "metadata": {},
   "outputs": [
    {
     "name": "stdout",
     "output_type": "stream",
     "text": [
      "Male sample size is 65\n",
      "Female sample size is 65\n"
     ]
    }
   ],
   "source": [
    "# check out the male and female sample sizes\n",
    "male_temps = df.temperature[df.gender == 'M']\n",
    "female_temps = df.temperature[df.gender == 'F']\n",
    "print('Male sample size is', len(male_temps))\n",
    "print('Female sample size is', len(female_temps))"
   ]
  },
  {
   "cell_type": "code",
   "execution_count": 23,
   "metadata": {},
   "outputs": [
    {
     "data": {
      "text/plain": [
       "count    65.000000\n",
       "mean     98.104615\n",
       "std       0.698756\n",
       "min      96.300000\n",
       "25%      97.600000\n",
       "50%      98.100000\n",
       "75%      98.600000\n",
       "max      99.500000\n",
       "Name: temperature, dtype: float64"
      ]
     },
     "execution_count": 23,
     "metadata": {},
     "output_type": "execute_result"
    }
   ],
   "source": [
    "# use describe() to calculate summary stats for male temps\n",
    "male_temps.describe()"
   ]
  },
  {
   "cell_type": "code",
   "execution_count": 24,
   "metadata": {},
   "outputs": [
    {
     "data": {
      "text/plain": [
       "count     65.000000\n",
       "mean      98.393846\n",
       "std        0.743488\n",
       "min       96.400000\n",
       "25%       98.000000\n",
       "50%       98.400000\n",
       "75%       98.800000\n",
       "max      100.800000\n",
       "Name: temperature, dtype: float64"
      ]
     },
     "execution_count": 24,
     "metadata": {},
     "output_type": "execute_result"
    }
   ],
   "source": [
    "# use describe() to calculate summary stats for male temps\n",
    "female_temps.describe()"
   ]
  },
  {
   "cell_type": "markdown",
   "metadata": {},
   "source": [
    "* __Question__: Are male and female 'normal', mean body temperatures different?\n",
    "* __Method__: A two sample _t_-test is appropriate to compare the means of two independent groups. The t-value is calculated from the difference of the two means divided by a measure of variablility (depending on if you assume equal variance or not).\n",
    "* __Null Hypothesis__: There is no difference between the male body temperature mean and the female body temperature mean.\n",
    "* __Alternative__: There is a difference between mean male body temp and mean female body temp."
   ]
  },
  {
   "cell_type": "code",
   "execution_count": 25,
   "metadata": {},
   "outputs": [
    {
     "data": {
      "text/plain": [
       "Ttest_indResult(statistic=2.2854345381656103, pvalue=0.023931883122395609)"
      ]
     },
     "execution_count": 25,
     "metadata": {},
     "output_type": "execute_result"
    }
   ],
   "source": [
    "# perform a independent, two sample t-test. Assume equal population variance.\n",
    "scipy.stats.ttest_ind(female_temps, male_temps, equal_var=True)"
   ]
  },
  {
   "cell_type": "code",
   "execution_count": 26,
   "metadata": {},
   "outputs": [
    {
     "data": {
      "image/png": "[encoded data removed]",
      "text/plain": [
       "<matplotlib.figure.Figure at 0x1a15b51ef0>"
      ]
     },
     "metadata": {},
     "output_type": "display_data"
    }
   ],
   "source": [
    "# redesign the boxplot to illustrate data\n",
    "sns.boxplot(x='temperature', y='gender', data=df, hue='gender', palette='Set1', notch=True, width=.9);\n",
    "plt.xlabel('Body Temperaure (F)');\n",
    "plt.ylabel('Gender');"
   ]
  },
  {
   "cell_type": "code",
   "execution_count": 27,
   "metadata": {},
   "outputs": [
    {
     "data": {
      "image/png": "[encoded data removed]",
      "text/plain": [
       "<matplotlib.figure.Figure at 0x1a15a46c88>"
      ]
     },
     "metadata": {},
     "output_type": "display_data"
    }
   ],
   "source": [
    "# overlay histogram of body temperatures for all subjects, males, females\n",
    "sns.distplot(df.temperature, bins= 15, kde=True, rug=True, color='gray', label='Overall');\n",
    "sns.distplot(df.temperature, hist=False, kde=True, rug=False, color='black', label='Overall mean & KDE');\n",
    "sns.distplot(female_temps, hist=False, kde=True, color='red', label='Female mean & KDE');\n",
    "sns.distplot(male_temps, hist=False, kde=True, color='blue', label= 'Male mean & KDE');\n",
    "plt.title('Human body temp overall, males, females');\n",
    "plt.xlabel('Body Temperaure (F)');\n",
    "plt.ylabel('Frequency');\n",
    "plt.plot([PI_low, PI_low], [0.4, 0], linewidth = 2, color = \"black\", label='95% PI');\n",
    "plt.plot([PI_high, PI_high], [0.4, 0], linewidth = 2, color = \"black\");\n",
    "plt.plot([mu, mu], [0.6, 0], linewidth = 2, color='black');\n",
    "plt.plot([np.mean(female_temps), np.mean(female_temps)], [0.6, 0], linewidth = 2, color='red');\n",
    "plt.plot([np.mean(male_temps), np.mean(male_temps)], [0.6, 0], linewidth = 2, color='blue');"
   ]
  },
  {
   "cell_type": "markdown",
   "metadata": {},
   "source": [
    "### __Analysis of human body temperature by 'gender'__\n",
    "We explored differences in basal body temperatures in a group of healthy adults (n=130). Average basal body temperature differs significantly (_t_(64) = 2.3, p = 0.02) for males and females in our sample. Mean basal body temperature for males was 98.1 degrees Fahrenheit. Female mean basal body temperature was slightly higher, 98.4 F. These means are within the overall prediction interval (PI, indicated by black vertical lines above) and less than the temperature considered 'normal' for humans (98.6 F). Here, we use the prediction interval to indicate the upper and lower bounds of 'normal' body temperature: a new temperature measurement is likely to fall between 96.8 F and 99.5 F. We could consider new temperature measurements outside of this range to be 'abnormal'. The differences between male and female basal body temperature means should be explored further. The sample of female temperatures appears to have potential outliers. These could be investigated using the accompanying heart rate data. If removal of outliers is justified, the difference between male and female means may change and may no longer be significantly different. Alternatively, there are physiological differences between males and females that may result in different basal body temperatures. Female basal body temperature usually decreases before ovulation and increases again following ovulation. These changes in basal body temperature are detected in the majority (80%) of female subjects (Moghissi 1976). Our sample of 65 female subjects would likely include individuals affected by hormonal changes associated with ovulatory cycles.\n",
    "\n",
    "__Citation__\n",
    "\n",
    "Moghissi, Kamran S. \"Accuracy of basal body temperature for ovulation detection.\" Fertility and sterility 27.12 (1976): 1415-1421."
   ]
  }
 ],
 "metadata": {
  "kernelspec": {
   "display_name": "Python 3",
   "language": "python",
   "name": "python3"
  },
  "language_info": {
   "codemirror_mode": {
    "name": "ipython",
    "version": 3
   },
   "file_extension": ".py",
   "mimetype": "text/x-python",
   "name": "python",
   "nbconvert_exporter": "python",
   "pygments_lexer": "ipython3",
   "version": "3.6.1"
  }
 },
 "nbformat": 4,
 "nbformat_minor": 1
}
